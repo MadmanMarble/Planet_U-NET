{
  "cells": [
    {
      "cell_type": "markdown",
      "metadata": {
        "id": "view-in-github",
        "colab_type": "text"
      },
      "source": [
        "<a href=\"https://colab.research.google.com/github/MadmanMarble/Planet_U-NET/blob/main/AOI_make_grid.ipynb\" target=\"_parent\"><img src=\"https://colab.research.google.com/assets/colab-badge.svg\" alt=\"Open In Colab\"/></a>"
      ]
    },
    {
      "cell_type": "code",
      "execution_count": null,
      "metadata": {
        "colab": {
          "background_save": true,
          "base_uri": "https://localhost:8080/"
        },
        "id": "I3DWi7uNiWS7",
        "outputId": "3ed66211-c1f2-4833-994c-c31fd72e63cb"
      },
      "outputs": [
        {
          "name": "stderr",
          "output_type": "stream",
          "text": [
            "Installing packages into ‘/usr/local/lib/R/site-library’\n",
            "(as ‘lib’ is unspecified)\n",
            "\n",
            "Warning message in install.packages(c(\"raster\", \"sf\", \"fasterize\")):\n",
            "“installation of package ‘raster’ had non-zero exit status”\n"
          ]
        }
      ],
      "source": [
        "install.packages(c('raster','sf','fasterize'))\n",
        "install.packages(\"googledrive\")\n",
        "install.packages(\"devtools\")\n",
        "\n",
        "devtools:::install_github(\"gearslaboratory/gdalUtils\")\n",
        "install.packages(\"dplyr\")"
      ]
    },
    {
      "cell_type": "code",
      "execution_count": null,
      "metadata": {
        "id": "RX2cneMwrenR"
      },
      "outputs": [],
      "source": [
        "library(raster)\n",
        "library(sf)\n",
        "library(fasterize)\n",
        "library(magrittr)\n",
        "library(googledrive)\n",
        "library(parallel)\n",
        "library(data.table)\n",
        "library(stringr)\n",
        "library(dplyr)\n",
        "# library(gdalUtils)\n",
        "\n",
        "drive_auth(use_oob = TRUE, cache = FALSE)"
      ]
    },
    {
      "cell_type": "code",
      "execution_count": null,
      "metadata": {
        "id": "8MOBf7F0rl5E"
      },
      "outputs": [],
      "source": [
        "dir.create(\"/content/labels\")\n",
        "dir.create(\"/content/imagery\")\n",
        "dir.create(\"/content/imagery/planet\")\n",
        "dir.create(\"/content/imagery/planet/2018\")\n",
        "dir.create(\"/content/imagery/planet/2019\")\n",
        "dir.create(\"/content/imagery/planet/2020\")\n",
        "dir.create(\"/content/workingfolder\")\n",
        "dir.create(\"/content/workingfolder/aoi\")\n",
        "dir.create(\"/content/workingfolder/dem\")\n",
        "dir.create(\"/content/workingfolder/ccap\")\n",
        "dir.create (\"/content/workingfolder/nlcd\")"
      ]
    },
    {
      "cell_type": "markdown",
      "metadata": {
        "id": "daLZB9sIsWZb"
      },
      "source": [
        "## load images and assign variables"
      ]
    },
    {
      "cell_type": "code",
      "execution_count": null,
      "metadata": {
        "id": "FZ5-9Kx6rz1u"
      },
      "outputs": [],
      "source": [
        "# Load Planet 2018 utm4 select files\n",
        "# https://drive.google.com/drive/folders/1EX6fe0vObp8VOLcGqxFsxIZhQ9mu0un_?usp=drive_link\n",
        "#\n",
        "jp_folder = \"1EX6fe0vObp8VOLcGqxFsxIZhQ9mu0un_\"\n",
        "folder_id = drive_get(as_id(jp_folder)) # get folder ID\n",
        "print(folder_id) #print folder ID\n",
        "\n",
        "# Find files in the folder\n",
        "files = drive_ls(folder_id)\n",
        "\n",
        "# Loop through directories and download files inside them\n",
        "for (i in seq_along(files$name)) {\n",
        "  i_dir <- files[i, ] # Select directory\n",
        "    try({\n",
        "\n",
        "      # Download files from the directory to the specified path\n",
        "      drive_download(\n",
        "        as_id(i_dir$id[1]),\n",
        "        path = paste0('/content/imagery/planet/2018/', i_dir$name[1])\n",
        "      )\n",
        "    })\n",
        "  }\n",
        "\n",
        "# Load Planet 2019 utm4 select files\n",
        "# https://drive.google.com/drive/folders/1h-OSRbTn3AhbNswTb3jooqRs68QB92T2?usp=drive_link\n",
        "jp_folder = \"1h-OSRbTn3AhbNswTb3jooqRs68QB92T2\"\n",
        "folder_id = drive_get(as_id(jp_folder)) # get folder ID\n",
        "print(folder_id) #print folder ID\n",
        "\n",
        "# Find files in the folder\n",
        "files = drive_ls(folder_id)\n",
        "\n",
        "# Loop through directories and download files inside them\n",
        "for (i in seq_along(files$name)) {\n",
        "  i_dir <- files[i, ] # Select directory\n",
        "    try({\n",
        "\n",
        "      # Download files from the directory to the specified path\n",
        "      drive_download(\n",
        "        as_id(i_dir$id[1]),\n",
        "        path = paste0('/content/imagery/planet/2019/', i_dir$name[1])\n",
        "      )\n",
        "    })\n",
        "  }\n",
        "\n",
        "# Load Planet 2020 utm4 select files\n",
        "# https://drive.google.com/drive/folders/1sUlR77kvCtXjXPy7z2nztJzTvhUvXU9w?usp=drive_link\n",
        "jp_folder = \"1sUlR77kvCtXjXPy7z2nztJzTvhUvXU9w\"\n",
        "folder_id = drive_get(as_id(jp_folder)) # get folder ID\n",
        "print(folder_id) #print folder ID\n",
        "\n",
        "# Find files in the folder\n",
        "files = drive_ls(folder_id)\n",
        "\n",
        "# Loop through directories and download files inside them\n",
        "for (i in seq_along(files$name)) {\n",
        "  i_dir <- files[i, ] # Select directory\n",
        "    try({\n",
        "\n",
        "      # Download files from the directory to the specified path\n",
        "      drive_download(\n",
        "        as_id(i_dir$id[1]),\n",
        "        path = paste0('/content/imagery/planet/2020/', i_dir$name[1])\n",
        "      )\n",
        "    })\n",
        "  }\n",
        "\n"
      ]
    },
    {
      "cell_type": "code",
      "execution_count": null,
      "metadata": {
        "id": "O6vOB0UisLV0"
      },
      "outputs": [],
      "source": [
        "vrt_utm4_2018 <- stack(\"/content/imagery/planet/2018/input_tif_2018.vrt\")\n",
        "vrt_utm4_2018 %>% plot\n",
        "vrt_utm4_2019 <- stack(\"/content/imagery/planet/2019/input_tif_2019.vrt\")\n",
        "vrt_utm4_2019 %>% plot\n",
        "vrt_utm4_2020 <- stack(\"/content/imagery/planet/2020/input_tif_2020.vrt\")\n",
        "vrt_utm4_2020 %>% plot"
      ]
    },
    {
      "cell_type": "markdown",
      "metadata": {
        "id": "BsMplTQ_saQ0"
      },
      "source": [
        "## load working folder and assign variables"
      ]
    },
    {
      "cell_type": "code",
      "execution_count": null,
      "metadata": {
        "id": "RK5BLgOKsTMk"
      },
      "outputs": [],
      "source": [
        "# https://drive.google.com/drive/folders/1SJtFMy9oe2D8dFrWoMgRmLXL2N6oNvej?usp=drive_link\n",
        "jp_folder = \"1SJtFMy9oe2D8dFrWoMgRmLXL2N6oNvej\"\n",
        "folder_id = drive_get(as_id(jp_folder)) # get folder ID\n",
        "print(folder_id) #print folder ID\n",
        "\n",
        "# Find files in the folder\n",
        "files = drive_ls(folder_id)\n",
        "\n",
        "# Loop through directories and download files inside them\n",
        "for (i in seq_along(files$name)) {\n",
        "  i_dir <- files[i, ] # Select directory\n",
        "    try({\n",
        "\n",
        "      # Download files from the directory to the specified path\n",
        "      drive_download(\n",
        "        as_id(i_dir$id[1]),\n",
        "        path = paste0('/content/workingfolder/aoi/', i_dir$name[1])\n",
        "      )\n",
        "    })\n",
        "  }\n"
      ]
    },
    {
      "cell_type": "code",
      "execution_count": null,
      "metadata": {
        "id": "pFSkD6Aks9xO"
      },
      "outputs": [],
      "source": [
        "Haleiwa <- st_read(\"/content/workingfolder/aoi/Haleiwa.gpkg\")\n",
        "Haleiwa %>% plot\n",
        "nc <- st_read(\"/content/workingfolder/aoi/Haleiwa.gpkg\")\n",
        "nc %>% plot"
      ]
    },
    {
      "cell_type": "code",
      "execution_count": null,
      "metadata": {
        "id": "90yPB4Sjthux"
      },
      "outputs": [],
      "source": [
        "Kahuku <- st_read(\"/content/workingfolder/aoi/Kahuku.gpkg\")\n",
        "Kahuku %>% plot"
      ]
    },
    {
      "cell_type": "code",
      "execution_count": null,
      "metadata": {
        "id": "WMN1wCOItkBm"
      },
      "outputs": [],
      "source": [
        "KawainuiMarsh <- st_read(\"/content/workingfolder/aoi/KawainuiMarsh.gpkg\")\n",
        "KawainuiMarsh %>% plot"
      ]
    },
    {
      "cell_type": "code",
      "execution_count": null,
      "metadata": {
        "id": "VnalOxEKtl46"
      },
      "outputs": [],
      "source": [
        "PearlHarbor <- st_read(\"/content/workingfolder/aoi/PearlHarbor.gpkg\")\n",
        "PearlHarbor %>% plot"
      ]
    },
    {
      "cell_type": "code",
      "execution_count": null,
      "metadata": {
        "id": "LZMOG5E_tLF4"
      },
      "outputs": [],
      "source": [
        "aoi_extent_384 <- st_read(\"/content/workingfolder/aoi/aoi_extent_384.gpkg\")\n",
        "aoi_extent_384 %>% plot"
      ]
    },
    {
      "cell_type": "code",
      "execution_count": null,
      "metadata": {
        "id": "PU07VQC-touk"
      },
      "outputs": [],
      "source": [
        "oahu_aoi_outline <- st_read(\"/content/workingfolder/aoi/oahu_aoi_outline.gpkg\")\n",
        "oahu_aoi_outline %>% plot"
      ]
    },
    {
      "cell_type": "code",
      "execution_count": null,
      "metadata": {
        "id": "NVAZB_4xttb6"
      },
      "outputs": [],
      "source": [
        "# nc = st_read(system.file(\"shape/nc.shp\", package=\"sf\"))\n",
        "#> Reading layer `nc' from data source\n",
        "#>   `/home/runner/work/_temp/Library/sf/shape/nc.shp' using driver `ESRI Shapefile'\n",
        "#> Simple feature collection with 100 features and 14 fields\n",
        "#> Geometry type: MULTIPOLYGON\n",
        "#> Dimension:     XY\n",
        "#> Bounding box:  xmin: -84.32385 ymin: 33.88199 xmax: -75.45698 ymax: 36.58965\n",
        "#> Geodetic CRS:  NAD27\n",
        "g = st_make_grid(nc)\n",
        "plot(g)\n",
        "plot(st_geometry(nc), add = TRUE)\n",
        "# g[nc] selects cells that intersect with nc:\n",
        "plot(g[nc], col = '#ff000088', add = TRUE)"
      ]
    },
    {
      "cell_type": "code",
      "execution_count": null,
      "metadata": {
        "id": "0IwHqcqExLcM"
      },
      "outputs": [],
      "source": [
        "g_intersect = st_as_sf(g[nc])\n",
        "g_intersect %>% plot"
      ]
    },
    {
      "cell_type": "code",
      "execution_count": null,
      "metadata": {
        "id": "d2KS6eLIw_wU"
      },
      "outputs": [],
      "source": [
        "# Save the intersecting grid as a .gpkg file\n",
        "st_write(g_intersect, \"/content/sample_data/intersecting_grid.gpkg\", driver = \"GPKG\")"
      ]
    },
    {
      "cell_type": "code",
      "execution_count": null,
      "metadata": {
        "id": "LFxyUlaOvfEN"
      },
      "outputs": [],
      "source": [
        "g = st_make_grid(nc)\n",
        "plot(g)\n",
        "plot(st_geometry(nc), add = TRUE)\n",
        "# g[nc] selects cells that intersect with nc:\n",
        "plot(g[nc], col = '#ff000088', add = TRUE)"
      ]
    }
  ],
  "metadata": {
    "colab": {
      "machine_shape": "hm",
      "provenance": [],
      "authorship_tag": "ABX9TyMaOBdWpEerHQdoOD7hMGTe",
      "include_colab_link": true
    },
    "kernelspec": {
      "display_name": "R",
      "name": "ir"
    },
    "language_info": {
      "name": "R"
    }
  },
  "nbformat": 4,
  "nbformat_minor": 0
}