{
  "nbformat": 4,
  "nbformat_minor": 0,
  "metadata": {
    "colab": {
      "provenance": [],
      "authorship_tag": "ABX9TyOau3hLQC8JoaJOVcZNBYus",
      "include_colab_link": true
    },
    "kernelspec": {
      "name": "python3",
      "display_name": "Python 3"
    },
    "language_info": {
      "name": "python"
    }
  },
  "cells": [
    {
      "cell_type": "markdown",
      "metadata": {
        "id": "view-in-github",
        "colab_type": "text"
      },
      "source": [
        "<a href=\"https://colab.research.google.com/github/MadmanMarble/Planet_U-NET/blob/main/Google_Drive_Folder_Organization.ipynb\" target=\"_parent\"><img src=\"https://colab.research.google.com/assets/colab-badge.svg\" alt=\"Open In Colab\"/></a>"
      ]
    },
    {
      "cell_type": "code",
      "execution_count": null,
      "metadata": {
        "colab": {
          "base_uri": "https://localhost:8080/"
        },
        "id": "H8_YCYB27jnb",
        "outputId": "557b86e8-b175-4f09-e018-25afefc5eacd"
      },
      "outputs": [
        {
          "output_type": "stream",
          "name": "stdout",
          "text": [
            "Mounted at /content/drive\n"
          ]
        }
      ],
      "source": [
        "from google.colab import drive\n",
        "drive.mount('/content/drive')"
      ]
    },
    {
      "cell_type": "code",
      "source": [
        "import shutil"
      ],
      "metadata": {
        "id": "zoLINEYZ-_vf"
      },
      "execution_count": null,
      "outputs": []
    },
    {
      "cell_type": "code",
      "source": [
        "source_file = \"/content/drive/MyDrive/DeepLearning_Project/Datasets/planet/2020_select/kawainui_2020-01-24.tif\"\n",
        "destination_file = \"/content/drive/MyDrive/data/misc/planetdata/kawainui_2020-01-24.tif\""
      ],
      "metadata": {
        "id": "nXpolkIFLZTd"
      },
      "execution_count": null,
      "outputs": []
    },
    {
      "cell_type": "code",
      "source": [
        "shutil.copy(source_file, destination_file)"
      ],
      "metadata": {
        "colab": {
          "base_uri": "https://localhost:8080/",
          "height": 36
        },
        "id": "B1KxnQ68LsCP",
        "outputId": "d9c8ddb1-a48a-4560-e805-2fbd79500310"
      },
      "execution_count": null,
      "outputs": [
        {
          "output_type": "execute_result",
          "data": {
            "text/plain": [
              "'/content/drive/MyDrive/data/misc/planetdata/kawainui_2020-01-24.tif'"
            ],
            "application/vnd.google.colaboratory.intrinsic+json": {
              "type": "string"
            }
          },
          "metadata": {},
          "execution_count": 94
        }
      ]
    },
    {
      "cell_type": "code",
      "source": [
        "# Source and destination directories\n",
        "# copy all data to the 140 folder. then move the 59 files to the rem folder.\n",
        "import os\n",
        "import shutil\n",
        "\n",
        "# Paths to the source and destination directories\n",
        "source_directory = '/content/drive/MyDrive/data/images/x_training/3year'\n",
        "destination_directory = '/content/drive/MyDrive/data/images/x_training_140/3year_140'\n",
        "\n",
        "# List and filter files\n",
        "files = os.listdir(source_directory)\n",
        "tif_files = [file for file in files if file.endswith(\"_3year.tif\")]\n",
        "\n",
        "# Copy files\n",
        "for file in tif_files:\n",
        "    source_file = os.path.join(source_directory, file)\n",
        "    destination_file = os.path.join(destination_directory, file)\n",
        "    shutil.copy(source_file, destination_file)\n",
        "    print(f\"Copied {file} to {destination_directory}\")\n"
      ],
      "metadata": {
        "colab": {
          "base_uri": "https://localhost:8080/"
        },
        "id": "rAXUA2vq7nEl",
        "outputId": "e08adf96-69dc-447f-dff3-e004184bf221"
      },
      "execution_count": null,
      "outputs": [
        {
          "output_type": "stream",
          "name": "stdout",
          "text": [
            "Copied 111_3year.tif to /content/drive/MyDrive/data/images/x_training_140/3year_140\n",
            "Copied 112_3year.tif to /content/drive/MyDrive/data/images/x_training_140/3year_140\n",
            "Copied 113_3year.tif to /content/drive/MyDrive/data/images/x_training_140/3year_140\n",
            "Copied 126_3year.tif to /content/drive/MyDrive/data/images/x_training_140/3year_140\n",
            "Copied 127_3year.tif to /content/drive/MyDrive/data/images/x_training_140/3year_140\n",
            "Copied 140_3year.tif to /content/drive/MyDrive/data/images/x_training_140/3year_140\n",
            "Copied 141_3year.tif to /content/drive/MyDrive/data/images/x_training_140/3year_140\n",
            "Copied 142_3year.tif to /content/drive/MyDrive/data/images/x_training_140/3year_140\n",
            "Copied 143_3year.tif to /content/drive/MyDrive/data/images/x_training_140/3year_140\n",
            "Copied 1465_3year.tif to /content/drive/MyDrive/data/images/x_training_140/3year_140\n",
            "Copied 1466_3year.tif to /content/drive/MyDrive/data/images/x_training_140/3year_140\n",
            "Copied 1481_3year.tif to /content/drive/MyDrive/data/images/x_training_140/3year_140\n",
            "Copied 1482_3year.tif to /content/drive/MyDrive/data/images/x_training_140/3year_140\n",
            "Copied 1483_3year.tif to /content/drive/MyDrive/data/images/x_training_140/3year_140\n",
            "Copied 1488_3year.tif to /content/drive/MyDrive/data/images/x_training_140/3year_140\n",
            "Copied 1489_3year.tif to /content/drive/MyDrive/data/images/x_training_140/3year_140\n",
            "Copied 1490_3year.tif to /content/drive/MyDrive/data/images/x_training_140/3year_140\n",
            "Copied 1491_3year.tif to /content/drive/MyDrive/data/images/x_training_140/3year_140\n",
            "Copied 1497_3year.tif to /content/drive/MyDrive/data/images/x_training_140/3year_140\n",
            "Copied 1498_3year.tif to /content/drive/MyDrive/data/images/x_training_140/3year_140\n",
            "Copied 1499_3year.tif to /content/drive/MyDrive/data/images/x_training_140/3year_140\n",
            "Copied 1504_3year.tif to /content/drive/MyDrive/data/images/x_training_140/3year_140\n",
            "Copied 1505_3year.tif to /content/drive/MyDrive/data/images/x_training_140/3year_140\n",
            "Copied 1506_3year.tif to /content/drive/MyDrive/data/images/x_training_140/3year_140\n",
            "Copied 1507_3year.tif to /content/drive/MyDrive/data/images/x_training_140/3year_140\n",
            "Copied 1513_3year.tif to /content/drive/MyDrive/data/images/x_training_140/3year_140\n",
            "Copied 1514_3year.tif to /content/drive/MyDrive/data/images/x_training_140/3year_140\n",
            "Copied 1515_3year.tif to /content/drive/MyDrive/data/images/x_training_140/3year_140\n",
            "Copied 1517_3year.tif to /content/drive/MyDrive/data/images/x_training_140/3year_140\n",
            "Copied 1520_3year.tif to /content/drive/MyDrive/data/images/x_training_140/3year_140\n",
            "Copied 1521_3year.tif to /content/drive/MyDrive/data/images/x_training_140/3year_140\n",
            "Copied 1523_3year.tif to /content/drive/MyDrive/data/images/x_training_140/3year_140\n",
            "Copied 1529_3year.tif to /content/drive/MyDrive/data/images/x_training_140/3year_140\n",
            "Copied 1531_3year.tif to /content/drive/MyDrive/data/images/x_training_140/3year_140\n",
            "Copied 1532_3year.tif to /content/drive/MyDrive/data/images/x_training_140/3year_140\n",
            "Copied 1533_3year.tif to /content/drive/MyDrive/data/images/x_training_140/3year_140\n",
            "Copied 1534_3year.tif to /content/drive/MyDrive/data/images/x_training_140/3year_140\n",
            "Copied 1535_3year.tif to /content/drive/MyDrive/data/images/x_training_140/3year_140\n",
            "Copied 1536_3year.tif to /content/drive/MyDrive/data/images/x_training_140/3year_140\n",
            "Copied 1537_3year.tif to /content/drive/MyDrive/data/images/x_training_140/3year_140\n",
            "Copied 1538_3year.tif to /content/drive/MyDrive/data/images/x_training_140/3year_140\n",
            "Copied 1539_3year.tif to /content/drive/MyDrive/data/images/x_training_140/3year_140\n",
            "Copied 154_3year.tif to /content/drive/MyDrive/data/images/x_training_140/3year_140\n",
            "Copied 1545_3year.tif to /content/drive/MyDrive/data/images/x_training_140/3year_140\n",
            "Copied 1546_3year.tif to /content/drive/MyDrive/data/images/x_training_140/3year_140\n",
            "Copied 1547_3year.tif to /content/drive/MyDrive/data/images/x_training_140/3year_140\n",
            "Copied 1548_3year.tif to /content/drive/MyDrive/data/images/x_training_140/3year_140\n",
            "Copied 155_3year.tif to /content/drive/MyDrive/data/images/x_training_140/3year_140\n",
            "Copied 1550_3year.tif to /content/drive/MyDrive/data/images/x_training_140/3year_140\n",
            "Copied 1551_3year.tif to /content/drive/MyDrive/data/images/x_training_140/3year_140\n",
            "Copied 1554_3year.tif to /content/drive/MyDrive/data/images/x_training_140/3year_140\n",
            "Copied 1555_3year.tif to /content/drive/MyDrive/data/images/x_training_140/3year_140\n",
            "Copied 156_3year.tif to /content/drive/MyDrive/data/images/x_training_140/3year_140\n",
            "Copied 1561_3year.tif to /content/drive/MyDrive/data/images/x_training_140/3year_140\n",
            "Copied 1562_3year.tif to /content/drive/MyDrive/data/images/x_training_140/3year_140\n",
            "Copied 1563_3year.tif to /content/drive/MyDrive/data/images/x_training_140/3year_140\n",
            "Copied 1564_3year.tif to /content/drive/MyDrive/data/images/x_training_140/3year_140\n",
            "Copied 1565_3year.tif to /content/drive/MyDrive/data/images/x_training_140/3year_140\n",
            "Copied 1571_3year.tif to /content/drive/MyDrive/data/images/x_training_140/3year_140\n",
            "Copied 1577_3year.tif to /content/drive/MyDrive/data/images/x_training_140/3year_140\n",
            "Copied 1578_3year.tif to /content/drive/MyDrive/data/images/x_training_140/3year_140\n",
            "Copied 1579_3year.tif to /content/drive/MyDrive/data/images/x_training_140/3year_140\n",
            "Copied 158_3year.tif to /content/drive/MyDrive/data/images/x_training_140/3year_140\n",
            "Copied 1580_3year.tif to /content/drive/MyDrive/data/images/x_training_140/3year_140\n",
            "Copied 1581_3year.tif to /content/drive/MyDrive/data/images/x_training_140/3year_140\n",
            "Copied 159_3year.tif to /content/drive/MyDrive/data/images/x_training_140/3year_140\n",
            "Copied 1593_3year.tif to /content/drive/MyDrive/data/images/x_training_140/3year_140\n",
            "Copied 1594_3year.tif to /content/drive/MyDrive/data/images/x_training_140/3year_140\n",
            "Copied 1595_3year.tif to /content/drive/MyDrive/data/images/x_training_140/3year_140\n",
            "Copied 1596_3year.tif to /content/drive/MyDrive/data/images/x_training_140/3year_140\n",
            "Copied 160_3year.tif to /content/drive/MyDrive/data/images/x_training_140/3year_140\n",
            "Copied 1610_3year.tif to /content/drive/MyDrive/data/images/x_training_140/3year_140\n",
            "Copied 1611_3year.tif to /content/drive/MyDrive/data/images/x_training_140/3year_140\n",
            "Copied 1612_3year.tif to /content/drive/MyDrive/data/images/x_training_140/3year_140\n",
            "Copied 1628_3year.tif to /content/drive/MyDrive/data/images/x_training_140/3year_140\n",
            "Copied 1629_3year.tif to /content/drive/MyDrive/data/images/x_training_140/3year_140\n",
            "Copied 1645_3year.tif to /content/drive/MyDrive/data/images/x_training_140/3year_140\n",
            "Copied 169_3year.tif to /content/drive/MyDrive/data/images/x_training_140/3year_140\n",
            "Copied 170_3year.tif to /content/drive/MyDrive/data/images/x_training_140/3year_140\n",
            "Copied 171_3year.tif to /content/drive/MyDrive/data/images/x_training_140/3year_140\n",
            "Copied 172_3year.tif to /content/drive/MyDrive/data/images/x_training_140/3year_140\n",
            "Copied 173_3year.tif to /content/drive/MyDrive/data/images/x_training_140/3year_140\n",
            "Copied 174_3year.tif to /content/drive/MyDrive/data/images/x_training_140/3year_140\n",
            "Copied 185_3year.tif to /content/drive/MyDrive/data/images/x_training_140/3year_140\n",
            "Copied 186_3year.tif to /content/drive/MyDrive/data/images/x_training_140/3year_140\n",
            "Copied 187_3year.tif to /content/drive/MyDrive/data/images/x_training_140/3year_140\n",
            "Copied 188_3year.tif to /content/drive/MyDrive/data/images/x_training_140/3year_140\n",
            "Copied 189_3year.tif to /content/drive/MyDrive/data/images/x_training_140/3year_140\n",
            "Copied 190_3year.tif to /content/drive/MyDrive/data/images/x_training_140/3year_140\n",
            "Copied 203_3year.tif to /content/drive/MyDrive/data/images/x_training_140/3year_140\n",
            "Copied 204_3year.tif to /content/drive/MyDrive/data/images/x_training_140/3year_140\n",
            "Copied 205_3year.tif to /content/drive/MyDrive/data/images/x_training_140/3year_140\n",
            "Copied 208_3year.tif to /content/drive/MyDrive/data/images/x_training_140/3year_140\n",
            "Copied 209_3year.tif to /content/drive/MyDrive/data/images/x_training_140/3year_140\n",
            "Copied 219_3year.tif to /content/drive/MyDrive/data/images/x_training_140/3year_140\n",
            "Copied 220_3year.tif to /content/drive/MyDrive/data/images/x_training_140/3year_140\n",
            "Copied 221_3year.tif to /content/drive/MyDrive/data/images/x_training_140/3year_140\n",
            "Copied 222_3year.tif to /content/drive/MyDrive/data/images/x_training_140/3year_140\n",
            "Copied 223_3year.tif to /content/drive/MyDrive/data/images/x_training_140/3year_140\n",
            "Copied 234_3year.tif to /content/drive/MyDrive/data/images/x_training_140/3year_140\n",
            "Copied 235_3year.tif to /content/drive/MyDrive/data/images/x_training_140/3year_140\n",
            "Copied 250_3year.tif to /content/drive/MyDrive/data/images/x_training_140/3year_140\n",
            "Copied 251_3year.tif to /content/drive/MyDrive/data/images/x_training_140/3year_140\n",
            "Copied 252_3year.tif to /content/drive/MyDrive/data/images/x_training_140/3year_140\n",
            "Copied 266_3year.tif to /content/drive/MyDrive/data/images/x_training_140/3year_140\n",
            "Copied 267_3year.tif to /content/drive/MyDrive/data/images/x_training_140/3year_140\n",
            "Copied 280_3year.tif to /content/drive/MyDrive/data/images/x_training_140/3year_140\n",
            "Copied 281_3year.tif to /content/drive/MyDrive/data/images/x_training_140/3year_140\n",
            "Copied 282_3year.tif to /content/drive/MyDrive/data/images/x_training_140/3year_140\n",
            "Copied 288_3year.tif to /content/drive/MyDrive/data/images/x_training_140/3year_140\n",
            "Copied 298_3year.tif to /content/drive/MyDrive/data/images/x_training_140/3year_140\n",
            "Copied 301_3year.tif to /content/drive/MyDrive/data/images/x_training_140/3year_140\n",
            "Copied 302_3year.tif to /content/drive/MyDrive/data/images/x_training_140/3year_140\n",
            "Copied 303_3year.tif to /content/drive/MyDrive/data/images/x_training_140/3year_140\n",
            "Copied 314_3year.tif to /content/drive/MyDrive/data/images/x_training_140/3year_140\n",
            "Copied 315_3year.tif to /content/drive/MyDrive/data/images/x_training_140/3year_140\n",
            "Copied 316_3year.tif to /content/drive/MyDrive/data/images/x_training_140/3year_140\n",
            "Copied 329_3year.tif to /content/drive/MyDrive/data/images/x_training_140/3year_140\n",
            "Copied 330_3year.tif to /content/drive/MyDrive/data/images/x_training_140/3year_140\n",
            "Copied 722_3year.tif to /content/drive/MyDrive/data/images/x_training_140/3year_140\n",
            "Copied 723_3year.tif to /content/drive/MyDrive/data/images/x_training_140/3year_140\n",
            "Copied 725_3year.tif to /content/drive/MyDrive/data/images/x_training_140/3year_140\n",
            "Copied 740_3year.tif to /content/drive/MyDrive/data/images/x_training_140/3year_140\n",
            "Copied 741_3year.tif to /content/drive/MyDrive/data/images/x_training_140/3year_140\n",
            "Copied 742_3year.tif to /content/drive/MyDrive/data/images/x_training_140/3year_140\n",
            "Copied 743_3year.tif to /content/drive/MyDrive/data/images/x_training_140/3year_140\n",
            "Copied 757_3year.tif to /content/drive/MyDrive/data/images/x_training_140/3year_140\n",
            "Copied 758_3year.tif to /content/drive/MyDrive/data/images/x_training_140/3year_140\n",
            "Copied 759_3year.tif to /content/drive/MyDrive/data/images/x_training_140/3year_140\n",
            "Copied 760_3year.tif to /content/drive/MyDrive/data/images/x_training_140/3year_140\n",
            "Copied 761_3year.tif to /content/drive/MyDrive/data/images/x_training_140/3year_140\n",
            "Copied 762_3year.tif to /content/drive/MyDrive/data/images/x_training_140/3year_140\n",
            "Copied 763_3year.tif to /content/drive/MyDrive/data/images/x_training_140/3year_140\n",
            "Copied 768_3year.tif to /content/drive/MyDrive/data/images/x_training_140/3year_140\n",
            "Copied 769_3year.tif to /content/drive/MyDrive/data/images/x_training_140/3year_140\n",
            "Copied 774_3year.tif to /content/drive/MyDrive/data/images/x_training_140/3year_140\n",
            "Copied 775_3year.tif to /content/drive/MyDrive/data/images/x_training_140/3year_140\n",
            "Copied 777_3year.tif to /content/drive/MyDrive/data/images/x_training_140/3year_140\n",
            "Copied 778_3year.tif to /content/drive/MyDrive/data/images/x_training_140/3year_140\n",
            "Copied 779_3year.tif to /content/drive/MyDrive/data/images/x_training_140/3year_140\n",
            "Copied 780_3year.tif to /content/drive/MyDrive/data/images/x_training_140/3year_140\n",
            "Copied 781_3year.tif to /content/drive/MyDrive/data/images/x_training_140/3year_140\n",
            "Copied 785_3year.tif to /content/drive/MyDrive/data/images/x_training_140/3year_140\n",
            "Copied 786_3year.tif to /content/drive/MyDrive/data/images/x_training_140/3year_140\n",
            "Copied 787_3year.tif to /content/drive/MyDrive/data/images/x_training_140/3year_140\n",
            "Copied 789_3year.tif to /content/drive/MyDrive/data/images/x_training_140/3year_140\n",
            "Copied 790_3year.tif to /content/drive/MyDrive/data/images/x_training_140/3year_140\n",
            "Copied 791_3year.tif to /content/drive/MyDrive/data/images/x_training_140/3year_140\n",
            "Copied 792_3year.tif to /content/drive/MyDrive/data/images/x_training_140/3year_140\n",
            "Copied 793_3year.tif to /content/drive/MyDrive/data/images/x_training_140/3year_140\n",
            "Copied 794_3year.tif to /content/drive/MyDrive/data/images/x_training_140/3year_140\n",
            "Copied 795_3year.tif to /content/drive/MyDrive/data/images/x_training_140/3year_140\n",
            "Copied 796_3year.tif to /content/drive/MyDrive/data/images/x_training_140/3year_140\n",
            "Copied 797_3year.tif to /content/drive/MyDrive/data/images/x_training_140/3year_140\n",
            "Copied 798_3year.tif to /content/drive/MyDrive/data/images/x_training_140/3year_140\n",
            "Copied 804_3year.tif to /content/drive/MyDrive/data/images/x_training_140/3year_140\n",
            "Copied 805_3year.tif to /content/drive/MyDrive/data/images/x_training_140/3year_140\n",
            "Copied 806_3year.tif to /content/drive/MyDrive/data/images/x_training_140/3year_140\n",
            "Copied 807_3year.tif to /content/drive/MyDrive/data/images/x_training_140/3year_140\n",
            "Copied 809_3year.tif to /content/drive/MyDrive/data/images/x_training_140/3year_140\n",
            "Copied 810_3year.tif to /content/drive/MyDrive/data/images/x_training_140/3year_140\n",
            "Copied 811_3year.tif to /content/drive/MyDrive/data/images/x_training_140/3year_140\n",
            "Copied 812_3year.tif to /content/drive/MyDrive/data/images/x_training_140/3year_140\n",
            "Copied 813_3year.tif to /content/drive/MyDrive/data/images/x_training_140/3year_140\n",
            "Copied 815_3year.tif to /content/drive/MyDrive/data/images/x_training_140/3year_140\n",
            "Copied 821_3year.tif to /content/drive/MyDrive/data/images/x_training_140/3year_140\n",
            "Copied 825_3year.tif to /content/drive/MyDrive/data/images/x_training_140/3year_140\n",
            "Copied 826_3year.tif to /content/drive/MyDrive/data/images/x_training_140/3year_140\n",
            "Copied 827_3year.tif to /content/drive/MyDrive/data/images/x_training_140/3year_140\n",
            "Copied 828_3year.tif to /content/drive/MyDrive/data/images/x_training_140/3year_140\n",
            "Copied 829_3year.tif to /content/drive/MyDrive/data/images/x_training_140/3year_140\n",
            "Copied 830_3year.tif to /content/drive/MyDrive/data/images/x_training_140/3year_140\n",
            "Copied 831_3year.tif to /content/drive/MyDrive/data/images/x_training_140/3year_140\n",
            "Copied 840_3year.tif to /content/drive/MyDrive/data/images/x_training_140/3year_140\n",
            "Copied 841_3year.tif to /content/drive/MyDrive/data/images/x_training_140/3year_140\n",
            "Copied 842_3year.tif to /content/drive/MyDrive/data/images/x_training_140/3year_140\n",
            "Copied 843_3year.tif to /content/drive/MyDrive/data/images/x_training_140/3year_140\n",
            "Copied 844_3year.tif to /content/drive/MyDrive/data/images/x_training_140/3year_140\n",
            "Copied 845_3year.tif to /content/drive/MyDrive/data/images/x_training_140/3year_140\n",
            "Copied 847_3year.tif to /content/drive/MyDrive/data/images/x_training_140/3year_140\n",
            "Copied 848_3year.tif to /content/drive/MyDrive/data/images/x_training_140/3year_140\n",
            "Copied 849_3year.tif to /content/drive/MyDrive/data/images/x_training_140/3year_140\n",
            "Copied 860_3year.tif to /content/drive/MyDrive/data/images/x_training_140/3year_140\n",
            "Copied 861_3year.tif to /content/drive/MyDrive/data/images/x_training_140/3year_140\n",
            "Copied 862_3year.tif to /content/drive/MyDrive/data/images/x_training_140/3year_140\n",
            "Copied 863_3year.tif to /content/drive/MyDrive/data/images/x_training_140/3year_140\n",
            "Copied 864_3year.tif to /content/drive/MyDrive/data/images/x_training_140/3year_140\n",
            "Copied 865_3year.tif to /content/drive/MyDrive/data/images/x_training_140/3year_140\n",
            "Copied 866_3year.tif to /content/drive/MyDrive/data/images/x_training_140/3year_140\n",
            "Copied 879_3year.tif to /content/drive/MyDrive/data/images/x_training_140/3year_140\n",
            "Copied 880_3year.tif to /content/drive/MyDrive/data/images/x_training_140/3year_140\n",
            "Copied 882_3year.tif to /content/drive/MyDrive/data/images/x_training_140/3year_140\n"
          ]
        }
      ]
    },
    {
      "cell_type": "code",
      "source": [
        "# move the rem files out of 140 folder\n",
        "# import os\n",
        "# import shutil\n",
        "\n",
        "# Define the source (destination_directory from previous step) and the new destination path\n",
        "source_directory = '/content/drive/MyDrive/data/images/x_training_140/3year_140'\n",
        "new_destination_directory = '/content/drive/MyDrive/data/images/x_training_rem/3year_rem'\n",
        "\n",
        "# Ensure that the new destination directory exists\n",
        "if not os.path.exists(new_destination_directory):\n",
        "    os.makedirs(new_destination_directory)\n",
        "\n",
        "# Define the list of prefixes (as strings for easy matching)\n",
        "prefixes = [\n",
        " \"113\", \"160\", \"169\", \"174\", \"187\", \"190\", \"205\", \"208\", \"209\", \"223\",\n",
        "             \"288\", \"301\", \"302\", \"303\", \"314\", \"315\", \"316\", \"329\", \"722\", \"723\", \"725\",\n",
        "             \"740\", \"741\", \"757\", \"758\", \"763\", \"768\", \"769\", \"774\", \"775\", \"785\", \"786\",\n",
        "             \"787\", \"789\", \"790\", \"791\", \"804\", \"806\", \"807\", \"840\", \"844\", \"863\", \"864\",\n",
        "             \"879\", \"880\", \"882\", \"1491\", \"1506\", \"1523\", \"1554\", \"1581\", \"1629\"\n",
        "]\n",
        "\n",
        "# List all files in the source directory\n",
        "files = os.listdir(source_directory)\n",
        "\n",
        "# Loop over files and move the ones that start with any of the prefixes\n",
        "for file in files:\n",
        "    # Check if file starts with any of the prefixes\n",
        "    if any(file.startswith(prefix) for prefix in prefixes):\n",
        "        # Full path for source and new destination\n",
        "        source_file = os.path.join(source_directory, file)\n",
        "        new_destination_file = os.path.join(new_destination_directory, file)\n",
        "\n",
        "        # Move the file\n",
        "        shutil.move(source_file, new_destination_file)\n",
        "        print(f\"Moved {file} to {new_destination_directory}\")\n"
      ],
      "metadata": {
        "id": "QYAwqLvEpdr1",
        "outputId": "d09e7122-03ef-4ca8-acf3-8dcd59d7dbbe",
        "colab": {
          "base_uri": "https://localhost:8080/"
        }
      },
      "execution_count": null,
      "outputs": [
        {
          "output_type": "stream",
          "name": "stdout",
          "text": [
            "Moved 113_3year.tif to /content/drive/MyDrive/data/images/x_training_rem/3year_rem\n",
            "Moved 1491_3year.tif to /content/drive/MyDrive/data/images/x_training_rem/3year_rem\n",
            "Moved 1506_3year.tif to /content/drive/MyDrive/data/images/x_training_rem/3year_rem\n",
            "Moved 1523_3year.tif to /content/drive/MyDrive/data/images/x_training_rem/3year_rem\n",
            "Moved 1554_3year.tif to /content/drive/MyDrive/data/images/x_training_rem/3year_rem\n",
            "Moved 1581_3year.tif to /content/drive/MyDrive/data/images/x_training_rem/3year_rem\n",
            "Moved 160_3year.tif to /content/drive/MyDrive/data/images/x_training_rem/3year_rem\n",
            "Moved 1629_3year.tif to /content/drive/MyDrive/data/images/x_training_rem/3year_rem\n",
            "Moved 169_3year.tif to /content/drive/MyDrive/data/images/x_training_rem/3year_rem\n",
            "Moved 174_3year.tif to /content/drive/MyDrive/data/images/x_training_rem/3year_rem\n",
            "Moved 187_3year.tif to /content/drive/MyDrive/data/images/x_training_rem/3year_rem\n",
            "Moved 190_3year.tif to /content/drive/MyDrive/data/images/x_training_rem/3year_rem\n",
            "Moved 205_3year.tif to /content/drive/MyDrive/data/images/x_training_rem/3year_rem\n",
            "Moved 208_3year.tif to /content/drive/MyDrive/data/images/x_training_rem/3year_rem\n",
            "Moved 209_3year.tif to /content/drive/MyDrive/data/images/x_training_rem/3year_rem\n",
            "Moved 223_3year.tif to /content/drive/MyDrive/data/images/x_training_rem/3year_rem\n",
            "Moved 288_3year.tif to /content/drive/MyDrive/data/images/x_training_rem/3year_rem\n",
            "Moved 301_3year.tif to /content/drive/MyDrive/data/images/x_training_rem/3year_rem\n",
            "Moved 302_3year.tif to /content/drive/MyDrive/data/images/x_training_rem/3year_rem\n",
            "Moved 303_3year.tif to /content/drive/MyDrive/data/images/x_training_rem/3year_rem\n",
            "Moved 314_3year.tif to /content/drive/MyDrive/data/images/x_training_rem/3year_rem\n",
            "Moved 315_3year.tif to /content/drive/MyDrive/data/images/x_training_rem/3year_rem\n",
            "Moved 316_3year.tif to /content/drive/MyDrive/data/images/x_training_rem/3year_rem\n",
            "Moved 329_3year.tif to /content/drive/MyDrive/data/images/x_training_rem/3year_rem\n",
            "Moved 722_3year.tif to /content/drive/MyDrive/data/images/x_training_rem/3year_rem\n",
            "Moved 723_3year.tif to /content/drive/MyDrive/data/images/x_training_rem/3year_rem\n",
            "Moved 725_3year.tif to /content/drive/MyDrive/data/images/x_training_rem/3year_rem\n",
            "Moved 740_3year.tif to /content/drive/MyDrive/data/images/x_training_rem/3year_rem\n",
            "Moved 741_3year.tif to /content/drive/MyDrive/data/images/x_training_rem/3year_rem\n",
            "Moved 757_3year.tif to /content/drive/MyDrive/data/images/x_training_rem/3year_rem\n",
            "Moved 758_3year.tif to /content/drive/MyDrive/data/images/x_training_rem/3year_rem\n",
            "Moved 763_3year.tif to /content/drive/MyDrive/data/images/x_training_rem/3year_rem\n",
            "Moved 768_3year.tif to /content/drive/MyDrive/data/images/x_training_rem/3year_rem\n",
            "Moved 769_3year.tif to /content/drive/MyDrive/data/images/x_training_rem/3year_rem\n",
            "Moved 774_3year.tif to /content/drive/MyDrive/data/images/x_training_rem/3year_rem\n",
            "Moved 775_3year.tif to /content/drive/MyDrive/data/images/x_training_rem/3year_rem\n",
            "Moved 785_3year.tif to /content/drive/MyDrive/data/images/x_training_rem/3year_rem\n",
            "Moved 786_3year.tif to /content/drive/MyDrive/data/images/x_training_rem/3year_rem\n",
            "Moved 787_3year.tif to /content/drive/MyDrive/data/images/x_training_rem/3year_rem\n",
            "Moved 789_3year.tif to /content/drive/MyDrive/data/images/x_training_rem/3year_rem\n",
            "Moved 790_3year.tif to /content/drive/MyDrive/data/images/x_training_rem/3year_rem\n",
            "Moved 791_3year.tif to /content/drive/MyDrive/data/images/x_training_rem/3year_rem\n",
            "Moved 804_3year.tif to /content/drive/MyDrive/data/images/x_training_rem/3year_rem\n",
            "Moved 806_3year.tif to /content/drive/MyDrive/data/images/x_training_rem/3year_rem\n",
            "Moved 807_3year.tif to /content/drive/MyDrive/data/images/x_training_rem/3year_rem\n",
            "Moved 840_3year.tif to /content/drive/MyDrive/data/images/x_training_rem/3year_rem\n",
            "Moved 844_3year.tif to /content/drive/MyDrive/data/images/x_training_rem/3year_rem\n",
            "Moved 863_3year.tif to /content/drive/MyDrive/data/images/x_training_rem/3year_rem\n",
            "Moved 864_3year.tif to /content/drive/MyDrive/data/images/x_training_rem/3year_rem\n",
            "Moved 879_3year.tif to /content/drive/MyDrive/data/images/x_training_rem/3year_rem\n",
            "Moved 880_3year.tif to /content/drive/MyDrive/data/images/x_training_rem/3year_rem\n",
            "Moved 882_3year.tif to /content/drive/MyDrive/data/images/x_training_rem/3year_rem\n"
          ]
        }
      ]
    },
    {
      "cell_type": "code",
      "source": [
        "import os"
      ],
      "metadata": {
        "id": "Ro0rbtXd_-cd"
      },
      "execution_count": null,
      "outputs": []
    },
    {
      "cell_type": "code",
      "source": [
        "base_dir = \"/content/drive/MyDrive/data/\""
      ],
      "metadata": {
        "id": "Twaxn4sx__AU"
      },
      "execution_count": null,
      "outputs": []
    },
    {
      "cell_type": "code",
      "source": [
        "base_dir"
      ],
      "metadata": {
        "colab": {
          "base_uri": "https://localhost:8080/",
          "height": 36
        },
        "id": "iqX_9BW6ADGo",
        "outputId": "f63c01aa-806a-4a77-9798-69245f7d7cbb"
      },
      "execution_count": null,
      "outputs": [
        {
          "output_type": "execute_result",
          "data": {
            "text/plain": [
              "'/content/drive/MyDrive/data/'"
            ],
            "application/vnd.google.colaboratory.intrinsic+json": {
              "type": "string"
            }
          },
          "metadata": {},
          "execution_count": 11
        }
      ]
    },
    {
      "cell_type": "code",
      "source": [
        "folders = [\n",
        "    \"images/x_test\", \"images/x_training\",\n",
        "    \"images/x_test/1year\", \"images/x_test/2year\", \"images/x_test/3year\",\n",
        "    \"images/x_training/1year\", \"images/x_training/2year\", \"images/x_training/3year\",\n",
        "    \"labels/y_test\", \"labels/y_training\"\n",
        "]\n",
        "\n",
        "for folder in folders:\n",
        "  os.makedirs(os.path.join(base_dir, folder),exist_ok=True)\n",
        "\n",
        "print(\"folder strucure created successfully!\")"
      ],
      "metadata": {
        "colab": {
          "base_uri": "https://localhost:8080/"
        },
        "id": "ZUvSFPwPAECo",
        "outputId": "d5a3778e-4e04-494c-dcf4-6b53f9cc59ab"
      },
      "execution_count": null,
      "outputs": [
        {
          "output_type": "stream",
          "name": "stdout",
          "text": [
            "folder strucure created successfully!\n"
          ]
        }
      ]
    },
    {
      "cell_type": "code",
      "source": [
        "source_dir = \"/content/drive/MyDrive/data/working_dir_1year/holdout/hold_labels\"\n",
        "destination_dir = \"/content/drive/MyDrive/data/labels/y_test\""
      ],
      "metadata": {
        "id": "wyAY7U9-Bors"
      },
      "execution_count": null,
      "outputs": []
    },
    {
      "cell_type": "code",
      "source": [
        "def move_tif_files(source_dir, destination_dir):\n",
        "  for root, _, files in os.walk(source_dir):\n",
        "    for file in files:\n",
        "      if file.endswith(\".tif\"):\n",
        "        source_file_path = os.path.join(root, file)\n",
        "        destination_file_path = os.path.join(destination_dir, os.path.relpath(source_file_path, source_dir))\n",
        "        os.makedirs(os.path.dirname(destination_file_path), exist_ok=True)\n",
        "        shutil.move(source_file_path, destination_file_path)"
      ],
      "metadata": {
        "id": "solBHV8qBy6G"
      },
      "execution_count": null,
      "outputs": []
    },
    {
      "cell_type": "code",
      "source": [
        "move_tif_files(source_dir, destination_dir)\n",
        "print(\"files moded successfully!\")"
      ],
      "metadata": {
        "colab": {
          "base_uri": "https://localhost:8080/"
        },
        "id": "dHcYf_F4Cw2_",
        "outputId": "68d8f354-50c6-4aed-fcf9-e07247cd8c15"
      },
      "execution_count": null,
      "outputs": [
        {
          "output_type": "stream",
          "name": "stdout",
          "text": [
            "files moded successfully!\n"
          ]
        }
      ]
    },
    {
      "cell_type": "code",
      "source": [
        "def count_files(directory):\n",
        "  return len([file for file in os.listdir(directory) if os.path.isfile(os.path.join(directory, file))])"
      ],
      "metadata": {
        "id": "LK8uuJrpC8NC"
      },
      "execution_count": null,
      "outputs": []
    },
    {
      "cell_type": "code",
      "source": [
        "# 140 folder:\n",
        "num_files = count_files(destination_directory)\n",
        "print(num_files)"
      ],
      "metadata": {
        "colab": {
          "base_uri": "https://localhost:8080/"
        },
        "id": "SO8fwU2aDR7s",
        "outputId": "19deb84d-e48f-4c67-d304-d2fa7376750c"
      },
      "execution_count": null,
      "outputs": [
        {
          "output_type": "stream",
          "name": "stdout",
          "text": [
            "140\n"
          ]
        }
      ]
    },
    {
      "cell_type": "code",
      "source": [
        "# rem folder\n",
        "num_files = count_files(new_destination_directory)\n",
        "print(num_files)"
      ],
      "metadata": {
        "id": "x3O_cPg9qcGK",
        "outputId": "34b00d49-75db-4ef1-f31a-2df66691fc27",
        "colab": {
          "base_uri": "https://localhost:8080/"
        }
      },
      "execution_count": null,
      "outputs": [
        {
          "output_type": "stream",
          "name": "stdout",
          "text": [
            "52\n"
          ]
        }
      ]
    },
    {
      "cell_type": "code",
      "source": [
        "base_direct = \"/content/drive/MyDrive/data/images/x_test\""
      ],
      "metadata": {
        "id": "zUs98V2rDUUZ"
      },
      "execution_count": null,
      "outputs": []
    },
    {
      "cell_type": "code",
      "source": [
        "def extract_common_part(file_name):\n",
        "  return file_name.split(\"_\")[0]"
      ],
      "metadata": {
        "id": "6HDdixZGGnU0"
      },
      "execution_count": null,
      "outputs": []
    },
    {
      "cell_type": "code",
      "source": [
        "def check_corresponding_files(folder_name):\n",
        "  current_files = os.listdir(os.path.join(base_direct, folder_name))\n",
        "\n",
        "  for file_name in current_files:\n",
        "    current_file_base = extract_common_part(file_name)\n",
        "    corresponding_files = [os.path.join(base_direct, other_folder, other_file) for other_folder in [\"1year\", \"2year\", \"3year\"] if other_folder != folder_name for other_file in os.listdir(os.path.join(base_direct, other_folder)) if extract_common_part(other_file) == current_file_base]\n",
        "    if len(corresponding_files) < 2:\n",
        "      missing_folders = [os.path.basename(os.path.dirname(file_path)) for file_path in corresponding_files]\n",
        "      print(f\"File {file_name} is missing in folders: {', '.join(missing_folders)}\")"
      ],
      "metadata": {
        "id": "gbzEvnQPFjBd"
      },
      "execution_count": null,
      "outputs": []
    },
    {
      "cell_type": "code",
      "source": [
        "check_corresponding_files(\"1year\")\n",
        "check_corresponding_files(\"2year\")\n",
        "check_corresponding_files(\"3year\")"
      ],
      "metadata": {
        "id": "MWSQO8SCGWW7"
      },
      "execution_count": null,
      "outputs": []
    },
    {
      "cell_type": "code",
      "source": [],
      "metadata": {
        "id": "aVx05PrsIM_n"
      },
      "execution_count": null,
      "outputs": []
    }
  ]
}