{
  "nbformat": 4,
  "nbformat_minor": 0,
  "metadata": {
    "colab": {
      "provenance": [],
      "authorship_tag": "ABX9TyNBbVfjEiuCrUAq740Ls2YS",
      "include_colab_link": true
    },
    "kernelspec": {
      "name": "python3",
      "display_name": "Python 3"
    },
    "language_info": {
      "name": "python"
    }
  },
  "cells": [
    {
      "cell_type": "markdown",
      "metadata": {
        "id": "view-in-github",
        "colab_type": "text"
      },
      "source": [
        "<a href=\"https://colab.research.google.com/github/MadmanMarble/Planet_U-NET/blob/main/Google_Drive_Folder_Organization.ipynb\" target=\"_parent\"><img src=\"https://colab.research.google.com/assets/colab-badge.svg\" alt=\"Open In Colab\"/></a>"
      ]
    },
    {
      "cell_type": "code",
      "execution_count": 1,
      "metadata": {
        "colab": {
          "base_uri": "https://localhost:8080/"
        },
        "id": "H8_YCYB27jnb",
        "outputId": "3e7ef2e1-2f37-474e-cadd-0dbe52c4dc0e"
      },
      "outputs": [
        {
          "output_type": "stream",
          "name": "stdout",
          "text": [
            "Mounted at /content/drive\n"
          ]
        }
      ],
      "source": [
        "from google.colab import drive\n",
        "drive.mount('/content/drive')"
      ]
    },
    {
      "cell_type": "code",
      "source": [
        "import shutil"
      ],
      "metadata": {
        "id": "zoLINEYZ-_vf"
      },
      "execution_count": 2,
      "outputs": []
    },
    {
      "cell_type": "code",
      "source": [
        "source_file = \"/content/drive/MyDrive/DeepLearning_Project/Datasets/planet/2020_select/kawainui_2020-01-24.tif\"\n",
        "destination_file = \"/content/drive/MyDrive/data/misc/planetdata/kawainui_2020-01-24.tif\""
      ],
      "metadata": {
        "id": "nXpolkIFLZTd"
      },
      "execution_count": 93,
      "outputs": []
    },
    {
      "cell_type": "code",
      "source": [
        "shutil.copy(source_file, destination_file)"
      ],
      "metadata": {
        "colab": {
          "base_uri": "https://localhost:8080/",
          "height": 36
        },
        "id": "B1KxnQ68LsCP",
        "outputId": "d9c8ddb1-a48a-4560-e805-2fbd79500310"
      },
      "execution_count": 94,
      "outputs": [
        {
          "output_type": "execute_result",
          "data": {
            "text/plain": [
              "'/content/drive/MyDrive/data/misc/planetdata/kawainui_2020-01-24.tif'"
            ],
            "application/vnd.google.colaboratory.intrinsic+json": {
              "type": "string"
            }
          },
          "metadata": {},
          "execution_count": 94
        }
      ]
    },
    {
      "cell_type": "code",
      "source": [
        "# Source and destination directories\n",
        "source_dir = \"/content/drive/MyDrive/data/working_dir_3year\"\n",
        "destination_dir = \"/content/drive/MyDrive/data/misc/\"\n",
        "\n",
        "# Move the folder\n",
        "# shutil.move(source_dir, destination_dir)\n",
        "shutil.copy(source_dir, destination_dir)\n",
        "\n",
        "print(\"Folder moved successfully!\")\n",
        "print(\"Folder copied successfully!\")\n"
      ],
      "metadata": {
        "colab": {
          "base_uri": "https://localhost:8080/"
        },
        "id": "rAXUA2vq7nEl",
        "outputId": "b2b58844-8ced-4f8c-a11e-d381c3384666"
      },
      "execution_count": 48,
      "outputs": [
        {
          "output_type": "stream",
          "name": "stdout",
          "text": [
            "Folder moved successfully!\n"
          ]
        }
      ]
    },
    {
      "cell_type": "code",
      "source": [
        "import os"
      ],
      "metadata": {
        "id": "Ro0rbtXd_-cd"
      },
      "execution_count": 9,
      "outputs": []
    },
    {
      "cell_type": "code",
      "source": [
        "base_dir = \"/content/drive/MyDrive/data/\""
      ],
      "metadata": {
        "id": "Twaxn4sx__AU"
      },
      "execution_count": 10,
      "outputs": []
    },
    {
      "cell_type": "code",
      "source": [
        "base_dir"
      ],
      "metadata": {
        "colab": {
          "base_uri": "https://localhost:8080/",
          "height": 36
        },
        "id": "iqX_9BW6ADGo",
        "outputId": "f63c01aa-806a-4a77-9798-69245f7d7cbb"
      },
      "execution_count": 11,
      "outputs": [
        {
          "output_type": "execute_result",
          "data": {
            "text/plain": [
              "'/content/drive/MyDrive/data/'"
            ],
            "application/vnd.google.colaboratory.intrinsic+json": {
              "type": "string"
            }
          },
          "metadata": {},
          "execution_count": 11
        }
      ]
    },
    {
      "cell_type": "code",
      "source": [
        "folders = [\n",
        "    \"images/x_test\", \"images/x_training\",\n",
        "    \"images/x_test/1year\", \"images/x_test/2year\", \"images/x_test/3year\",\n",
        "    \"images/x_training/1year\", \"images/x_training/2year\", \"images/x_training/3year\",\n",
        "    \"labels/y_test\", \"labels/y_training\"\n",
        "]\n",
        "\n",
        "for folder in folders:\n",
        "  os.makedirs(os.path.join(base_dir, folder),exist_ok=True)\n",
        "\n",
        "print(\"folder strucure created successfully!\")"
      ],
      "metadata": {
        "colab": {
          "base_uri": "https://localhost:8080/"
        },
        "id": "ZUvSFPwPAECo",
        "outputId": "d5a3778e-4e04-494c-dcf4-6b53f9cc59ab"
      },
      "execution_count": 14,
      "outputs": [
        {
          "output_type": "stream",
          "name": "stdout",
          "text": [
            "folder strucure created successfully!\n"
          ]
        }
      ]
    },
    {
      "cell_type": "code",
      "source": [
        "source_dir = \"/content/drive/MyDrive/data/working_dir_1year/holdout/hold_labels\"\n",
        "destination_dir = \"/content/drive/MyDrive/data/labels/y_test\""
      ],
      "metadata": {
        "id": "wyAY7U9-Bors"
      },
      "execution_count": 43,
      "outputs": []
    },
    {
      "cell_type": "code",
      "source": [
        "def move_tif_files(source_dir, destination_dir):\n",
        "  for root, _, files in os.walk(source_dir):\n",
        "    for file in files:\n",
        "      if file.endswith(\".tif\"):\n",
        "        source_file_path = os.path.join(root, file)\n",
        "        destination_file_path = os.path.join(destination_dir, os.path.relpath(source_file_path, source_dir))\n",
        "        os.makedirs(os.path.dirname(destination_file_path), exist_ok=True)\n",
        "        shutil.move(source_file_path, destination_file_path)"
      ],
      "metadata": {
        "id": "solBHV8qBy6G"
      },
      "execution_count": 19,
      "outputs": []
    },
    {
      "cell_type": "code",
      "source": [
        "move_tif_files(source_dir, destination_dir)\n",
        "print(\"files moded successfully!\")"
      ],
      "metadata": {
        "colab": {
          "base_uri": "https://localhost:8080/"
        },
        "id": "dHcYf_F4Cw2_",
        "outputId": "68d8f354-50c6-4aed-fcf9-e07247cd8c15"
      },
      "execution_count": 44,
      "outputs": [
        {
          "output_type": "stream",
          "name": "stdout",
          "text": [
            "files moded successfully!\n"
          ]
        }
      ]
    },
    {
      "cell_type": "code",
      "source": [
        "def count_files(directory):\n",
        "  return len([file for file in os.listdir(directory) if os.path.isfile(os.path.join(directory, file))])"
      ],
      "metadata": {
        "id": "LK8uuJrpC8NC"
      },
      "execution_count": 23,
      "outputs": []
    },
    {
      "cell_type": "code",
      "source": [
        "num_files = count_files(destination_dir)\n",
        "print(num_files)"
      ],
      "metadata": {
        "colab": {
          "base_uri": "https://localhost:8080/"
        },
        "id": "SO8fwU2aDR7s",
        "outputId": "dce6bde5-fcff-4f9e-eb7e-bee7452b3ea2"
      },
      "execution_count": 45,
      "outputs": [
        {
          "output_type": "stream",
          "name": "stdout",
          "text": [
            "10\n"
          ]
        }
      ]
    },
    {
      "cell_type": "code",
      "source": [
        "base_direct = \"/content/drive/MyDrive/data/images/x_test\""
      ],
      "metadata": {
        "id": "zUs98V2rDUUZ"
      },
      "execution_count": 69,
      "outputs": []
    },
    {
      "cell_type": "code",
      "source": [
        "def extract_common_part(file_name):\n",
        "  return file_name.split(\"_\")[0]"
      ],
      "metadata": {
        "id": "6HDdixZGGnU0"
      },
      "execution_count": 58,
      "outputs": []
    },
    {
      "cell_type": "code",
      "source": [
        "def check_corresponding_files(folder_name):\n",
        "  current_files = os.listdir(os.path.join(base_direct, folder_name))\n",
        "\n",
        "  for file_name in current_files:\n",
        "    current_file_base = extract_common_part(file_name)\n",
        "    corresponding_files = [os.path.join(base_direct, other_folder, other_file) for other_folder in [\"1year\", \"2year\", \"3year\"] if other_folder != folder_name for other_file in os.listdir(os.path.join(base_direct, other_folder)) if extract_common_part(other_file) == current_file_base]\n",
        "    if len(corresponding_files) < 2:\n",
        "      missing_folders = [os.path.basename(os.path.dirname(file_path)) for file_path in corresponding_files]\n",
        "      print(f\"File {file_name} is missing in folders: {', '.join(missing_folders)}\")"
      ],
      "metadata": {
        "id": "gbzEvnQPFjBd"
      },
      "execution_count": 59,
      "outputs": []
    },
    {
      "cell_type": "code",
      "source": [
        "check_corresponding_files(\"1year\")\n",
        "check_corresponding_files(\"2year\")\n",
        "check_corresponding_files(\"3year\")"
      ],
      "metadata": {
        "id": "MWSQO8SCGWW7"
      },
      "execution_count": 70,
      "outputs": []
    },
    {
      "cell_type": "code",
      "source": [],
      "metadata": {
        "id": "aVx05PrsIM_n"
      },
      "execution_count": null,
      "outputs": []
    }
  ]
}