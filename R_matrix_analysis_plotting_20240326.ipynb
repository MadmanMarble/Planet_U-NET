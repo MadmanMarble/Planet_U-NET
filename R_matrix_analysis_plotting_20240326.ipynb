{
  "nbformat": 4,
  "nbformat_minor": 0,
  "metadata": {
    "colab": {
      "provenance": [],
      "authorship_tag": "ABX9TyOdN8l1/XhD1Hx8kNnY8aAw",
      "include_colab_link": true
    },
    "kernelspec": {
      "name": "ir",
      "display_name": "R"
    },
    "language_info": {
      "name": "R"
    }
  },
  "cells": [
    {
      "cell_type": "markdown",
      "metadata": {
        "id": "view-in-github",
        "colab_type": "text"
      },
      "source": [
        "<a href=\"https://colab.research.google.com/github/MadmanMarble/Planet_U-NET/blob/main/R_matrix_analysis_plotting_20240326.ipynb\" target=\"_parent\"><img src=\"https://colab.research.google.com/assets/colab-badge.svg\" alt=\"Open In Colab\"/></a>"
      ]
    },
    {
      "cell_type": "code",
      "execution_count": 1,
      "metadata": {
        "colab": {
          "base_uri": "https://localhost:8080/"
        },
        "id": "7clP3kMKVAUh",
        "outputId": "2bf1415a-6c19-4146-e98c-1caeab9bcf45"
      },
      "outputs": [
        {
          "output_type": "stream",
          "name": "stderr",
          "text": [
            "Installing packages into ‘/usr/local/lib/R/site-library’\n",
            "(as ‘lib’ is unspecified)\n",
            "\n",
            "also installing the dependencies ‘proxy’, ‘e1071’, ‘sp’, ‘Rcpp’, ‘terra’, ‘classInt’, ‘s2’, ‘units’, ‘wk’, ‘RcppArmadillo’\n",
            "\n",
            "\n",
            "Installing package into ‘/usr/local/lib/R/site-library’\n",
            "(as ‘lib’ is unspecified)\n",
            "\n",
            "Installing package into ‘/usr/local/lib/R/site-library’\n",
            "(as ‘lib’ is unspecified)\n",
            "\n",
            "also installing the dependencies ‘httpuv’, ‘xtable’, ‘sourcetools’, ‘later’, ‘promises’, ‘shiny’, ‘downlit’, ‘htmlwidgets’, ‘miniUI’, ‘pkgdown’, ‘profvis’, ‘urlchecker’\n",
            "\n",
            "\n",
            "Installing package into ‘/usr/local/lib/R/site-library’\n",
            "(as ‘lib’ is unspecified)\n",
            "\n",
            "also installing the dependencies ‘listenv’, ‘parallelly’, ‘future’, ‘globals’, ‘shape’, ‘future.apply’, ‘numDeriv’, ‘progressr’, ‘SQUAREM’, ‘diagram’, ‘lava’, ‘prodlim’, ‘iterators’, ‘clock’, ‘gower’, ‘hardhat’, ‘ipred’, ‘timeDate’, ‘foreach’, ‘ModelMetrics’, ‘plyr’, ‘pROC’, ‘recipes’, ‘reshape2’\n",
            "\n",
            "\n",
            "Downloading GitHub repo gearslaboratory/gdalUtils@HEAD\n",
            "\n"
          ]
        },
        {
          "output_type": "stream",
          "name": "stdout",
          "text": [
            "R.methodsS3 (NA -> 1.8.2 ) [CRAN]\n",
            "R.oo        (NA -> 1.26.0) [CRAN]\n",
            "R.utils     (NA -> 2.12.3) [CRAN]\n"
          ]
        },
        {
          "output_type": "stream",
          "name": "stderr",
          "text": [
            "Skipping 1 packages not available: rgdal\n",
            "\n",
            "Installing 4 packages: R.methodsS3, R.oo, rgdal, R.utils\n",
            "\n",
            "Installing packages into ‘/usr/local/lib/R/site-library’\n",
            "(as ‘lib’ is unspecified)\n",
            "\n",
            "Warning message:\n",
            "“package ‘rgdal’ is not available for this version of R\n",
            "\n",
            "A version of this package for your version of R might be available elsewhere,\n",
            "see the ideas at\n",
            "https://cran.r-project.org/doc/manuals/r-patched/R-admin.html#Installing-packages”\n"
          ]
        },
        {
          "output_type": "stream",
          "name": "stdout",
          "text": [
            "\u001b[36m──\u001b[39m \u001b[36mR CMD build\u001b[39m \u001b[36m─────────────────────────────────────────────────────────────────\u001b[39m\n",
            "* checking for file ‘/tmp/Rtmpcn23C1/remotes19131f88b11/gearslaboratory-gdalUtils-8872aaf/DESCRIPTION’ ... OK\n",
            "* preparing ‘gdalUtils’:\n",
            "* checking DESCRIPTION meta-information ... OK\n",
            "* checking for LF line-endings in source and make files and shell scripts\n",
            "* checking for empty or unneeded directories\n",
            "* building ‘gdalUtils_2.0.3.2.tar.gz’\n",
            "\n"
          ]
        },
        {
          "output_type": "stream",
          "name": "stderr",
          "text": [
            "Installing package into ‘/usr/local/lib/R/site-library’\n",
            "(as ‘lib’ is unspecified)\n",
            "\n",
            "Warning message in i.p(...):\n",
            "“installation of package ‘/tmp/Rtmpcn23C1/file1915d68cba5/gdalUtils_2.0.3.2.tar.gz’ had non-zero exit status”\n"
          ]
        }
      ],
      "source": [
        "install.packages(c('raster','sf','fasterize'))\n",
        "install.packages(\"googledrive\")\n",
        "install.packages(\"devtools\")\n",
        "install.packages(\"caret\")\n",
        "devtools:::install_github(\"gearslaboratory/gdalUtils\")"
      ]
    },
    {
      "cell_type": "code",
      "source": [
        "library(googledrive)\n",
        "library(raster)\n",
        "library(magrittr)\n",
        "library(data.table)\n",
        "library(caret)\n",
        "library(ggplot2)\n",
        "library(tidyr)"
      ],
      "metadata": {
        "id": "rn4dWEbLdT1P",
        "outputId": "e39e50bf-c638-4c7d-cb75-7964bd198368",
        "colab": {
          "base_uri": "https://localhost:8080/"
        }
      },
      "execution_count": 46,
      "outputs": [
        {
          "output_type": "stream",
          "name": "stderr",
          "text": [
            "\n",
            "Attaching package: ‘tidyr’\n",
            "\n",
            "\n",
            "The following object is masked from ‘package:magrittr’:\n",
            "\n",
            "    extract\n",
            "\n",
            "\n",
            "The following object is masked from ‘package:raster’:\n",
            "\n",
            "    extract\n",
            "\n",
            "\n"
          ]
        }
      ]
    },
    {
      "cell_type": "code",
      "source": [
        "drive_auth(use_oob = TRUE, cache = FALSE)"
      ],
      "metadata": {
        "colab": {
          "base_uri": "https://localhost:8080/"
        },
        "id": "694O8nxPdVCl",
        "outputId": "a8f53ac7-3f98-4145-e75a-d3d46aa63830"
      },
      "execution_count": 3,
      "outputs": [
        {
          "output_type": "stream",
          "name": "stderr",
          "text": [
            "Please point your browser to the following url: \n",
            "\n",
            "https://accounts.google.com/o/oauth2/v2/auth?client_id=603366585132-frjlouoa3s2ono25d2l9ukvhlsrlnr7k.apps.googleusercontent.com&scope=https%3A%2F%2Fwww.googleapis.com%2Fauth%2Fdrive%20https%3A%2F%2Fwww.googleapis.com%2Fauth%2Fuserinfo.email&redirect_uri=https%3A%2F%2Fwww.tidyverse.org%2Fgoogle-callback%2F&response_type=code&state=c9efc8932b9fc54b220e8dbcef7b5d9c&access_type=offline&prompt=consent\n",
            "\n"
          ]
        },
        {
          "name": "stdout",
          "output_type": "stream",
          "text": [
            "Enter authorization code: eyJjb2RlIjoiNC8wQWVhWVNIQ3M5dGJXQ2FvVHdsakkwMlVGSDNtQmxVS3lBR3ZlcGxkbjJFUVYtWGt0dFAxUWU3c1oyZUFrVWt0V2ttVlJfQSIsInN0YXRlIjoiYzllZmM4OTMyYjlmYzU0YjIyMGU4ZGJjZWY3YjVkOWMifQ==\n"
          ]
        }
      ]
    },
    {
      "cell_type": "code",
      "source": [
        "# https://drive.google.com/file/d/1tKj2X7NQELkArrQ8K8ptsk1YUi5QXs3c/view?usp=drive_link\n",
        "drive_download(file = as_id('1tKj2X7NQELkArrQ8K8ptsk1YUi5QXs3c'), path =  '/content/oneYear.zip', overwrite = TRUE)\n",
        "\n",
        "# https://drive.google.com/file/d/11uePUMaH5sYMIuqtjY7omum7QtBrfpjM/view?usp=drive_link\n",
        "drive_download(file = as_id('11uePUMaH5sYMIuqtjY7omum7QtBrfpjM'), path =  '/content/twoYear.zip', overwrite = TRUE)\n",
        "\n",
        "# https://drive.google.com/file/d/1Ak2QP2agnWtn6HW7qkjqnThCGCasqGvQ/view?usp=drive_link\n",
        "drive_download(file = as_id('1Ak2QP2agnWtn6HW7qkjqnThCGCasqGvQ'), path =  '/content/threeYear.zip', overwrite = TRUE)"
      ],
      "metadata": {
        "colab": {
          "base_uri": "https://localhost:8080/"
        },
        "id": "bdJSnmzmdW5C",
        "outputId": "bfff5d5d-7634-4113-bf66-e4ce20952e01"
      },
      "execution_count": 4,
      "outputs": [
        {
          "output_type": "stream",
          "name": "stderr",
          "text": [
            "File downloaded:\n",
            "\n",
            "• \u001b[36mmodel_03222023_1255-20240326T202803Z-001.zip\u001b[39m\n",
            "  \u001b[90m<id: 1tKj2X7NQELkArrQ8K8ptsk1YUi5QXs3c>\u001b[39m\n",
            "\n",
            "Saved locally as:\n",
            "\n",
            "• \u001b[34m/content/oneYear.zip\u001b[39m\n",
            "\n",
            "File downloaded:\n",
            "\n",
            "• \u001b[36mmodel_03222024_1255-20240327T170048Z-001.zip\u001b[39m\n",
            "  \u001b[90m<id: 11uePUMaH5sYMIuqtjY7omum7QtBrfpjM>\u001b[39m\n",
            "\n",
            "Saved locally as:\n",
            "\n",
            "• \u001b[34m/content/twoYear.zip\u001b[39m\n",
            "\n",
            "File downloaded:\n",
            "\n",
            "• \u001b[36mmodel_03222023_1255-20240327T170243Z-001.zip\u001b[39m\n",
            "  \u001b[90m<id: 1Ak2QP2agnWtn6HW7qkjqnThCGCasqGvQ>\u001b[39m\n",
            "\n",
            "Saved locally as:\n",
            "\n",
            "• \u001b[34m/content/threeYear.zip\u001b[39m\n",
            "\n"
          ]
        }
      ]
    },
    {
      "cell_type": "code",
      "source": [
        "unzip(\"/content/oneYear.zip\", files = NULL, list = FALSE, overwrite = TRUE,\n",
        "      junkpaths = FALSE, exdir = \"/content/oneYear\", unzip = \"internal\",\n",
        "      setTimes = FALSE)"
      ],
      "metadata": {
        "id": "bH08HKHIcEie"
      },
      "execution_count": 6,
      "outputs": []
    },
    {
      "cell_type": "code",
      "source": [
        "unzip(\"/content/twoYear.zip\", files = NULL, list = FALSE, overwrite = TRUE,\n",
        "      junkpaths = FALSE, exdir = \"/content/twoYear\", unzip = \"internal\",\n",
        "      setTimes = FALSE)"
      ],
      "metadata": {
        "id": "KYgqvdi6_vz4"
      },
      "execution_count": 7,
      "outputs": []
    },
    {
      "cell_type": "code",
      "source": [
        "unzip(\"/content/threeYear.zip\", files = NULL, list = FALSE, overwrite = TRUE,\n",
        "      junkpaths = FALSE, exdir = \"/content/threeYear\", unzip = \"internal\",\n",
        "      setTimes = FALSE)"
      ],
      "metadata": {
        "id": "819EYV50AGco"
      },
      "execution_count": 8,
      "outputs": []
    },
    {
      "cell_type": "markdown",
      "source": [
        "pause"
      ],
      "metadata": {
        "id": "a55opmcT6Kbl"
      }
    },
    {
      "cell_type": "code",
      "source": [
        "oneYear_file_list <-list.files(\"/content/oneYear/model_03222023_1255\", pattern = \"*.tif\", full.names = TRUE)"
      ],
      "metadata": {
        "id": "4USrQOaRd-_i"
      },
      "execution_count": 9,
      "outputs": []
    },
    {
      "cell_type": "code",
      "source": [
        "oneYear_file_list[[50]]"
      ],
      "metadata": {
        "colab": {
          "base_uri": "https://localhost:8080/",
          "height": 34
        },
        "id": "2wM2Nm7_iMyw",
        "outputId": "be2d929e-c573-49a8-81e7-49458ca93bbe"
      },
      "execution_count": 13,
      "outputs": [
        {
          "output_type": "display_data",
          "data": {
            "text/html": [
              "'/content/oneYear/model_03222023_1255/epoch_41_1530_planet_stack_utm4.tif'"
            ],
            "text/markdown": "'/content/oneYear/model_03222023_1255/epoch_41_1530_planet_stack_utm4.tif'",
            "text/latex": "'/content/oneYear/model\\_03222023\\_1255/epoch\\_41\\_1530\\_planet\\_stack\\_utm4.tif'",
            "text/plain": [
              "[1] \"/content/oneYear/model_03222023_1255/epoch_41_1530_planet_stack_utm4.tif\""
            ]
          },
          "metadata": {}
        }
      ]
    },
    {
      "cell_type": "code",
      "source": [
        "oneYear_raster_list <- oneYear_file_list[50] %>% lapply(stack)"
      ],
      "metadata": {
        "id": "xal5lDtIeQnb"
      },
      "execution_count": 18,
      "outputs": []
    },
    {
      "cell_type": "code",
      "source": [
        "oneYear_raster_list"
      ],
      "metadata": {
        "colab": {
          "base_uri": "https://localhost:8080/",
          "height": 156
        },
        "id": "eeaL29ARiK23",
        "outputId": "7878472c-e386-4afe-af75-24f4c1a59288"
      },
      "execution_count": 19,
      "outputs": [
        {
          "output_type": "display_data",
          "data": {
            "text/plain": [
              "[[1]]\n",
              "class      : RasterStack \n",
              "dimensions : 384, 384, 147456, 1  (nrow, ncol, ncell, nlayers)\n",
              "resolution : 1, 1  (x, y)\n",
              "extent     : 628182, 628566, 2365605, 2365989  (xmin, xmax, ymin, ymax)\n",
              "crs        : +proj=utm +zone=4 +datum=NAD83 +units=m +no_defs \n",
              "names      : epoch_41_1530_planet_stack_utm4 \n",
              "\n"
            ]
          },
          "metadata": {}
        }
      ]
    },
    {
      "cell_type": "code",
      "source": [
        "# https://drive.google.com/file/d/1Moqrj_kaYIKoq5q9qQ9pdeW-ADpbLd3u/view?usp=drive_link\n",
        "drive_download(file = as_id('1Moqrj_kaYIKoq5q9qQ9pdeW-ADpbLd3u'), path =  '/content/groudTruth_labels.zip', overwrite = TRUE)"
      ],
      "metadata": {
        "id": "W-IF9HRgexKu",
        "outputId": "602f6707-98cb-4dd0-b424-c604a0cf8db6",
        "colab": {
          "base_uri": "https://localhost:8080/"
        }
      },
      "execution_count": 20,
      "outputs": [
        {
          "output_type": "stream",
          "name": "stderr",
          "text": [
            "File downloaded:\n",
            "\n",
            "• \u001b[36mtest_labels-20240326T203837Z-001.zip\u001b[39m \u001b[90m<id: 1Moqrj_kaYIKoq5q9qQ9pdeW-ADpbLd3u>\u001b[39m\n",
            "\n",
            "Saved locally as:\n",
            "\n",
            "• \u001b[34m/content/groudTruth_labels.zip\u001b[39m\n",
            "\n"
          ]
        }
      ]
    },
    {
      "cell_type": "code",
      "source": [
        "unzip(\"/content/groudTruth_labels.zip\", files = NULL, list = FALSE, overwrite = TRUE,\n",
        "      junkpaths = FALSE, exdir = \"/content/groudTruth_labels\", unzip = \"internal\",\n",
        "      setTimes = FALSE)"
      ],
      "metadata": {
        "id": "8eBdqQ1_BTn4"
      },
      "execution_count": 21,
      "outputs": []
    },
    {
      "cell_type": "code",
      "source": [
        "# oneYear_file_list <-list.files(\"/content/oneYear/model_03222023_1255\", pattern = \"*.tif\", full.names = TRUE)\n",
        "groudTruth_file_list <-list.files(\"/content/groudTruth_labels/test_labels\", pattern = \"*.tif\", full.names = TRUE)"
      ],
      "metadata": {
        "id": "H_xDeAxAfY91"
      },
      "execution_count": 30,
      "outputs": []
    },
    {
      "cell_type": "code",
      "source": [
        "groudTruth_file_list"
      ],
      "metadata": {
        "colab": {
          "base_uri": "https://localhost:8080/",
          "height": 86
        },
        "id": "FI0UluvZfebc",
        "outputId": "217f5e77-4ecc-4239-fcf1-795bf244ceb2"
      },
      "execution_count": 32,
      "outputs": [
        {
          "output_type": "display_data",
          "data": {
            "text/html": [
              "<style>\n",
              ".list-inline {list-style: none; margin:0; padding: 0}\n",
              ".list-inline>li {display: inline-block}\n",
              ".list-inline>li:not(:last-child)::after {content: \"\\00b7\"; padding: 0 .5ex}\n",
              "</style>\n",
              "<ol class=list-inline><li>'/content/groudTruth_labels/test_labels/1530_nwi_ccap_filled_utm4.tif'</li><li>'/content/groudTruth_labels/test_labels/1532_nwi_ccap_filled_utm4.tif'</li><li>'/content/groudTruth_labels/test_labels/1546_nwi_ccap_filled_utm4.tif'</li><li>'/content/groudTruth_labels/test_labels/1557_nwi_ccap_filled_utm4.tif'</li><li>'/content/groudTruth_labels/test_labels/2118_nwi_ccap_filled_utm4.tif'</li><li>'/content/groudTruth_labels/test_labels/2355_nwi_ccap_filled_utm4.tif'</li><li>'/content/groudTruth_labels/test_labels/823_nwi_ccap_filled_utm4.tif'</li></ol>\n"
            ],
            "text/markdown": "1. '/content/groudTruth_labels/test_labels/1530_nwi_ccap_filled_utm4.tif'\n2. '/content/groudTruth_labels/test_labels/1532_nwi_ccap_filled_utm4.tif'\n3. '/content/groudTruth_labels/test_labels/1546_nwi_ccap_filled_utm4.tif'\n4. '/content/groudTruth_labels/test_labels/1557_nwi_ccap_filled_utm4.tif'\n5. '/content/groudTruth_labels/test_labels/2118_nwi_ccap_filled_utm4.tif'\n6. '/content/groudTruth_labels/test_labels/2355_nwi_ccap_filled_utm4.tif'\n7. '/content/groudTruth_labels/test_labels/823_nwi_ccap_filled_utm4.tif'\n\n\n",
            "text/latex": "\\begin{enumerate*}\n\\item '/content/groudTruth\\_labels/test\\_labels/1530\\_nwi\\_ccap\\_filled\\_utm4.tif'\n\\item '/content/groudTruth\\_labels/test\\_labels/1532\\_nwi\\_ccap\\_filled\\_utm4.tif'\n\\item '/content/groudTruth\\_labels/test\\_labels/1546\\_nwi\\_ccap\\_filled\\_utm4.tif'\n\\item '/content/groudTruth\\_labels/test\\_labels/1557\\_nwi\\_ccap\\_filled\\_utm4.tif'\n\\item '/content/groudTruth\\_labels/test\\_labels/2118\\_nwi\\_ccap\\_filled\\_utm4.tif'\n\\item '/content/groudTruth\\_labels/test\\_labels/2355\\_nwi\\_ccap\\_filled\\_utm4.tif'\n\\item '/content/groudTruth\\_labels/test\\_labels/823\\_nwi\\_ccap\\_filled\\_utm4.tif'\n\\end{enumerate*}\n",
            "text/plain": [
              "[1] \"/content/groudTruth_labels/test_labels/1530_nwi_ccap_filled_utm4.tif\"\n",
              "[2] \"/content/groudTruth_labels/test_labels/1532_nwi_ccap_filled_utm4.tif\"\n",
              "[3] \"/content/groudTruth_labels/test_labels/1546_nwi_ccap_filled_utm4.tif\"\n",
              "[4] \"/content/groudTruth_labels/test_labels/1557_nwi_ccap_filled_utm4.tif\"\n",
              "[5] \"/content/groudTruth_labels/test_labels/2118_nwi_ccap_filled_utm4.tif\"\n",
              "[6] \"/content/groudTruth_labels/test_labels/2355_nwi_ccap_filled_utm4.tif\"\n",
              "[7] \"/content/groudTruth_labels/test_labels/823_nwi_ccap_filled_utm4.tif\" "
            ]
          },
          "metadata": {}
        }
      ]
    },
    {
      "cell_type": "code",
      "source": [
        "groudTruth_raster_list <- groudTruth_file_list[1] %>% lapply(stack)"
      ],
      "metadata": {
        "id": "5LsAhrtCflbl"
      },
      "execution_count": 33,
      "outputs": []
    },
    {
      "cell_type": "code",
      "source": [
        "groudTruth_raster_list"
      ],
      "metadata": {
        "id": "rJ3b1m7ifm64",
        "outputId": "fa86bc7c-4bfd-4a3e-f4ef-aca548a9663c",
        "colab": {
          "base_uri": "https://localhost:8080/",
          "height": 191
        }
      },
      "execution_count": 66,
      "outputs": [
        {
          "output_type": "display_data",
          "data": {
            "text/plain": [
              "[[1]]\n",
              "class      : RasterStack \n",
              "dimensions : 384, 384, 147456, 1  (nrow, ncol, ncell, nlayers)\n",
              "resolution : 1, 1  (x, y)\n",
              "extent     : 628182, 628566, 2365605, 2365989  (xmin, xmax, ymin, ymax)\n",
              "crs        : +proj=utm +zone=4 +datum=NAD83 +units=m +no_defs \n",
              "names      : X1530_nwi_ccap_filled_utm4 \n",
              "min values :                          3 \n",
              "max values :                         11 \n",
              "\n"
            ]
          },
          "metadata": {}
        }
      ]
    },
    {
      "cell_type": "code",
      "source": [
        "val_dt <- data.table(truth = values(groudTruth_raster_list[[1]]),prediction = values(oneYear_raster_list[[1]]))"
      ],
      "metadata": {
        "id": "XVEu13YOf6LR"
      },
      "execution_count": 67,
      "outputs": []
    },
    {
      "cell_type": "code",
      "source": [
        "val_dt"
      ],
      "metadata": {
        "id": "P9BQgvg2ga0z",
        "outputId": "a3e4ff34-5cde-4a0b-95dc-ab94a3ac6068",
        "colab": {
          "base_uri": "https://localhost:8080/",
          "height": 1000
        }
      },
      "execution_count": 68,
      "outputs": [
        {
          "output_type": "display_data",
          "data": {
            "text/html": [
              "<table class=\"dataframe\">\n",
              "<caption>A data.table: 147456 × 2</caption>\n",
              "<thead>\n",
              "\t<tr><th scope=col>truth.X1530_nwi_ccap_filled_utm4</th><th scope=col>prediction.epoch_41_1530_planet_stack_utm4</th></tr>\n",
              "\t<tr><th scope=col>&lt;dbl&gt;</th><th scope=col>&lt;dbl&gt;</th></tr>\n",
              "</thead>\n",
              "<tbody>\n",
              "\t<tr><td>10</td><td>10</td></tr>\n",
              "\t<tr><td>10</td><td>10</td></tr>\n",
              "\t<tr><td>10</td><td>10</td></tr>\n",
              "\t<tr><td>10</td><td>10</td></tr>\n",
              "\t<tr><td>10</td><td>10</td></tr>\n",
              "\t<tr><td>10</td><td>10</td></tr>\n",
              "\t<tr><td>10</td><td>10</td></tr>\n",
              "\t<tr><td>10</td><td>10</td></tr>\n",
              "\t<tr><td>10</td><td>10</td></tr>\n",
              "\t<tr><td>10</td><td>10</td></tr>\n",
              "\t<tr><td>10</td><td>10</td></tr>\n",
              "\t<tr><td>10</td><td>10</td></tr>\n",
              "\t<tr><td>10</td><td>10</td></tr>\n",
              "\t<tr><td>10</td><td>10</td></tr>\n",
              "\t<tr><td>10</td><td>10</td></tr>\n",
              "\t<tr><td>10</td><td>10</td></tr>\n",
              "\t<tr><td>10</td><td>10</td></tr>\n",
              "\t<tr><td>10</td><td>10</td></tr>\n",
              "\t<tr><td>10</td><td>10</td></tr>\n",
              "\t<tr><td>10</td><td>10</td></tr>\n",
              "\t<tr><td>10</td><td>10</td></tr>\n",
              "\t<tr><td>10</td><td>10</td></tr>\n",
              "\t<tr><td>10</td><td>10</td></tr>\n",
              "\t<tr><td>10</td><td>10</td></tr>\n",
              "\t<tr><td>10</td><td>10</td></tr>\n",
              "\t<tr><td>10</td><td>10</td></tr>\n",
              "\t<tr><td>10</td><td>10</td></tr>\n",
              "\t<tr><td>10</td><td>10</td></tr>\n",
              "\t<tr><td>10</td><td>10</td></tr>\n",
              "\t<tr><td>10</td><td>10</td></tr>\n",
              "\t<tr><td>⋮</td><td>⋮</td></tr>\n",
              "\t<tr><td>5</td><td>10</td></tr>\n",
              "\t<tr><td>5</td><td>10</td></tr>\n",
              "\t<tr><td>5</td><td>10</td></tr>\n",
              "\t<tr><td>5</td><td>10</td></tr>\n",
              "\t<tr><td>5</td><td>10</td></tr>\n",
              "\t<tr><td>5</td><td>10</td></tr>\n",
              "\t<tr><td>5</td><td>10</td></tr>\n",
              "\t<tr><td>5</td><td>10</td></tr>\n",
              "\t<tr><td>5</td><td>10</td></tr>\n",
              "\t<tr><td>5</td><td>10</td></tr>\n",
              "\t<tr><td>5</td><td>10</td></tr>\n",
              "\t<tr><td>5</td><td>10</td></tr>\n",
              "\t<tr><td>5</td><td>10</td></tr>\n",
              "\t<tr><td>5</td><td>10</td></tr>\n",
              "\t<tr><td>5</td><td>10</td></tr>\n",
              "\t<tr><td>5</td><td>10</td></tr>\n",
              "\t<tr><td>5</td><td>10</td></tr>\n",
              "\t<tr><td>5</td><td>10</td></tr>\n",
              "\t<tr><td>5</td><td>10</td></tr>\n",
              "\t<tr><td>5</td><td>10</td></tr>\n",
              "\t<tr><td>5</td><td>10</td></tr>\n",
              "\t<tr><td>5</td><td>10</td></tr>\n",
              "\t<tr><td>5</td><td>10</td></tr>\n",
              "\t<tr><td>5</td><td>10</td></tr>\n",
              "\t<tr><td>5</td><td>10</td></tr>\n",
              "\t<tr><td>5</td><td>10</td></tr>\n",
              "\t<tr><td>5</td><td>10</td></tr>\n",
              "\t<tr><td>5</td><td>10</td></tr>\n",
              "\t<tr><td>5</td><td>10</td></tr>\n",
              "\t<tr><td>5</td><td>10</td></tr>\n",
              "</tbody>\n",
              "</table>\n"
            ],
            "text/markdown": "\nA data.table: 147456 × 2\n\n| truth.X1530_nwi_ccap_filled_utm4 &lt;dbl&gt; | prediction.epoch_41_1530_planet_stack_utm4 &lt;dbl&gt; |\n|---|---|\n| 10 | 10 |\n| 10 | 10 |\n| 10 | 10 |\n| 10 | 10 |\n| 10 | 10 |\n| 10 | 10 |\n| 10 | 10 |\n| 10 | 10 |\n| 10 | 10 |\n| 10 | 10 |\n| 10 | 10 |\n| 10 | 10 |\n| 10 | 10 |\n| 10 | 10 |\n| 10 | 10 |\n| 10 | 10 |\n| 10 | 10 |\n| 10 | 10 |\n| 10 | 10 |\n| 10 | 10 |\n| 10 | 10 |\n| 10 | 10 |\n| 10 | 10 |\n| 10 | 10 |\n| 10 | 10 |\n| 10 | 10 |\n| 10 | 10 |\n| 10 | 10 |\n| 10 | 10 |\n| 10 | 10 |\n| ⋮ | ⋮ |\n| 5 | 10 |\n| 5 | 10 |\n| 5 | 10 |\n| 5 | 10 |\n| 5 | 10 |\n| 5 | 10 |\n| 5 | 10 |\n| 5 | 10 |\n| 5 | 10 |\n| 5 | 10 |\n| 5 | 10 |\n| 5 | 10 |\n| 5 | 10 |\n| 5 | 10 |\n| 5 | 10 |\n| 5 | 10 |\n| 5 | 10 |\n| 5 | 10 |\n| 5 | 10 |\n| 5 | 10 |\n| 5 | 10 |\n| 5 | 10 |\n| 5 | 10 |\n| 5 | 10 |\n| 5 | 10 |\n| 5 | 10 |\n| 5 | 10 |\n| 5 | 10 |\n| 5 | 10 |\n| 5 | 10 |\n\n",
            "text/latex": "A data.table: 147456 × 2\n\\begin{tabular}{ll}\n truth.X1530\\_nwi\\_ccap\\_filled\\_utm4 & prediction.epoch\\_41\\_1530\\_planet\\_stack\\_utm4\\\\\n <dbl> & <dbl>\\\\\n\\hline\n\t 10 & 10\\\\\n\t 10 & 10\\\\\n\t 10 & 10\\\\\n\t 10 & 10\\\\\n\t 10 & 10\\\\\n\t 10 & 10\\\\\n\t 10 & 10\\\\\n\t 10 & 10\\\\\n\t 10 & 10\\\\\n\t 10 & 10\\\\\n\t 10 & 10\\\\\n\t 10 & 10\\\\\n\t 10 & 10\\\\\n\t 10 & 10\\\\\n\t 10 & 10\\\\\n\t 10 & 10\\\\\n\t 10 & 10\\\\\n\t 10 & 10\\\\\n\t 10 & 10\\\\\n\t 10 & 10\\\\\n\t 10 & 10\\\\\n\t 10 & 10\\\\\n\t 10 & 10\\\\\n\t 10 & 10\\\\\n\t 10 & 10\\\\\n\t 10 & 10\\\\\n\t 10 & 10\\\\\n\t 10 & 10\\\\\n\t 10 & 10\\\\\n\t 10 & 10\\\\\n\t ⋮ & ⋮\\\\\n\t 5 & 10\\\\\n\t 5 & 10\\\\\n\t 5 & 10\\\\\n\t 5 & 10\\\\\n\t 5 & 10\\\\\n\t 5 & 10\\\\\n\t 5 & 10\\\\\n\t 5 & 10\\\\\n\t 5 & 10\\\\\n\t 5 & 10\\\\\n\t 5 & 10\\\\\n\t 5 & 10\\\\\n\t 5 & 10\\\\\n\t 5 & 10\\\\\n\t 5 & 10\\\\\n\t 5 & 10\\\\\n\t 5 & 10\\\\\n\t 5 & 10\\\\\n\t 5 & 10\\\\\n\t 5 & 10\\\\\n\t 5 & 10\\\\\n\t 5 & 10\\\\\n\t 5 & 10\\\\\n\t 5 & 10\\\\\n\t 5 & 10\\\\\n\t 5 & 10\\\\\n\t 5 & 10\\\\\n\t 5 & 10\\\\\n\t 5 & 10\\\\\n\t 5 & 10\\\\\n\\end{tabular}\n",
            "text/plain": [
              "       truth.X1530_nwi_ccap_filled_utm4\n",
              "1      10                              \n",
              "2      10                              \n",
              "3      10                              \n",
              "4      10                              \n",
              "5      10                              \n",
              "6      10                              \n",
              "7      10                              \n",
              "8      10                              \n",
              "9      10                              \n",
              "10     10                              \n",
              "11     10                              \n",
              "12     10                              \n",
              "13     10                              \n",
              "14     10                              \n",
              "15     10                              \n",
              "16     10                              \n",
              "17     10                              \n",
              "18     10                              \n",
              "19     10                              \n",
              "20     10                              \n",
              "21     10                              \n",
              "22     10                              \n",
              "23     10                              \n",
              "24     10                              \n",
              "25     10                              \n",
              "26     10                              \n",
              "27     10                              \n",
              "28     10                              \n",
              "29     10                              \n",
              "30     10                              \n",
              "⋮      ⋮                               \n",
              "147427 5                               \n",
              "147428 5                               \n",
              "147429 5                               \n",
              "147430 5                               \n",
              "147431 5                               \n",
              "147432 5                               \n",
              "147433 5                               \n",
              "147434 5                               \n",
              "147435 5                               \n",
              "147436 5                               \n",
              "147437 5                               \n",
              "147438 5                               \n",
              "147439 5                               \n",
              "147440 5                               \n",
              "147441 5                               \n",
              "147442 5                               \n",
              "147443 5                               \n",
              "147444 5                               \n",
              "147445 5                               \n",
              "147446 5                               \n",
              "147447 5                               \n",
              "147448 5                               \n",
              "147449 5                               \n",
              "147450 5                               \n",
              "147451 5                               \n",
              "147452 5                               \n",
              "147453 5                               \n",
              "147454 5                               \n",
              "147455 5                               \n",
              "147456 5                               \n",
              "       prediction.epoch_41_1530_planet_stack_utm4\n",
              "1      10                                        \n",
              "2      10                                        \n",
              "3      10                                        \n",
              "4      10                                        \n",
              "5      10                                        \n",
              "6      10                                        \n",
              "7      10                                        \n",
              "8      10                                        \n",
              "9      10                                        \n",
              "10     10                                        \n",
              "11     10                                        \n",
              "12     10                                        \n",
              "13     10                                        \n",
              "14     10                                        \n",
              "15     10                                        \n",
              "16     10                                        \n",
              "17     10                                        \n",
              "18     10                                        \n",
              "19     10                                        \n",
              "20     10                                        \n",
              "21     10                                        \n",
              "22     10                                        \n",
              "23     10                                        \n",
              "24     10                                        \n",
              "25     10                                        \n",
              "26     10                                        \n",
              "27     10                                        \n",
              "28     10                                        \n",
              "29     10                                        \n",
              "30     10                                        \n",
              "⋮      ⋮                                         \n",
              "147427 10                                        \n",
              "147428 10                                        \n",
              "147429 10                                        \n",
              "147430 10                                        \n",
              "147431 10                                        \n",
              "147432 10                                        \n",
              "147433 10                                        \n",
              "147434 10                                        \n",
              "147435 10                                        \n",
              "147436 10                                        \n",
              "147437 10                                        \n",
              "147438 10                                        \n",
              "147439 10                                        \n",
              "147440 10                                        \n",
              "147441 10                                        \n",
              "147442 10                                        \n",
              "147443 10                                        \n",
              "147444 10                                        \n",
              "147445 10                                        \n",
              "147446 10                                        \n",
              "147447 10                                        \n",
              "147448 10                                        \n",
              "147449 10                                        \n",
              "147450 10                                        \n",
              "147451 10                                        \n",
              "147452 10                                        \n",
              "147453 10                                        \n",
              "147454 10                                        \n",
              "147455 10                                        \n",
              "147456 10                                        "
            ]
          },
          "metadata": {}
        }
      ]
    },
    {
      "cell_type": "code",
      "source": [
        "confus_dt <- confusionMatrix(val_dt$truth %>% factor(levels = 0:12), val_dt$prediction %>% factor(levels = 0:12))"
      ],
      "metadata": {
        "id": "9oYSaj9QgV9m"
      },
      "execution_count": 69,
      "outputs": []
    },
    {
      "cell_type": "code",
      "source": [
        "confus_dt"
      ],
      "metadata": {
        "id": "TZk4b5I1F2nI",
        "outputId": "8d33edad-c9c1-4766-fc50-ba748a4b7dd0",
        "colab": {
          "base_uri": "https://localhost:8080/",
          "height": 1000
        }
      },
      "execution_count": 70,
      "outputs": [
        {
          "output_type": "display_data",
          "data": {
            "text/plain": [
              "Confusion Matrix and Statistics\n",
              "\n",
              "          Reference\n",
              "Prediction     0     1     2     3     4     5     6     7     8     9    10\n",
              "        0      0     0     0     0     0     0     0     0     0     0     0\n",
              "        1      0     0     0     0     0     0     0     0     0     0     0\n",
              "        2      0     0     0     0     0     0     0     0     0     0     0\n",
              "        3      0 53118     0     0     0     0     0   194     0     0 15189\n",
              "        4      0     0     0     0     0     0     0     0     0     0     0\n",
              "        5      0  7393     0     0     0     0     0     0     0     0  9033\n",
              "        6      0   781     0     0     0     0     0     0     0     0  3175\n",
              "        7      0     0     0     0     0     0     0     0     0     0     0\n",
              "        8      0   202     0     0     0     0     0    18     0     0   928\n",
              "        9      0     0     0     0     0     0     0     0     0     0     0\n",
              "        10     0 21775     0     0     0     0     0   720     0     0 31003\n",
              "        11     0   305     0     0     0     0     0     0     0     0  3622\n",
              "        12     0     0     0     0     0     0     0     0     0     0     0\n",
              "          Reference\n",
              "Prediction    11    12\n",
              "        0      0     0\n",
              "        1      0     0\n",
              "        2      0     0\n",
              "        3      0     0\n",
              "        4      0     0\n",
              "        5      0     0\n",
              "        6      0     0\n",
              "        7      0     0\n",
              "        8      0     0\n",
              "        9      0     0\n",
              "        10     0     0\n",
              "        11     0     0\n",
              "        12     0     0\n",
              "\n",
              "Overall Statistics\n",
              "                                          \n",
              "               Accuracy : 0.2103          \n",
              "                 95% CI : (0.2082, 0.2123)\n",
              "    No Information Rate : 0.5668          \n",
              "    P-Value [Acc > NIR] : 1               \n",
              "                                          \n",
              "                  Kappa : 0.0655          \n",
              "                                          \n",
              " Mcnemar's Test P-Value : NA              \n",
              "\n",
              "Statistics by Class:\n",
              "\n",
              "                     Class: 0 Class: 1 Class: 2 Class: 3 Class: 4 Class: 5\n",
              "Sensitivity                NA   0.0000       NA       NA       NA       NA\n",
              "Specificity                 1   1.0000        1   0.5354        1   0.8886\n",
              "Pos Pred Value             NA      NaN       NA       NA       NA       NA\n",
              "Neg Pred Value             NA   0.4332       NA       NA       NA       NA\n",
              "Prevalence                  0   0.5668        0   0.0000        0   0.0000\n",
              "Detection Rate              0   0.0000        0   0.0000        0   0.0000\n",
              "Detection Prevalence        0   0.0000        0   0.4646        0   0.1114\n",
              "Balanced Accuracy          NA   0.5000       NA       NA       NA       NA\n",
              "                     Class: 6 Class: 7 Class: 8 Class: 9 Class: 10 Class: 11\n",
              "Sensitivity                NA 0.000000       NA       NA    0.4925        NA\n",
              "Specificity           0.97317 1.000000 0.992215        1    0.7338   0.97337\n",
              "Pos Pred Value             NA      NaN       NA       NA    0.5795        NA\n",
              "Neg Pred Value             NA 0.993679       NA       NA    0.6600        NA\n",
              "Prevalence            0.00000 0.006321 0.000000        0    0.4269   0.00000\n",
              "Detection Rate        0.00000 0.000000 0.000000        0    0.2103   0.00000\n",
              "Detection Prevalence  0.02683 0.000000 0.007785        0    0.3628   0.02663\n",
              "Balanced Accuracy          NA 0.500000       NA       NA    0.6132        NA\n",
              "                     Class: 12\n",
              "Sensitivity                 NA\n",
              "Specificity                  1\n",
              "Pos Pred Value              NA\n",
              "Neg Pred Value              NA\n",
              "Prevalence                   0\n",
              "Detection Rate               0\n",
              "Detection Prevalence         0\n",
              "Balanced Accuracy           NA"
            ]
          },
          "metadata": {}
        }
      ]
    },
    {
      "cell_type": "code",
      "source": [
        "confusion_df <- data.frame(confusion_dt$table)"
      ],
      "metadata": {
        "id": "ekuky5VWGDc5"
      },
      "execution_count": 80,
      "outputs": []
    },
    {
      "cell_type": "code",
      "source": [
        "confusion_df"
      ],
      "metadata": {
        "id": "WebuYR6MGIx9",
        "outputId": "45c459db-fb73-4f25-f229-4f2d87835258",
        "colab": {
          "base_uri": "https://localhost:8080/",
          "height": 1000
        }
      },
      "execution_count": 81,
      "outputs": [
        {
          "output_type": "display_data",
          "data": {
            "text/html": [
              "<table class=\"dataframe\">\n",
              "<caption>A data.frame: 169 × 3</caption>\n",
              "<thead>\n",
              "\t<tr><th scope=col>Prediction</th><th scope=col>Reference</th><th scope=col>Freq</th></tr>\n",
              "\t<tr><th scope=col>&lt;fct&gt;</th><th scope=col>&lt;fct&gt;</th><th scope=col>&lt;int&gt;</th></tr>\n",
              "</thead>\n",
              "<tbody>\n",
              "\t<tr><td>0 </td><td>0</td><td>    0</td></tr>\n",
              "\t<tr><td>1 </td><td>0</td><td>    0</td></tr>\n",
              "\t<tr><td>2 </td><td>0</td><td>    0</td></tr>\n",
              "\t<tr><td>3 </td><td>0</td><td>    0</td></tr>\n",
              "\t<tr><td>4 </td><td>0</td><td>    0</td></tr>\n",
              "\t<tr><td>5 </td><td>0</td><td>    0</td></tr>\n",
              "\t<tr><td>6 </td><td>0</td><td>    0</td></tr>\n",
              "\t<tr><td>7 </td><td>0</td><td>    0</td></tr>\n",
              "\t<tr><td>8 </td><td>0</td><td>    0</td></tr>\n",
              "\t<tr><td>9 </td><td>0</td><td>    0</td></tr>\n",
              "\t<tr><td>10</td><td>0</td><td>    0</td></tr>\n",
              "\t<tr><td>11</td><td>0</td><td>    0</td></tr>\n",
              "\t<tr><td>12</td><td>0</td><td>    0</td></tr>\n",
              "\t<tr><td>0 </td><td>1</td><td>    0</td></tr>\n",
              "\t<tr><td>1 </td><td>1</td><td>    0</td></tr>\n",
              "\t<tr><td>2 </td><td>1</td><td>    0</td></tr>\n",
              "\t<tr><td>3 </td><td>1</td><td>53118</td></tr>\n",
              "\t<tr><td>4 </td><td>1</td><td>    0</td></tr>\n",
              "\t<tr><td>5 </td><td>1</td><td> 7393</td></tr>\n",
              "\t<tr><td>6 </td><td>1</td><td>  781</td></tr>\n",
              "\t<tr><td>7 </td><td>1</td><td>    0</td></tr>\n",
              "\t<tr><td>8 </td><td>1</td><td>  202</td></tr>\n",
              "\t<tr><td>9 </td><td>1</td><td>    0</td></tr>\n",
              "\t<tr><td>10</td><td>1</td><td>21775</td></tr>\n",
              "\t<tr><td>11</td><td>1</td><td>  305</td></tr>\n",
              "\t<tr><td>12</td><td>1</td><td>    0</td></tr>\n",
              "\t<tr><td>0 </td><td>2</td><td>    0</td></tr>\n",
              "\t<tr><td>1 </td><td>2</td><td>    0</td></tr>\n",
              "\t<tr><td>2 </td><td>2</td><td>    0</td></tr>\n",
              "\t<tr><td>3 </td><td>2</td><td>    0</td></tr>\n",
              "\t<tr><td>⋮</td><td>⋮</td><td>⋮</td></tr>\n",
              "\t<tr><td>9 </td><td>10</td><td>    0</td></tr>\n",
              "\t<tr><td>10</td><td>10</td><td>31003</td></tr>\n",
              "\t<tr><td>11</td><td>10</td><td> 3622</td></tr>\n",
              "\t<tr><td>12</td><td>10</td><td>    0</td></tr>\n",
              "\t<tr><td>0 </td><td>11</td><td>    0</td></tr>\n",
              "\t<tr><td>1 </td><td>11</td><td>    0</td></tr>\n",
              "\t<tr><td>2 </td><td>11</td><td>    0</td></tr>\n",
              "\t<tr><td>3 </td><td>11</td><td>    0</td></tr>\n",
              "\t<tr><td>4 </td><td>11</td><td>    0</td></tr>\n",
              "\t<tr><td>5 </td><td>11</td><td>    0</td></tr>\n",
              "\t<tr><td>6 </td><td>11</td><td>    0</td></tr>\n",
              "\t<tr><td>7 </td><td>11</td><td>    0</td></tr>\n",
              "\t<tr><td>8 </td><td>11</td><td>    0</td></tr>\n",
              "\t<tr><td>9 </td><td>11</td><td>    0</td></tr>\n",
              "\t<tr><td>10</td><td>11</td><td>    0</td></tr>\n",
              "\t<tr><td>11</td><td>11</td><td>    0</td></tr>\n",
              "\t<tr><td>12</td><td>11</td><td>    0</td></tr>\n",
              "\t<tr><td>0 </td><td>12</td><td>    0</td></tr>\n",
              "\t<tr><td>1 </td><td>12</td><td>    0</td></tr>\n",
              "\t<tr><td>2 </td><td>12</td><td>    0</td></tr>\n",
              "\t<tr><td>3 </td><td>12</td><td>    0</td></tr>\n",
              "\t<tr><td>4 </td><td>12</td><td>    0</td></tr>\n",
              "\t<tr><td>5 </td><td>12</td><td>    0</td></tr>\n",
              "\t<tr><td>6 </td><td>12</td><td>    0</td></tr>\n",
              "\t<tr><td>7 </td><td>12</td><td>    0</td></tr>\n",
              "\t<tr><td>8 </td><td>12</td><td>    0</td></tr>\n",
              "\t<tr><td>9 </td><td>12</td><td>    0</td></tr>\n",
              "\t<tr><td>10</td><td>12</td><td>    0</td></tr>\n",
              "\t<tr><td>11</td><td>12</td><td>    0</td></tr>\n",
              "\t<tr><td>12</td><td>12</td><td>    0</td></tr>\n",
              "</tbody>\n",
              "</table>\n"
            ],
            "text/markdown": "\nA data.frame: 169 × 3\n\n| Prediction &lt;fct&gt; | Reference &lt;fct&gt; | Freq &lt;int&gt; |\n|---|---|---|\n| 0  | 0 |     0 |\n| 1  | 0 |     0 |\n| 2  | 0 |     0 |\n| 3  | 0 |     0 |\n| 4  | 0 |     0 |\n| 5  | 0 |     0 |\n| 6  | 0 |     0 |\n| 7  | 0 |     0 |\n| 8  | 0 |     0 |\n| 9  | 0 |     0 |\n| 10 | 0 |     0 |\n| 11 | 0 |     0 |\n| 12 | 0 |     0 |\n| 0  | 1 |     0 |\n| 1  | 1 |     0 |\n| 2  | 1 |     0 |\n| 3  | 1 | 53118 |\n| 4  | 1 |     0 |\n| 5  | 1 |  7393 |\n| 6  | 1 |   781 |\n| 7  | 1 |     0 |\n| 8  | 1 |   202 |\n| 9  | 1 |     0 |\n| 10 | 1 | 21775 |\n| 11 | 1 |   305 |\n| 12 | 1 |     0 |\n| 0  | 2 |     0 |\n| 1  | 2 |     0 |\n| 2  | 2 |     0 |\n| 3  | 2 |     0 |\n| ⋮ | ⋮ | ⋮ |\n| 9  | 10 |     0 |\n| 10 | 10 | 31003 |\n| 11 | 10 |  3622 |\n| 12 | 10 |     0 |\n| 0  | 11 |     0 |\n| 1  | 11 |     0 |\n| 2  | 11 |     0 |\n| 3  | 11 |     0 |\n| 4  | 11 |     0 |\n| 5  | 11 |     0 |\n| 6  | 11 |     0 |\n| 7  | 11 |     0 |\n| 8  | 11 |     0 |\n| 9  | 11 |     0 |\n| 10 | 11 |     0 |\n| 11 | 11 |     0 |\n| 12 | 11 |     0 |\n| 0  | 12 |     0 |\n| 1  | 12 |     0 |\n| 2  | 12 |     0 |\n| 3  | 12 |     0 |\n| 4  | 12 |     0 |\n| 5  | 12 |     0 |\n| 6  | 12 |     0 |\n| 7  | 12 |     0 |\n| 8  | 12 |     0 |\n| 9  | 12 |     0 |\n| 10 | 12 |     0 |\n| 11 | 12 |     0 |\n| 12 | 12 |     0 |\n\n",
            "text/latex": "A data.frame: 169 × 3\n\\begin{tabular}{lll}\n Prediction & Reference & Freq\\\\\n <fct> & <fct> & <int>\\\\\n\\hline\n\t 0  & 0 &     0\\\\\n\t 1  & 0 &     0\\\\\n\t 2  & 0 &     0\\\\\n\t 3  & 0 &     0\\\\\n\t 4  & 0 &     0\\\\\n\t 5  & 0 &     0\\\\\n\t 6  & 0 &     0\\\\\n\t 7  & 0 &     0\\\\\n\t 8  & 0 &     0\\\\\n\t 9  & 0 &     0\\\\\n\t 10 & 0 &     0\\\\\n\t 11 & 0 &     0\\\\\n\t 12 & 0 &     0\\\\\n\t 0  & 1 &     0\\\\\n\t 1  & 1 &     0\\\\\n\t 2  & 1 &     0\\\\\n\t 3  & 1 & 53118\\\\\n\t 4  & 1 &     0\\\\\n\t 5  & 1 &  7393\\\\\n\t 6  & 1 &   781\\\\\n\t 7  & 1 &     0\\\\\n\t 8  & 1 &   202\\\\\n\t 9  & 1 &     0\\\\\n\t 10 & 1 & 21775\\\\\n\t 11 & 1 &   305\\\\\n\t 12 & 1 &     0\\\\\n\t 0  & 2 &     0\\\\\n\t 1  & 2 &     0\\\\\n\t 2  & 2 &     0\\\\\n\t 3  & 2 &     0\\\\\n\t ⋮ & ⋮ & ⋮\\\\\n\t 9  & 10 &     0\\\\\n\t 10 & 10 & 31003\\\\\n\t 11 & 10 &  3622\\\\\n\t 12 & 10 &     0\\\\\n\t 0  & 11 &     0\\\\\n\t 1  & 11 &     0\\\\\n\t 2  & 11 &     0\\\\\n\t 3  & 11 &     0\\\\\n\t 4  & 11 &     0\\\\\n\t 5  & 11 &     0\\\\\n\t 6  & 11 &     0\\\\\n\t 7  & 11 &     0\\\\\n\t 8  & 11 &     0\\\\\n\t 9  & 11 &     0\\\\\n\t 10 & 11 &     0\\\\\n\t 11 & 11 &     0\\\\\n\t 12 & 11 &     0\\\\\n\t 0  & 12 &     0\\\\\n\t 1  & 12 &     0\\\\\n\t 2  & 12 &     0\\\\\n\t 3  & 12 &     0\\\\\n\t 4  & 12 &     0\\\\\n\t 5  & 12 &     0\\\\\n\t 6  & 12 &     0\\\\\n\t 7  & 12 &     0\\\\\n\t 8  & 12 &     0\\\\\n\t 9  & 12 &     0\\\\\n\t 10 & 12 &     0\\\\\n\t 11 & 12 &     0\\\\\n\t 12 & 12 &     0\\\\\n\\end{tabular}\n",
            "text/plain": [
              "    Prediction Reference Freq \n",
              "1   0          0             0\n",
              "2   1          0             0\n",
              "3   2          0             0\n",
              "4   3          0             0\n",
              "5   4          0             0\n",
              "6   5          0             0\n",
              "7   6          0             0\n",
              "8   7          0             0\n",
              "9   8          0             0\n",
              "10  9          0             0\n",
              "11  10         0             0\n",
              "12  11         0             0\n",
              "13  12         0             0\n",
              "14  0          1             0\n",
              "15  1          1             0\n",
              "16  2          1             0\n",
              "17  3          1         53118\n",
              "18  4          1             0\n",
              "19  5          1          7393\n",
              "20  6          1           781\n",
              "21  7          1             0\n",
              "22  8          1           202\n",
              "23  9          1             0\n",
              "24  10         1         21775\n",
              "25  11         1           305\n",
              "26  12         1             0\n",
              "27  0          2             0\n",
              "28  1          2             0\n",
              "29  2          2             0\n",
              "30  3          2             0\n",
              "⋮   ⋮          ⋮         ⋮    \n",
              "140 9          10            0\n",
              "141 10         10        31003\n",
              "142 11         10         3622\n",
              "143 12         10            0\n",
              "144 0          11            0\n",
              "145 1          11            0\n",
              "146 2          11            0\n",
              "147 3          11            0\n",
              "148 4          11            0\n",
              "149 5          11            0\n",
              "150 6          11            0\n",
              "151 7          11            0\n",
              "152 8          11            0\n",
              "153 9          11            0\n",
              "154 10         11            0\n",
              "155 11         11            0\n",
              "156 12         11            0\n",
              "157 0          12            0\n",
              "158 1          12            0\n",
              "159 2          12            0\n",
              "160 3          12            0\n",
              "161 4          12            0\n",
              "162 5          12            0\n",
              "163 6          12            0\n",
              "164 7          12            0\n",
              "165 8          12            0\n",
              "166 9          12            0\n",
              "167 10         12            0\n",
              "168 11         12            0\n",
              "169 12         12            0"
            ]
          },
          "metadata": {}
        }
      ]
    },
    {
      "cell_type": "code",
      "source": [
        "ggplot(data = confusion_df, aes(x = Reference, y = Prediction, fill = Freq))"
      ],
      "metadata": {
        "id": "ET1jsZayF95L",
        "outputId": "fc824593-9c1c-4d49-c0f7-c46b15b4914b",
        "colab": {
          "base_uri": "https://localhost:8080/",
          "height": 437
        }
      },
      "execution_count": 84,
      "outputs": [
        {
          "output_type": "display_data",
          "data": {
            "text/plain": [
              "plot without title"
            ],
            "image/png": "[encoded data removed]"
          },
          "metadata": {
            "image/png": {
              "width": 420,
              "height": 420
            }
          }
        }
      ]
    },
    {
      "cell_type": "code",
      "source": [
        "# byClass_dt <- confusion_dt$byClass %>% data.table"
      ],
      "metadata": {
        "id": "x1QI7cqWhkNC"
      },
      "execution_count": 41,
      "outputs": []
    },
    {
      "cell_type": "code",
      "source": [
        "# byClass_dt"
      ],
      "metadata": {
        "id": "Kgvwo5YEDNFG"
      },
      "execution_count": null,
      "outputs": []
    },
    {
      "cell_type": "code",
      "source": [
        "# byClass_dt$Sensitivity %>% data.table"
      ],
      "metadata": {
        "id": "k6rEuH7UjCuB"
      },
      "execution_count": null,
      "outputs": []
    },
    {
      "cell_type": "code",
      "source": [
        "prettyConfused<-function(Actual,Predict,colors=c(\"white\",\"red4\",\"dodgerblue3\"),text.scl=5){\n",
        "  actual = as.data.frame(table(Actual))\n",
        "  names(actual) = c(\"Actual\",\"ActualFreq\")\n",
        "\n",
        "  #build confusion matrix\n",
        "  confusion = as.data.frame(table(Actual, Predict))\n",
        "  names(confusion) = c(\"Actual\",\"Predicted\",\"Freq\")\n",
        "\n",
        "  #calculate percentage of test cases based on actual frequency\n",
        "\n",
        "  confusion = merge(confusion, actual, by=c('Actual','Actual'))\n",
        "  confusion$Percent = confusion$Freq/confusion$ActualFreq*100\n",
        "  confusion$ColorScale<-confusion$Percent*-1\n",
        "  confusion[which(confusion$Actual==confusion$Predicted),]$ColorScale<-confusion[which(confusion$Actual==confusion$Predicted),]$ColorScale*-1\n",
        "  confusion$Label<-paste(round(confusion$Percent,0),\"%, n=\",confusion$Freq,sep=\"\")\n",
        "  tile <- ggplot() +\n",
        "    geom_tile(aes(x=Actual, y=Predicted,fill=ColorScale),data=confusion, color=\"black\",size=0.1) +\n",
        "    labs(x=\"Actual\",y=\"Predicted\")\n",
        "\n",
        "  tile = tile +\n",
        "        geom_text(aes(x=Actual,y=Predicted, label=Label),data=confusion, size=text.scl, colour=\"black\") +\n",
        "        scale_fill_gradient2(low=colors[2],high=colors[3],mid=colors[1],midpoint = 0,guide='none')\n",
        "}"
      ],
      "metadata": {
        "id": "-LwqOb8Ojerx"
      },
      "execution_count": null,
      "outputs": []
    }
  ]
}