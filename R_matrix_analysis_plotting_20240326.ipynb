{
  "nbformat": 4,
  "nbformat_minor": 0,
  "metadata": {
    "colab": {
      "provenance": [],
      "authorship_tag": "ABX9TyMHz3NhUKbFkLRvf3HbhNZ9",
      "include_colab_link": true
    },
    "kernelspec": {
      "name": "ir",
      "display_name": "R"
    },
    "language_info": {
      "name": "R"
    }
  },
  "cells": [
    {
      "cell_type": "markdown",
      "metadata": {
        "id": "view-in-github",
        "colab_type": "text"
      },
      "source": [
        "<a href=\"https://colab.research.google.com/github/MadmanMarble/Planet_U-NET/blob/main/R_matrix_analysis_plotting_20240326.ipynb\" target=\"_parent\"><img src=\"https://colab.research.google.com/assets/colab-badge.svg\" alt=\"Open In Colab\"/></a>"
      ]
    },
    {
      "cell_type": "code",
      "execution_count": 1,
      "metadata": {
        "colab": {
          "base_uri": "https://localhost:8080/"
        },
        "id": "7clP3kMKVAUh",
        "outputId": "e7ab8714-8295-4bae-aede-c3abdb7db819"
      },
      "outputs": [
        {
          "output_type": "stream",
          "name": "stderr",
          "text": [
            "Installing packages into ‘/usr/local/lib/R/site-library’\n",
            "(as ‘lib’ is unspecified)\n",
            "\n",
            "also installing the dependencies ‘proxy’, ‘e1071’, ‘sp’, ‘Rcpp’, ‘terra’, ‘classInt’, ‘s2’, ‘units’, ‘wk’, ‘RcppArmadillo’\n",
            "\n",
            "\n",
            "Installing package into ‘/usr/local/lib/R/site-library’\n",
            "(as ‘lib’ is unspecified)\n",
            "\n",
            "Installing package into ‘/usr/local/lib/R/site-library’\n",
            "(as ‘lib’ is unspecified)\n",
            "\n",
            "also installing the dependencies ‘httpuv’, ‘xtable’, ‘sourcetools’, ‘later’, ‘promises’, ‘shiny’, ‘downlit’, ‘htmlwidgets’, ‘miniUI’, ‘pkgdown’, ‘profvis’, ‘urlchecker’\n",
            "\n",
            "\n",
            "Downloading GitHub repo gearslaboratory/gdalUtils@HEAD\n",
            "\n"
          ]
        },
        {
          "output_type": "stream",
          "name": "stdout",
          "text": [
            "R.methodsS3 (NA -> 1.8.2 ) [CRAN]\n",
            "R.oo        (NA -> 1.26.0) [CRAN]\n",
            "iterators   (NA -> 1.0.14) [CRAN]\n",
            "R.utils     (NA -> 2.12.3) [CRAN]\n",
            "foreach     (NA -> 1.5.2 ) [CRAN]\n"
          ]
        },
        {
          "output_type": "stream",
          "name": "stderr",
          "text": [
            "Skipping 1 packages not available: rgdal\n",
            "\n",
            "Installing 6 packages: R.methodsS3, R.oo, iterators, rgdal, R.utils, foreach\n",
            "\n",
            "Installing packages into ‘/usr/local/lib/R/site-library’\n",
            "(as ‘lib’ is unspecified)\n",
            "\n",
            "Warning message:\n",
            "“package ‘rgdal’ is not available for this version of R\n",
            "\n",
            "A version of this package for your version of R might be available elsewhere,\n",
            "see the ideas at\n",
            "https://cran.r-project.org/doc/manuals/r-patched/R-admin.html#Installing-packages”\n"
          ]
        },
        {
          "output_type": "stream",
          "name": "stdout",
          "text": [
            "\u001b[36m──\u001b[39m \u001b[36mR CMD build\u001b[39m \u001b[36m─────────────────────────────────────────────────────────────────\u001b[39m\n",
            "* checking for file ‘/tmp/RtmpJ3sSiA/remotes10c6a2c1125/gearslaboratory-gdalUtils-8872aaf/DESCRIPTION’ ... OK\n",
            "* preparing ‘gdalUtils’:\n",
            "* checking DESCRIPTION meta-information ... OK\n",
            "* checking for LF line-endings in source and make files and shell scripts\n",
            "* checking for empty or unneeded directories\n",
            "* building ‘gdalUtils_2.0.3.2.tar.gz’\n",
            "\n"
          ]
        },
        {
          "output_type": "stream",
          "name": "stderr",
          "text": [
            "Installing package into ‘/usr/local/lib/R/site-library’\n",
            "(as ‘lib’ is unspecified)\n",
            "\n",
            "Warning message in i.p(...):\n",
            "“installation of package ‘/tmp/RtmpJ3sSiA/file10c787e6da2/gdalUtils_2.0.3.2.tar.gz’ had non-zero exit status”\n"
          ]
        }
      ],
      "source": [
        "install.packages(c('raster','sf','fasterize'))\n",
        "install.packages(\"googledrive\")\n",
        "install.packages(\"devtools\")\n",
        "\n",
        "devtools:::install_github(\"gearslaboratory/gdalUtils\")"
      ]
    },
    {
      "cell_type": "code",
      "source": [
        "library(googledrive)"
      ],
      "metadata": {
        "id": "rn4dWEbLdT1P"
      },
      "execution_count": 2,
      "outputs": []
    },
    {
      "cell_type": "code",
      "source": [
        "library(raster)"
      ],
      "metadata": {
        "colab": {
          "base_uri": "https://localhost:8080/"
        },
        "id": "AjqBvmU5eZJw",
        "outputId": "ee58ce48-0852-428c-d6bc-c03272f89c28"
      },
      "execution_count": 9,
      "outputs": [
        {
          "output_type": "stream",
          "name": "stderr",
          "text": [
            "Loading required package: sp\n",
            "\n"
          ]
        }
      ]
    },
    {
      "cell_type": "code",
      "source": [
        "library(magrittr)"
      ],
      "metadata": {
        "colab": {
          "base_uri": "https://localhost:8080/"
        },
        "id": "4zH4o6EJerjE",
        "outputId": "e23e758d-5922-4516-d539-b8d0f32f73a3"
      },
      "execution_count": 10,
      "outputs": [
        {
          "output_type": "stream",
          "name": "stderr",
          "text": [
            "\n",
            "Attaching package: ‘magrittr’\n",
            "\n",
            "\n",
            "The following object is masked from ‘package:raster’:\n",
            "\n",
            "    extract\n",
            "\n",
            "\n"
          ]
        }
      ]
    },
    {
      "cell_type": "code",
      "source": [
        "drive_auth(use_oob = TRUE, cache = FALSE)"
      ],
      "metadata": {
        "colab": {
          "base_uri": "https://localhost:8080/"
        },
        "id": "694O8nxPdVCl",
        "outputId": "493cbd0d-8cf2-4cef-eac4-f543826fe009"
      },
      "execution_count": 3,
      "outputs": [
        {
          "output_type": "stream",
          "name": "stderr",
          "text": [
            "Please point your browser to the following url: \n",
            "\n",
            "https://accounts.google.com/o/oauth2/v2/auth?client_id=603366585132-frjlouoa3s2ono25d2l9ukvhlsrlnr7k.apps.googleusercontent.com&scope=https%3A%2F%2Fwww.googleapis.com%2Fauth%2Fdrive%20https%3A%2F%2Fwww.googleapis.com%2Fauth%2Fuserinfo.email&redirect_uri=https%3A%2F%2Fwww.tidyverse.org%2Fgoogle-callback%2F&response_type=code&state=ab9ccb710e3b1c94c72874d8cbfbdc99&access_type=offline&prompt=consent\n",
            "\n"
          ]
        },
        {
          "name": "stdout",
          "output_type": "stream",
          "text": [
            "Enter authorization code: eyJjb2RlIjoiNC8wQWVhWVNIQjQzVlBWeWo0bjZlVWhBZFNlNmFUM2tIYmM3WkpWTUxfSkRKZ0dfd0lMLU0xaU1VMW5qQ3VJelZWR200STFyZyIsInN0YXRlIjoiYWI5Y2NiNzEwZTNiMWM5NGM3Mjg3NGQ4Y2JmYmRjOTkifQ==\n"
          ]
        }
      ]
    },
    {
      "cell_type": "code",
      "source": [
        "# https://drive.google.com/file/d/1tKj2X7NQELkArrQ8K8ptsk1YUi5QXs3c/view?usp=drive_link\n",
        "drive_download(file = as_id('1tKj2X7NQELkArrQ8K8ptsk1YUi5QXs3c'), path =  '/content/oneYear.zip', overwrite = TRUE)\n",
        "# one <- st_read('/content/oneYear.zip')"
      ],
      "metadata": {
        "colab": {
          "base_uri": "https://localhost:8080/"
        },
        "id": "bdJSnmzmdW5C",
        "outputId": "3e662d5c-1cb8-484b-ec5f-1412b7cf73b4"
      },
      "execution_count": 4,
      "outputs": [
        {
          "output_type": "stream",
          "name": "stderr",
          "text": [
            "File downloaded:\n",
            "\n",
            "• \u001b[36mmodel_03222023_1255-20240326T202803Z-001.zip\u001b[39m\n",
            "  \u001b[90m<id: 1tKj2X7NQELkArrQ8K8ptsk1YUi5QXs3c>\u001b[39m\n",
            "\n",
            "Saved locally as:\n",
            "\n",
            "• \u001b[34m/content/oneYear.zip\u001b[39m\n",
            "\n"
          ]
        }
      ]
    },
    {
      "cell_type": "code",
      "source": [
        "unzip(\"/content/oneYear.zip\", files = NULL, list = FALSE, overwrite = TRUE,\n",
        "      junkpaths = FALSE, exdir = \".\", unzip = \"internal\",\n",
        "      setTimes = FALSE)"
      ],
      "metadata": {
        "id": "bH08HKHIcEie"
      },
      "execution_count": 5,
      "outputs": []
    },
    {
      "cell_type": "code",
      "source": [
        "file_list <-list.files(\"/content/model_03222023_1255\", pattern = \"*.tif\", full.names = TRUE)"
      ],
      "metadata": {
        "id": "4USrQOaRd-_i"
      },
      "execution_count": 8,
      "outputs": []
    },
    {
      "cell_type": "code",
      "source": [
        "file_list[[50]]"
      ],
      "metadata": {
        "colab": {
          "base_uri": "https://localhost:8080/",
          "height": 34
        },
        "id": "2wM2Nm7_iMyw",
        "outputId": "677f3415-06af-4059-a4ae-b6d50c738f05"
      },
      "execution_count": 32,
      "outputs": [
        {
          "output_type": "display_data",
          "data": {
            "text/html": [
              "'/content/model_03222023_1255/epoch_41_1530_planet_stack_utm4.tif'"
            ],
            "text/markdown": "'/content/model_03222023_1255/epoch_41_1530_planet_stack_utm4.tif'",
            "text/latex": "'/content/model\\_03222023\\_1255/epoch\\_41\\_1530\\_planet\\_stack\\_utm4.tif'",
            "text/plain": [
              "[1] \"/content/model_03222023_1255/epoch_41_1530_planet_stack_utm4.tif\""
            ]
          },
          "metadata": {}
        }
      ]
    },
    {
      "cell_type": "code",
      "source": [
        "raster_list <- file_list[50] %>% lapply(stack)"
      ],
      "metadata": {
        "id": "xal5lDtIeQnb"
      },
      "execution_count": 34,
      "outputs": []
    },
    {
      "cell_type": "code",
      "source": [
        "raster_list"
      ],
      "metadata": {
        "colab": {
          "base_uri": "https://localhost:8080/",
          "height": 163
        },
        "id": "eeaL29ARiK23",
        "outputId": "aa431be6-684f-4297-9604-b969c312489c"
      },
      "execution_count": 35,
      "outputs": [
        {
          "output_type": "display_data",
          "data": {
            "text/plain": [
              "[[1]]\n",
              "class      : RasterStack \n",
              "dimensions : 384, 384, 147456, 1  (nrow, ncol, ncell, nlayers)\n",
              "resolution : 1, 1  (x, y)\n",
              "extent     : 628182, 628566, 2365605, 2365989  (xmin, xmax, ymin, ymax)\n",
              "crs        : +proj=utm +zone=4 +datum=NAD83 +units=m +no_defs \n",
              "names      : epoch_41_1530_planet_stack_utm4 \n",
              "\n"
            ]
          },
          "metadata": {}
        }
      ]
    },
    {
      "cell_type": "code",
      "source": [
        "unzip(\"/content/test_labels-20240326T203837Z-001.zip\", files = NULL, list = FALSE, overwrite = TRUE,\n",
        "      junkpaths = FALSE, exdir = \".\", unzip = \"internal\",\n",
        "      setTimes = FALSE)"
      ],
      "metadata": {
        "id": "W-IF9HRgexKu"
      },
      "execution_count": 36,
      "outputs": []
    },
    {
      "cell_type": "code",
      "source": [
        "labels_file_list <-list.files(\"/content/test_labels\", pattern = \"*.tif\", full.names = TRUE)"
      ],
      "metadata": {
        "id": "H_xDeAxAfY91"
      },
      "execution_count": 37,
      "outputs": []
    },
    {
      "cell_type": "code",
      "source": [
        "labels_file_list"
      ],
      "metadata": {
        "colab": {
          "base_uri": "https://localhost:8080/",
          "height": 69
        },
        "id": "FI0UluvZfebc",
        "outputId": "10fb0175-ac8a-446f-de92-65cdfe977245"
      },
      "execution_count": 38,
      "outputs": [
        {
          "output_type": "display_data",
          "data": {
            "text/html": [
              "<style>\n",
              ".list-inline {list-style: none; margin:0; padding: 0}\n",
              ".list-inline>li {display: inline-block}\n",
              ".list-inline>li:not(:last-child)::after {content: \"\\00b7\"; padding: 0 .5ex}\n",
              "</style>\n",
              "<ol class=list-inline><li>'/content/test_labels/1530_nwi_ccap_filled_utm4.tif'</li><li>'/content/test_labels/1532_nwi_ccap_filled_utm4.tif'</li><li>'/content/test_labels/1546_nwi_ccap_filled_utm4.tif'</li><li>'/content/test_labels/1557_nwi_ccap_filled_utm4.tif'</li><li>'/content/test_labels/2118_nwi_ccap_filled_utm4.tif'</li><li>'/content/test_labels/2355_nwi_ccap_filled_utm4.tif'</li><li>'/content/test_labels/823_nwi_ccap_filled_utm4.tif'</li></ol>\n"
            ],
            "text/markdown": "1. '/content/test_labels/1530_nwi_ccap_filled_utm4.tif'\n2. '/content/test_labels/1532_nwi_ccap_filled_utm4.tif'\n3. '/content/test_labels/1546_nwi_ccap_filled_utm4.tif'\n4. '/content/test_labels/1557_nwi_ccap_filled_utm4.tif'\n5. '/content/test_labels/2118_nwi_ccap_filled_utm4.tif'\n6. '/content/test_labels/2355_nwi_ccap_filled_utm4.tif'\n7. '/content/test_labels/823_nwi_ccap_filled_utm4.tif'\n\n\n",
            "text/latex": "\\begin{enumerate*}\n\\item '/content/test\\_labels/1530\\_nwi\\_ccap\\_filled\\_utm4.tif'\n\\item '/content/test\\_labels/1532\\_nwi\\_ccap\\_filled\\_utm4.tif'\n\\item '/content/test\\_labels/1546\\_nwi\\_ccap\\_filled\\_utm4.tif'\n\\item '/content/test\\_labels/1557\\_nwi\\_ccap\\_filled\\_utm4.tif'\n\\item '/content/test\\_labels/2118\\_nwi\\_ccap\\_filled\\_utm4.tif'\n\\item '/content/test\\_labels/2355\\_nwi\\_ccap\\_filled\\_utm4.tif'\n\\item '/content/test\\_labels/823\\_nwi\\_ccap\\_filled\\_utm4.tif'\n\\end{enumerate*}\n",
            "text/plain": [
              "[1] \"/content/test_labels/1530_nwi_ccap_filled_utm4.tif\"\n",
              "[2] \"/content/test_labels/1532_nwi_ccap_filled_utm4.tif\"\n",
              "[3] \"/content/test_labels/1546_nwi_ccap_filled_utm4.tif\"\n",
              "[4] \"/content/test_labels/1557_nwi_ccap_filled_utm4.tif\"\n",
              "[5] \"/content/test_labels/2118_nwi_ccap_filled_utm4.tif\"\n",
              "[6] \"/content/test_labels/2355_nwi_ccap_filled_utm4.tif\"\n",
              "[7] \"/content/test_labels/823_nwi_ccap_filled_utm4.tif\" "
            ]
          },
          "metadata": {}
        }
      ]
    },
    {
      "cell_type": "code",
      "source": [
        "labels_raster_list <- labels_file_list[1] %>% lapply(stack)"
      ],
      "metadata": {
        "id": "5LsAhrtCflbl"
      },
      "execution_count": 39,
      "outputs": []
    },
    {
      "cell_type": "code",
      "source": [
        "library(data.table)"
      ],
      "metadata": {
        "id": "rJ3b1m7ifm64"
      },
      "execution_count": 40,
      "outputs": []
    },
    {
      "cell_type": "code",
      "source": [
        "val_dt <- data.table(truth = values(labels_raster_list[[1]]),prediction = values(raster_list[[1]]))"
      ],
      "metadata": {
        "id": "XVEu13YOf6LR"
      },
      "execution_count": 41,
      "outputs": []
    },
    {
      "cell_type": "code",
      "source": [
        "# install.packages(\"caret\")"
      ],
      "metadata": {
        "id": "P9BQgvg2ga0z"
      },
      "execution_count": 42,
      "outputs": []
    },
    {
      "cell_type": "code",
      "source": [
        "# library(caret)"
      ],
      "metadata": {
        "id": "DpWLCkpngL5r"
      },
      "execution_count": 43,
      "outputs": []
    },
    {
      "cell_type": "code",
      "source": [
        "confus_dt <- confusionMatrix(val_dt$truth %>% factor(levels = 0:12), val_dt$prediction %>% factor(levels = 0:12))"
      ],
      "metadata": {
        "id": "9oYSaj9QgV9m"
      },
      "execution_count": 46,
      "outputs": []
    },
    {
      "cell_type": "code",
      "source": [
        "byClass_dt <- confus_dt$byClass %>% data.table"
      ],
      "metadata": {
        "id": "x1QI7cqWhkNC"
      },
      "execution_count": 51,
      "outputs": []
    },
    {
      "cell_type": "code",
      "source": [
        "byClass_dt$Sensitivity"
      ],
      "metadata": {
        "colab": {
          "base_uri": "https://localhost:8080/",
          "height": 34
        },
        "id": "k6rEuH7UjCuB",
        "outputId": "d3635cd2-a5d5-4f59-aa9e-452d94820232"
      },
      "execution_count": 52,
      "outputs": [
        {
          "output_type": "display_data",
          "data": {
            "text/html": [
              "<style>\n",
              ".list-inline {list-style: none; margin:0; padding: 0}\n",
              ".list-inline>li {display: inline-block}\n",
              ".list-inline>li:not(:last-child)::after {content: \"\\00b7\"; padding: 0 .5ex}\n",
              "</style>\n",
              "<ol class=list-inline><li>&lt;NA&gt;</li><li>0</li><li>&lt;NA&gt;</li><li>&lt;NA&gt;</li><li>&lt;NA&gt;</li><li>&lt;NA&gt;</li><li>&lt;NA&gt;</li><li>0</li><li>&lt;NA&gt;</li><li>&lt;NA&gt;</li><li>0.492501985702939</li><li>&lt;NA&gt;</li><li>&lt;NA&gt;</li></ol>\n"
            ],
            "text/markdown": "1. &lt;NA&gt;\n2. 0\n3. &lt;NA&gt;\n4. &lt;NA&gt;\n5. &lt;NA&gt;\n6. &lt;NA&gt;\n7. &lt;NA&gt;\n8. 0\n9. &lt;NA&gt;\n10. &lt;NA&gt;\n11. 0.492501985702939\n12. &lt;NA&gt;\n13. &lt;NA&gt;\n\n\n",
            "text/latex": "\\begin{enumerate*}\n\\item <NA>\n\\item 0\n\\item <NA>\n\\item <NA>\n\\item <NA>\n\\item <NA>\n\\item <NA>\n\\item 0\n\\item <NA>\n\\item <NA>\n\\item 0.492501985702939\n\\item <NA>\n\\item <NA>\n\\end{enumerate*}\n",
            "text/plain": [
              " [1]       NA 0.000000       NA       NA       NA       NA       NA 0.000000\n",
              " [9]       NA       NA 0.492502       NA       NA"
            ]
          },
          "metadata": {}
        }
      ]
    },
    {
      "cell_type": "code",
      "source": [
        "library(ggplot2)"
      ],
      "metadata": {
        "id": "71fYRK92jZ0H"
      },
      "execution_count": 53,
      "outputs": []
    },
    {
      "cell_type": "code",
      "source": [
        "prettyConfused<-function(Actual,Predict,colors=c(\"white\",\"red4\",\"dodgerblue3\"),text.scl=5){\n",
        "  actual = as.data.frame(table(Actual))\n",
        "  names(actual) = c(\"Actual\",\"ActualFreq\")\n",
        "\n",
        "  #build confusion matrix\n",
        "  confusion = as.data.frame(table(Actual, Predict))\n",
        "  names(confusion) = c(\"Actual\",\"Predicted\",\"Freq\")\n",
        "\n",
        "  #calculate percentage of test cases based on actual frequency\n",
        "\n",
        "  confusion = merge(confusion, actual, by=c('Actual','Actual'))\n",
        "  confusion$Percent = confusion$Freq/confusion$ActualFreq*100\n",
        "  confusion$ColorScale<-confusion$Percent*-1\n",
        "  confusion[which(confusion$Actual==confusion$Predicted),]$ColorScale<-confusion[which(confusion$Actual==confusion$Predicted),]$ColorScale*-1\n",
        "  confusion$Label<-paste(round(confusion$Percent,0),\"%, n=\",confusion$Freq,sep=\"\")\n",
        "  tile <- ggplot() +\n",
        "    geom_tile(aes(x=Actual, y=Predicted,fill=ColorScale),data=confusion, color=\"black\",size=0.1) +\n",
        "    labs(x=\"Actual\",y=\"Predicted\")\n",
        "\n",
        "  tile = tile +\n",
        "        geom_text(aes(x=Actual,y=Predicted, label=Label),data=confusion, size=text.scl, colour=\"black\") +\n",
        "        scale_fill_gradient2(low=colors[2],high=colors[3],mid=colors[1],midpoint = 0,guide='none')\n",
        "}"
      ],
      "metadata": {
        "id": "-LwqOb8Ojerx"
      },
      "execution_count": null,
      "outputs": []
    }
  ]
}