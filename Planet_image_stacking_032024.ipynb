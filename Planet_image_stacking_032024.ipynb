{
  "nbformat": 4,
  "nbformat_minor": 0,
  "metadata": {
    "colab": {
      "provenance": [],
      "authorship_tag": "ABX9TyMjwl5zmQYXCrjS1OGUln/r",
      "include_colab_link": true
    },
    "kernelspec": {
      "name": "ir",
      "display_name": "R"
    },
    "language_info": {
      "name": "R"
    }
  },
  "cells": [
    {
      "cell_type": "markdown",
      "metadata": {
        "id": "view-in-github",
        "colab_type": "text"
      },
      "source": [
        "<a href=\"https://colab.research.google.com/github/MadmanMarble/Planet_U-NET/blob/main/Planet_image_stacking_032024.ipynb\" target=\"_parent\"><img src=\"https://colab.research.google.com/assets/colab-badge.svg\" alt=\"Open In Colab\"/></a>"
      ]
    },
    {
      "cell_type": "code",
      "execution_count": 1,
      "metadata": {
        "id": "PCipLaN0Ba9D",
        "outputId": "224ae595-146e-4546-9238-aa641bc0fd8f",
        "colab": {
          "base_uri": "https://localhost:8080/"
        }
      },
      "outputs": [
        {
          "output_type": "stream",
          "name": "stderr",
          "text": [
            "Installing packages into ‘/usr/local/lib/R/site-library’\n",
            "(as ‘lib’ is unspecified)\n",
            "\n",
            "also installing the dependencies ‘proxy’, ‘e1071’, ‘sp’, ‘Rcpp’, ‘terra’, ‘classInt’, ‘s2’, ‘units’, ‘wk’, ‘RcppArmadillo’\n",
            "\n",
            "\n",
            "Installing package into ‘/usr/local/lib/R/site-library’\n",
            "(as ‘lib’ is unspecified)\n",
            "\n",
            "Installing package into ‘/usr/local/lib/R/site-library’\n",
            "(as ‘lib’ is unspecified)\n",
            "\n",
            "also installing the dependencies ‘httpuv’, ‘xtable’, ‘sourcetools’, ‘later’, ‘promises’, ‘shiny’, ‘downlit’, ‘htmlwidgets’, ‘miniUI’, ‘pkgdown’, ‘profvis’, ‘urlchecker’\n",
            "\n",
            "\n",
            "Downloading GitHub repo gearslaboratory/gdalUtils@HEAD\n",
            "\n"
          ]
        },
        {
          "output_type": "stream",
          "name": "stdout",
          "text": [
            "R.methodsS3 (NA -> 1.8.2 ) [CRAN]\n",
            "R.oo        (NA -> 1.26.0) [CRAN]\n",
            "iterators   (NA -> 1.0.14) [CRAN]\n",
            "R.utils     (NA -> 2.12.3) [CRAN]\n",
            "foreach     (NA -> 1.5.2 ) [CRAN]\n"
          ]
        },
        {
          "output_type": "stream",
          "name": "stderr",
          "text": [
            "Skipping 1 packages not available: rgdal\n",
            "\n",
            "Installing 6 packages: R.methodsS3, R.oo, iterators, rgdal, R.utils, foreach\n",
            "\n",
            "Installing packages into ‘/usr/local/lib/R/site-library’\n",
            "(as ‘lib’ is unspecified)\n",
            "\n",
            "Warning message:\n",
            "“package ‘rgdal’ is not available for this version of R\n",
            "\n",
            "A version of this package for your version of R might be available elsewhere,\n",
            "see the ideas at\n",
            "https://cran.r-project.org/doc/manuals/r-patched/R-admin.html#Installing-packages”\n"
          ]
        },
        {
          "output_type": "stream",
          "name": "stdout",
          "text": [
            "\u001b[36m──\u001b[39m \u001b[36mR CMD build\u001b[39m \u001b[36m─────────────────────────────────────────────────────────────────\u001b[39m\n",
            "* checking for file ‘/tmp/RtmpwZtyaA/remotes10270fbd0b1/gearslaboratory-gdalUtils-8872aaf/DESCRIPTION’ ... OK\n",
            "* preparing ‘gdalUtils’:\n",
            "* checking DESCRIPTION meta-information ... OK\n",
            "* checking for LF line-endings in source and make files and shell scripts\n",
            "* checking for empty or unneeded directories\n",
            "* building ‘gdalUtils_2.0.3.2.tar.gz’\n",
            "\n"
          ]
        },
        {
          "output_type": "stream",
          "name": "stderr",
          "text": [
            "Installing package into ‘/usr/local/lib/R/site-library’\n",
            "(as ‘lib’ is unspecified)\n",
            "\n",
            "Warning message in i.p(...):\n",
            "“installation of package ‘/tmp/RtmpwZtyaA/file10275417f61/gdalUtils_2.0.3.2.tar.gz’ had non-zero exit status”\n",
            "Installing package into ‘/usr/local/lib/R/site-library’\n",
            "(as ‘lib’ is unspecified)\n",
            "\n"
          ]
        }
      ],
      "source": [
        "install.packages(c('raster','sf','fasterize'))\n",
        "install.packages(\"googledrive\")\n",
        "install.packages(\"devtools\")\n",
        "\n",
        "devtools:::install_github(\"gearslaboratory/gdalUtils\")\n",
        "install.packages(\"dplyr\")"
      ]
    },
    {
      "cell_type": "code",
      "source": [
        "library(raster)\n",
        "library(sf)\n",
        "library(fasterize)\n",
        "library(magrittr)\n",
        "library(googledrive)\n",
        "library(parallel)\n",
        "library(data.table)\n",
        "library(stringr)\n",
        "library(dplyr)\n",
        "# library(gdalUtils)\n",
        "\n",
        "drive_auth(use_oob = TRUE, cache = FALSE)"
      ],
      "metadata": {
        "id": "Lp6_eAm4Bqfi",
        "outputId": "103ca0d5-9054-4d1c-96cd-adfb8430d59d",
        "colab": {
          "base_uri": "https://localhost:8080/"
        }
      },
      "execution_count": 2,
      "outputs": [
        {
          "output_type": "stream",
          "name": "stderr",
          "text": [
            "Loading required package: sp\n",
            "\n",
            "Linking to GEOS 3.11.1, GDAL 3.6.4, PROJ 9.1.1; sf_use_s2() is TRUE\n",
            "\n",
            "\n",
            "Attaching package: ‘fasterize’\n",
            "\n",
            "\n",
            "The following object is masked from ‘package:graphics’:\n",
            "\n",
            "    plot\n",
            "\n",
            "\n",
            "The following object is masked from ‘package:base’:\n",
            "\n",
            "    plot\n",
            "\n",
            "\n",
            "\n",
            "Attaching package: ‘magrittr’\n",
            "\n",
            "\n",
            "The following object is masked from ‘package:raster’:\n",
            "\n",
            "    extract\n",
            "\n",
            "\n",
            "\n",
            "Attaching package: ‘data.table’\n",
            "\n",
            "\n",
            "The following object is masked from ‘package:raster’:\n",
            "\n",
            "    shift\n",
            "\n",
            "\n",
            "\n",
            "Attaching package: ‘dplyr’\n",
            "\n",
            "\n",
            "The following objects are masked from ‘package:data.table’:\n",
            "\n",
            "    between, first, last\n",
            "\n",
            "\n",
            "The following objects are masked from ‘package:raster’:\n",
            "\n",
            "    intersect, select, union\n",
            "\n",
            "\n",
            "The following objects are masked from ‘package:stats’:\n",
            "\n",
            "    filter, lag\n",
            "\n",
            "\n",
            "The following objects are masked from ‘package:base’:\n",
            "\n",
            "    intersect, setdiff, setequal, union\n",
            "\n",
            "\n",
            "Please point your browser to the following url: \n",
            "\n",
            "https://accounts.google.com/o/oauth2/v2/auth?client_id=603366585132-frjlouoa3s2ono25d2l9ukvhlsrlnr7k.apps.googleusercontent.com&scope=https%3A%2F%2Fwww.googleapis.com%2Fauth%2Fdrive%20https%3A%2F%2Fwww.googleapis.com%2Fauth%2Fuserinfo.email&redirect_uri=https%3A%2F%2Fwww.tidyverse.org%2Fgoogle-callback%2F&response_type=code&state=a5fb5e173926b8a04f26fea1c4cab1f2&access_type=offline&prompt=consent\n",
            "\n"
          ]
        },
        {
          "name": "stdout",
          "output_type": "stream",
          "text": [
            "Enter authorization code: eyJjb2RlIjoiNC8wQWVhWVNIQWdmRkgtOEZtbWU4Zmd1TUxaU2ZRX21Xd180N1VHUG9lMDlYT3JQMnlFc0lvQkJVLTMwVHVOdWFUUXptTkpwZyIsInN0YXRlIjoiYTVmYjVlMTczOTI2YjhhMDRmMjZmZWExYzRjYWIxZjIifQ==\n"
          ]
        }
      ]
    },
    {
      "cell_type": "code",
      "source": [
        "dir.create(\"/content/imagery\")\n",
        "dir.create(\"/content/imagery/planet\")\n",
        "dir.create(\"/content/imagery/planet/dem\")\n",
        "dir.create(\"/content/imagery/planet/dem/utm5\")"
      ],
      "metadata": {
        "id": "SrFtIfZgC5T-",
        "outputId": "91c80142-c571-4afd-b7db-39608eb6d386",
        "colab": {
          "base_uri": "https://localhost:8080/"
        }
      },
      "execution_count": 5,
      "outputs": [
        {
          "output_type": "stream",
          "name": "stderr",
          "text": [
            "Warning message in dir.create(\"/content/imagery\"):\n",
            "“'/content/imagery' already exists”\n",
            "Warning message in dir.create(\"/content/imagery/planet\"):\n",
            "“'/content/imagery/planet' already exists”\n",
            "Warning message in dir.create(\"/content/imagery/planet/dem\"):\n",
            "“'/content/imagery/planet/dem' already exists”\n"
          ]
        }
      ]
    },
    {
      "cell_type": "code",
      "source": [
        "dir.create(\"/content/imagery/planet/2018\")\n",
        "dir.create(\"/content/imagery/planet/2018/utm4\")\n",
        "dir.create(\"/content/imagery/planet/2018/utm5\")\n",
        "\n",
        "dir.create(\"/content/imagery/planet/2019\")\n",
        "dir.create(\"/content/imagery/planet/2019/utm4\")\n",
        "dir.create(\"/content/imagery/planet/2019/utm5\")\n",
        "\n",
        "dir.create(\"/content/imagery/planet/2020\")\n",
        "dir.create(\"/content/imagery/planet/2020/utm4\")\n",
        "dir.create(\"/content/imagery/planet/2020/utm5\")"
      ],
      "metadata": {
        "id": "IPLmjadOIzS9"
      },
      "execution_count": 7,
      "outputs": []
    },
    {
      "cell_type": "code",
      "source": [
        "# https://drive.google.com/drive/folders/1DRk7b6lKEtihFlg3XXXwmePwNlFIKlA7?usp=drive_link\n",
        "# planet utm5 DEM\n",
        "\n",
        "folder = \"1DRk7b6lKEtihFlg3XXXwmePwNlFIKlA7\"\n",
        "folder_id = drive_get(as_id(folder))\n",
        "\n",
        "files = drive_ls(folder_id)\n",
        "\n",
        "for (i in seq_along(files$name)) {\n",
        "  i_dir <- files[i, ] # Select directory\n",
        "    try({\n",
        "\n",
        "      # Download files from the directory to the specified path\n",
        "      drive_download(\n",
        "        as_id(i_dir$id[1]),\n",
        "        path = paste0('/content/imagery/planet/dem/utm5/', i_dir$name[1])\n",
        "      )\n",
        "    })\n",
        "  }"
      ],
      "metadata": {
        "id": "2ijJU3c-I2NF"
      },
      "execution_count": null,
      "outputs": []
    },
    {
      "cell_type": "code",
      "source": [
        "# https://drive.google.com/drive/folders/1P4-Y7sSdQiIDWda19uTHX0KaYsULcDUI?usp=drive_link\n",
        "# planet utm5 2020\n",
        "\n",
        "folder = \"1P4-Y7sSdQiIDWda19uTHX0KaYsULcDUI\"\n",
        "folder_id = drive_get(as_id(folder))\n",
        "\n",
        "files = drive_ls(folder_id)\n",
        "\n",
        "for (i in seq_along(files$name)) {\n",
        "  i_dir <- files[i, ] # Select directory\n",
        "    try({\n",
        "\n",
        "      # Download files from the directory to the specified path\n",
        "      drive_download(\n",
        "        as_id(i_dir$id[1]),\n",
        "        path = paste0('/content/imagery/planet/2020/utm5/', i_dir$name[1])\n",
        "      )\n",
        "    })\n",
        "  }"
      ],
      "metadata": {
        "id": "lVv3zpkJLji8"
      },
      "execution_count": null,
      "outputs": []
    },
    {
      "cell_type": "code",
      "source": [
        "# https://drive.google.com/drive/folders/1P6pqHrshe3k6kEvQpfRyPAgfAFQLUoeS?usp=drive_link\n",
        "# planet utm5 2019\n",
        "\n",
        "folder = \"1P6pqHrshe3k6kEvQpfRyPAgfAFQLUoeS\"\n",
        "folder_id = drive_get(as_id(folder))\n",
        "\n",
        "files = drive_ls(folder_id)\n",
        "\n",
        "for (i in seq_along(files$name)) {\n",
        "  i_dir <- files[i, ] # Select directory\n",
        "    try({\n",
        "\n",
        "      # Download files from the directory to the specified path\n",
        "      drive_download(\n",
        "        as_id(i_dir$id[1]),\n",
        "        path = paste0('/content/imagery/planet/2019/utm5/', i_dir$name[1])\n",
        "      )\n",
        "    })\n",
        "  }"
      ],
      "metadata": {
        "id": "CepAuZH7OTmw"
      },
      "execution_count": null,
      "outputs": []
    },
    {
      "cell_type": "code",
      "source": [
        "dir.create(\"/content/workingfolder\")\n",
        "dir.create(\"/content/workingfolder/nwi_utm4\")\n",
        "dir.create(\"/content/workingfolder/nwi_utm5\")\n",
        "\n",
        "dir.create(\"/content/workingfolder/aoi\")\n",
        "dir.create(\"/content/workingfolder/aoi/utm4\")\n",
        "dir.create(\"/content/workingfolder/aoi/utm5\")\n",
        "\n",
        "dir.create(\"/content/workingfolder/dem\")\n",
        "dir.create(\"/content/workingfolder/dem/utm4\")\n",
        "dir.create(\"/content/workingfolder/dem/utm5\")\n",
        "\n",
        "dir.create(\"/content/workingfolder/ccap\")\n",
        "dir.create(\"/content/workingfolder/ccap/utm4\")\n",
        "dir.create(\"/content/workingfolder/ccap/utm5\")\n",
        "\n",
        "dir.create(\"/content/workingfolder/nlcd\")\n",
        "dir.create(\"/content/workingfolder/nlcd/utm4\")\n",
        "dir.create(\"/content/workingfolder/nlcd/utm5\")\n",
        "\n",
        "\n"
      ],
      "metadata": {
        "id": "gw5tNQgMRz8e"
      },
      "execution_count": 11,
      "outputs": []
    },
    {
      "cell_type": "code",
      "source": [
        "# folder for another elevation model.\n",
        "dir.create(\"/content/folder\")\n",
        "dir.create(\"/content/folder/new_elevation\")"
      ],
      "metadata": {
        "id": "HXHZZme0V8M2"
      },
      "execution_count": 27,
      "outputs": []
    },
    {
      "cell_type": "code",
      "source": [
        "#\n",
        "# https://drive.google.com/file/d/1YVeXmyBKJdxvY1-msKWw1zSEtsqHYhft/view?usp=drive_link\n",
        "drive_download(file = as_id('1YVeXmyBKJdxvY1-msKWw1zSEtsqHYhft'), path =  '/content/folder/new_elevation/hi_dem.tif', overwrite = FALSE)\n"
      ],
      "metadata": {
        "id": "f8IqN4pfV-7p",
        "outputId": "7e887b33-2391-44aa-f7bf-586e5cb3a161",
        "colab": {
          "base_uri": "https://localhost:8080/"
        }
      },
      "execution_count": 28,
      "outputs": [
        {
          "output_type": "stream",
          "name": "stderr",
          "text": [
            "File downloaded:\n",
            "\n",
            "• \u001b[36mhawaii_10m.tif\u001b[39m \u001b[90m<id: 1YVeXmyBKJdxvY1-msKWw1zSEtsqHYhft>\u001b[39m\n",
            "\n",
            "Saved locally as:\n",
            "\n",
            "• \u001b[34m/content/folder/new_elevation/hi_dem.tif\u001b[39m\n",
            "\n"
          ]
        }
      ]
    },
    {
      "cell_type": "code",
      "source": [
        "cl <- makeCluster(8)\n",
        "########################################################################## load NWI data\n",
        "\n",
        "# load NUMERIC nwi data\n",
        "# https://drive.google.com/file/d/1NHOKJKTqlNeuDg4DlfYfM3evDTvp0q8S/view?usp=drive_link\n",
        "# This file is the national wetland inventory vector file (for utm 4 islands = Kauai, Oahu, Molokai, Maui) that includes a column called wetland_ty_numeric numbered 1 - 7 for the 7 differenet wetland categories.\n",
        "drive_download(file = as_id('1NHOKJKTqlNeuDg4DlfYfM3evDTvp0q8S'), path =  '/content/workingfolder/nwi_utm4/nwi_utm4.gpkg', overwrite = FALSE)\n",
        "\n",
        "# https://drive.google.com/file/d/1vjY2D7TCsFj5Mcs3Wk5Gh0OV3MIPD_M4/view?usp=drive_link\n",
        "# This file is the national wetland inventory vector file (for utm 5 island = Hawaii)that includes a column called wetland_ty_numeric numbered 1 - 7 for the 7 differenet wetland categories.\n",
        "drive_download(file = as_id('1vjY2D7TCsFj5Mcs3Wk5Gh0OV3MIPD_M4'), path =  '/content/workingfolder/nwi_utm5/nwi_utm5.gpkg', overwrite = FALSE)\n",
        "\n",
        "\n",
        "\n",
        "\n",
        "########################################################################## load AOI data\n",
        "\n",
        "# https://drive.google.com/file/d/1AsyHxmJ7MUJHwEqXUG61OXQ6bz9mgvDH/view?usp=drive_link\n",
        "# This file is the area of interest vector file (for utm 4 islands = Kauai, Oahu, Molokai, Maui) that outlines which areas of interest to clip data to.\n",
        "drive_download(file = as_id(\"1AsyHxmJ7MUJHwEqXUG61OXQ6bz9mgvDH\"),\n",
        "path = \"/content/workingfolder/aoi/utm4/aoi_utm4.gpkg\", overwrite = FALSE)\n",
        "\n",
        "# https://drive.google.com/file/d/1klsckpbR73H4-2lj4Pi_4cyvQlU6dFbc/view?usp=drive_link\n",
        "# This file is the area of interest vector file (for utm 5 island = Hawaii) that outlines which areas of interest to clip data to.\n",
        "drive_download(file = as_id(\"1klsckpbR73H4-2lj4Pi_4cyvQlU6dFbc\"),\n",
        "path = \"/content/workingfolder/aoi/utm5/aoi_utm5.gpkg\", overwrite = FALSE)\n",
        "\n",
        "\n",
        "\n",
        "\n",
        "########################################################################## load DEM data\n",
        "\n",
        "# load the dem (for utm 4 islands = Kauai, Oahu, Molokai, Maui) it also will load the Hawaii dem\n",
        "# https://drive.google.com/drive/folders/1URF4YPEnWirmyWjmueyIgiYchcORWe6q?usp=drive_link\n",
        "jp_folder = \"1URF4YPEnWirmyWjmueyIgiYchcORWe6q\"\n",
        "folder_id = drive_get(as_id(jp_folder)) # get folder ID\n",
        "print(folder_id) #print folder ID\n",
        "\n",
        "# Find files in the folder\n",
        "files = drive_ls(folder_id)\n",
        "\n",
        "# Loop through directories and download files inside them\n",
        "for (i in seq_along(files$name)) {\n",
        "  i_dir <- files[i, ] # Select directory\n",
        "    try({\n",
        "\n",
        "      # Download files from the directory to the specified path\n",
        "      drive_download(\n",
        "        as_id(i_dir$id[1]),\n",
        "        path = paste0('/content/workingfolder/dem/utm4/', i_dir$name[1])\n",
        "      )\n",
        "    })\n",
        "  }\n",
        "\n",
        "\n",
        "\n",
        "\n",
        "########################################################################## load CCAP data\n",
        "\n",
        "# load the ccap (for utm 4 islands = Kauai, Oahu, Molokai, Maui)\n",
        "# https://drive.google.com/drive/folders/14fLGpMg2n9o6c8YmH4NSHc_ZQOC5MAuv?usp=drive_link\n",
        "jp_folder = \"14fLGpMg2n9o6c8YmH4NSHc_ZQOC5MAuv\"\n",
        "folder_id = drive_get(as_id(jp_folder)) # get folder ID\n",
        "print(folder_id) #print folder ID\n",
        "\n",
        "# Find files in the folder\n",
        "files = drive_ls(folder_id)\n",
        "\n",
        "# Loop through directories and download files inside them\n",
        "for (i in seq_along(files$name)) {\n",
        "  i_dir <- files[i, ] # Select directory\n",
        "    try({\n",
        "\n",
        "      # Download files from the directory to the specified path\n",
        "      drive_download(\n",
        "        as_id(i_dir$id[1]),\n",
        "        path = paste0('/content/workingfolder/ccap/utm4/', i_dir$name[1])\n",
        "      )\n",
        "    })\n",
        "  }\n",
        "\n",
        "\n",
        "\n",
        "# load the ccap (for utm 5 island = Hawaii) DONT use/need ccap_hawaii_03_nad83\n",
        "# https://drive.google.com/drive/folders/1CdwnqAx3xxZ-y1ppEktXHh78MdXN8TYW?usp=drive_link\n",
        "jp_folder = \"1CdwnqAx3xxZ-y1ppEktXHh78MdXN8TYW\"\n",
        "folder_id = drive_get(as_id(jp_folder)) # get folder ID\n",
        "print(folder_id) #print folder ID\n",
        "\n",
        "# Find files in the folder\n",
        "files = drive_ls(folder_id)\n",
        "\n",
        "# Loop through directories and download files inside them\n",
        "for (i in seq_along(files$name)) {\n",
        "  i_dir <- files[i, ] # Select directory\n",
        "    try({\n",
        "\n",
        "      # Download files from the directory to the specified path\n",
        "      drive_download(\n",
        "        as_id(i_dir$id[1]),\n",
        "        path = paste0('/content/workingfolder/ccap/utm5/', i_dir$name[1])\n",
        "      )\n",
        "    })\n",
        "  }\n",
        "\n",
        "\n",
        "\n",
        "\n",
        "\n",
        "########################################################################## load NLCD data\n",
        "\n",
        "# load the nlcd, utm 4 (for utm 4 islands = Kauai, Oahu, Molokai, Maui)\n",
        "# https://drive.google.com/file/d/17tWhnoFP-VTrobjaMuTLwdLU15v7C0NC/view?usp=drive_link\n",
        "drive_download(file = as_id('17tWhnoFP-VTrobjaMuTLwdLU15v7C0NC'), path =  '/content/workingfolder/nlcd/utm4/nlcd_utm4.tif', overwrite = FALSE)\n",
        "\n",
        "# load the nlcd, utm 5 (for utm 5 island = Hawaii)\n",
        "# https://drive.google.com/file/d/1mn_Q1q7HRA3Yh7oBS1KmBriUEtLVWovr/view?usp=drive_link\n",
        "drive_download(file = as_id('1mn_Q1q7HRA3Yh7oBS1KmBriUEtLVWovr'), path =  '/content/workingfolder/nlcd/utm5/nlcd_utm5.tif', overwrite = FALSE)\n",
        "\n",
        "stopCluster(cl)"
      ],
      "metadata": {
        "id": "oMrsbfqCR42b",
        "outputId": "63a8805d-dc67-4e89-e30c-7f454b4a697b",
        "colab": {
          "base_uri": "https://localhost:8080/"
        }
      },
      "execution_count": 12,
      "outputs": [
        {
          "output_type": "stream",
          "name": "stderr",
          "text": [
            "File downloaded:\n",
            "\n",
            "• \u001b[36mnwi_utm4_numeric.gpkg\u001b[39m \u001b[90m<id: 1NHOKJKTqlNeuDg4DlfYfM3evDTvp0q8S>\u001b[39m\n",
            "\n",
            "Saved locally as:\n",
            "\n",
            "• \u001b[34m/content/workingfolder/nwi_utm4/nwi_utm4.gpkg\u001b[39m\n",
            "\n",
            "File downloaded:\n",
            "\n",
            "• \u001b[36mnwi_utm5_numeric.gpkg\u001b[39m \u001b[90m<id: 1vjY2D7TCsFj5Mcs3Wk5Gh0OV3MIPD_M4>\u001b[39m\n",
            "\n",
            "Saved locally as:\n",
            "\n",
            "• \u001b[34m/content/workingfolder/nwi_utm5/nwi_utm5.gpkg\u001b[39m\n",
            "\n",
            "File downloaded:\n",
            "\n",
            "• \u001b[36maoi_wetland_4.gpkg\u001b[39m \u001b[90m<id: 1AsyHxmJ7MUJHwEqXUG61OXQ6bz9mgvDH>\u001b[39m\n",
            "\n",
            "Saved locally as:\n",
            "\n",
            "• \u001b[34m/content/workingfolder/aoi/utm4/aoi_utm4.gpkg\u001b[39m\n",
            "\n",
            "File downloaded:\n",
            "\n",
            "• \u001b[36maoi_wetland_hawaii.gpkg\u001b[39m \u001b[90m<id: 1klsckpbR73H4-2lj4Pi_4cyvQlU6dFbc>\u001b[39m\n",
            "\n",
            "Saved locally as:\n",
            "\n",
            "• \u001b[34m/content/workingfolder/aoi/utm5/aoi_utm5.gpkg\u001b[39m\n",
            "\n"
          ]
        },
        {
          "output_type": "stream",
          "name": "stdout",
          "text": [
            "\u001b[90m# A dribble: 1 × 3\u001b[39m\n",
            "  name       id                                drive_resource   \n",
            "  \u001b[3m\u001b[90m<chr>\u001b[39m\u001b[23m      \u001b[3m\u001b[90m<drv_id>\u001b[39m\u001b[23m                          \u001b[3m\u001b[90m<list>\u001b[39m\u001b[23m           \n",
            "\u001b[90m1\u001b[39m dem_wgs_84 1URF4YPEnWirmyWjmueyIgiYchcORWe6q \u001b[90m<named list [34]>\u001b[39m\n"
          ]
        },
        {
          "output_type": "stream",
          "name": "stderr",
          "text": [
            "File downloaded:\n",
            "\n",
            "• \u001b[36mwgs84_hawaii_dem.tif\u001b[39m \u001b[90m<id: 1GgimNhsSiLUY-6ttztqOmdcUn7nH6ryF>\u001b[39m\n",
            "\n",
            "Saved locally as:\n",
            "\n",
            "• \u001b[34m/content/workingfolder/dem/utm4/wgs84_hawaii_dem.tif\u001b[39m\n",
            "\n",
            "File downloaded:\n",
            "\n",
            "• \u001b[36mwgs84_maui_dem.tif\u001b[39m \u001b[90m<id: 17NL9FjRrW8Osurqj6VFbnj7KQjJ1gg0L>\u001b[39m\n",
            "\n",
            "Saved locally as:\n",
            "\n",
            "• \u001b[34m/content/workingfolder/dem/utm4/wgs84_maui_dem.tif\u001b[39m\n",
            "\n",
            "File downloaded:\n",
            "\n",
            "• \u001b[36mwgs84_molokai_dem.tif\u001b[39m \u001b[90m<id: 1A7N8UpmUn8Tq95ePGXQYdjLF5_TpcTwC>\u001b[39m\n",
            "\n",
            "Saved locally as:\n",
            "\n",
            "• \u001b[34m/content/workingfolder/dem/utm4/wgs84_molokai_dem.tif\u001b[39m\n",
            "\n",
            "File downloaded:\n",
            "\n",
            "• \u001b[36mwgs84_oahu_dem.tif\u001b[39m \u001b[90m<id: 1AmtIltpD8KGRH53RzSIawJpVqvOP9OLz>\u001b[39m\n",
            "\n",
            "Saved locally as:\n",
            "\n",
            "• \u001b[34m/content/workingfolder/dem/utm4/wgs84_oahu_dem.tif\u001b[39m\n",
            "\n",
            "File downloaded:\n",
            "\n",
            "• \u001b[36mwgs84_kauai_10m.tif\u001b[39m \u001b[90m<id: 1eu_7lpCjyl5WpgGq_HizUz8n4d1u35tC>\u001b[39m\n",
            "\n",
            "Saved locally as:\n",
            "\n",
            "• \u001b[34m/content/workingfolder/dem/utm4/wgs84_kauai_10m.tif\u001b[39m\n",
            "\n"
          ]
        },
        {
          "output_type": "stream",
          "name": "stdout",
          "text": [
            "\u001b[90m# A dribble: 1 × 3\u001b[39m\n",
            "  name  id                                drive_resource   \n",
            "  \u001b[3m\u001b[90m<chr>\u001b[39m\u001b[23m \u001b[3m\u001b[90m<drv_id>\u001b[39m\u001b[23m                          \u001b[3m\u001b[90m<list>\u001b[39m\u001b[23m           \n",
            "\u001b[90m1\u001b[39m ccap  14fLGpMg2n9o6c8YmH4NSHc_ZQOC5MAuv \u001b[90m<named list [34]>\u001b[39m\n",
            "Error in get_export_mime_type(mime_type) : \n",
            "  \u001b[1m\u001b[22mNot a recognized Google MIME type:\n",
            "\u001b[31m✖\u001b[39m \u001b[32mapplication/vnd.google-apps.folder\u001b[39m\n"
          ]
        },
        {
          "output_type": "stream",
          "name": "stderr",
          "text": [
            "File downloaded:\n",
            "\n",
            "• \u001b[36mkauai_ccap_2010.tif\u001b[39m \u001b[90m<id: 1-9SuvnH-Ck4CMaAXqDQTbbLGKtfMUnxn>\u001b[39m\n",
            "\n",
            "Saved locally as:\n",
            "\n",
            "• \u001b[34m/content/workingfolder/ccap/utm4/kauai_ccap_2010.tif\u001b[39m\n",
            "\n",
            "File downloaded:\n",
            "\n",
            "• \u001b[36moahu_ccap_2010.tif\u001b[39m \u001b[90m<id: 1-5Q_qbss1zUnW1wcQlomRHehPemzy7HG>\u001b[39m\n",
            "\n",
            "Saved locally as:\n",
            "\n",
            "• \u001b[34m/content/workingfolder/ccap/utm4/oahu_ccap_2010.tif\u001b[39m\n",
            "\n",
            "File downloaded:\n",
            "\n",
            "• \u001b[36mmolokai_ccap_2010.tif\u001b[39m \u001b[90m<id: 1-2M0JNgYiVMINDoW2mAiWLX3H9kYz_Z->\u001b[39m\n",
            "\n",
            "Saved locally as:\n",
            "\n",
            "• \u001b[34m/content/workingfolder/ccap/utm4/molokai_ccap_2010.tif\u001b[39m\n",
            "\n",
            "File downloaded:\n",
            "\n",
            "• \u001b[36mmaui_ccap_2010.tif\u001b[39m \u001b[90m<id: 1--1nN7Gj_qx6iwPG8Jq5gZcGRA0uaOay>\u001b[39m\n",
            "\n",
            "Saved locally as:\n",
            "\n",
            "• \u001b[34m/content/workingfolder/ccap/utm4/maui_ccap_2010.tif\u001b[39m\n",
            "\n"
          ]
        },
        {
          "output_type": "stream",
          "name": "stdout",
          "text": [
            "\u001b[90m# A dribble: 1 × 3\u001b[39m\n",
            "  name        id                                drive_resource   \n",
            "  \u001b[3m\u001b[90m<chr>\u001b[39m\u001b[23m       \u001b[3m\u001b[90m<drv_id>\u001b[39m\u001b[23m                          \u001b[3m\u001b[90m<list>\u001b[39m\u001b[23m           \n",
            "\u001b[90m1\u001b[39m ccap_hawaii 1CdwnqAx3xxZ-y1ppEktXHh78MdXN8TYW \u001b[90m<named list [34]>\u001b[39m\n",
            "Error in get_export_mime_type(mime_type) : \n",
            "  \u001b[1m\u001b[22mNot a recognized Google MIME type:\n",
            "\u001b[31m✖\u001b[39m \u001b[32mapplication/vnd.google-apps.folder\u001b[39m\n"
          ]
        },
        {
          "output_type": "stream",
          "name": "stderr",
          "text": [
            "File downloaded:\n",
            "\n",
            "• \u001b[36mccap_hawaii_03_nad83.tif\u001b[39m \u001b[90m<id: 1kzbf77OuzMinC90SpJVqMJ6fJpqWcJKf>\u001b[39m\n",
            "\n",
            "Saved locally as:\n",
            "\n",
            "• \u001b[34m/content/workingfolder/ccap/utm5/ccap_hawaii_03_nad83.tif\u001b[39m\n",
            "\n",
            "File downloaded:\n",
            "\n",
            "• \u001b[36mhawaii_ccap_2010_01.tif\u001b[39m \u001b[90m<id: 1WI2adKHfm5J-bfBnRN0N2n-bI45foz60>\u001b[39m\n",
            "\n",
            "Saved locally as:\n",
            "\n",
            "• \u001b[34m/content/workingfolder/ccap/utm5/hawaii_ccap_2010_01.tif\u001b[39m\n",
            "\n",
            "File downloaded:\n",
            "\n",
            "• \u001b[36mhawaii_ccap_2010_03.tif\u001b[39m \u001b[90m<id: 1-KHspFGnfIwHcWFsNvwshfy3H-_Y5gVB>\u001b[39m\n",
            "\n",
            "Saved locally as:\n",
            "\n",
            "• \u001b[34m/content/workingfolder/ccap/utm5/hawaii_ccap_2010_03.tif\u001b[39m\n",
            "\n",
            "File downloaded:\n",
            "\n",
            "• \u001b[36mhawaii_ccap_2010_02.tif\u001b[39m \u001b[90m<id: 10BnucV2NpjYekC-Lr-PddVYJ2XFXmNwo>\u001b[39m\n",
            "\n",
            "Saved locally as:\n",
            "\n",
            "• \u001b[34m/content/workingfolder/ccap/utm5/hawaii_ccap_2010_02.tif\u001b[39m\n",
            "\n",
            "File downloaded:\n",
            "\n",
            "• \u001b[36mnad83_nlcd_hi_2001_split_4.tif\u001b[39m \u001b[90m<id: 17tWhnoFP-VTrobjaMuTLwdLU15v7C0NC>\u001b[39m\n",
            "\n",
            "Saved locally as:\n",
            "\n",
            "• \u001b[34m/content/workingfolder/nlcd/utm4/nlcd_utm4.tif\u001b[39m\n",
            "\n",
            "File downloaded:\n",
            "\n",
            "• \u001b[36mnad83_nlcd_hi_2001_split_hawaii.tif\u001b[39m \u001b[90m<id: 1mn_Q1q7HRA3Yh7oBS1KmBriUEtLVWovr>\u001b[39m\n",
            "\n",
            "Saved locally as:\n",
            "\n",
            "• \u001b[34m/content/workingfolder/nlcd/utm5/nlcd_utm5.tif\u001b[39m\n",
            "\n"
          ]
        }
      ]
    },
    {
      "cell_type": "code",
      "source": [
        "# Load Planet 2018 utm5 select files\n",
        "# https://drive.google.com/drive/folders/1Z0wBoXPjqfIiMQhGuyyRAoR6pGEjmFQt?usp=drive_link\n",
        "jp_folder = \"1Z0wBoXPjqfIiMQhGuyyRAoR6pGEjmFQt\"\n",
        "folder_id = drive_get(as_id(jp_folder)) # get folder ID\n",
        "print(folder_id) #print folder ID\n",
        "\n",
        "# Find files in the folder\n",
        "files = drive_ls(folder_id)\n",
        "\n",
        "# Loop through directories and download files inside them\n",
        "for (i in seq_along(files$name)) {\n",
        "  i_dir <- files[i, ] # Select directory\n",
        "    try({\n",
        "\n",
        "      # Download files from the directory to the specified path\n",
        "      drive_download(\n",
        "        as_id(i_dir$id[1]),\n",
        "        path = paste0('/content/imagery/planet/2018/utm5/', i_dir$name[1])\n",
        "      )\n",
        "    })\n",
        "  }"
      ],
      "metadata": {
        "id": "bdaheLUUSM5M",
        "outputId": "e00a3927-816d-4730-f819-6425ddd06b6f",
        "colab": {
          "base_uri": "https://localhost:8080/"
        }
      },
      "execution_count": 13,
      "outputs": [
        {
          "output_type": "stream",
          "name": "stdout",
          "text": [
            "\u001b[90m# A dribble: 1 × 3\u001b[39m\n",
            "  name               id                                drive_resource   \n",
            "  \u001b[3m\u001b[90m<chr>\u001b[39m\u001b[23m              \u001b[3m\u001b[90m<drv_id>\u001b[39m\u001b[23m                          \u001b[3m\u001b[90m<list>\u001b[39m\u001b[23m           \n",
            "\u001b[90m1\u001b[39m 2018_select_hawaii 1Z0wBoXPjqfIiMQhGuyyRAoR6pGEjmFQt \u001b[90m<named list [34]>\u001b[39m\n"
          ]
        },
        {
          "output_type": "stream",
          "name": "stderr",
          "text": [
            "File downloaded:\n",
            "\n",
            "• \u001b[36m2018_select_hawaii_vrt.vrt\u001b[39m \u001b[90m<id: 1-JfGmfVUDRJlf7r4dcg564swzspaUTZU>\u001b[39m\n",
            "\n",
            "Saved locally as:\n",
            "\n",
            "• \u001b[34m/content/imagery/planet/2018/utm5/2018_select_hawaii_vrt.vrt\u001b[39m\n",
            "\n",
            "File downloaded:\n",
            "\n",
            "• \u001b[36mwaipio_2018-01-09.tif\u001b[39m \u001b[90m<id: 1LeTKzEKgxeOk08iU12Z5KG9xdWYSO6-h>\u001b[39m\n",
            "\n",
            "Saved locally as:\n",
            "\n",
            "• \u001b[34m/content/imagery/planet/2018/utm5/waipio_2018-01-09.tif\u001b[39m\n",
            "\n",
            "File downloaded:\n",
            "\n",
            "• \u001b[36mwaimanu_2018-03-15.tif\u001b[39m \u001b[90m<id: 1FA8LcH2odBWUXnyu_crGTvOAbBcLH3Y_>\u001b[39m\n",
            "\n",
            "Saved locally as:\n",
            "\n",
            "• \u001b[34m/content/imagery/planet/2018/utm5/waimanu_2018-03-15.tif\u001b[39m\n",
            "\n",
            "File downloaded:\n",
            "\n",
            "• \u001b[36mpololu_2018-01-10.tif\u001b[39m \u001b[90m<id: 1AoZ5gXaOJyoWxtnCuFzIP2___j3NBno0>\u001b[39m\n",
            "\n",
            "Saved locally as:\n",
            "\n",
            "• \u001b[34m/content/imagery/planet/2018/utm5/pololu_2018-01-10.tif\u001b[39m\n",
            "\n",
            "File downloaded:\n",
            "\n",
            "• \u001b[36mlokoaka_kionakapahu_2018-01-29.tif\u001b[39m \u001b[90m<id: 19U7YFEoeO_vl9JqIdw06C-3PStZlCa4T>\u001b[39m\n",
            "\n",
            "Saved locally as:\n",
            "\n",
            "• \u001b[34m/content/imagery/planet/2018/utm5/lokoaka_kionakapahu_2018-01-29.tif\u001b[39m\n",
            "\n"
          ]
        }
      ]
    },
    {
      "cell_type": "markdown",
      "source": [
        "# Data is loaded locally. Next, redo 2018 tiles for UTM 5"
      ],
      "metadata": {
        "id": "bma15rb0PMwa"
      }
    },
    {
      "cell_type": "code",
      "source": [
        "aoi_utm5 <- st_read(\"/content/workingfolder/aoi/utm5/aoi_utm5.gpkg\")\n",
        "aoi_utm5"
      ],
      "metadata": {
        "id": "tQWMX1IdSoTR",
        "outputId": "1b8a3cbe-9c9d-4f06-e8e9-f340a888731f",
        "colab": {
          "base_uri": "https://localhost:8080/",
          "height": 881
        }
      },
      "execution_count": 14,
      "outputs": [
        {
          "output_type": "stream",
          "name": "stdout",
          "text": [
            "Reading layer `aoi_wetland_hawaii' from data source \n",
            "  `/content/workingfolder/aoi/utm5/aoi_utm5.gpkg' using driver `GPKG'\n",
            "Simple feature collection with 4 features and 3 fields\n",
            "Geometry type: MULTIPOLYGON\n",
            "Dimension:     XY\n",
            "Bounding box:  xmin: 213311.3 ymin: 2182234 xmax: 288178.3 ymax: 2236783\n",
            "Projected CRS: WGS 84 / UTM zone 5N\n"
          ]
        },
        {
          "output_type": "stream",
          "name": "stderr",
          "text": [
            "ERROR while rich displaying an object: Error in loadNamespace(x): there is no package called ‘geojsonio’\n",
            "\n",
            "Traceback:\n",
            "1. tryCatch(withCallingHandlers({\n",
            " .     if (!mime %in% names(repr::mime2repr)) \n",
            " .         stop(\"No repr_* for mimetype \", mime, \" in repr::mime2repr\")\n",
            " .     rpr <- repr::mime2repr[[mime]](obj)\n",
            " .     if (is.null(rpr)) \n",
            " .         return(NULL)\n",
            " .     prepare_content(is.raw(rpr), rpr)\n",
            " . }, error = error_handler), error = outer_handler)\n",
            "2. tryCatchList(expr, classes, parentenv, handlers)\n",
            "3. tryCatchOne(expr, names, parentenv, handlers[[1L]])\n",
            "4. doTryCatch(return(expr), name, parentenv, handler)\n",
            "5. withCallingHandlers({\n",
            " .     if (!mime %in% names(repr::mime2repr)) \n",
            " .         stop(\"No repr_* for mimetype \", mime, \" in repr::mime2repr\")\n",
            " .     rpr <- repr::mime2repr[[mime]](obj)\n",
            " .     if (is.null(rpr)) \n",
            " .         return(NULL)\n",
            " .     prepare_content(is.raw(rpr), rpr)\n",
            " . }, error = error_handler)\n",
            "6. repr::mime2repr[[mime]](obj)\n",
            "7. repr_geojson.sf(obj)\n",
            "8. repr_geojson(geojsonio::geojson_list(obj), ...)\n",
            "9. loadNamespace(x)\n",
            "10. withRestarts(stop(cond), retry_loadNamespace = function() NULL)\n",
            "11. withOneRestart(expr, restarts[[1L]])\n",
            "12. doWithOneRestart(return(expr), restart)\n"
          ]
        },
        {
          "output_type": "display_data",
          "data": {
            "text/html": [
              "<table class=\"dataframe\">\n",
              "<caption>A sf: 4 × 4</caption>\n",
              "<thead>\n",
              "\t<tr><th scope=col>id</th><th scope=col>layer</th><th scope=col>path</th><th scope=col>geom</th></tr>\n",
              "\t<tr><th scope=col>&lt;dbl&gt;</th><th scope=col>&lt;chr&gt;</th><th scope=col>&lt;chr&gt;</th><th scope=col>&lt;MULTIPOLYGON [m]&gt;</th></tr>\n",
              "</thead>\n",
              "<tbody>\n",
              "\t<tr><td>1</td><td>lokoaka_kionakapahu</td><td>E:/Data/AOI_Shapefiles/hawaii/lokoaka_kionakapahu.shp</td><td>MULTIPOLYGON (((285757 2182...</td></tr>\n",
              "\t<tr><td>1</td><td>pololu             </td><td>E:/Data/AOI_Shapefiles/hawaii/pololu.shp             </td><td>MULTIPOLYGON (((213311.3 22...</td></tr>\n",
              "\t<tr><td>1</td><td>waimanu            </td><td>E:/Data/AOI_Shapefiles/hawaii/waimanu.shp            </td><td>MULTIPOLYGON (((223006.9 22...</td></tr>\n",
              "\t<tr><td>1</td><td>waipio             </td><td>E:/Data/AOI_Shapefiles/hawaii/waipio.shp             </td><td>MULTIPOLYGON (((226466.1 22...</td></tr>\n",
              "</tbody>\n",
              "</table>\n"
            ],
            "text/markdown": "\nA sf: 4 × 4\n\n| id &lt;dbl&gt; | layer &lt;chr&gt; | path &lt;chr&gt; | geom &lt;MULTIPOLYGON [m]&gt; |\n|---|---|---|---|\n| 1 | lokoaka_kionakapahu | E:/Data/AOI_Shapefiles/hawaii/lokoaka_kionakapahu.shp | MULTIPOLYGON (((285757 2182... |\n| 1 | pololu              | E:/Data/AOI_Shapefiles/hawaii/pololu.shp              | MULTIPOLYGON (((213311.3 22... |\n| 1 | waimanu             | E:/Data/AOI_Shapefiles/hawaii/waimanu.shp             | MULTIPOLYGON (((223006.9 22... |\n| 1 | waipio              | E:/Data/AOI_Shapefiles/hawaii/waipio.shp              | MULTIPOLYGON (((226466.1 22... |\n\n",
            "text/latex": "A sf: 4 × 4\n\\begin{tabular}{llll}\n id & layer & path & geom\\\\\n <dbl> & <chr> & <chr> & <MULTIPOLYGON {[}m{]}>\\\\\n\\hline\n\t 1 & lokoaka\\_kionakapahu & E:/Data/AOI\\_Shapefiles/hawaii/lokoaka\\_kionakapahu.shp & MULTIPOLYGON (((285757 2182...\\\\\n\t 1 & pololu              & E:/Data/AOI\\_Shapefiles/hawaii/pololu.shp              & MULTIPOLYGON (((213311.3 22...\\\\\n\t 1 & waimanu             & E:/Data/AOI\\_Shapefiles/hawaii/waimanu.shp             & MULTIPOLYGON (((223006.9 22...\\\\\n\t 1 & waipio              & E:/Data/AOI\\_Shapefiles/hawaii/waipio.shp              & MULTIPOLYGON (((226466.1 22...\\\\\n\\end{tabular}\n",
            "text/plain": [
              "  id layer               path                                                 \n",
              "1 1  lokoaka_kionakapahu E:/Data/AOI_Shapefiles/hawaii/lokoaka_kionakapahu.shp\n",
              "2 1  pololu              E:/Data/AOI_Shapefiles/hawaii/pololu.shp             \n",
              "3 1  waimanu             E:/Data/AOI_Shapefiles/hawaii/waimanu.shp            \n",
              "4 1  waipio              E:/Data/AOI_Shapefiles/hawaii/waipio.shp             \n",
              "  geom                          \n",
              "1 MULTIPOLYGON (((285757 2182...\n",
              "2 MULTIPOLYGON (((213311.3 22...\n",
              "3 MULTIPOLYGON (((223006.9 22...\n",
              "4 MULTIPOLYGON (((226466.1 22..."
            ]
          },
          "metadata": {}
        }
      ]
    },
    {
      "cell_type": "code",
      "source": [
        "aoi_utm5_dt <-as.data.table(aoi_utm5)\n",
        "aoi_utm5_dt[,island:= path %>% substr(24,100) %>% gsub('.shp','',.) %>% gsub(layer,'',.) %>% gsub('/','',.),by=1:nrow(aoi_utm5_dt)]\n",
        "# aoi_utm5_dt[,name:= path %>% substr(29,100) %>% gsub('.shp','',.) %>% gsub('/','',.),by=1:nrow(aoi_utm5_dt)]\n",
        "# aoi_utm5_dt[layer ==\"lumahai\", id := 1]\n",
        "# aoi_utm5_dt[, lumahai := NULL]\n",
        "aoi_utm5_dt[id == \"1\", id := 1:4]\n",
        "aoi_utm5 <- aoi_utm5_dt %>% st_as_sf"
      ],
      "metadata": {
        "id": "WrPXhaFHSuhl"
      },
      "execution_count": 15,
      "outputs": []
    },
    {
      "cell_type": "code",
      "source": [
        "aoi_utm5\n",
        "aoi_utm5 %>% plot"
      ],
      "metadata": {
        "id": "Xy9IRiImSwrm",
        "outputId": "3b161894-80f0-41a0-9233-edcdad816a7c",
        "colab": {
          "base_uri": "https://localhost:8080/",
          "height": 1000
        }
      },
      "execution_count": 16,
      "outputs": [
        {
          "output_type": "stream",
          "name": "stderr",
          "text": [
            "ERROR while rich displaying an object: Error in loadNamespace(x): there is no package called ‘geojsonio’\n",
            "\n",
            "Traceback:\n",
            "1. tryCatch(withCallingHandlers({\n",
            " .     if (!mime %in% names(repr::mime2repr)) \n",
            " .         stop(\"No repr_* for mimetype \", mime, \" in repr::mime2repr\")\n",
            " .     rpr <- repr::mime2repr[[mime]](obj)\n",
            " .     if (is.null(rpr)) \n",
            " .         return(NULL)\n",
            " .     prepare_content(is.raw(rpr), rpr)\n",
            " . }, error = error_handler), error = outer_handler)\n",
            "2. tryCatchList(expr, classes, parentenv, handlers)\n",
            "3. tryCatchOne(expr, names, parentenv, handlers[[1L]])\n",
            "4. doTryCatch(return(expr), name, parentenv, handler)\n",
            "5. withCallingHandlers({\n",
            " .     if (!mime %in% names(repr::mime2repr)) \n",
            " .         stop(\"No repr_* for mimetype \", mime, \" in repr::mime2repr\")\n",
            " .     rpr <- repr::mime2repr[[mime]](obj)\n",
            " .     if (is.null(rpr)) \n",
            " .         return(NULL)\n",
            " .     prepare_content(is.raw(rpr), rpr)\n",
            " . }, error = error_handler)\n",
            "6. repr::mime2repr[[mime]](obj)\n",
            "7. repr_geojson.sf(obj)\n",
            "8. repr_geojson(geojsonio::geojson_list(obj), ...)\n",
            "9. loadNamespace(x)\n",
            "10. withRestarts(stop(cond), retry_loadNamespace = function() NULL)\n",
            "11. withOneRestart(expr, restarts[[1L]])\n",
            "12. doWithOneRestart(return(expr), restart)\n"
          ]
        },
        {
          "output_type": "display_data",
          "data": {
            "text/html": [
              "<table class=\"dataframe\">\n",
              "<caption>A sf: 4 × 5</caption>\n",
              "<thead>\n",
              "\t<tr><th scope=col>id</th><th scope=col>layer</th><th scope=col>path</th><th scope=col>island</th><th scope=col>geom</th></tr>\n",
              "\t<tr><th scope=col>&lt;dbl&gt;</th><th scope=col>&lt;chr&gt;</th><th scope=col>&lt;chr&gt;</th><th scope=col>&lt;chr&gt;</th><th scope=col>&lt;MULTIPOLYGON [m]&gt;</th></tr>\n",
              "</thead>\n",
              "<tbody>\n",
              "\t<tr><td>1</td><td>lokoaka_kionakapahu</td><td>E:/Data/AOI_Shapefiles/hawaii/lokoaka_kionakapahu.shp</td><td>hawaii</td><td>MULTIPOLYGON (((285757 2182...</td></tr>\n",
              "\t<tr><td>2</td><td>pololu             </td><td>E:/Data/AOI_Shapefiles/hawaii/pololu.shp             </td><td>hawaii</td><td>MULTIPOLYGON (((213311.3 22...</td></tr>\n",
              "\t<tr><td>3</td><td>waimanu            </td><td>E:/Data/AOI_Shapefiles/hawaii/waimanu.shp            </td><td>hawaii</td><td>MULTIPOLYGON (((223006.9 22...</td></tr>\n",
              "\t<tr><td>4</td><td>waipio             </td><td>E:/Data/AOI_Shapefiles/hawaii/waipio.shp             </td><td>hawaii</td><td>MULTIPOLYGON (((226466.1 22...</td></tr>\n",
              "</tbody>\n",
              "</table>\n"
            ],
            "text/markdown": "\nA sf: 4 × 5\n\n| id &lt;dbl&gt; | layer &lt;chr&gt; | path &lt;chr&gt; | island &lt;chr&gt; | geom &lt;MULTIPOLYGON [m]&gt; |\n|---|---|---|---|---|\n| 1 | lokoaka_kionakapahu | E:/Data/AOI_Shapefiles/hawaii/lokoaka_kionakapahu.shp | hawaii | MULTIPOLYGON (((285757 2182... |\n| 2 | pololu              | E:/Data/AOI_Shapefiles/hawaii/pololu.shp              | hawaii | MULTIPOLYGON (((213311.3 22... |\n| 3 | waimanu             | E:/Data/AOI_Shapefiles/hawaii/waimanu.shp             | hawaii | MULTIPOLYGON (((223006.9 22... |\n| 4 | waipio              | E:/Data/AOI_Shapefiles/hawaii/waipio.shp              | hawaii | MULTIPOLYGON (((226466.1 22... |\n\n",
            "text/latex": "A sf: 4 × 5\n\\begin{tabular}{lllll}\n id & layer & path & island & geom\\\\\n <dbl> & <chr> & <chr> & <chr> & <MULTIPOLYGON {[}m{]}>\\\\\n\\hline\n\t 1 & lokoaka\\_kionakapahu & E:/Data/AOI\\_Shapefiles/hawaii/lokoaka\\_kionakapahu.shp & hawaii & MULTIPOLYGON (((285757 2182...\\\\\n\t 2 & pololu              & E:/Data/AOI\\_Shapefiles/hawaii/pololu.shp              & hawaii & MULTIPOLYGON (((213311.3 22...\\\\\n\t 3 & waimanu             & E:/Data/AOI\\_Shapefiles/hawaii/waimanu.shp             & hawaii & MULTIPOLYGON (((223006.9 22...\\\\\n\t 4 & waipio              & E:/Data/AOI\\_Shapefiles/hawaii/waipio.shp              & hawaii & MULTIPOLYGON (((226466.1 22...\\\\\n\\end{tabular}\n",
            "text/plain": [
              "  id layer               path                                                 \n",
              "1 1  lokoaka_kionakapahu E:/Data/AOI_Shapefiles/hawaii/lokoaka_kionakapahu.shp\n",
              "2 2  pololu              E:/Data/AOI_Shapefiles/hawaii/pololu.shp             \n",
              "3 3  waimanu             E:/Data/AOI_Shapefiles/hawaii/waimanu.shp            \n",
              "4 4  waipio              E:/Data/AOI_Shapefiles/hawaii/waipio.shp             \n",
              "  island geom                          \n",
              "1 hawaii MULTIPOLYGON (((285757 2182...\n",
              "2 hawaii MULTIPOLYGON (((213311.3 22...\n",
              "3 hawaii MULTIPOLYGON (((223006.9 22...\n",
              "4 hawaii MULTIPOLYGON (((226466.1 22..."
            ]
          },
          "metadata": {}
        },
        {
          "output_type": "display_data",
          "data": {
            "text/plain": [
              "Plot with title “island”"
            ],
            "image/png": "[encoded data removed]"
          },
          "metadata": {
            "image/png": {
              "width": 420,
              "height": 420
            }
          }
        }
      ]
    },
    {
      "cell_type": "code",
      "source": [
        "nlcd_utm5 <- raster(\"/content/workingfolder/nlcd/utm5/nlcd_utm5.tif\")"
      ],
      "metadata": {
        "id": "nuto_Q_rS3PA"
      },
      "execution_count": 17,
      "outputs": []
    },
    {
      "cell_type": "code",
      "source": [
        "nwi_utm5 <- st_read(\"/content/workingfolder/nwi_utm5/nwi_utm5.gpkg\")\n",
        "nwi_utm5"
      ],
      "metadata": {
        "id": "VElCfAz7S4mQ",
        "outputId": "e54ab218-30e7-4ea5-b47d-94f320d16525",
        "colab": {
          "base_uri": "https://localhost:8080/",
          "height": 1000
        }
      },
      "execution_count": 18,
      "outputs": [
        {
          "output_type": "stream",
          "name": "stdout",
          "text": [
            "Reading layer `nwi_utm5_numeric' from data source \n",
            "  `/content/workingfolder/nwi_utm5/nwi_utm5.gpkg' using driver `GPKG'\n",
            "Simple feature collection with 2105 features and 8 fields\n",
            "Geometry type: MULTIPOLYGON\n",
            "Dimension:     XY\n",
            "Bounding box:  xmin: 173408.4 ymin: 2087445 xmax: 316047.8 ymax: 2249339\n",
            "Projected CRS: WGS 84 / UTM zone 5N\n"
          ]
        },
        {
          "output_type": "stream",
          "name": "stderr",
          "text": [
            "ERROR while rich displaying an object: Error in loadNamespace(x): there is no package called ‘geojsonio’\n",
            "\n",
            "Traceback:\n",
            "1. tryCatch(withCallingHandlers({\n",
            " .     if (!mime %in% names(repr::mime2repr)) \n",
            " .         stop(\"No repr_* for mimetype \", mime, \" in repr::mime2repr\")\n",
            " .     rpr <- repr::mime2repr[[mime]](obj)\n",
            " .     if (is.null(rpr)) \n",
            " .         return(NULL)\n",
            " .     prepare_content(is.raw(rpr), rpr)\n",
            " . }, error = error_handler), error = outer_handler)\n",
            "2. tryCatchList(expr, classes, parentenv, handlers)\n",
            "3. tryCatchOne(expr, names, parentenv, handlers[[1L]])\n",
            "4. doTryCatch(return(expr), name, parentenv, handler)\n",
            "5. withCallingHandlers({\n",
            " .     if (!mime %in% names(repr::mime2repr)) \n",
            " .         stop(\"No repr_* for mimetype \", mime, \" in repr::mime2repr\")\n",
            " .     rpr <- repr::mime2repr[[mime]](obj)\n",
            " .     if (is.null(rpr)) \n",
            " .         return(NULL)\n",
            " .     prepare_content(is.raw(rpr), rpr)\n",
            " . }, error = error_handler)\n",
            "6. repr::mime2repr[[mime]](obj)\n",
            "7. repr_geojson.sf(obj)\n",
            "8. repr_geojson(geojsonio::geojson_list(obj), ...)\n",
            "9. loadNamespace(x)\n",
            "10. withRestarts(stop(cond), retry_loadNamespace = function() NULL)\n",
            "11. withOneRestart(expr, restarts[[1L]])\n",
            "12. doWithOneRestart(return(expr), restart)\n"
          ]
        },
        {
          "output_type": "display_data",
          "data": {
            "text/html": [
              "<table class=\"dataframe\">\n",
              "<caption>A sf: 2105 × 9</caption>\n",
              "<thead>\n",
              "\t<tr><th scope=col>objectid</th><th scope=col>attribute</th><th scope=col>acres</th><th scope=col>wetland_ty</th><th scope=col>st_areasha</th><th scope=col>st_perimet</th><th scope=col>value</th><th scope=col>wetland_ty_numeric</th><th scope=col>geom</th></tr>\n",
              "\t<tr><th scope=col>&lt;int&gt;</th><th scope=col>&lt;chr&gt;</th><th scope=col>&lt;dbl&gt;</th><th scope=col>&lt;chr&gt;</th><th scope=col>&lt;dbl&gt;</th><th scope=col>&lt;dbl&gt;</th><th scope=col>&lt;dbl&gt;</th><th scope=col>&lt;dbl&gt;</th><th scope=col>&lt;MULTIPOLYGON [m]&gt;</th></tr>\n",
              "</thead>\n",
              "<tbody>\n",
              "\t<tr><td> 1</td><td>PUBHh </td><td> 0.2609826</td><td>Freshwater Pond</td><td> 1056.1591</td><td>  121.4864</td><td>7</td><td>7</td><td>MULTIPOLYGON (((230022.7 21...</td></tr>\n",
              "\t<tr><td> 2</td><td>PUBHh </td><td> 0.3178072</td><td>Freshwater Pond</td><td> 1286.1200</td><td>  129.4962</td><td>7</td><td>7</td><td>MULTIPOLYGON (((228629.6 21...</td></tr>\n",
              "\t<tr><td> 3</td><td>PUS3Ah</td><td> 0.2185504</td><td>Freshwater Pond</td><td>  884.4421</td><td>  107.8919</td><td>7</td><td>7</td><td>MULTIPOLYGON (((226387.3 21...</td></tr>\n",
              "\t<tr><td> 4</td><td>PUS3Ah</td><td> 0.4064771</td><td>Freshwater Pond</td><td> 1644.9544</td><td>  153.5977</td><td>7</td><td>7</td><td>MULTIPOLYGON (((225440.1 21...</td></tr>\n",
              "\t<tr><td> 5</td><td>PUS3Ch</td><td> 0.2855907</td><td>Freshwater Pond</td><td> 1155.7447</td><td>  124.3542</td><td>7</td><td>7</td><td>MULTIPOLYGON (((226575.2 21...</td></tr>\n",
              "\t<tr><td> 6</td><td>PUS3Ch</td><td> 0.4222651</td><td>Freshwater Pond</td><td> 1708.8463</td><td>  156.8640</td><td>7</td><td>7</td><td>MULTIPOLYGON (((228047.3 21...</td></tr>\n",
              "\t<tr><td> 7</td><td>PUS3Ch</td><td> 0.1888957</td><td>Freshwater Pond</td><td>  764.4338</td><td>   99.7818</td><td>7</td><td>7</td><td>MULTIPOLYGON (((226417.9 21...</td></tr>\n",
              "\t<tr><td> 8</td><td>PUS3Ch</td><td> 0.2335592</td><td>Freshwater Pond</td><td>  945.1806</td><td>  111.1221</td><td>7</td><td>7</td><td>MULTIPOLYGON (((225989.5 21...</td></tr>\n",
              "\t<tr><td> 9</td><td>PUS3Ch</td><td> 0.2310241</td><td>Freshwater Pond</td><td>  934.9212</td><td>  111.1674</td><td>7</td><td>7</td><td>MULTIPOLYGON (((228259.3 21...</td></tr>\n",
              "\t<tr><td>10</td><td>PUS3Ch</td><td> 0.2015431</td><td>Freshwater Pond</td><td>  815.6161</td><td>  105.6278</td><td>7</td><td>7</td><td>MULTIPOLYGON (((227795.9 21...</td></tr>\n",
              "\t<tr><td>11</td><td>R4SBC </td><td> 0.4070043</td><td>Riverine       </td><td> 1646.9234</td><td>  556.9228</td><td>3</td><td>3</td><td>MULTIPOLYGON (((235668 2186...</td></tr>\n",
              "\t<tr><td>12</td><td>R4SBC </td><td> 3.9465503</td><td>Riverine       </td><td>15970.8954</td><td> 5325.1074</td><td>3</td><td>3</td><td>MULTIPOLYGON (((226262 2189...</td></tr>\n",
              "\t<tr><td>13</td><td>R4SBC </td><td> 1.3529643</td><td>Riverine       </td><td> 5475.1169</td><td> 1832.7210</td><td>3</td><td>3</td><td>MULTIPOLYGON (((225460 2190...</td></tr>\n",
              "\t<tr><td>14</td><td>R4SBC </td><td>10.1487054</td><td>Riverine       </td><td>41070.0629</td><td>13694.5000</td><td>3</td><td>3</td><td>MULTIPOLYGON (((236429.9 21...</td></tr>\n",
              "\t<tr><td>15</td><td>R4SBC </td><td> 1.4777824</td><td>Riverine       </td><td> 5980.2342</td><td> 1996.2841</td><td>3</td><td>3</td><td>MULTIPOLYGON (((226241.6 21...</td></tr>\n",
              "\t<tr><td>16</td><td>R4SBC </td><td> 5.9207439</td><td>Riverine       </td><td>23960.2932</td><td> 7967.5341</td><td>3</td><td>3</td><td>MULTIPOLYGON (((225756.6 21...</td></tr>\n",
              "\t<tr><td>17</td><td>R4SBC </td><td> 9.0715699</td><td>Riverine       </td><td>36711.1878</td><td>12207.3978</td><td>3</td><td>3</td><td>MULTIPOLYGON (((225469.7 21...</td></tr>\n",
              "\t<tr><td>18</td><td>R4SBC </td><td> 2.4382452</td><td>Riverine       </td><td> 9866.9612</td><td> 3292.6908</td><td>3</td><td>3</td><td>MULTIPOLYGON (((275273 2185...</td></tr>\n",
              "\t<tr><td>19</td><td>R4SBC </td><td> 1.3194634</td><td>Riverine       </td><td> 5339.6051</td><td> 1786.6469</td><td>3</td><td>3</td><td>MULTIPOLYGON (((271928.9 21...</td></tr>\n",
              "\t<tr><td>20</td><td>R4SBC </td><td> 3.6162789</td><td>Riverine       </td><td>14634.0357</td><td> 4871.8329</td><td>3</td><td>3</td><td>MULTIPOLYGON (((276912.8 21...</td></tr>\n",
              "\t<tr><td>21</td><td>R4SBC </td><td> 2.4195243</td><td>Riverine       </td><td> 9791.1000</td><td> 3264.1502</td><td>3</td><td>3</td><td>MULTIPOLYGON (((276105.1 21...</td></tr>\n",
              "\t<tr><td>22</td><td>R4SBC </td><td> 4.5438877</td><td>Riverine       </td><td>18387.9959</td><td> 6120.0947</td><td>3</td><td>3</td><td>MULTIPOLYGON (((275084.8 21...</td></tr>\n",
              "\t<tr><td>23</td><td>R4SBC </td><td> 2.9091712</td><td>Riverine       </td><td>11772.5234</td><td> 3921.0823</td><td>3</td><td>3</td><td>MULTIPOLYGON (((276630.1 21...</td></tr>\n",
              "\t<tr><td>24</td><td>R4SBC </td><td> 0.3698654</td><td>Riverine       </td><td> 1496.7545</td><td>  513.7667</td><td>3</td><td>3</td><td>MULTIPOLYGON (((271892.4 21...</td></tr>\n",
              "\t<tr><td>25</td><td>R4SBC </td><td> 3.7599832</td><td>Riverine       </td><td>15215.7718</td><td> 5063.3799</td><td>3</td><td>3</td><td>MULTIPOLYGON (((274924.3 21...</td></tr>\n",
              "\t<tr><td>26</td><td>R4SBC </td><td> 4.3259941</td><td>Riverine       </td><td>17506.0764</td><td> 5825.8932</td><td>3</td><td>3</td><td>MULTIPOLYGON (((277571.3 21...</td></tr>\n",
              "\t<tr><td>27</td><td>R4SBC </td><td> 2.5076827</td><td>Riverine       </td><td>10147.8762</td><td> 3390.4412</td><td>3</td><td>3</td><td>MULTIPOLYGON (((277627.9 21...</td></tr>\n",
              "\t<tr><td>28</td><td>R4SBC </td><td> 1.4185481</td><td>Riverine       </td><td> 5740.5360</td><td> 1935.6427</td><td>3</td><td>3</td><td>MULTIPOLYGON (((273604.8 21...</td></tr>\n",
              "\t<tr><td>29</td><td>R4SBC </td><td> 1.4315388</td><td>Riverine       </td><td> 5793.1206</td><td> 1944.2396</td><td>3</td><td>3</td><td>MULTIPOLYGON (((272066.7 21...</td></tr>\n",
              "\t<tr><td>30</td><td>R4SBC </td><td> 3.2701971</td><td>Riverine       </td><td>13233.7760</td><td> 4406.9238</td><td>3</td><td>3</td><td>MULTIPOLYGON (((277715.6 21...</td></tr>\n",
              "\t<tr><td>⋮</td><td>⋮</td><td>⋮</td><td>⋮</td><td>⋮</td><td>⋮</td><td>⋮</td><td>⋮</td><td>⋮</td></tr>\n",
              "\t<tr><td> 9982</td><td>PFO3A </td><td>5.195364e+00</td><td>Freshwater Forested/Shrub Wetland</td><td>2.102443e+04</td><td>   7000.1270</td><td>6</td><td>6</td><td>MULTIPOLYGON (((274932.2 21...</td></tr>\n",
              "\t<tr><td> 9983</td><td>PFO3A </td><td>4.961877e+00</td><td>Freshwater Forested/Shrub Wetland</td><td>2.007969e+04</td><td>   6689.8844</td><td>6</td><td>6</td><td>MULTIPOLYGON (((275174.4 21...</td></tr>\n",
              "\t<tr><td> 9984</td><td>PSS3A </td><td>2.986335e+00</td><td>Freshwater Forested/Shrub Wetland</td><td>1.208519e+04</td><td>   4042.0998</td><td>6</td><td>6</td><td>MULTIPOLYGON (((278582.6 21...</td></tr>\n",
              "\t<tr><td> 9985</td><td>PSS3C </td><td>1.240973e+01</td><td>Freshwater Forested/Shrub Wetland</td><td>5.022014e+04</td><td>  16704.3303</td><td>6</td><td>6</td><td>MULTIPOLYGON (((278683.1 21...</td></tr>\n",
              "\t<tr><td> 9986</td><td>PUBH  </td><td>1.071638e+00</td><td>Freshwater Pond                  </td><td>4.336885e+03</td><td>    256.2984</td><td>7</td><td>7</td><td>MULTIPOLYGON (((274576.4 21...</td></tr>\n",
              "\t<tr><td> 9987</td><td>PUBH  </td><td>7.934745e-01</td><td>Freshwater Pond                  </td><td>3.211214e+03</td><td>    209.2720</td><td>7</td><td>7</td><td>MULTIPOLYGON (((276158.1 21...</td></tr>\n",
              "\t<tr><td> 9988</td><td>R5UBH </td><td>4.957001e+00</td><td>Riverine                         </td><td>2.005944e+04</td><td>   5018.2701</td><td>3</td><td>3</td><td>MULTIPOLYGON (((266055.7 21...</td></tr>\n",
              "\t<tr><td> 9989</td><td>R3UBH </td><td>1.004487e+00</td><td>Riverine                         </td><td>4.064781e+03</td><td>   1025.4636</td><td>3</td><td>3</td><td>MULTIPOLYGON (((275013.1 21...</td></tr>\n",
              "\t<tr><td> 9990</td><td>R3UBH </td><td>1.460592e+01</td><td>Riverine                         </td><td>5.910723e+04</td><td>  14668.1916</td><td>3</td><td>3</td><td>MULTIPOLYGON (((280917.5 21...</td></tr>\n",
              "\t<tr><td> 9991</td><td>E1UBL </td><td>1.094611e+01</td><td>Estuarine and Marine Deepwater   </td><td>4.429720e+04</td><td>   1266.2043</td><td>1</td><td>1</td><td>MULTIPOLYGON (((214609 2236...</td></tr>\n",
              "\t<tr><td> 9992</td><td>M2US2N</td><td>1.171522e+00</td><td>Estuarine and Marine Wetland     </td><td>4.741051e+03</td><td>   1231.9390</td><td>4</td><td>4</td><td>MULTIPOLYGON (((214956.3 22...</td></tr>\n",
              "\t<tr><td> 9993</td><td>PFO3B </td><td>1.580907e+04</td><td>Freshwater Forested/Shrub Wetland</td><td>6.397704e+07</td><td> 148101.3602</td><td>6</td><td>6</td><td>MULTIPOLYGON (((213997.4 22...</td></tr>\n",
              "\t<tr><td> 9994</td><td>R3UBH </td><td>1.378119e+01</td><td>Riverine                         </td><td>5.576973e+04</td><td>  13973.4363</td><td>3</td><td>3</td><td>MULTIPOLYGON (((217848.7 22...</td></tr>\n",
              "\t<tr><td> 9995</td><td>PFO3A </td><td>4.675133e+00</td><td>Freshwater Forested/Shrub Wetland</td><td>1.891954e+04</td><td>   6312.6256</td><td>6</td><td>6</td><td>MULTIPOLYGON (((262213.3 21...</td></tr>\n",
              "\t<tr><td> 9996</td><td>PFO3A </td><td>1.075346e+01</td><td>Freshwater Forested/Shrub Wetland</td><td>4.351734e+04</td><td>  14481.2254</td><td>6</td><td>6</td><td>MULTIPOLYGON (((259682.1 21...</td></tr>\n",
              "\t<tr><td> 9997</td><td>PFO3A </td><td>2.342838e+01</td><td>Freshwater Forested/Shrub Wetland</td><td>9.481049e+04</td><td>  31493.1520</td><td>6</td><td>6</td><td>MULTIPOLYGON (((260396.6 21...</td></tr>\n",
              "\t<tr><td> 9998</td><td>PFO3A </td><td>1.229269e+01</td><td>Freshwater Forested/Shrub Wetland</td><td>4.974637e+04</td><td>  16535.6776</td><td>6</td><td>6</td><td>MULTIPOLYGON (((266452.5 21...</td></tr>\n",
              "\t<tr><td> 9999</td><td>PFO3C </td><td>1.394752e+01</td><td>Freshwater Forested/Shrub Wetland</td><td>5.644312e+04</td><td>  18783.4206</td><td>6</td><td>6</td><td>MULTIPOLYGON (((266746.3 21...</td></tr>\n",
              "\t<tr><td>10000</td><td>PEM1A </td><td>2.261225e+00</td><td>Freshwater Emergent Wetland      </td><td>9.150821e+03</td><td>   3068.2431</td><td>5</td><td>5</td><td>MULTIPOLYGON (((234411 2115...</td></tr>\n",
              "\t<tr><td>10001</td><td>PFO3A </td><td>3.923106e+00</td><td>Freshwater Forested/Shrub Wetland</td><td>1.587620e+04</td><td>   5299.8400</td><td>6</td><td>6</td><td>MULTIPOLYGON (((232676.3 21...</td></tr>\n",
              "\t<tr><td>10021</td><td>PSS3B </td><td>3.741407e+04</td><td>Freshwater Forested/Shrub Wetland</td><td>1.514094e+08</td><td> 270810.0361</td><td>6</td><td>6</td><td>MULTIPOLYGON (((265172.3 21...</td></tr>\n",
              "\t<tr><td>10030</td><td>PFO3A </td><td>8.049439e+00</td><td>Freshwater Forested/Shrub Wetland</td><td>3.257470e+04</td><td>  10852.9098</td><td>6</td><td>6</td><td>MULTIPOLYGON (((240422.4 21...</td></tr>\n",
              "\t<tr><td>10031</td><td>PSS3A </td><td>1.005655e+01</td><td>Freshwater Forested/Shrub Wetland</td><td>4.069718e+04</td><td>  13563.4082</td><td>6</td><td>6</td><td>MULTIPOLYGON (((237674 2130...</td></tr>\n",
              "\t<tr><td>10032</td><td>PEM1A </td><td>2.494951e-01</td><td>Freshwater Emergent Wetland      </td><td>1.009786e+03</td><td>    363.2872</td><td>5</td><td>5</td><td>MULTIPOLYGON (((204271.9 22...</td></tr>\n",
              "\t<tr><td>10033</td><td>PFO3A </td><td>1.334859e+00</td><td>Freshwater Forested/Shrub Wetland</td><td>5.401861e+03</td><td>   1812.8379</td><td>6</td><td>6</td><td>MULTIPOLYGON (((204813.9 22...</td></tr>\n",
              "\t<tr><td>10034</td><td>PSS3A </td><td>7.425328e-01</td><td>Freshwater Forested/Shrub Wetland</td><td>3.004768e+03</td><td>   1011.2833</td><td>6</td><td>6</td><td>MULTIPOLYGON (((204271.9 22...</td></tr>\n",
              "\t<tr><td>10035</td><td>PSS3A </td><td>8.984495e-01</td><td>Freshwater Forested/Shrub Wetland</td><td>3.635785e+03</td><td>   1228.8204</td><td>6</td><td>6</td><td>MULTIPOLYGON (((204475.4 22...</td></tr>\n",
              "\t<tr><td>10036</td><td>PSS3A </td><td>3.231922e+00</td><td>Freshwater Forested/Shrub Wetland</td><td>1.307869e+04</td><td>   4372.9824</td><td>6</td><td>6</td><td>MULTIPOLYGON (((205896 2240...</td></tr>\n",
              "\t<tr><td>10037</td><td>PSS3A </td><td>4.998937e+00</td><td>Freshwater Forested/Shrub Wetland</td><td>2.022956e+04</td><td>   6753.4464</td><td>6</td><td>6</td><td>MULTIPOLYGON (((205708.1 22...</td></tr>\n",
              "\t<tr><td>10048</td><td>M1UBL </td><td>6.817024e+05</td><td>Estuarine and Marine Deepwater   </td><td>2.758752e+09</td><td>1100668.9611</td><td>1</td><td>1</td><td>MULTIPOLYGON (((197671.9 22...</td></tr>\n",
              "</tbody>\n",
              "</table>\n"
            ],
            "text/markdown": "\nA sf: 2105 × 9\n\n| objectid &lt;int&gt; | attribute &lt;chr&gt; | acres &lt;dbl&gt; | wetland_ty &lt;chr&gt; | st_areasha &lt;dbl&gt; | st_perimet &lt;dbl&gt; | value &lt;dbl&gt; | wetland_ty_numeric &lt;dbl&gt; | geom &lt;MULTIPOLYGON [m]&gt; |\n|---|---|---|---|---|---|---|---|---|\n|  1 | PUBHh  |  0.2609826 | Freshwater Pond |  1056.1591 |   121.4864 | 7 | 7 | MULTIPOLYGON (((230022.7 21... |\n|  2 | PUBHh  |  0.3178072 | Freshwater Pond |  1286.1200 |   129.4962 | 7 | 7 | MULTIPOLYGON (((228629.6 21... |\n|  3 | PUS3Ah |  0.2185504 | Freshwater Pond |   884.4421 |   107.8919 | 7 | 7 | MULTIPOLYGON (((226387.3 21... |\n|  4 | PUS3Ah |  0.4064771 | Freshwater Pond |  1644.9544 |   153.5977 | 7 | 7 | MULTIPOLYGON (((225440.1 21... |\n|  5 | PUS3Ch |  0.2855907 | Freshwater Pond |  1155.7447 |   124.3542 | 7 | 7 | MULTIPOLYGON (((226575.2 21... |\n|  6 | PUS3Ch |  0.4222651 | Freshwater Pond |  1708.8463 |   156.8640 | 7 | 7 | MULTIPOLYGON (((228047.3 21... |\n|  7 | PUS3Ch |  0.1888957 | Freshwater Pond |   764.4338 |    99.7818 | 7 | 7 | MULTIPOLYGON (((226417.9 21... |\n|  8 | PUS3Ch |  0.2335592 | Freshwater Pond |   945.1806 |   111.1221 | 7 | 7 | MULTIPOLYGON (((225989.5 21... |\n|  9 | PUS3Ch |  0.2310241 | Freshwater Pond |   934.9212 |   111.1674 | 7 | 7 | MULTIPOLYGON (((228259.3 21... |\n| 10 | PUS3Ch |  0.2015431 | Freshwater Pond |   815.6161 |   105.6278 | 7 | 7 | MULTIPOLYGON (((227795.9 21... |\n| 11 | R4SBC  |  0.4070043 | Riverine        |  1646.9234 |   556.9228 | 3 | 3 | MULTIPOLYGON (((235668 2186... |\n| 12 | R4SBC  |  3.9465503 | Riverine        | 15970.8954 |  5325.1074 | 3 | 3 | MULTIPOLYGON (((226262 2189... |\n| 13 | R4SBC  |  1.3529643 | Riverine        |  5475.1169 |  1832.7210 | 3 | 3 | MULTIPOLYGON (((225460 2190... |\n| 14 | R4SBC  | 10.1487054 | Riverine        | 41070.0629 | 13694.5000 | 3 | 3 | MULTIPOLYGON (((236429.9 21... |\n| 15 | R4SBC  |  1.4777824 | Riverine        |  5980.2342 |  1996.2841 | 3 | 3 | MULTIPOLYGON (((226241.6 21... |\n| 16 | R4SBC  |  5.9207439 | Riverine        | 23960.2932 |  7967.5341 | 3 | 3 | MULTIPOLYGON (((225756.6 21... |\n| 17 | R4SBC  |  9.0715699 | Riverine        | 36711.1878 | 12207.3978 | 3 | 3 | MULTIPOLYGON (((225469.7 21... |\n| 18 | R4SBC  |  2.4382452 | Riverine        |  9866.9612 |  3292.6908 | 3 | 3 | MULTIPOLYGON (((275273 2185... |\n| 19 | R4SBC  |  1.3194634 | Riverine        |  5339.6051 |  1786.6469 | 3 | 3 | MULTIPOLYGON (((271928.9 21... |\n| 20 | R4SBC  |  3.6162789 | Riverine        | 14634.0357 |  4871.8329 | 3 | 3 | MULTIPOLYGON (((276912.8 21... |\n| 21 | R4SBC  |  2.4195243 | Riverine        |  9791.1000 |  3264.1502 | 3 | 3 | MULTIPOLYGON (((276105.1 21... |\n| 22 | R4SBC  |  4.5438877 | Riverine        | 18387.9959 |  6120.0947 | 3 | 3 | MULTIPOLYGON (((275084.8 21... |\n| 23 | R4SBC  |  2.9091712 | Riverine        | 11772.5234 |  3921.0823 | 3 | 3 | MULTIPOLYGON (((276630.1 21... |\n| 24 | R4SBC  |  0.3698654 | Riverine        |  1496.7545 |   513.7667 | 3 | 3 | MULTIPOLYGON (((271892.4 21... |\n| 25 | R4SBC  |  3.7599832 | Riverine        | 15215.7718 |  5063.3799 | 3 | 3 | MULTIPOLYGON (((274924.3 21... |\n| 26 | R4SBC  |  4.3259941 | Riverine        | 17506.0764 |  5825.8932 | 3 | 3 | MULTIPOLYGON (((277571.3 21... |\n| 27 | R4SBC  |  2.5076827 | Riverine        | 10147.8762 |  3390.4412 | 3 | 3 | MULTIPOLYGON (((277627.9 21... |\n| 28 | R4SBC  |  1.4185481 | Riverine        |  5740.5360 |  1935.6427 | 3 | 3 | MULTIPOLYGON (((273604.8 21... |\n| 29 | R4SBC  |  1.4315388 | Riverine        |  5793.1206 |  1944.2396 | 3 | 3 | MULTIPOLYGON (((272066.7 21... |\n| 30 | R4SBC  |  3.2701971 | Riverine        | 13233.7760 |  4406.9238 | 3 | 3 | MULTIPOLYGON (((277715.6 21... |\n| ⋮ | ⋮ | ⋮ | ⋮ | ⋮ | ⋮ | ⋮ | ⋮ | ⋮ |\n|  9982 | PFO3A  | 5.195364e+00 | Freshwater Forested/Shrub Wetland | 2.102443e+04 |    7000.1270 | 6 | 6 | MULTIPOLYGON (((274932.2 21... |\n|  9983 | PFO3A  | 4.961877e+00 | Freshwater Forested/Shrub Wetland | 2.007969e+04 |    6689.8844 | 6 | 6 | MULTIPOLYGON (((275174.4 21... |\n|  9984 | PSS3A  | 2.986335e+00 | Freshwater Forested/Shrub Wetland | 1.208519e+04 |    4042.0998 | 6 | 6 | MULTIPOLYGON (((278582.6 21... |\n|  9985 | PSS3C  | 1.240973e+01 | Freshwater Forested/Shrub Wetland | 5.022014e+04 |   16704.3303 | 6 | 6 | MULTIPOLYGON (((278683.1 21... |\n|  9986 | PUBH   | 1.071638e+00 | Freshwater Pond                   | 4.336885e+03 |     256.2984 | 7 | 7 | MULTIPOLYGON (((274576.4 21... |\n|  9987 | PUBH   | 7.934745e-01 | Freshwater Pond                   | 3.211214e+03 |     209.2720 | 7 | 7 | MULTIPOLYGON (((276158.1 21... |\n|  9988 | R5UBH  | 4.957001e+00 | Riverine                          | 2.005944e+04 |    5018.2701 | 3 | 3 | MULTIPOLYGON (((266055.7 21... |\n|  9989 | R3UBH  | 1.004487e+00 | Riverine                          | 4.064781e+03 |    1025.4636 | 3 | 3 | MULTIPOLYGON (((275013.1 21... |\n|  9990 | R3UBH  | 1.460592e+01 | Riverine                          | 5.910723e+04 |   14668.1916 | 3 | 3 | MULTIPOLYGON (((280917.5 21... |\n|  9991 | E1UBL  | 1.094611e+01 | Estuarine and Marine Deepwater    | 4.429720e+04 |    1266.2043 | 1 | 1 | MULTIPOLYGON (((214609 2236... |\n|  9992 | M2US2N | 1.171522e+00 | Estuarine and Marine Wetland      | 4.741051e+03 |    1231.9390 | 4 | 4 | MULTIPOLYGON (((214956.3 22... |\n|  9993 | PFO3B  | 1.580907e+04 | Freshwater Forested/Shrub Wetland | 6.397704e+07 |  148101.3602 | 6 | 6 | MULTIPOLYGON (((213997.4 22... |\n|  9994 | R3UBH  | 1.378119e+01 | Riverine                          | 5.576973e+04 |   13973.4363 | 3 | 3 | MULTIPOLYGON (((217848.7 22... |\n|  9995 | PFO3A  | 4.675133e+00 | Freshwater Forested/Shrub Wetland | 1.891954e+04 |    6312.6256 | 6 | 6 | MULTIPOLYGON (((262213.3 21... |\n|  9996 | PFO3A  | 1.075346e+01 | Freshwater Forested/Shrub Wetland | 4.351734e+04 |   14481.2254 | 6 | 6 | MULTIPOLYGON (((259682.1 21... |\n|  9997 | PFO3A  | 2.342838e+01 | Freshwater Forested/Shrub Wetland | 9.481049e+04 |   31493.1520 | 6 | 6 | MULTIPOLYGON (((260396.6 21... |\n|  9998 | PFO3A  | 1.229269e+01 | Freshwater Forested/Shrub Wetland | 4.974637e+04 |   16535.6776 | 6 | 6 | MULTIPOLYGON (((266452.5 21... |\n|  9999 | PFO3C  | 1.394752e+01 | Freshwater Forested/Shrub Wetland | 5.644312e+04 |   18783.4206 | 6 | 6 | MULTIPOLYGON (((266746.3 21... |\n| 10000 | PEM1A  | 2.261225e+00 | Freshwater Emergent Wetland       | 9.150821e+03 |    3068.2431 | 5 | 5 | MULTIPOLYGON (((234411 2115... |\n| 10001 | PFO3A  | 3.923106e+00 | Freshwater Forested/Shrub Wetland | 1.587620e+04 |    5299.8400 | 6 | 6 | MULTIPOLYGON (((232676.3 21... |\n| 10021 | PSS3B  | 3.741407e+04 | Freshwater Forested/Shrub Wetland | 1.514094e+08 |  270810.0361 | 6 | 6 | MULTIPOLYGON (((265172.3 21... |\n| 10030 | PFO3A  | 8.049439e+00 | Freshwater Forested/Shrub Wetland | 3.257470e+04 |   10852.9098 | 6 | 6 | MULTIPOLYGON (((240422.4 21... |\n| 10031 | PSS3A  | 1.005655e+01 | Freshwater Forested/Shrub Wetland | 4.069718e+04 |   13563.4082 | 6 | 6 | MULTIPOLYGON (((237674 2130... |\n| 10032 | PEM1A  | 2.494951e-01 | Freshwater Emergent Wetland       | 1.009786e+03 |     363.2872 | 5 | 5 | MULTIPOLYGON (((204271.9 22... |\n| 10033 | PFO3A  | 1.334859e+00 | Freshwater Forested/Shrub Wetland | 5.401861e+03 |    1812.8379 | 6 | 6 | MULTIPOLYGON (((204813.9 22... |\n| 10034 | PSS3A  | 7.425328e-01 | Freshwater Forested/Shrub Wetland | 3.004768e+03 |    1011.2833 | 6 | 6 | MULTIPOLYGON (((204271.9 22... |\n| 10035 | PSS3A  | 8.984495e-01 | Freshwater Forested/Shrub Wetland | 3.635785e+03 |    1228.8204 | 6 | 6 | MULTIPOLYGON (((204475.4 22... |\n| 10036 | PSS3A  | 3.231922e+00 | Freshwater Forested/Shrub Wetland | 1.307869e+04 |    4372.9824 | 6 | 6 | MULTIPOLYGON (((205896 2240... |\n| 10037 | PSS3A  | 4.998937e+00 | Freshwater Forested/Shrub Wetland | 2.022956e+04 |    6753.4464 | 6 | 6 | MULTIPOLYGON (((205708.1 22... |\n| 10048 | M1UBL  | 6.817024e+05 | Estuarine and Marine Deepwater    | 2.758752e+09 | 1100668.9611 | 1 | 1 | MULTIPOLYGON (((197671.9 22... |\n\n",
            "text/latex": "A sf: 2105 × 9\n\\begin{tabular}{lllllllll}\n objectid & attribute & acres & wetland\\_ty & st\\_areasha & st\\_perimet & value & wetland\\_ty\\_numeric & geom\\\\\n <int> & <chr> & <dbl> & <chr> & <dbl> & <dbl> & <dbl> & <dbl> & <MULTIPOLYGON {[}m{]}>\\\\\n\\hline\n\t  1 & PUBHh  &  0.2609826 & Freshwater Pond &  1056.1591 &   121.4864 & 7 & 7 & MULTIPOLYGON (((230022.7 21...\\\\\n\t  2 & PUBHh  &  0.3178072 & Freshwater Pond &  1286.1200 &   129.4962 & 7 & 7 & MULTIPOLYGON (((228629.6 21...\\\\\n\t  3 & PUS3Ah &  0.2185504 & Freshwater Pond &   884.4421 &   107.8919 & 7 & 7 & MULTIPOLYGON (((226387.3 21...\\\\\n\t  4 & PUS3Ah &  0.4064771 & Freshwater Pond &  1644.9544 &   153.5977 & 7 & 7 & MULTIPOLYGON (((225440.1 21...\\\\\n\t  5 & PUS3Ch &  0.2855907 & Freshwater Pond &  1155.7447 &   124.3542 & 7 & 7 & MULTIPOLYGON (((226575.2 21...\\\\\n\t  6 & PUS3Ch &  0.4222651 & Freshwater Pond &  1708.8463 &   156.8640 & 7 & 7 & MULTIPOLYGON (((228047.3 21...\\\\\n\t  7 & PUS3Ch &  0.1888957 & Freshwater Pond &   764.4338 &    99.7818 & 7 & 7 & MULTIPOLYGON (((226417.9 21...\\\\\n\t  8 & PUS3Ch &  0.2335592 & Freshwater Pond &   945.1806 &   111.1221 & 7 & 7 & MULTIPOLYGON (((225989.5 21...\\\\\n\t  9 & PUS3Ch &  0.2310241 & Freshwater Pond &   934.9212 &   111.1674 & 7 & 7 & MULTIPOLYGON (((228259.3 21...\\\\\n\t 10 & PUS3Ch &  0.2015431 & Freshwater Pond &   815.6161 &   105.6278 & 7 & 7 & MULTIPOLYGON (((227795.9 21...\\\\\n\t 11 & R4SBC  &  0.4070043 & Riverine        &  1646.9234 &   556.9228 & 3 & 3 & MULTIPOLYGON (((235668 2186...\\\\\n\t 12 & R4SBC  &  3.9465503 & Riverine        & 15970.8954 &  5325.1074 & 3 & 3 & MULTIPOLYGON (((226262 2189...\\\\\n\t 13 & R4SBC  &  1.3529643 & Riverine        &  5475.1169 &  1832.7210 & 3 & 3 & MULTIPOLYGON (((225460 2190...\\\\\n\t 14 & R4SBC  & 10.1487054 & Riverine        & 41070.0629 & 13694.5000 & 3 & 3 & MULTIPOLYGON (((236429.9 21...\\\\\n\t 15 & R4SBC  &  1.4777824 & Riverine        &  5980.2342 &  1996.2841 & 3 & 3 & MULTIPOLYGON (((226241.6 21...\\\\\n\t 16 & R4SBC  &  5.9207439 & Riverine        & 23960.2932 &  7967.5341 & 3 & 3 & MULTIPOLYGON (((225756.6 21...\\\\\n\t 17 & R4SBC  &  9.0715699 & Riverine        & 36711.1878 & 12207.3978 & 3 & 3 & MULTIPOLYGON (((225469.7 21...\\\\\n\t 18 & R4SBC  &  2.4382452 & Riverine        &  9866.9612 &  3292.6908 & 3 & 3 & MULTIPOLYGON (((275273 2185...\\\\\n\t 19 & R4SBC  &  1.3194634 & Riverine        &  5339.6051 &  1786.6469 & 3 & 3 & MULTIPOLYGON (((271928.9 21...\\\\\n\t 20 & R4SBC  &  3.6162789 & Riverine        & 14634.0357 &  4871.8329 & 3 & 3 & MULTIPOLYGON (((276912.8 21...\\\\\n\t 21 & R4SBC  &  2.4195243 & Riverine        &  9791.1000 &  3264.1502 & 3 & 3 & MULTIPOLYGON (((276105.1 21...\\\\\n\t 22 & R4SBC  &  4.5438877 & Riverine        & 18387.9959 &  6120.0947 & 3 & 3 & MULTIPOLYGON (((275084.8 21...\\\\\n\t 23 & R4SBC  &  2.9091712 & Riverine        & 11772.5234 &  3921.0823 & 3 & 3 & MULTIPOLYGON (((276630.1 21...\\\\\n\t 24 & R4SBC  &  0.3698654 & Riverine        &  1496.7545 &   513.7667 & 3 & 3 & MULTIPOLYGON (((271892.4 21...\\\\\n\t 25 & R4SBC  &  3.7599832 & Riverine        & 15215.7718 &  5063.3799 & 3 & 3 & MULTIPOLYGON (((274924.3 21...\\\\\n\t 26 & R4SBC  &  4.3259941 & Riverine        & 17506.0764 &  5825.8932 & 3 & 3 & MULTIPOLYGON (((277571.3 21...\\\\\n\t 27 & R4SBC  &  2.5076827 & Riverine        & 10147.8762 &  3390.4412 & 3 & 3 & MULTIPOLYGON (((277627.9 21...\\\\\n\t 28 & R4SBC  &  1.4185481 & Riverine        &  5740.5360 &  1935.6427 & 3 & 3 & MULTIPOLYGON (((273604.8 21...\\\\\n\t 29 & R4SBC  &  1.4315388 & Riverine        &  5793.1206 &  1944.2396 & 3 & 3 & MULTIPOLYGON (((272066.7 21...\\\\\n\t 30 & R4SBC  &  3.2701971 & Riverine        & 13233.7760 &  4406.9238 & 3 & 3 & MULTIPOLYGON (((277715.6 21...\\\\\n\t ⋮ & ⋮ & ⋮ & ⋮ & ⋮ & ⋮ & ⋮ & ⋮ & ⋮\\\\\n\t  9982 & PFO3A  & 5.195364e+00 & Freshwater Forested/Shrub Wetland & 2.102443e+04 &    7000.1270 & 6 & 6 & MULTIPOLYGON (((274932.2 21...\\\\\n\t  9983 & PFO3A  & 4.961877e+00 & Freshwater Forested/Shrub Wetland & 2.007969e+04 &    6689.8844 & 6 & 6 & MULTIPOLYGON (((275174.4 21...\\\\\n\t  9984 & PSS3A  & 2.986335e+00 & Freshwater Forested/Shrub Wetland & 1.208519e+04 &    4042.0998 & 6 & 6 & MULTIPOLYGON (((278582.6 21...\\\\\n\t  9985 & PSS3C  & 1.240973e+01 & Freshwater Forested/Shrub Wetland & 5.022014e+04 &   16704.3303 & 6 & 6 & MULTIPOLYGON (((278683.1 21...\\\\\n\t  9986 & PUBH   & 1.071638e+00 & Freshwater Pond                   & 4.336885e+03 &     256.2984 & 7 & 7 & MULTIPOLYGON (((274576.4 21...\\\\\n\t  9987 & PUBH   & 7.934745e-01 & Freshwater Pond                   & 3.211214e+03 &     209.2720 & 7 & 7 & MULTIPOLYGON (((276158.1 21...\\\\\n\t  9988 & R5UBH  & 4.957001e+00 & Riverine                          & 2.005944e+04 &    5018.2701 & 3 & 3 & MULTIPOLYGON (((266055.7 21...\\\\\n\t  9989 & R3UBH  & 1.004487e+00 & Riverine                          & 4.064781e+03 &    1025.4636 & 3 & 3 & MULTIPOLYGON (((275013.1 21...\\\\\n\t  9990 & R3UBH  & 1.460592e+01 & Riverine                          & 5.910723e+04 &   14668.1916 & 3 & 3 & MULTIPOLYGON (((280917.5 21...\\\\\n\t  9991 & E1UBL  & 1.094611e+01 & Estuarine and Marine Deepwater    & 4.429720e+04 &    1266.2043 & 1 & 1 & MULTIPOLYGON (((214609 2236...\\\\\n\t  9992 & M2US2N & 1.171522e+00 & Estuarine and Marine Wetland      & 4.741051e+03 &    1231.9390 & 4 & 4 & MULTIPOLYGON (((214956.3 22...\\\\\n\t  9993 & PFO3B  & 1.580907e+04 & Freshwater Forested/Shrub Wetland & 6.397704e+07 &  148101.3602 & 6 & 6 & MULTIPOLYGON (((213997.4 22...\\\\\n\t  9994 & R3UBH  & 1.378119e+01 & Riverine                          & 5.576973e+04 &   13973.4363 & 3 & 3 & MULTIPOLYGON (((217848.7 22...\\\\\n\t  9995 & PFO3A  & 4.675133e+00 & Freshwater Forested/Shrub Wetland & 1.891954e+04 &    6312.6256 & 6 & 6 & MULTIPOLYGON (((262213.3 21...\\\\\n\t  9996 & PFO3A  & 1.075346e+01 & Freshwater Forested/Shrub Wetland & 4.351734e+04 &   14481.2254 & 6 & 6 & MULTIPOLYGON (((259682.1 21...\\\\\n\t  9997 & PFO3A  & 2.342838e+01 & Freshwater Forested/Shrub Wetland & 9.481049e+04 &   31493.1520 & 6 & 6 & MULTIPOLYGON (((260396.6 21...\\\\\n\t  9998 & PFO3A  & 1.229269e+01 & Freshwater Forested/Shrub Wetland & 4.974637e+04 &   16535.6776 & 6 & 6 & MULTIPOLYGON (((266452.5 21...\\\\\n\t  9999 & PFO3C  & 1.394752e+01 & Freshwater Forested/Shrub Wetland & 5.644312e+04 &   18783.4206 & 6 & 6 & MULTIPOLYGON (((266746.3 21...\\\\\n\t 10000 & PEM1A  & 2.261225e+00 & Freshwater Emergent Wetland       & 9.150821e+03 &    3068.2431 & 5 & 5 & MULTIPOLYGON (((234411 2115...\\\\\n\t 10001 & PFO3A  & 3.923106e+00 & Freshwater Forested/Shrub Wetland & 1.587620e+04 &    5299.8400 & 6 & 6 & MULTIPOLYGON (((232676.3 21...\\\\\n\t 10021 & PSS3B  & 3.741407e+04 & Freshwater Forested/Shrub Wetland & 1.514094e+08 &  270810.0361 & 6 & 6 & MULTIPOLYGON (((265172.3 21...\\\\\n\t 10030 & PFO3A  & 8.049439e+00 & Freshwater Forested/Shrub Wetland & 3.257470e+04 &   10852.9098 & 6 & 6 & MULTIPOLYGON (((240422.4 21...\\\\\n\t 10031 & PSS3A  & 1.005655e+01 & Freshwater Forested/Shrub Wetland & 4.069718e+04 &   13563.4082 & 6 & 6 & MULTIPOLYGON (((237674 2130...\\\\\n\t 10032 & PEM1A  & 2.494951e-01 & Freshwater Emergent Wetland       & 1.009786e+03 &     363.2872 & 5 & 5 & MULTIPOLYGON (((204271.9 22...\\\\\n\t 10033 & PFO3A  & 1.334859e+00 & Freshwater Forested/Shrub Wetland & 5.401861e+03 &    1812.8379 & 6 & 6 & MULTIPOLYGON (((204813.9 22...\\\\\n\t 10034 & PSS3A  & 7.425328e-01 & Freshwater Forested/Shrub Wetland & 3.004768e+03 &    1011.2833 & 6 & 6 & MULTIPOLYGON (((204271.9 22...\\\\\n\t 10035 & PSS3A  & 8.984495e-01 & Freshwater Forested/Shrub Wetland & 3.635785e+03 &    1228.8204 & 6 & 6 & MULTIPOLYGON (((204475.4 22...\\\\\n\t 10036 & PSS3A  & 3.231922e+00 & Freshwater Forested/Shrub Wetland & 1.307869e+04 &    4372.9824 & 6 & 6 & MULTIPOLYGON (((205896 2240...\\\\\n\t 10037 & PSS3A  & 4.998937e+00 & Freshwater Forested/Shrub Wetland & 2.022956e+04 &    6753.4464 & 6 & 6 & MULTIPOLYGON (((205708.1 22...\\\\\n\t 10048 & M1UBL  & 6.817024e+05 & Estuarine and Marine Deepwater    & 2.758752e+09 & 1100668.9611 & 1 & 1 & MULTIPOLYGON (((197671.9 22...\\\\\n\\end{tabular}\n",
            "text/plain": [
              "     objectid attribute acres        wetland_ty                       \n",
              "1     1       PUBHh      0.2609826   Freshwater Pond                  \n",
              "2     2       PUBHh      0.3178072   Freshwater Pond                  \n",
              "3     3       PUS3Ah     0.2185504   Freshwater Pond                  \n",
              "4     4       PUS3Ah     0.4064771   Freshwater Pond                  \n",
              "5     5       PUS3Ch     0.2855907   Freshwater Pond                  \n",
              "6     6       PUS3Ch     0.4222651   Freshwater Pond                  \n",
              "7     7       PUS3Ch     0.1888957   Freshwater Pond                  \n",
              "8     8       PUS3Ch     0.2335592   Freshwater Pond                  \n",
              "9     9       PUS3Ch     0.2310241   Freshwater Pond                  \n",
              "10   10       PUS3Ch     0.2015431   Freshwater Pond                  \n",
              "11   11       R4SBC      0.4070043   Riverine                         \n",
              "12   12       R4SBC      3.9465503   Riverine                         \n",
              "13   13       R4SBC      1.3529643   Riverine                         \n",
              "14   14       R4SBC     10.1487054   Riverine                         \n",
              "15   15       R4SBC      1.4777824   Riverine                         \n",
              "16   16       R4SBC      5.9207439   Riverine                         \n",
              "17   17       R4SBC      9.0715699   Riverine                         \n",
              "18   18       R4SBC      2.4382452   Riverine                         \n",
              "19   19       R4SBC      1.3194634   Riverine                         \n",
              "20   20       R4SBC      3.6162789   Riverine                         \n",
              "21   21       R4SBC      2.4195243   Riverine                         \n",
              "22   22       R4SBC      4.5438877   Riverine                         \n",
              "23   23       R4SBC      2.9091712   Riverine                         \n",
              "24   24       R4SBC      0.3698654   Riverine                         \n",
              "25   25       R4SBC      3.7599832   Riverine                         \n",
              "26   26       R4SBC      4.3259941   Riverine                         \n",
              "27   27       R4SBC      2.5076827   Riverine                         \n",
              "28   28       R4SBC      1.4185481   Riverine                         \n",
              "29   29       R4SBC      1.4315388   Riverine                         \n",
              "30   30       R4SBC      3.2701971   Riverine                         \n",
              "⋮    ⋮        ⋮         ⋮            ⋮                                \n",
              "2076  9982    PFO3A     5.195364e+00 Freshwater Forested/Shrub Wetland\n",
              "2077  9983    PFO3A     4.961877e+00 Freshwater Forested/Shrub Wetland\n",
              "2078  9984    PSS3A     2.986335e+00 Freshwater Forested/Shrub Wetland\n",
              "2079  9985    PSS3C     1.240973e+01 Freshwater Forested/Shrub Wetland\n",
              "2080  9986    PUBH      1.071638e+00 Freshwater Pond                  \n",
              "2081  9987    PUBH      7.934745e-01 Freshwater Pond                  \n",
              "2082  9988    R5UBH     4.957001e+00 Riverine                         \n",
              "2083  9989    R3UBH     1.004487e+00 Riverine                         \n",
              "2084  9990    R3UBH     1.460592e+01 Riverine                         \n",
              "2085  9991    E1UBL     1.094611e+01 Estuarine and Marine Deepwater   \n",
              "2086  9992    M2US2N    1.171522e+00 Estuarine and Marine Wetland     \n",
              "2087  9993    PFO3B     1.580907e+04 Freshwater Forested/Shrub Wetland\n",
              "2088  9994    R3UBH     1.378119e+01 Riverine                         \n",
              "2089  9995    PFO3A     4.675133e+00 Freshwater Forested/Shrub Wetland\n",
              "2090  9996    PFO3A     1.075346e+01 Freshwater Forested/Shrub Wetland\n",
              "2091  9997    PFO3A     2.342838e+01 Freshwater Forested/Shrub Wetland\n",
              "2092  9998    PFO3A     1.229269e+01 Freshwater Forested/Shrub Wetland\n",
              "2093  9999    PFO3C     1.394752e+01 Freshwater Forested/Shrub Wetland\n",
              "2094 10000    PEM1A     2.261225e+00 Freshwater Emergent Wetland      \n",
              "2095 10001    PFO3A     3.923106e+00 Freshwater Forested/Shrub Wetland\n",
              "2096 10021    PSS3B     3.741407e+04 Freshwater Forested/Shrub Wetland\n",
              "2097 10030    PFO3A     8.049439e+00 Freshwater Forested/Shrub Wetland\n",
              "2098 10031    PSS3A     1.005655e+01 Freshwater Forested/Shrub Wetland\n",
              "2099 10032    PEM1A     2.494951e-01 Freshwater Emergent Wetland      \n",
              "2100 10033    PFO3A     1.334859e+00 Freshwater Forested/Shrub Wetland\n",
              "2101 10034    PSS3A     7.425328e-01 Freshwater Forested/Shrub Wetland\n",
              "2102 10035    PSS3A     8.984495e-01 Freshwater Forested/Shrub Wetland\n",
              "2103 10036    PSS3A     3.231922e+00 Freshwater Forested/Shrub Wetland\n",
              "2104 10037    PSS3A     4.998937e+00 Freshwater Forested/Shrub Wetland\n",
              "2105 10048    M1UBL     6.817024e+05 Estuarine and Marine Deepwater   \n",
              "     st_areasha   st_perimet   value wetland_ty_numeric\n",
              "1     1056.1591     121.4864   7     7                 \n",
              "2     1286.1200     129.4962   7     7                 \n",
              "3      884.4421     107.8919   7     7                 \n",
              "4     1644.9544     153.5977   7     7                 \n",
              "5     1155.7447     124.3542   7     7                 \n",
              "6     1708.8463     156.8640   7     7                 \n",
              "7      764.4338      99.7818   7     7                 \n",
              "8      945.1806     111.1221   7     7                 \n",
              "9      934.9212     111.1674   7     7                 \n",
              "10     815.6161     105.6278   7     7                 \n",
              "11    1646.9234     556.9228   3     3                 \n",
              "12   15970.8954    5325.1074   3     3                 \n",
              "13    5475.1169    1832.7210   3     3                 \n",
              "14   41070.0629   13694.5000   3     3                 \n",
              "15    5980.2342    1996.2841   3     3                 \n",
              "16   23960.2932    7967.5341   3     3                 \n",
              "17   36711.1878   12207.3978   3     3                 \n",
              "18    9866.9612    3292.6908   3     3                 \n",
              "19    5339.6051    1786.6469   3     3                 \n",
              "20   14634.0357    4871.8329   3     3                 \n",
              "21    9791.1000    3264.1502   3     3                 \n",
              "22   18387.9959    6120.0947   3     3                 \n",
              "23   11772.5234    3921.0823   3     3                 \n",
              "24    1496.7545     513.7667   3     3                 \n",
              "25   15215.7718    5063.3799   3     3                 \n",
              "26   17506.0764    5825.8932   3     3                 \n",
              "27   10147.8762    3390.4412   3     3                 \n",
              "28    5740.5360    1935.6427   3     3                 \n",
              "29    5793.1206    1944.2396   3     3                 \n",
              "30   13233.7760    4406.9238   3     3                 \n",
              "⋮    ⋮            ⋮            ⋮     ⋮                 \n",
              "2076 2.102443e+04    7000.1270 6     6                 \n",
              "2077 2.007969e+04    6689.8844 6     6                 \n",
              "2078 1.208519e+04    4042.0998 6     6                 \n",
              "2079 5.022014e+04   16704.3303 6     6                 \n",
              "2080 4.336885e+03     256.2984 7     7                 \n",
              "2081 3.211214e+03     209.2720 7     7                 \n",
              "2082 2.005944e+04    5018.2701 3     3                 \n",
              "2083 4.064781e+03    1025.4636 3     3                 \n",
              "2084 5.910723e+04   14668.1916 3     3                 \n",
              "2085 4.429720e+04    1266.2043 1     1                 \n",
              "2086 4.741051e+03    1231.9390 4     4                 \n",
              "2087 6.397704e+07  148101.3602 6     6                 \n",
              "2088 5.576973e+04   13973.4363 3     3                 \n",
              "2089 1.891954e+04    6312.6256 6     6                 \n",
              "2090 4.351734e+04   14481.2254 6     6                 \n",
              "2091 9.481049e+04   31493.1520 6     6                 \n",
              "2092 4.974637e+04   16535.6776 6     6                 \n",
              "2093 5.644312e+04   18783.4206 6     6                 \n",
              "2094 9.150821e+03    3068.2431 5     5                 \n",
              "2095 1.587620e+04    5299.8400 6     6                 \n",
              "2096 1.514094e+08  270810.0361 6     6                 \n",
              "2097 3.257470e+04   10852.9098 6     6                 \n",
              "2098 4.069718e+04   13563.4082 6     6                 \n",
              "2099 1.009786e+03     363.2872 5     5                 \n",
              "2100 5.401861e+03    1812.8379 6     6                 \n",
              "2101 3.004768e+03    1011.2833 6     6                 \n",
              "2102 3.635785e+03    1228.8204 6     6                 \n",
              "2103 1.307869e+04    4372.9824 6     6                 \n",
              "2104 2.022956e+04    6753.4464 6     6                 \n",
              "2105 2.758752e+09 1100668.9611 1     1                 \n",
              "     geom                          \n",
              "1    MULTIPOLYGON (((230022.7 21...\n",
              "2    MULTIPOLYGON (((228629.6 21...\n",
              "3    MULTIPOLYGON (((226387.3 21...\n",
              "4    MULTIPOLYGON (((225440.1 21...\n",
              "5    MULTIPOLYGON (((226575.2 21...\n",
              "6    MULTIPOLYGON (((228047.3 21...\n",
              "7    MULTIPOLYGON (((226417.9 21...\n",
              "8    MULTIPOLYGON (((225989.5 21...\n",
              "9    MULTIPOLYGON (((228259.3 21...\n",
              "10   MULTIPOLYGON (((227795.9 21...\n",
              "11   MULTIPOLYGON (((235668 2186...\n",
              "12   MULTIPOLYGON (((226262 2189...\n",
              "13   MULTIPOLYGON (((225460 2190...\n",
              "14   MULTIPOLYGON (((236429.9 21...\n",
              "15   MULTIPOLYGON (((226241.6 21...\n",
              "16   MULTIPOLYGON (((225756.6 21...\n",
              "17   MULTIPOLYGON (((225469.7 21...\n",
              "18   MULTIPOLYGON (((275273 2185...\n",
              "19   MULTIPOLYGON (((271928.9 21...\n",
              "20   MULTIPOLYGON (((276912.8 21...\n",
              "21   MULTIPOLYGON (((276105.1 21...\n",
              "22   MULTIPOLYGON (((275084.8 21...\n",
              "23   MULTIPOLYGON (((276630.1 21...\n",
              "24   MULTIPOLYGON (((271892.4 21...\n",
              "25   MULTIPOLYGON (((274924.3 21...\n",
              "26   MULTIPOLYGON (((277571.3 21...\n",
              "27   MULTIPOLYGON (((277627.9 21...\n",
              "28   MULTIPOLYGON (((273604.8 21...\n",
              "29   MULTIPOLYGON (((272066.7 21...\n",
              "30   MULTIPOLYGON (((277715.6 21...\n",
              "⋮    ⋮                             \n",
              "2076 MULTIPOLYGON (((274932.2 21...\n",
              "2077 MULTIPOLYGON (((275174.4 21...\n",
              "2078 MULTIPOLYGON (((278582.6 21...\n",
              "2079 MULTIPOLYGON (((278683.1 21...\n",
              "2080 MULTIPOLYGON (((274576.4 21...\n",
              "2081 MULTIPOLYGON (((276158.1 21...\n",
              "2082 MULTIPOLYGON (((266055.7 21...\n",
              "2083 MULTIPOLYGON (((275013.1 21...\n",
              "2084 MULTIPOLYGON (((280917.5 21...\n",
              "2085 MULTIPOLYGON (((214609 2236...\n",
              "2086 MULTIPOLYGON (((214956.3 22...\n",
              "2087 MULTIPOLYGON (((213997.4 22...\n",
              "2088 MULTIPOLYGON (((217848.7 22...\n",
              "2089 MULTIPOLYGON (((262213.3 21...\n",
              "2090 MULTIPOLYGON (((259682.1 21...\n",
              "2091 MULTIPOLYGON (((260396.6 21...\n",
              "2092 MULTIPOLYGON (((266452.5 21...\n",
              "2093 MULTIPOLYGON (((266746.3 21...\n",
              "2094 MULTIPOLYGON (((234411 2115...\n",
              "2095 MULTIPOLYGON (((232676.3 21...\n",
              "2096 MULTIPOLYGON (((265172.3 21...\n",
              "2097 MULTIPOLYGON (((240422.4 21...\n",
              "2098 MULTIPOLYGON (((237674 2130...\n",
              "2099 MULTIPOLYGON (((204271.9 22...\n",
              "2100 MULTIPOLYGON (((204813.9 22...\n",
              "2101 MULTIPOLYGON (((204271.9 22...\n",
              "2102 MULTIPOLYGON (((204475.4 22...\n",
              "2103 MULTIPOLYGON (((205896 2240...\n",
              "2104 MULTIPOLYGON (((205708.1 22...\n",
              "2105 MULTIPOLYGON (((197671.9 22..."
            ]
          },
          "metadata": {}
        }
      ]
    },
    {
      "cell_type": "code",
      "source": [
        "vrt_utm5_2018 <- stack(\"/content/imagery/planet/2018/utm5/2018_select_hawaii_vrt.vrt\")\n",
        "vrt_utm5_2018 %>% plot"
      ],
      "metadata": {
        "id": "0ONRoYfMS7S5",
        "outputId": "8eb0ff85-f5f0-416f-ef5c-84ee4ab71028",
        "colab": {
          "base_uri": "https://localhost:8080/",
          "height": 437
        }
      },
      "execution_count": 20,
      "outputs": [
        {
          "output_type": "display_data",
          "data": {
            "text/plain": [
              "Plot with title “X2018_select_hawaii_vrt_4”"
            ],
            "image/png": "[encoded data removed]"
          },
          "metadata": {
            "image/png": {
              "width": 420,
              "height": 420
            }
          }
        }
      ]
    },
    {
      "cell_type": "code",
      "source": [
        "unified_data_table <- data.table (unified = c(0, 1, 2, 3, 4, 5, 6, 7, 8, 9, 10, 11))\n",
        "nwi_data_table <- data.table (nwi = list(-1, c(1,2,3), 4, 5, 6, 7, -1, -1, -1, -1, -1, -1))\n",
        "nlcd_data_table <- data.table(nlcd = list(-1, 11, 90, 95, -1, -1, c(21,22,23,24), c(81,82), 71, 31, c(41,42,43), 52))\n",
        "ccap_labels_data_table <- data.table(ccap = list(c(0,1), c(19,21), c(16,17,18), c(13,15), 14, c(22,23), c(2,3,4,5), c(6,7), 8, 20, c(9,10,11), 12))\n",
        "\n",
        "unified_data_table_all <- data.table (\n",
        "  unified_data_table,\n",
        "  nwi_data_table,\n",
        "  nlcd_data_table,\n",
        "  ccap_labels_data_table)"
      ],
      "metadata": {
        "id": "Qoaw4JzmTBsF"
      },
      "execution_count": 21,
      "outputs": []
    },
    {
      "cell_type": "code",
      "source": [
        "ccap_path =c('/content/workingfolder/ccap/utm5/hawaii_ccap_2010_01.tif',\n",
        "'/content/workingfolder/ccap/utm5/hawaii_ccap_2010_02.tif',\n",
        "'/content/workingfolder/ccap/utm5/hawaii_ccap_2010_03.tif')\n",
        "ccap_path_data_table <- data.table (ccap_path)\n",
        "\n",
        "\n",
        "island = c('hawaii')\n",
        "island_data_table <- data.table (island)\n",
        "\n",
        "dem_path =c('/content/workingfolder/dem/utm5/wgs84_hawaii_dem.tif',\n",
        "'/content/workingfolder/dem/utm5/wgs84_hawaii_dem.tif',\n",
        "'/content/workingfolder/dem/utm5/wgs84_hawaii_dem.tif')\n",
        "dem_path_data_table <- data.table (dem_path)\n",
        "\n",
        "linked_dt <- data.table (\n",
        "  island_data_table,\n",
        "  ccap_path_data_table,\n",
        "  dem_path_data_table)\n",
        "\n",
        "linked_dt$ccap_raster <- linked_dt$ccap_path %>% lapply(stack)\n",
        "linked_dt$dem_raster <- linked_dt$dem_path %>% lapply(stack)"
      ],
      "metadata": {
        "id": "oMW4JYD5TELh"
      },
      "execution_count": 22,
      "outputs": []
    },
    {
      "cell_type": "code",
      "source": [
        "linked_dt"
      ],
      "metadata": {
        "id": "GTnguDKCTH7R"
      },
      "execution_count": null,
      "outputs": []
    },
    {
      "cell_type": "code",
      "source": [
        "# new linked data table with updated elevation model for hawaii island.\n",
        "\n",
        "ccap_pathh =c('/content/workingfolder/ccap/utm5/hawaii_ccap_2010_01.tif',\n",
        "'/content/workingfolder/ccap/utm5/hawaii_ccap_2010_02.tif',\n",
        "'/content/workingfolder/ccap/utm5/hawaii_ccap_2010_03.tif')\n",
        "ccap_path_data_tablee <- data.table (ccap_pathh)\n",
        "\n",
        "\n",
        "island = c('hawaii')\n",
        "island_data_tablee <- data.table (island)\n",
        "\n",
        "dem_pathh =c('/content/folder/new_elevation/hi_dem_projected.tif')\n",
        "dem_path_data_tablee <- data.table (dem_pathh)\n",
        "\n",
        "linked_dtt <- data.table (\n",
        "  island_data_tablee,\n",
        "  ccap_path_data_tablee,\n",
        "  dem_path_data_tablee)\n",
        "\n",
        "linked_dtt$ccap_raster <- linked_dtt$ccap_pathh %>% lapply(stack)\n",
        "linked_dtt$dem_raster <- linked_dtt$dem_pathh %>% lapply(stack)"
      ],
      "metadata": {
        "id": "o8ke4-ebWTjx"
      },
      "execution_count": 40,
      "outputs": []
    },
    {
      "cell_type": "code",
      "source": [
        "linked_dtt"
      ],
      "metadata": {
        "id": "7OTlakF7WanX",
        "outputId": "030fcc93-b9e0-4ed0-c1a1-c0e421d8983b",
        "colab": {
          "base_uri": "https://localhost:8080/",
          "height": 296
        }
      },
      "execution_count": 41,
      "outputs": [
        {
          "output_type": "display_data",
          "data": {
            "text/html": [
              "<table class=\"dataframe\">\n",
              "<caption>A data.table: 3 × 5</caption>\n",
              "<thead>\n",
              "\t<tr><th scope=col>island</th><th scope=col>ccap_pathh</th><th scope=col>dem_pathh</th><th scope=col>ccap_raster</th><th scope=col>dem_raster</th></tr>\n",
              "\t<tr><th scope=col>&lt;chr&gt;</th><th scope=col>&lt;chr&gt;</th><th scope=col>&lt;chr&gt;</th><th scope=col>&lt;list&gt;</th><th scope=col>&lt;list&gt;</th></tr>\n",
              "</thead>\n",
              "<tbody>\n",
              "\t<tr><td>hawaii</td><td>/content/workingfolder/ccap/utm5/hawaii_ccap_2010_01.tif</td><td>/content/folder/new_elevation/hi_dem_projected.tif</td><td>&lt;S4 class ‘RasterStack’ [package “raster”] with 12 slots&gt;</td><td>&lt;S4 class ‘RasterStack’ [package “raster”] with 12 slots&gt;</td></tr>\n",
              "\t<tr><td>hawaii</td><td>/content/workingfolder/ccap/utm5/hawaii_ccap_2010_02.tif</td><td>/content/folder/new_elevation/hi_dem_projected.tif</td><td>&lt;S4 class ‘RasterStack’ [package “raster”] with 12 slots&gt;</td><td>&lt;S4 class ‘RasterStack’ [package “raster”] with 12 slots&gt;</td></tr>\n",
              "\t<tr><td>hawaii</td><td>/content/workingfolder/ccap/utm5/hawaii_ccap_2010_03.tif</td><td>/content/folder/new_elevation/hi_dem_projected.tif</td><td>&lt;S4 class ‘RasterStack’ [package “raster”] with 12 slots&gt;</td><td>&lt;S4 class ‘RasterStack’ [package “raster”] with 12 slots&gt;</td></tr>\n",
              "</tbody>\n",
              "</table>\n"
            ],
            "text/markdown": "\nA data.table: 3 × 5\n\n| island &lt;chr&gt; | ccap_pathh &lt;chr&gt; | dem_pathh &lt;chr&gt; | ccap_raster &lt;list&gt; | dem_raster &lt;list&gt; |\n|---|---|---|---|---|\n| hawaii | /content/workingfolder/ccap/utm5/hawaii_ccap_2010_01.tif | /content/folder/new_elevation/hi_dem_projected.tif | &lt;S4 class ‘RasterStack’ [package “raster”] with 12 slots&gt; | &lt;S4 class ‘RasterStack’ [package “raster”] with 12 slots&gt; |\n| hawaii | /content/workingfolder/ccap/utm5/hawaii_ccap_2010_02.tif | /content/folder/new_elevation/hi_dem_projected.tif | &lt;S4 class ‘RasterStack’ [package “raster”] with 12 slots&gt; | &lt;S4 class ‘RasterStack’ [package “raster”] with 12 slots&gt; |\n| hawaii | /content/workingfolder/ccap/utm5/hawaii_ccap_2010_03.tif | /content/folder/new_elevation/hi_dem_projected.tif | &lt;S4 class ‘RasterStack’ [package “raster”] with 12 slots&gt; | &lt;S4 class ‘RasterStack’ [package “raster”] with 12 slots&gt; |\n\n",
            "text/latex": "A data.table: 3 × 5\n\\begin{tabular}{lllll}\n island & ccap\\_pathh & dem\\_pathh & ccap\\_raster & dem\\_raster\\\\\n <chr> & <chr> & <chr> & <list> & <list>\\\\\n\\hline\n\t hawaii & /content/workingfolder/ccap/utm5/hawaii\\_ccap\\_2010\\_01.tif & /content/folder/new\\_elevation/hi\\_dem\\_projected.tif & <S4 class ‘RasterStack’ {[}package “raster”{]} with 12 slots> & <S4 class ‘RasterStack’ {[}package “raster”{]} with 12 slots>\\\\\n\t hawaii & /content/workingfolder/ccap/utm5/hawaii\\_ccap\\_2010\\_02.tif & /content/folder/new\\_elevation/hi\\_dem\\_projected.tif & <S4 class ‘RasterStack’ {[}package “raster”{]} with 12 slots> & <S4 class ‘RasterStack’ {[}package “raster”{]} with 12 slots>\\\\\n\t hawaii & /content/workingfolder/ccap/utm5/hawaii\\_ccap\\_2010\\_03.tif & /content/folder/new\\_elevation/hi\\_dem\\_projected.tif & <S4 class ‘RasterStack’ {[}package “raster”{]} with 12 slots> & <S4 class ‘RasterStack’ {[}package “raster”{]} with 12 slots>\\\\\n\\end{tabular}\n",
            "text/plain": [
              "  island ccap_pathh                                              \n",
              "1 hawaii /content/workingfolder/ccap/utm5/hawaii_ccap_2010_01.tif\n",
              "2 hawaii /content/workingfolder/ccap/utm5/hawaii_ccap_2010_02.tif\n",
              "3 hawaii /content/workingfolder/ccap/utm5/hawaii_ccap_2010_03.tif\n",
              "  dem_pathh                                         \n",
              "1 /content/folder/new_elevation/hi_dem_projected.tif\n",
              "2 /content/folder/new_elevation/hi_dem_projected.tif\n",
              "3 /content/folder/new_elevation/hi_dem_projected.tif\n",
              "  ccap_raster                                              \n",
              "1 <S4 class ‘RasterStack’ [package “raster”] with 12 slots>\n",
              "2 <S4 class ‘RasterStack’ [package “raster”] with 12 slots>\n",
              "3 <S4 class ‘RasterStack’ [package “raster”] with 12 slots>\n",
              "  dem_raster                                               \n",
              "1 <S4 class ‘RasterStack’ [package “raster”] with 12 slots>\n",
              "2 <S4 class ‘RasterStack’ [package “raster”] with 12 slots>\n",
              "3 <S4 class ‘RasterStack’ [package “raster”] with 12 slots>"
            ]
          },
          "metadata": {}
        }
      ]
    },
    {
      "cell_type": "code",
      "source": [
        "hi_dem <- raster(\"/content/folder/new_elevation/hi_dem_projected.tif\")"
      ],
      "metadata": {
        "id": "-mW0QZ10XUJs"
      },
      "execution_count": 38,
      "outputs": []
    },
    {
      "cell_type": "code",
      "source": [
        "hi_dem %>% st_crs"
      ],
      "metadata": {
        "id": "_FvUhdE9XdWt",
        "outputId": "01d3a351-d67a-492f-ae48-5dde6134b589",
        "colab": {
          "base_uri": "https://localhost:8080/",
          "height": 748
        }
      },
      "execution_count": 39,
      "outputs": [
        {
          "output_type": "display_data",
          "data": {
            "text/plain": [
              "Coordinate Reference System:\n",
              "  User input: +proj=utm +zone=5 +datum=NAD83 +units=m +no_defs \n",
              "  wkt:\n",
              "PROJCRS[\"unknown\",\n",
              "    BASEGEOGCRS[\"unknown\",\n",
              "        DATUM[\"North American Datum 1983\",\n",
              "            ELLIPSOID[\"GRS 1980\",6378137,298.257222101,\n",
              "                LENGTHUNIT[\"metre\",1]],\n",
              "            ID[\"EPSG\",6269]],\n",
              "        PRIMEM[\"Greenwich\",0,\n",
              "            ANGLEUNIT[\"degree\",0.0174532925199433],\n",
              "            ID[\"EPSG\",8901]]],\n",
              "    CONVERSION[\"UTM zone 5N\",\n",
              "        METHOD[\"Transverse Mercator\",\n",
              "            ID[\"EPSG\",9807]],\n",
              "        PARAMETER[\"Latitude of natural origin\",0,\n",
              "            ANGLEUNIT[\"degree\",0.0174532925199433],\n",
              "            ID[\"EPSG\",8801]],\n",
              "        PARAMETER[\"Longitude of natural origin\",-153,\n",
              "            ANGLEUNIT[\"degree\",0.0174532925199433],\n",
              "            ID[\"EPSG\",8802]],\n",
              "        PARAMETER[\"Scale factor at natural origin\",0.9996,\n",
              "            SCALEUNIT[\"unity\",1],\n",
              "            ID[\"EPSG\",8805]],\n",
              "        PARAMETER[\"False easting\",500000,\n",
              "            LENGTHUNIT[\"metre\",1],\n",
              "            ID[\"EPSG\",8806]],\n",
              "        PARAMETER[\"False northing\",0,\n",
              "            LENGTHUNIT[\"metre\",1],\n",
              "            ID[\"EPSG\",8807]],\n",
              "        ID[\"EPSG\",16005]],\n",
              "    CS[Cartesian,2],\n",
              "        AXIS[\"(E)\",east,\n",
              "            ORDER[1],\n",
              "            LENGTHUNIT[\"metre\",1,\n",
              "                ID[\"EPSG\",9001]]],\n",
              "        AXIS[\"(N)\",north,\n",
              "            ORDER[2],\n",
              "            LENGTHUNIT[\"metre\",1,\n",
              "                ID[\"EPSG\",9001]]]]"
            ]
          },
          "metadata": {}
        }
      ]
    },
    {
      "cell_type": "code",
      "source": [
        "cl <- makeCluster(10)\n",
        "\n",
        "# Define the target CRS (EPSG:26905)\n",
        "target_crs <- CRS(\"+init=epsg:26905\")\n",
        "\n",
        "# Project the raster to the target CRS\n",
        "hi_dem_projected <- projectRaster(hi_dem, crs = target_crs)\n",
        "\n",
        "# Save the projected raster as a new GeoTIFF file\n",
        "writeRaster(hi_dem_projected, filename = \"/content/folder/new_elevation/hi_dem_projected.tif\", format = \"GTiff\")\n",
        "\n",
        "stopCluster(cl)"
      ],
      "metadata": {
        "id": "qpNcjZONYAg9"
      },
      "execution_count": 37,
      "outputs": []
    },
    {
      "cell_type": "code",
      "source": [
        "#  Planet grid at 128 x 128 pixels\n",
        "planet_fishnet_384 <-\n",
        "  1:nrow(aoi_utm5) %>% lapply(function(x){\n",
        "    fishnet <- st_make_grid(aoi_utm5[x,], cellsize = c(384,384)) %>% st_as_sf %>% data.table\n",
        "    fishnet$id <-1:length(fishnet)\n",
        "    fishnet_int <- fishnet %>%\n",
        "      st_as_sf() %>%\n",
        "        st_intersection(aoi_utm5[x,]) %>%\n",
        "          st_transform(st_crs(26905)) %>%\n",
        "            data.table()\n",
        "    fishnet <- fishnet[fishnet$id %in% fishnet_int$id ]\n",
        "\n",
        "    fishnet$island <- aoi_utm5$island[x]\n",
        "    fishnet$layer <- aoi_utm5$layer[x]\n",
        "\n",
        "\n",
        "\n",
        "    return(fishnet)\n",
        "    # print(fishnet)\n",
        "    # print(class(fishnet))\n",
        "    # print(st_crs(fishnet))\n",
        "    # plot(fishnet)\n",
        "\n",
        "  }) %>% rbindlist()\n",
        "\n",
        "planet_fishnet_384_sf <- st_as_sf(planet_fishnet_384)\n",
        "class(planet_fishnet_384_sf)\n",
        "st_crs(planet_fishnet_384_sf)\n",
        "\n",
        "planet_fishnet_384_sf_transformed <- st_transform(planet_fishnet_384_sf, crs = 26905)\n",
        "\n",
        "st_crs(planet_fishnet_384_sf_transformed)\n",
        "\n",
        "\n",
        "st_write(planet_fishnet_384_sf_transformed, \"/content/sample_data/fishnet_384_sf_utm5.gpkg\", append=TRUE)"
      ],
      "metadata": {
        "id": "rD6K7__CTQvX"
      },
      "execution_count": null,
      "outputs": []
    },
    {
      "cell_type": "code",
      "source": [
        "dir.create(\"/content/exports\")\n",
        "dir.create(\"/content/exports/image\")\n",
        "dir.create(\"/content/exports/dem\")\n",
        "dir.create(\"/content/exports/ccap_filled\")\n",
        "dir.create(\"/content/exports/nwi_ccap_filled\")\n",
        "dir.create(\"/content/exports/nwi_nlcd_filled\")"
      ],
      "metadata": {
        "id": "ZRVxhAg_T_Ih"
      },
      "execution_count": 47,
      "outputs": []
    },
    {
      "cell_type": "code",
      "source": [
        "################ UTM 5 for hawaii.\n",
        "\n",
        "cl <- makeCluster(10)\n",
        "\n",
        "library(raster)\n",
        "library(sf)\n",
        "library(fasterize)\n",
        "library(magrittr)\n",
        "library(googledrive)\n",
        "library(parallel)\n",
        "library(data.table)\n",
        "library(stringr)\n",
        "library(dplyr)\n",
        "\n",
        "# planet_fishnet_384_sf aoi_utm4_wetland_fishnet_sf linked_dtt\n",
        "\n",
        "placeholder <- c(1:35) %>% lapply(function(u){\n",
        "test <- planet_fishnet_384_sf_transformed[u,] %>% crop(vrt_utm5_2018,.)\n",
        "test_extent <-extent(test)\n",
        "test_extent_raster <- raster(nrow=384, ncol=384, ext=test_extent, crs=crs(26905)) # nrow=384, ncol=384 is necessary to ensure the width and height are correct!\n",
        "test_extent_raster_size <- crop(resample(test, test_extent_raster, method = \"ngb\"), extent(test_extent_raster)) # this is the planet tiles!\n",
        "crs(test_extent_raster_size) <- CRS(\"+init=epsg:26905\")\n",
        "\n",
        "\n",
        "test_nwi_crop <- nwi_utm5 %>% st_intersection(planet_fishnet_384_sf_transformed[u,] %>% st_transform(st_crs(nwi_utm5))) %>%\n",
        "  st_transform(st_crs(26905)) %>% fasterize(.,test_extent_raster_size[[1]], \"wetland_ty_numeric\")\n",
        "\n",
        "test_nlcd_crop <- planet_fishnet_384_sf_transformed[u,] %>% st_buffer(100) %>% st_transform(st_crs(26905)) %>% crop(nlcd_utm5,.) %>%\n",
        "  resample(test_extent_raster_size, method = \"ngb\")\n",
        "\n",
        "test_dem_crop <- planet_fishnet_384_sf_transformed[u,] %>% st_buffer(100) %>% st_transform(st_crs(26905)) %>%\n",
        "  crop(linked_dtt[island ==planet_fishnet_384_sf_transformed[u,]$island]$dem_raster[[1]],.) %>% resample(test_extent_raster_size, method= \"ngb\")\n",
        "\n",
        "test_ccap_crop <- planet_fishnet_384_sf_transformed[u,] %>% st_buffer(100) %>% st_transform(st_crs(26905)) %>%\n",
        "  crop(linked_dtt[island ==planet_fishnet_384_sf_transformed[u,]$island]$ccap_raster[[3]],.) %>% resample(test_extent_raster_size, method = \"ngb\")\n",
        "\n",
        "\n",
        "\n",
        "nwi_harm <- test_nwi_crop\n",
        "nlcd_harm <- test_nlcd_crop\n",
        "ccap_harm <- test_ccap_crop\n",
        "\n",
        "values(nwi_harm) <- -1\n",
        "values(nlcd_harm) <- -1\n",
        "values(ccap_harm) <- -1\n",
        "\n",
        "for(i in 1:nrow(unified_data_table_all)){\n",
        " values(nwi_harm)[ values(test_nwi_crop %in% unified_data_table_all$nwi[[i]])] <- unified_data_table_all$unified[[i]]\n",
        " values(nlcd_harm)[ values(test_nlcd_crop %in% unified_data_table_all$nlcd[[i]])] <- unified_data_table_all$unified[[i]]\n",
        " values(ccap_harm)[ values(test_ccap_crop %in% unified_data_table_all$ccap[[i]])] <- unified_data_table_all$unified[[i]]\n",
        "\n",
        "}\n",
        "\n",
        "# nwi_nlcd_filled <- nlcd_harm\n",
        "# values(nwi_nlcd_filled)[values(nwi_harm) !=-1] <- values(nwi_harm)[values(nwi_harm) !=-1]\n",
        "# values(nwi_nlcd_filled)[values(nwi_nlcd_filled) ==-1] <- 12\n",
        "\n",
        "nwi_ccap_filled <- ccap_harm\n",
        "values(nwi_ccap_filled)[values(nwi_harm) !=-1] <- values(nwi_harm)[values(nwi_harm) !=-1]\n",
        "values(nwi_ccap_filled)[values(nwi_ccap_filled) ==-1] <- 12\n",
        "\n",
        "# ccap_filled <- ccap_harm\n",
        "# values(ccap_filled)[values(ccap_harm) !=-1] <- values(ccap_harm)[values(ccap_harm) !=-1]\n",
        "# values(ccap_filled)[values(ccap_filled) ==-1] <- 12\n",
        "\n",
        "\n",
        "\n",
        "\n",
        "\n",
        "test_extent_raster_size %>% writeRaster(paste0('/content/exports/image/', u,\"_planet\",'.tif'),overwrite=T)\n",
        "test_dem_crop %>% writeRaster(paste0('/content/exports/dem/', u, \"_dem\",'.tif'),overwrite=T)\n",
        "# ccap_filled %>% writeRaster(paste0('/content/exports/ccap_filled/', u, \"_ccap_filled\",'.tif'),overwrite=T)\n",
        "# nwi_nlcd_filled %>% writeRaster(paste0('/content/exports/nwi_nlcd_filled/', u, \"_nwi_nlcd_filled\",'.tif'),overwrite=T)\n",
        "nwi_ccap_filled %>% writeRaster(paste0('/content/exports/nwi_ccap_filled/', u, \"_nwi_ccap_filled\",'.tif'),overwrite=T)\n",
        "\n",
        "})\n",
        "\n",
        "stopCluster(cl)\n"
      ],
      "metadata": {
        "id": "XCv95oDwUBQH",
        "outputId": "32e43189-5bb7-419e-e1e4-92c73bec2954",
        "colab": {
          "base_uri": "https://localhost:8080/"
        }
      },
      "execution_count": 48,
      "outputs": [
        {
          "output_type": "stream",
          "name": "stderr",
          "text": [
            "Warning message:\n",
            "“attribute variables are assumed to be spatially constant throughout all geometries”\n",
            "Warning message:\n",
            "“attribute variables are assumed to be spatially constant throughout all geometries”\n",
            "Warning message:\n",
            "“attribute variables are assumed to be spatially constant throughout all geometries”\n",
            "Warning message:\n",
            "“attribute variables are assumed to be spatially constant throughout all geometries”\n",
            "Warning message:\n",
            "“attribute variables are assumed to be spatially constant throughout all geometries”\n",
            "Warning message:\n",
            "“attribute variables are assumed to be spatially constant throughout all geometries”\n",
            "Warning message:\n",
            "“attribute variables are assumed to be spatially constant throughout all geometries”\n",
            "Warning message:\n",
            "“attribute variables are assumed to be spatially constant throughout all geometries”\n",
            "Warning message:\n",
            "“attribute variables are assumed to be spatially constant throughout all geometries”\n",
            "Warning message:\n",
            "“attribute variables are assumed to be spatially constant throughout all geometries”\n",
            "Warning message:\n",
            "“attribute variables are assumed to be spatially constant throughout all geometries”\n",
            "Warning message:\n",
            "“attribute variables are assumed to be spatially constant throughout all geometries”\n",
            "Warning message:\n",
            "“attribute variables are assumed to be spatially constant throughout all geometries”\n",
            "Warning message:\n",
            "“attribute variables are assumed to be spatially constant throughout all geometries”\n",
            "Warning message:\n",
            "“attribute variables are assumed to be spatially constant throughout all geometries”\n",
            "Warning message:\n",
            "“attribute variables are assumed to be spatially constant throughout all geometries”\n",
            "Warning message:\n",
            "“attribute variables are assumed to be spatially constant throughout all geometries”\n",
            "Warning message:\n",
            "“attribute variables are assumed to be spatially constant throughout all geometries”\n",
            "Warning message:\n",
            "“attribute variables are assumed to be spatially constant throughout all geometries”\n",
            "Warning message:\n",
            "“attribute variables are assumed to be spatially constant throughout all geometries”\n",
            "Warning message:\n",
            "“attribute variables are assumed to be spatially constant throughout all geometries”\n",
            "Warning message:\n",
            "“attribute variables are assumed to be spatially constant throughout all geometries”\n",
            "Warning message:\n",
            "“attribute variables are assumed to be spatially constant throughout all geometries”\n",
            "Warning message:\n",
            "“attribute variables are assumed to be spatially constant throughout all geometries”\n",
            "Warning message:\n",
            "“attribute variables are assumed to be spatially constant throughout all geometries”\n",
            "Warning message:\n",
            "“attribute variables are assumed to be spatially constant throughout all geometries”\n",
            "Warning message:\n",
            "“attribute variables are assumed to be spatially constant throughout all geometries”\n",
            "Warning message:\n",
            "“attribute variables are assumed to be spatially constant throughout all geometries”\n",
            "Warning message:\n",
            "“attribute variables are assumed to be spatially constant throughout all geometries”\n",
            "Warning message:\n",
            "“attribute variables are assumed to be spatially constant throughout all geometries”\n",
            "Warning message:\n",
            "“attribute variables are assumed to be spatially constant throughout all geometries”\n",
            "Warning message:\n",
            "“attribute variables are assumed to be spatially constant throughout all geometries”\n",
            "Warning message:\n",
            "“attribute variables are assumed to be spatially constant throughout all geometries”\n",
            "Warning message:\n",
            "“attribute variables are assumed to be spatially constant throughout all geometries”\n",
            "Warning message:\n",
            "“attribute variables are assumed to be spatially constant throughout all geometries”\n"
          ]
        }
      ]
    },
    {
      "cell_type": "code",
      "source": [
        "# zip the exports and save in utm5_updatedExports_march20 folder\n",
        "# images 2018 36-80\n",
        "\n",
        "zip(zipfile = \"/content/utm5_2018_1_35_images.zip\",\n",
        "    files = c(\"/content/exports/image\"))\n",
        "drive_upload(media = \"/content/utm5_2018_1_35_images.zip\", path = as_id(\"1bKe7d4U4gH6qRoYyRwT_JYYYyXbQxirS\"))\n",
        "# https://drive.google.com/drive/folders/1bKe7d4U4gH6qRoYyRwT_JYYYyXbQxirS?usp=drive_link\n",
        "\n",
        "# zip(zipfile = \"/content/utm5_2018_81_229_nwi_ccap_filled.zip\",\n",
        "#     files = c(\"/content/exports/nwi_ccap_filled\"))\n",
        "# drive_upload(media = \"/content/utm5_2018_81_229_nwi_ccap_filled.zip\", path = as_id(\"1bKe7d4U4gH6qRoYyRwT_JYYYyXbQxirS\"))\n",
        "\n",
        "# zip(zipfile = \"/content/utm5_2018_81_229_dem.zip\",\n",
        "#     files = c(\"/content/exports/dem\"))\n",
        "# drive_upload(media = \"/content/utm5_2018_81_229_dem.zip\", path = as_id(\"1bKe7d4U4gH6qRoYyRwT_JYYYyXbQxirS\"))"
      ],
      "metadata": {
        "id": "hJl9PdFVbmne",
        "outputId": "ee4eaa39-fc4f-4cc1-b795-83fec2e9f4cc",
        "colab": {
          "base_uri": "https://localhost:8080/"
        }
      },
      "execution_count": 49,
      "outputs": [
        {
          "output_type": "stream",
          "name": "stderr",
          "text": [
            "Local file:\n",
            "\n",
            "• \u001b[34m/content/utm5_2018_1_35_images.zip\u001b[39m\n",
            "\n",
            "Uploaded into Drive file:\n",
            "\n",
            "• \u001b[36mutm5_2018_1_35_images.zip\u001b[39m \u001b[90m<id: 1YGVzBQRsYrvd4Hx-jsLSdG5Qig8Km4vm>\u001b[39m\n",
            "\n",
            "With MIME type:\n",
            "\n",
            "• \u001b[32mapplication/zip\u001b[39m\n",
            "\n"
          ]
        }
      ]
    },
    {
      "cell_type": "code",
      "source": [
        "unzip(zipfile ='/content/utm5_2018_1_35_images.zip', exdir = \"/content/imagery/planet/2018/utm5/\")"
      ],
      "metadata": {
        "id": "kQpfaE1bfW8z"
      },
      "execution_count": 51,
      "outputs": []
    },
    {
      "cell_type": "code",
      "source": [
        "unzip(zipfile ='/content/utm5_2018_36_80_images.zip', exdir = \"/content/imagery/planet/2018/utm5/\")"
      ],
      "metadata": {
        "id": "8NkYYUbGe1x8"
      },
      "execution_count": 50,
      "outputs": []
    },
    {
      "cell_type": "code",
      "source": [
        "unzip(zipfile ='/content/utm5_2018_81_229_images.zip', exdir = \"/content/imagery/planet/2018/utm5/\")"
      ],
      "metadata": {
        "id": "RicePUl9fbvv"
      },
      "execution_count": 52,
      "outputs": []
    },
    {
      "cell_type": "code",
      "source": [
        "# Define the source and destination directories\n",
        "source_dir <- \"/content/imagery/planet/2018/utm5/content/exports_36_80/image\"\n",
        "destination_dir <- \"/content/imagery/planet/2018/utm5/content/exports/image\"\n",
        "\n",
        "# List all .tif files in the source directory\n",
        "tif_files <- list.files(source_dir, pattern = \"\\\\.tif$\", full.names = TRUE)\n",
        "\n",
        "# Move each .tif file to the destination directory\n",
        "for (file in tif_files) {\n",
        "  # Extract the file name\n",
        "  file_name <- basename(file)\n",
        "\n",
        "  # Define the destination file path\n",
        "  destination_file <- file.path(destination_dir, file_name)\n",
        "\n",
        "  # Copy the file to the destination directory\n",
        "  file.copy(file, destination_file)\n",
        "\n",
        "  # Remove the original file\n",
        "  file.remove(file)\n",
        "}\n"
      ],
      "metadata": {
        "id": "4U3uUr4mf0RH"
      },
      "execution_count": 53,
      "outputs": []
    },
    {
      "cell_type": "markdown",
      "source": [
        "# Stacking data"
      ],
      "metadata": {
        "id": "_CpQpQAbgWSq"
      }
    },
    {
      "cell_type": "code",
      "source": [
        "# time to stack 2018 images and dem\n"
      ],
      "metadata": {
        "id": "HNg0Ge1_gTEU"
      },
      "execution_count": null,
      "outputs": []
    }
  ]
}