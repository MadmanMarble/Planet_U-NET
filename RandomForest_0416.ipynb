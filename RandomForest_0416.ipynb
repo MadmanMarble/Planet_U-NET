{
  "nbformat": 4,
  "nbformat_minor": 0,
  "metadata": {
    "colab": {
      "provenance": [],
      "collapsed_sections": [
        "r6bl9SmmvLXI"
      ],
      "machine_shape": "hm",
      "authorship_tag": "ABX9TyMQCmbuRGR+EzPobIKcgu3+",
      "include_colab_link": true
    },
    "kernelspec": {
      "name": "python3",
      "display_name": "Python 3"
    },
    "language_info": {
      "name": "python"
    }
  },
  "cells": [
    {
      "cell_type": "markdown",
      "metadata": {
        "id": "view-in-github",
        "colab_type": "text"
      },
      "source": [
        "<a href=\"https://colab.research.google.com/github/MadmanMarble/Planet_U-NET/blob/main/RandomForest_0416.ipynb\" target=\"_parent\"><img src=\"https://colab.research.google.com/assets/colab-badge.svg\" alt=\"Open In Colab\"/></a>"
      ]
    },
    {
      "cell_type": "code",
      "execution_count": 1,
      "metadata": {
        "colab": {
          "base_uri": "https://localhost:8080/"
        },
        "id": "amm-dl-jXLb2",
        "outputId": "3c34d719-431f-488e-abf1-c725b71d4a78"
      },
      "outputs": [
        {
          "output_type": "stream",
          "name": "stdout",
          "text": [
            "Mounted at /content/drive\n"
          ]
        }
      ],
      "source": [
        "from google.colab import drive\n",
        "drive.mount('/content/drive')"
      ]
    },
    {
      "cell_type": "code",
      "source": [
        "pip install rasterio"
      ],
      "metadata": {
        "colab": {
          "base_uri": "https://localhost:8080/"
        },
        "id": "xp_m3Rl2XTrm",
        "outputId": "3b0a8641-ab16-4193-8ff1-91891a9ab869"
      },
      "execution_count": 2,
      "outputs": [
        {
          "output_type": "stream",
          "name": "stdout",
          "text": [
            "Collecting rasterio\n",
            "  Downloading rasterio-1.3.10-cp310-cp310-manylinux2014_x86_64.whl (21.5 MB)\n",
            "\u001b[2K     \u001b[90m━━━━━━━━━━━━━━━━━━━━━━━━━━━━━━━━━━━━━━━━\u001b[0m \u001b[32m21.5/21.5 MB\u001b[0m \u001b[31m62.6 MB/s\u001b[0m eta \u001b[36m0:00:00\u001b[0m\n",
            "\u001b[?25hCollecting affine (from rasterio)\n",
            "  Downloading affine-2.4.0-py3-none-any.whl (15 kB)\n",
            "Requirement already satisfied: attrs in /usr/local/lib/python3.10/dist-packages (from rasterio) (23.2.0)\n",
            "Requirement already satisfied: certifi in /usr/local/lib/python3.10/dist-packages (from rasterio) (2024.2.2)\n",
            "Requirement already satisfied: click>=4.0 in /usr/local/lib/python3.10/dist-packages (from rasterio) (8.1.7)\n",
            "Requirement already satisfied: cligj>=0.5 in /usr/local/lib/python3.10/dist-packages (from rasterio) (0.7.2)\n",
            "Requirement already satisfied: numpy in /usr/local/lib/python3.10/dist-packages (from rasterio) (1.25.2)\n",
            "Collecting snuggs>=1.4.1 (from rasterio)\n",
            "  Downloading snuggs-1.4.7-py3-none-any.whl (5.4 kB)\n",
            "Requirement already satisfied: click-plugins in /usr/local/lib/python3.10/dist-packages (from rasterio) (1.1.1)\n",
            "Requirement already satisfied: setuptools in /usr/local/lib/python3.10/dist-packages (from rasterio) (67.7.2)\n",
            "Requirement already satisfied: pyparsing>=2.1.6 in /usr/local/lib/python3.10/dist-packages (from snuggs>=1.4.1->rasterio) (3.1.2)\n",
            "Installing collected packages: snuggs, affine, rasterio\n",
            "Successfully installed affine-2.4.0 rasterio-1.3.10 snuggs-1.4.7\n"
          ]
        }
      ]
    },
    {
      "cell_type": "code",
      "source": [
        "import pandas as pd\n",
        "import numpy as np\n",
        "import matplotlib.pyplot as plt\n",
        "import shutil\n",
        "import zipfile\n",
        "import os\n",
        "import glob\n",
        "import cv2\n",
        "import rasterio\n",
        "from rasterio.plot import show\n",
        "from sklearn.model_selection import train_test_split\n",
        "import keras\n",
        "from keras.models import Model\n",
        "from keras.layers import Input, Conv2D, MaxPooling2D, UpSampling2D, concatenate, Conv2DTranspose, BatchNormalization, Dropout, Lambda\n",
        "from keras.utils import normalize\n",
        "from keras.utils import to_categorical\n",
        "from tensorflow.keras.models import load_model\n",
        "from tensorflow.image import resize\n",
        "from tensorflow.keras import layers\n",
        "from tensorflow.keras import losses\n",
        "from tensorflow.keras import models\n",
        "from tensorflow.keras import metrics\n",
        "from tensorflow.keras import optimizers\n",
        "from tensorflow.keras.layers import BatchNormalization\n",
        "from matplotlib.colors import Normalize, ListedColormap, BoundaryNorm"
      ],
      "metadata": {
        "id": "YqX3Kk6LXNfq"
      },
      "execution_count": 3,
      "outputs": []
    },
    {
      "cell_type": "markdown",
      "source": [
        "### Experiment one: one year of images"
      ],
      "metadata": {
        "id": "oUwAWXtBYzuz"
      }
    },
    {
      "cell_type": "code",
      "source": [
        "# directory_path = \"/content/drive/MyDrive/data/images/x_training/1year\"\n",
        "# entries = os.listdir(directory_path)\n",
        "# num_files = len(entries)\n",
        "# print(f\"There are {num_files} files in {directory_path}.\")\n",
        "# directory_path = \"/content/drive/MyDrive/data/labels/y_training\"\n",
        "# entries = os.listdir(directory_path)\n",
        "# num_files = len(entries)\n",
        "# print(f\"There are {num_files} files in {directory_path}.\")"
      ],
      "metadata": {
        "id": "fX578xCVYqBD"
      },
      "execution_count": 4,
      "outputs": []
    },
    {
      "cell_type": "code",
      "source": [
        "# x_file = \"/content/drive/MyDrive/data/images/x_training/1year/235_1year.tif\"\n",
        "# y_file = \"/content/drive/MyDrive/data/labels/y_training/235_multi_wl.tif\""
      ],
      "metadata": {
        "id": "pt94keYKZ6_D"
      },
      "execution_count": 5,
      "outputs": []
    },
    {
      "cell_type": "markdown",
      "source": [
        "### Lets look at one image file and it's matching label file"
      ],
      "metadata": {
        "id": "SoIS2lxBaZBr"
      }
    },
    {
      "cell_type": "code",
      "source": [
        "# with rasterio.open(y_file) as src:\n",
        "#     y_data = src.read().transpose(1, 2, 0)\n",
        "#     y_meta = src.profile\n",
        "#     y_meta = src.profile\n",
        "#     print(y_meta)\n",
        "#     print(y_data.shape)\n",
        "#     print(np.unique(y_data))\n",
        "#     print(y_data.min())\n",
        "#     print(y_data.max())\n",
        "#     plt.imshow(y_data)\n",
        "#     plt.title('y-data')\n",
        "#     plt.xlabel('Column #')\n",
        "#     plt.ylabel('Row #')\n",
        "#     plt.show()"
      ],
      "metadata": {
        "id": "ZCaO0UPYaNjg"
      },
      "execution_count": 6,
      "outputs": []
    },
    {
      "cell_type": "code",
      "source": [
        "# with rasterio.open(x_file) as src:\n",
        "#     x_data = src.read().transpose(1, 2, 0)\n",
        "#     red = src.read(1).astype(float)\n",
        "#     green = src.read(2).astype(float)\n",
        "#     blue = src.read(3).astype(float)\n",
        "#     red_scaled = np.clip(red * scale_factor, 0, 255)\n",
        "#     green_scaled = np.clip(green * scale_factor, 0, 255)\n",
        "#     blue_scaled = np.clip(blue * scale_factor, 0, 255)\n",
        "#     x_datamerge = np.stack((red_scaled, green_scaled, blue_scaled), axis=-1).astype(np.uint8)\n",
        "#     x_meta = src.profile\n",
        "#     print(x_meta)\n",
        "#     print(x_data.shape)\n",
        "#     print(x_data.min())\n",
        "#     print(x_data.max())\n",
        "#     plt.imshow(x_datamerge)\n",
        "#     plt.title('x-data')\n",
        "#     plt.xlabel('Column #')\n",
        "#     plt.ylabel('Row #')\n",
        "#     plt.show()\n"
      ],
      "metadata": {
        "id": "U5thn9G1aNhO"
      },
      "execution_count": 7,
      "outputs": []
    },
    {
      "cell_type": "markdown",
      "source": [
        "### Lets get into splitting the data into training and testing. There are 199 total tiles. By splitting the data into 80% training and 20% testing, there will be 159 tiles in training, 40 tiles in testing for both x_training and y_training datasets."
      ],
      "metadata": {
        "id": "2Mh85M8jkF2x"
      }
    },
    {
      "cell_type": "code",
      "source": [
        "# # Ensure the lists are sorted so that images and labels correspond to each other\n",
        "# x_training = sorted(glob.glob(f\"/content/drive/MyDrive/data/images/x_training/1year/*.tif\"))\n",
        "# y_training = sorted(glob.glob(f\"/content/drive/MyDrive/data/labels/y_training/*.tif\"))\n"
      ],
      "metadata": {
        "id": "oV78ylmXaNci"
      },
      "execution_count": 8,
      "outputs": []
    },
    {
      "cell_type": "code",
      "source": [
        "# Split the file paths into training and testing sets (80% train, 20% test)\n",
        "# x_train, x_test, y_train, y_test = train_test_split(x_training, y_training, test_size=0.2, random_state=20)"
      ],
      "metadata": {
        "id": "f84qiTC6ZER6"
      },
      "execution_count": 9,
      "outputs": []
    },
    {
      "cell_type": "code",
      "source": [
        "# # define subset size\n",
        "# N = 10\n",
        "# nu = 2\n",
        "# subset_x_train = x_train[:N]\n",
        "# subset_y_train = y_train[:N]\n",
        "# subset_x_test = x_test[:nu]\n",
        "# subset_y_test = y_test[:nu]"
      ],
      "metadata": {
        "id": "ZYKaG9imC5ab"
      },
      "execution_count": 10,
      "outputs": []
    },
    {
      "cell_type": "code",
      "source": [
        "# print(\"Subset sizes:\")\n",
        "# print(f\"x_train_subset: {len(subset_x_train)}\")\n",
        "# print(f\"x_test_subset: {len(subset_x_test)}\")\n",
        "# print(f\"y_train_subset: {len(subset_y_train)}\")\n",
        "# print(f\"y_test_subset: {len(subset_y_test)}\")"
      ],
      "metadata": {
        "id": "ZdnAoDN0DZ-s"
      },
      "execution_count": 11,
      "outputs": []
    },
    {
      "cell_type": "code",
      "source": [
        "# def read_multi_image(file_path):\n",
        "#     with rasterio.open(file_path) as src:\n",
        "#       bands = [src.read(i) for i in range(1,5)]\n",
        "\n",
        "#       image = np.stack(bands, axis=-1)\n",
        "\n",
        "#       image = image.astype(float)\n",
        "#       max_value = image.max(axis=(0,1), keepdims=True)\n",
        "#       min_value = image.min(axis=(0,1), keepdims=True)\n",
        "#       image = (image - min_value) / (max_value - min_value)\n",
        "\n",
        "#       return image\n",
        ""
      ],
      "metadata": {
        "id": "W01ls3cqD1AY"
      },
      "execution_count": 12,
      "outputs": []
    },
    {
      "cell_type": "code",
      "source": [
        "# # lets look at one example of the x data\n",
        "# ex_x_train1 = read_multi_image(subset_x_train[2])\n",
        "\n",
        "# plt.figure(figsize=(15, 10))\n",
        "# for i in range(4):\n",
        "#     plt.subplot(2, 2, i+1)\n",
        "#     plt.imshow(ex_x_train1[:, :, i], cmap='gray')\n",
        "#     plt.title(f'Band {i+1}')\n",
        "#     plt.colorbar()\n",
        "# plt.tight_layout()\n",
        "# plt.show()"
      ],
      "metadata": {
        "id": "pTju2B8kEx3v"
      },
      "execution_count": 13,
      "outputs": []
    },
    {
      "cell_type": "code",
      "source": [
        "# # lets read and process image data for the subsets using read_multi_image to convert each path in the subset into useable data array.\n",
        "# subset_x_train_data = [read_multi_image(file_path) for file_path in subset_x_train]\n",
        "# subset_x_test_data = [read_multi_image(file_path) for file_path in subset_x_test]"
      ],
      "metadata": {
        "id": "11_xJfq3Ha85"
      },
      "execution_count": 14,
      "outputs": []
    },
    {
      "cell_type": "code",
      "source": [
        "# subset_x_test_data"
      ],
      "metadata": {
        "id": "w-rf0fsBHn8C"
      },
      "execution_count": 15,
      "outputs": []
    },
    {
      "cell_type": "code",
      "source": [
        "# def read_image_labels(file_path):\n",
        "#     with rasterio.open(file_path) as src:\n",
        "#       label_image = src.read(1) # read the sing band\n",
        "#       return label_image.astype(np.int32) # ensuring labels are interger type"
      ],
      "metadata": {
        "id": "yxOpkWHDI_At"
      },
      "execution_count": 16,
      "outputs": []
    },
    {
      "cell_type": "code",
      "source": [
        "# ex_y_train1 = read_image_labels(subset_y_train[2])\n",
        "# ex_y_train1\n",
        "# plt.imshow(ex_y_train1, cmap='gray')\n",
        "# plt.colorbar()\n",
        "# plt.tight_layout()\n",
        "# plt.show()"
      ],
      "metadata": {
        "id": "vsMEyI-lJfZV"
      },
      "execution_count": 17,
      "outputs": []
    },
    {
      "cell_type": "code",
      "source": [
        "# ex_y_test = read_image_labels(subset_y_test[1])\n",
        "# ex_y_test\n",
        "# plt.imshow(ex_y_test, cmap='gray')\n",
        "# plt.colorbar()\n",
        "# plt.tight_layout()\n",
        "# plt.show()"
      ],
      "metadata": {
        "id": "tZyLwOZwZ6fb"
      },
      "execution_count": 18,
      "outputs": []
    },
    {
      "cell_type": "code",
      "source": [
        "# import matplotlib.pyplot as plt\n",
        "# from matplotlib.colors import ListedColormap, BoundaryNorm\n",
        "# import numpy as np\n",
        "\n",
        "# def plot_label_image(label_image, title='Label Image'):\n",
        "#     # Create a color map with distinct colors for each class\n",
        "#     # Here, we define a colormap with 7 colors, one for each label class\n",
        "#     colors = ['black', 'red', 'green', 'blue', 'cyan', 'magenta', 'yellow']\n",
        "#     cmap = ListedColormap(colors)\n",
        "\n",
        "#     # Define the boundaries of each class; since labels are from 1 to 7\n",
        "#     bounds = np.arange(0.5, 8.5, 1)  # From 0.5 to 7.5 with steps of 1\n",
        "\n",
        "#     norm = BoundaryNorm(bounds, cmap.N)\n",
        "\n",
        "#     # Create the plot\n",
        "#     fig, ax = plt.subplots()\n",
        "#     cbar = ax.imshow(label_image, cmap=cmap, norm=norm)\n",
        "#     fig.colorbar(cbar, ticks=np.arange(1, 8), spacing='proportional', ax=ax, shrink=0.8)\n",
        "#     ax.set_title(title)\n",
        "#     ax.set_xlabel('Column #')\n",
        "#     ax.set_ylabel('Row #')\n",
        "#     plt.show()"
      ],
      "metadata": {
        "id": "Ihm4iyBSLcRp"
      },
      "execution_count": 19,
      "outputs": []
    },
    {
      "cell_type": "code",
      "source": [
        "# plot_label_image(ex_y_train1)"
      ],
      "metadata": {
        "id": "5n1yCRM7LhkC"
      },
      "execution_count": 20,
      "outputs": []
    },
    {
      "cell_type": "markdown",
      "source": [
        "# Necessary blocks of code (to the pause)"
      ],
      "metadata": {
        "id": "4dUuLkKWLW9P"
      }
    },
    {
      "cell_type": "markdown",
      "source": [
        "### Running Random Forest\n",
        "\n",
        "\n",
        "\n"
      ],
      "metadata": {
        "id": "EtNgc-x_kyc_"
      }
    },
    {
      "cell_type": "code",
      "source": [
        "from sklearn.ensemble import RandomForestClassifier"
      ],
      "metadata": {
        "id": "fIcNK-MJktkr"
      },
      "execution_count": 34,
      "outputs": []
    },
    {
      "cell_type": "code",
      "source": [
        "# Ensure the lists are sorted so that images and labels correspond to each other\n",
        "x_training = sorted(glob.glob(f\"/content/drive/MyDrive/data/images/x_training/1year/*.tif\"))\n",
        "y_training = sorted(glob.glob(f\"/content/drive/MyDrive/data/labels/y_training/*.tif\"))"
      ],
      "metadata": {
        "id": "PjggsHniLRsx"
      },
      "execution_count": 21,
      "outputs": []
    },
    {
      "cell_type": "code",
      "source": [
        "# Split the file paths into training and testing sets (80% train, 20% test)\n",
        "x_train, x_test, y_train, y_test = train_test_split(x_training, y_training, test_size=0.2, random_state=20)"
      ],
      "metadata": {
        "id": "80h8IwP6LPNu"
      },
      "execution_count": 22,
      "outputs": []
    },
    {
      "cell_type": "code",
      "source": [
        "# randomly select files for the subset to practice on\n",
        "N = 10\n",
        "nu = 2\n",
        "\n",
        "random_train_indices = np.random.choice(len(x_train), N, replace=False)\n",
        "random_test_indices = np.random.choice(len(x_test), nu, replace=False)\n",
        "\n",
        "# Subset the data using these random indices\n",
        "subset_x_train = [x_train[i] for i in random_train_indices]\n",
        "subset_y_train = [y_train[i] for i in random_train_indices]\n",
        "subset_x_test = [x_test[i] for i in random_test_indices]\n",
        "subset_y_test = [y_test[i] for i in random_test_indices]"
      ],
      "metadata": {
        "id": "1cPDq0XiknOO"
      },
      "execution_count": 26,
      "outputs": []
    },
    {
      "cell_type": "code",
      "source": [
        "subset_x_test"
      ],
      "metadata": {
        "colab": {
          "base_uri": "https://localhost:8080/"
        },
        "id": "6PKBdNIhlXVq",
        "outputId": "b28fe2cb-e91d-4511-8994-2646592d183f"
      },
      "execution_count": 27,
      "outputs": [
        {
          "output_type": "execute_result",
          "data": {
            "text/plain": [
              "['/content/drive/MyDrive/data/images/x_training/1year/794_1year.tif',\n",
              " '/content/drive/MyDrive/data/images/x_training/1year/1611_1year.tif']"
            ]
          },
          "metadata": {},
          "execution_count": 27
        }
      ]
    },
    {
      "cell_type": "code",
      "source": [
        "subset_y_test"
      ],
      "metadata": {
        "colab": {
          "base_uri": "https://localhost:8080/"
        },
        "id": "qDnH9796lX3q",
        "outputId": "3564d87b-8443-4864-9b56-014ef19fe7be"
      },
      "execution_count": 28,
      "outputs": [
        {
          "output_type": "execute_result",
          "data": {
            "text/plain": [
              "['/content/drive/MyDrive/data/labels/y_training/794_multi_wl.tif',\n",
              " '/content/drive/MyDrive/data/labels/y_training/1611_multi_wl.tif']"
            ]
          },
          "metadata": {},
          "execution_count": 28
        }
      ]
    },
    {
      "cell_type": "code",
      "source": [
        "subset_x_train\n"
      ],
      "metadata": {
        "colab": {
          "base_uri": "https://localhost:8080/"
        },
        "id": "aW_7k8p6ro3W",
        "outputId": "a20729c4-214e-4a78-cd36-b726c33551a0"
      },
      "execution_count": 70,
      "outputs": [
        {
          "output_type": "execute_result",
          "data": {
            "text/plain": [
              "['/content/drive/MyDrive/data/images/x_training/1year/840_1year.tif',\n",
              " '/content/drive/MyDrive/data/images/x_training/1year/209_1year.tif',\n",
              " '/content/drive/MyDrive/data/images/x_training/1year/810_1year.tif',\n",
              " '/content/drive/MyDrive/data/images/x_training/1year/743_1year.tif',\n",
              " '/content/drive/MyDrive/data/images/x_training/1year/744_1year.tif',\n",
              " '/content/drive/MyDrive/data/images/x_training/1year/1610_1year.tif',\n",
              " '/content/drive/MyDrive/data/images/x_training/1year/860_1year.tif',\n",
              " '/content/drive/MyDrive/data/images/x_training/1year/1489_1year.tif',\n",
              " '/content/drive/MyDrive/data/images/x_training/1year/865_1year.tif',\n",
              " '/content/drive/MyDrive/data/images/x_training/1year/798_1year.tif']"
            ]
          },
          "metadata": {},
          "execution_count": 70
        }
      ]
    },
    {
      "cell_type": "code",
      "source": [
        "def read_multi_image(file_path):\n",
        "    with rasterio.open(file_path) as src:\n",
        "      bands = [src.read(i) for i in range(1,5)]\n",
        "\n",
        "      image = np.stack(bands, axis=-1)\n",
        "\n",
        "      image = image.astype(float)\n",
        "      max_value = image.max(axis=(0,1), keepdims=True)\n",
        "      min_value = image.min(axis=(0,1), keepdims=True)\n",
        "      image = (image - min_value) / (max_value - min_value)\n",
        "\n",
        "      return image"
      ],
      "metadata": {
        "id": "a5_fjuNOLIT6"
      },
      "execution_count": 30,
      "outputs": []
    },
    {
      "cell_type": "code",
      "source": [
        "def read_image_labels(file_path):\n",
        "    with rasterio.open(file_path) as src:\n",
        "      label_image = src.read(1) # read the sing band\n",
        "      return label_image.astype(np.int32) # ensuring labels are interger type"
      ],
      "metadata": {
        "id": "Nh8piVq5LJwK"
      },
      "execution_count": 31,
      "outputs": []
    },
    {
      "cell_type": "code",
      "source": [
        "# lets read and process image data for the subsets using read_multi_image to convert\n",
        "# each path in the subset into useable data array for x and y data\n",
        "\n",
        "subset_x_train_data = [read_multi_image(file_path) for file_path in subset_x_train]\n",
        "subset_x_test_data = [read_multi_image(file_path) for file_path in subset_x_test]\n",
        "subset_y_train_data = [read_image_labels(file_path) for file_path in subset_y_train]\n",
        "subset_y_test_data = [read_image_labels(file_path) for file_path in subset_y_test]\n"
      ],
      "metadata": {
        "id": "tMLJtiEtKSqI"
      },
      "execution_count": 32,
      "outputs": []
    },
    {
      "cell_type": "code",
      "source": [
        "# # Example: Check the first element to see its unique values and shape\n",
        "# print(\"Unique labels in first y_train image:\", np.unique(subset_y_train_data[5]))\n",
        "# print(\"Shape of first y_train image:\", subset_y_train_data[0].shape)"
      ],
      "metadata": {
        "id": "3axRHChZKZpW"
      },
      "execution_count": 35,
      "outputs": []
    },
    {
      "cell_type": "code",
      "source": [
        "# RF expects 2D array like this: (n_samples, n_features) = (10, 589824)\n",
        "# and the target to be 1D like this: (n_samples)\n",
        "# Need to reshape image data (features) and flatten albel data (tagerts)\n",
        "\n",
        "x_train_flatten = np.array([img.flatten() for img in subset_x_train_data])\n",
        "x_test_flatten = np.array([img.flatten() for img in subset_x_test_data])\n",
        "y_train_flatten = np.array([img.flatten() for img in subset_y_train_data])\n",
        "y_test_flatten = np.array([img.flatten() for img in subset_y_test_data])"
      ],
      "metadata": {
        "id": "6zI1RmJ1l0Ag"
      },
      "execution_count": 36,
      "outputs": []
    },
    {
      "cell_type": "code",
      "source": [
        "print(x_train_flatten.shape)\n",
        "print(x_test_flatten.shape)\n",
        "print(y_train_flatten.shape)\n",
        "print(y_test_flatten.shape)"
      ],
      "metadata": {
        "colab": {
          "base_uri": "https://localhost:8080/"
        },
        "id": "gAZzkhhCPVeT",
        "outputId": "6b2de9e2-9d3b-443c-f0ef-a0fd1b674c72"
      },
      "execution_count": 37,
      "outputs": [
        {
          "output_type": "stream",
          "name": "stdout",
          "text": [
            "(10, 589824)\n",
            "(2, 589824)\n",
            "(10, 147456)\n",
            "(2, 147456)\n"
          ]
        }
      ]
    },
    {
      "cell_type": "code",
      "source": [
        "y_train_flatten # was not 1D flat"
      ],
      "metadata": {
        "colab": {
          "base_uri": "https://localhost:8080/"
        },
        "id": "dSzL6NdvgkoT",
        "outputId": "5275bae6-49c8-49ff-cfdd-722e20bb98eb"
      },
      "execution_count": 38,
      "outputs": [
        {
          "output_type": "execute_result",
          "data": {
            "text/plain": [
              "array([[7, 7, 7, ..., 7, 7, 7],\n",
              "       [7, 7, 7, ..., 7, 7, 7],\n",
              "       [7, 7, 7, ..., 7, 7, 7],\n",
              "       ...,\n",
              "       [7, 7, 7, ..., 7, 7, 7],\n",
              "       [7, 7, 7, ..., 7, 7, 7],\n",
              "       [7, 7, 7, ..., 7, 7, 7]], dtype=int32)"
            ]
          },
          "metadata": {},
          "execution_count": 38
        }
      ]
    },
    {
      "cell_type": "markdown",
      "source": [
        "Run these next 5 blocks to clalculate weights for later if you need to add class weight suff"
      ],
      "metadata": {
        "id": "JkC0J5Lzn2-G"
      }
    },
    {
      "cell_type": "code",
      "source": [
        "# if y_train_flatten.ndim > 1:\n",
        "#     y_train_flatten = y_train_flatten.flatten()\n",
        "# y_train_flatten"
      ],
      "metadata": {
        "id": "DtvqBIEZgmkn"
      },
      "execution_count": 39,
      "outputs": []
    },
    {
      "cell_type": "code",
      "source": [
        "# unique_classes = np.unique(y_train_flatten)\n",
        "# print(unique_classes)\n",
        "# class_weights = compute_class_weight('balanced', classes=unique_classes, y=y_train_flatten)\n",
        "# print(class_weights)"
      ],
      "metadata": {
        "id": "g2UaFi-NgIUu"
      },
      "execution_count": 40,
      "outputs": []
    },
    {
      "cell_type": "code",
      "source": [
        "# weights_dict = {cls: weight for cls, weight in zip(np.unique(y_train_flatten), class_weights)}\n",
        "# weights_dict"
      ],
      "metadata": {
        "id": "toohWd2nfpwe"
      },
      "execution_count": 41,
      "outputs": []
    },
    {
      "cell_type": "code",
      "source": [
        "# x_train_flatten.shape"
      ],
      "metadata": {
        "id": "H5HCAic6iEUM"
      },
      "execution_count": 42,
      "outputs": []
    },
    {
      "cell_type": "code",
      "source": [
        "# y_train_flatten = np.array([img.flatten() for img in subset_y_train_data])\n",
        "# y_train_flatten.shape"
      ],
      "metadata": {
        "id": "OiNB5IpBiGDS"
      },
      "execution_count": 43,
      "outputs": []
    },
    {
      "cell_type": "code",
      "source": [
        "# pca = PCA(n_components=10)  # Adjust 'n_components' 10 bc i have 10 images in my\n",
        "# rf = RandomForestClassifier(n_estimators=100, random_state=30, class_weight=weights_dict, verbose=2)\n",
        "# pipeline = Pipeline(steps=[('pca', pca), ('random_forest', rf)])\n",
        "# pipeline.fit(x_train_flatten, y_train_flatten)"
      ],
      "metadata": {
        "id": "HTx6cCU9SMuB"
      },
      "execution_count": null,
      "outputs": []
    },
    {
      "cell_type": "code",
      "source": [
        "# now the classes have a balanced weight distribution - now I need to use these weights in RF classifier.\n",
        "# below is the updated block of rf to fit the data with the weights"
      ],
      "metadata": {
        "id": "j2Gsbmocgj7n"
      },
      "execution_count": 44,
      "outputs": []
    },
    {
      "cell_type": "code",
      "source": [
        "from sklearn.decomposition import PCA\n",
        "from sklearn.ensemble import RandomForestClassifier\n",
        "from sklearn.pipeline import Pipeline\n",
        "# Define a PCA transformation that retains enough variance while reducing dimensionality\n",
        "pca = PCA(n_components=10)  # Adjust 'n_components' 10 bc i have 10 images\n",
        "rf = RandomForestClassifier(n_estimators=100, random_state=30, verbose=2) # class_weight=\"balanced\"\n",
        "pipeline = Pipeline(steps=[('pca', pca), ('random_forest', rf)])"
      ],
      "metadata": {
        "id": "y7Av9xVShoIL"
      },
      "execution_count": 46,
      "outputs": []
    },
    {
      "cell_type": "code",
      "source": [
        "pipeline.fit(x_train_flatten, y_train_flatten)"
      ],
      "metadata": {
        "colab": {
          "base_uri": "https://localhost:8080/",
          "height": 1000
        },
        "id": "EdsVzJ2Yh5BW",
        "outputId": "d84315db-cb78-4553-e082-7fe69eb2239f"
      },
      "execution_count": 47,
      "outputs": [
        {
          "output_type": "stream",
          "name": "stdout",
          "text": [
            "building tree 1 of 100\n",
            "building tree 2 of 100\n",
            "building tree 3 of 100\n",
            "building tree 4 of 100\n",
            "building tree 5 of 100\n",
            "building tree 6 of 100\n",
            "building tree 7 of 100\n",
            "building tree 8 of 100\n",
            "building tree 9 of 100\n",
            "building tree 10 of 100\n",
            "building tree 11 of 100\n",
            "building tree 12 of 100\n",
            "building tree 13 of 100\n",
            "building tree 14 of 100\n",
            "building tree 15 of 100\n",
            "building tree 16 of 100\n",
            "building tree 17 of 100\n",
            "building tree 18 of 100\n",
            "building tree 19 of 100\n",
            "building tree 20 of 100\n",
            "building tree 21 of 100\n",
            "building tree 22 of 100\n",
            "building tree 23 of 100\n",
            "building tree 24 of 100\n",
            "building tree 25 of 100\n",
            "building tree 26 of 100\n",
            "building tree 27 of 100\n",
            "building tree 28 of 100\n",
            "building tree 29 of 100\n",
            "building tree 30 of 100\n",
            "building tree 31 of 100\n",
            "building tree 32 of 100\n",
            "building tree 33 of 100\n",
            "building tree 34 of 100\n",
            "building tree 35 of 100\n",
            "building tree 36 of 100\n",
            "building tree 37 of 100\n",
            "building tree 38 of 100\n",
            "building tree 39 of 100\n",
            "building tree 40 of 100\n"
          ]
        },
        {
          "output_type": "stream",
          "name": "stderr",
          "text": [
            "[Parallel(n_jobs=1)]: Done  40 tasks      | elapsed:  1.5min\n"
          ]
        },
        {
          "output_type": "stream",
          "name": "stdout",
          "text": [
            "building tree 41 of 100\n",
            "building tree 42 of 100\n",
            "building tree 43 of 100\n",
            "building tree 44 of 100\n",
            "building tree 45 of 100\n",
            "building tree 46 of 100\n",
            "building tree 47 of 100\n",
            "building tree 48 of 100\n",
            "building tree 49 of 100\n",
            "building tree 50 of 100\n",
            "building tree 51 of 100\n",
            "building tree 52 of 100\n",
            "building tree 53 of 100\n",
            "building tree 54 of 100\n",
            "building tree 55 of 100\n",
            "building tree 56 of 100\n",
            "building tree 57 of 100\n",
            "building tree 58 of 100\n",
            "building tree 59 of 100\n",
            "building tree 60 of 100\n",
            "building tree 61 of 100\n",
            "building tree 62 of 100\n",
            "building tree 63 of 100\n",
            "building tree 64 of 100\n",
            "building tree 65 of 100\n",
            "building tree 66 of 100\n",
            "building tree 67 of 100\n",
            "building tree 68 of 100\n",
            "building tree 69 of 100\n",
            "building tree 70 of 100\n",
            "building tree 71 of 100\n",
            "building tree 72 of 100\n",
            "building tree 73 of 100\n",
            "building tree 74 of 100\n",
            "building tree 75 of 100\n",
            "building tree 76 of 100\n",
            "building tree 77 of 100\n",
            "building tree 78 of 100\n",
            "building tree 79 of 100\n",
            "building tree 80 of 100\n",
            "building tree 81 of 100\n",
            "building tree 82 of 100\n",
            "building tree 83 of 100\n",
            "building tree 84 of 100\n",
            "building tree 85 of 100\n",
            "building tree 86 of 100\n",
            "building tree 87 of 100\n",
            "building tree 88 of 100\n",
            "building tree 89 of 100\n",
            "building tree 90 of 100\n",
            "building tree 91 of 100\n",
            "building tree 92 of 100\n",
            "building tree 93 of 100\n",
            "building tree 94 of 100\n",
            "building tree 95 of 100\n",
            "building tree 96 of 100\n",
            "building tree 97 of 100\n",
            "building tree 98 of 100\n",
            "building tree 99 of 100\n",
            "building tree 100 of 100\n"
          ]
        },
        {
          "output_type": "execute_result",
          "data": {
            "text/plain": [
              "Pipeline(steps=[('pca', PCA(n_components=10)),\n",
              "                ('random_forest',\n",
              "                 RandomForestClassifier(random_state=30, verbose=2))])"
            ],
            "text/html": [
              "<style>#sk-container-id-1 {color: black;background-color: white;}#sk-container-id-1 pre{padding: 0;}#sk-container-id-1 div.sk-toggleable {background-color: white;}#sk-container-id-1 label.sk-toggleable__label {cursor: pointer;display: block;width: 100%;margin-bottom: 0;padding: 0.3em;box-sizing: border-box;text-align: center;}#sk-container-id-1 label.sk-toggleable__label-arrow:before {content: \"▸\";float: left;margin-right: 0.25em;color: #696969;}#sk-container-id-1 label.sk-toggleable__label-arrow:hover:before {color: black;}#sk-container-id-1 div.sk-estimator:hover label.sk-toggleable__label-arrow:before {color: black;}#sk-container-id-1 div.sk-toggleable__content {max-height: 0;max-width: 0;overflow: hidden;text-align: left;background-color: #f0f8ff;}#sk-container-id-1 div.sk-toggleable__content pre {margin: 0.2em;color: black;border-radius: 0.25em;background-color: #f0f8ff;}#sk-container-id-1 input.sk-toggleable__control:checked~div.sk-toggleable__content {max-height: 200px;max-width: 100%;overflow: auto;}#sk-container-id-1 input.sk-toggleable__control:checked~label.sk-toggleable__label-arrow:before {content: \"▾\";}#sk-container-id-1 div.sk-estimator input.sk-toggleable__control:checked~label.sk-toggleable__label {background-color: #d4ebff;}#sk-container-id-1 div.sk-label input.sk-toggleable__control:checked~label.sk-toggleable__label {background-color: #d4ebff;}#sk-container-id-1 input.sk-hidden--visually {border: 0;clip: rect(1px 1px 1px 1px);clip: rect(1px, 1px, 1px, 1px);height: 1px;margin: -1px;overflow: hidden;padding: 0;position: absolute;width: 1px;}#sk-container-id-1 div.sk-estimator {font-family: monospace;background-color: #f0f8ff;border: 1px dotted black;border-radius: 0.25em;box-sizing: border-box;margin-bottom: 0.5em;}#sk-container-id-1 div.sk-estimator:hover {background-color: #d4ebff;}#sk-container-id-1 div.sk-parallel-item::after {content: \"\";width: 100%;border-bottom: 1px solid gray;flex-grow: 1;}#sk-container-id-1 div.sk-label:hover label.sk-toggleable__label {background-color: #d4ebff;}#sk-container-id-1 div.sk-serial::before {content: \"\";position: absolute;border-left: 1px solid gray;box-sizing: border-box;top: 0;bottom: 0;left: 50%;z-index: 0;}#sk-container-id-1 div.sk-serial {display: flex;flex-direction: column;align-items: center;background-color: white;padding-right: 0.2em;padding-left: 0.2em;position: relative;}#sk-container-id-1 div.sk-item {position: relative;z-index: 1;}#sk-container-id-1 div.sk-parallel {display: flex;align-items: stretch;justify-content: center;background-color: white;position: relative;}#sk-container-id-1 div.sk-item::before, #sk-container-id-1 div.sk-parallel-item::before {content: \"\";position: absolute;border-left: 1px solid gray;box-sizing: border-box;top: 0;bottom: 0;left: 50%;z-index: -1;}#sk-container-id-1 div.sk-parallel-item {display: flex;flex-direction: column;z-index: 1;position: relative;background-color: white;}#sk-container-id-1 div.sk-parallel-item:first-child::after {align-self: flex-end;width: 50%;}#sk-container-id-1 div.sk-parallel-item:last-child::after {align-self: flex-start;width: 50%;}#sk-container-id-1 div.sk-parallel-item:only-child::after {width: 0;}#sk-container-id-1 div.sk-dashed-wrapped {border: 1px dashed gray;margin: 0 0.4em 0.5em 0.4em;box-sizing: border-box;padding-bottom: 0.4em;background-color: white;}#sk-container-id-1 div.sk-label label {font-family: monospace;font-weight: bold;display: inline-block;line-height: 1.2em;}#sk-container-id-1 div.sk-label-container {text-align: center;}#sk-container-id-1 div.sk-container {/* jupyter's `normalize.less` sets `[hidden] { display: none; }` but bootstrap.min.css set `[hidden] { display: none !important; }` so we also need the `!important` here to be able to override the default hidden behavior on the sphinx rendered scikit-learn.org. See: https://github.com/scikit-learn/scikit-learn/issues/21755 */display: inline-block !important;position: relative;}#sk-container-id-1 div.sk-text-repr-fallback {display: none;}</style><div id=\"sk-container-id-1\" class=\"sk-top-container\"><div class=\"sk-text-repr-fallback\"><pre>Pipeline(steps=[(&#x27;pca&#x27;, PCA(n_components=10)),\n",
              "                (&#x27;random_forest&#x27;,\n",
              "                 RandomForestClassifier(random_state=30, verbose=2))])</pre><b>In a Jupyter environment, please rerun this cell to show the HTML representation or trust the notebook. <br />On GitHub, the HTML representation is unable to render, please try loading this page with nbviewer.org.</b></div><div class=\"sk-container\" hidden><div class=\"sk-item sk-dashed-wrapped\"><div class=\"sk-label-container\"><div class=\"sk-label sk-toggleable\"><input class=\"sk-toggleable__control sk-hidden--visually\" id=\"sk-estimator-id-1\" type=\"checkbox\" ><label for=\"sk-estimator-id-1\" class=\"sk-toggleable__label sk-toggleable__label-arrow\">Pipeline</label><div class=\"sk-toggleable__content\"><pre>Pipeline(steps=[(&#x27;pca&#x27;, PCA(n_components=10)),\n",
              "                (&#x27;random_forest&#x27;,\n",
              "                 RandomForestClassifier(random_state=30, verbose=2))])</pre></div></div></div><div class=\"sk-serial\"><div class=\"sk-item\"><div class=\"sk-estimator sk-toggleable\"><input class=\"sk-toggleable__control sk-hidden--visually\" id=\"sk-estimator-id-2\" type=\"checkbox\" ><label for=\"sk-estimator-id-2\" class=\"sk-toggleable__label sk-toggleable__label-arrow\">PCA</label><div class=\"sk-toggleable__content\"><pre>PCA(n_components=10)</pre></div></div></div><div class=\"sk-item\"><div class=\"sk-estimator sk-toggleable\"><input class=\"sk-toggleable__control sk-hidden--visually\" id=\"sk-estimator-id-3\" type=\"checkbox\" ><label for=\"sk-estimator-id-3\" class=\"sk-toggleable__label sk-toggleable__label-arrow\">RandomForestClassifier</label><div class=\"sk-toggleable__content\"><pre>RandomForestClassifier(random_state=30, verbose=2)</pre></div></div></div></div></div></div></div>"
            ]
          },
          "metadata": {},
          "execution_count": 47
        }
      ]
    },
    {
      "cell_type": "code",
      "source": [],
      "metadata": {
        "id": "dw7Ck5riQvrY"
      },
      "execution_count": null,
      "outputs": []
    },
    {
      "cell_type": "code",
      "source": [
        "y_pred = pipeline.predict(x_test_flatten)"
      ],
      "metadata": {
        "colab": {
          "base_uri": "https://localhost:8080/"
        },
        "id": "SdwKvRsPW3sQ",
        "outputId": "415317f7-4e18-4973-ed5d-f2fb3ab316cc"
      },
      "execution_count": 48,
      "outputs": [
        {
          "output_type": "stream",
          "name": "stderr",
          "text": [
            "[Parallel(n_jobs=1)]: Done  40 tasks      | elapsed:   43.0s\n"
          ]
        }
      ]
    },
    {
      "cell_type": "code",
      "source": [
        "from sklearn.metrics import classification_report, accuracy_score"
      ],
      "metadata": {
        "id": "8_naR7f6XK57"
      },
      "execution_count": 49,
      "outputs": []
    },
    {
      "cell_type": "code",
      "source": [
        "y_pred_flatten = y_pred.flatten() if y_pred.ndim > 1 else y_pred\n",
        "y_test_flatten = y_test_flatten.flatten() if y_test_flatten.ndim > 1 else y_test_flatten"
      ],
      "metadata": {
        "id": "UpMf1RlcY_8o"
      },
      "execution_count": 58,
      "outputs": []
    },
    {
      "cell_type": "code",
      "source": [],
      "metadata": {
        "id": "MzmtVJQFZB1I"
      },
      "execution_count": 59,
      "outputs": []
    },
    {
      "cell_type": "code",
      "source": [
        "print(classification_report(y_test_flatten, y_pred_flatten))\n",
        "print(\"Accuracy:\", accuracy_score(y_test_flatten, y_pred_flatten))"
      ],
      "metadata": {
        "colab": {
          "base_uri": "https://localhost:8080/"
        },
        "id": "xTz4schrZN6m",
        "outputId": "4d9900f9-0f72-4bf7-a095-5b91e6362050"
      },
      "execution_count": 60,
      "outputs": [
        {
          "output_type": "stream",
          "name": "stdout",
          "text": [
            "              precision    recall  f1-score   support\n",
            "\n",
            "           1       0.00      0.00      0.00    103122\n",
            "           2       0.00      0.00      0.00     12841\n",
            "           3       0.00      0.00      0.00      2234\n",
            "           4       0.00      0.00      0.00     32251\n",
            "           5       0.00      0.00      0.00     12815\n",
            "           6       0.00      0.00      0.00     12736\n",
            "           7       0.40      1.00      0.57    118913\n",
            "\n",
            "    accuracy                           0.40    294912\n",
            "   macro avg       0.06      0.14      0.08    294912\n",
            "weighted avg       0.16      0.40      0.23    294912\n",
            "\n",
            "Accuracy: 0.4032151963975694\n"
          ]
        },
        {
          "output_type": "stream",
          "name": "stderr",
          "text": [
            "/usr/local/lib/python3.10/dist-packages/sklearn/metrics/_classification.py:1344: UndefinedMetricWarning: Precision and F-score are ill-defined and being set to 0.0 in labels with no predicted samples. Use `zero_division` parameter to control this behavior.\n",
            "  _warn_prf(average, modifier, msg_start, len(result))\n",
            "/usr/local/lib/python3.10/dist-packages/sklearn/metrics/_classification.py:1344: UndefinedMetricWarning: Precision and F-score are ill-defined and being set to 0.0 in labels with no predicted samples. Use `zero_division` parameter to control this behavior.\n",
            "  _warn_prf(average, modifier, msg_start, len(result))\n",
            "/usr/local/lib/python3.10/dist-packages/sklearn/metrics/_classification.py:1344: UndefinedMetricWarning: Precision and F-score are ill-defined and being set to 0.0 in labels with no predicted samples. Use `zero_division` parameter to control this behavior.\n",
            "  _warn_prf(average, modifier, msg_start, len(result))\n"
          ]
        }
      ]
    },
    {
      "cell_type": "code",
      "source": [
        "from sklearn.metrics import hamming_loss, jaccard_score\n",
        "print(\"Hamming Loss:\", hamming_loss(y_test_flatten, y_pred_flatten))\n",
        "print(\"Jaccard Score:\", jaccard_score(y_test_flatten, y_pred_flatten, average='macro'))  # 'macro' average for multiclass"
      ],
      "metadata": {
        "colab": {
          "base_uri": "https://localhost:8080/"
        },
        "id": "ZR1F477jY5xU",
        "outputId": "cbb7a93f-1a49-4e99-8be1-162c6c44917e"
      },
      "execution_count": 61,
      "outputs": [
        {
          "output_type": "stream",
          "name": "stdout",
          "text": [
            "Hamming Loss: 0.5967848036024306\n",
            "Jaccard Score: 0.05760217091393849\n"
          ]
        }
      ]
    },
    {
      "cell_type": "code",
      "source": [
        "# visualize the prediction\n",
        "# reshape prediction and true labels back to image format\n",
        "y_test_image = y_test_flatten.reshape(-1, 384, 384)  # Reshape to (num_images, height, width)\n",
        "y_pred_image = y_pred.reshape(-1, 384, 384)\n",
        "\n",
        "# Select the first image for visualization\n",
        "first_test_image = y_test_image[0]\n",
        "first_pred_image = y_pred_image[0]\n",
        "\n",
        "snd_test_image = y_test_image[1]\n",
        "snd_pred_image = y_pred_image[1]"
      ],
      "metadata": {
        "id": "ttLCeRSkc6hI"
      },
      "execution_count": 68,
      "outputs": []
    },
    {
      "cell_type": "code",
      "source": [
        "# plot function\n",
        "\n",
        "def plot_comparison(true_img, pred_img, title_true=\"True Labels\", title_pred=\"Predicted Labels\"):\n",
        "    plt.figure(figsize=(12, 6))\n",
        "\n",
        "    plt.subplot(1, 2, 1)\n",
        "    plt.imshow(true_img, cmap='viridis')  # Change colormap as needed\n",
        "    plt.colorbar()\n",
        "    plt.title(title_true)\n",
        "    plt.axis('off')\n",
        "\n",
        "    plt.subplot(1, 2, 2)\n",
        "    plt.imshow(pred_img, cmap='viridis')  # Change colormap as needed\n",
        "    plt.colorbar()\n",
        "    plt.title(title_pred)\n",
        "    plt.axis('off')\n",
        "\n",
        "    plt.show()"
      ],
      "metadata": {
        "id": "qTQsfjpUd7Ab"
      },
      "execution_count": 66,
      "outputs": []
    },
    {
      "cell_type": "code",
      "source": [
        "plot_comparison(first_test_image, first_pred_image)"
      ],
      "metadata": {
        "colab": {
          "base_uri": "https://localhost:8080/",
          "height": 513
        },
        "id": "cDaAospGfUw0",
        "outputId": "18be6b66-657b-4a87-84c6-4a82a8f63039"
      },
      "execution_count": 67,
      "outputs": [
        {
          "output_type": "display_data",
          "data": {
            "text/plain": [
              "<Figure size 1200x600 with 4 Axes>"
            ],
            "image/png": "[encoded data removed]"
          },
          "metadata": {}
        }
      ]
    },
    {
      "cell_type": "code",
      "source": [
        "plot_comparison(snd_test_image, snd_pred_image)"
      ],
      "metadata": {
        "colab": {
          "base_uri": "https://localhost:8080/",
          "height": 513
        },
        "id": "3klGOQzMeCmV",
        "outputId": "2eb144e5-8cb4-482b-dd28-10adf05702c8"
      },
      "execution_count": 69,
      "outputs": [
        {
          "output_type": "display_data",
          "data": {
            "text/plain": [
              "<Figure size 1200x600 with 4 Axes>"
            ],
            "image/png": "[encoded data removed]"
          },
          "metadata": {}
        }
      ]
    },
    {
      "cell_type": "code",
      "source": [],
      "metadata": {
        "id": "yoao03WJrbq9"
      },
      "execution_count": null,
      "outputs": []
    },
    {
      "cell_type": "code",
      "source": [
        "# handel class imbalance\n",
        "# undersample class 7 (other)\n",
        "from sklearn.utils.class_weight import compute_class_weight\n",
        "from imblearn.over_sampling import SMOTE\n",
        "from imblearn.pipeline import Pipeline as ImbPipeline"
      ],
      "metadata": {
        "id": "jaMZllncaXC5"
      },
      "execution_count": 128,
      "outputs": []
    },
    {
      "cell_type": "markdown",
      "source": [
        "### lets add a x_train image that was not in training or in test:"
      ],
      "metadata": {
        "id": "tejOwDU2c8bg"
      }
    },
    {
      "cell_type": "code",
      "source": [
        "image_path = [\n",
        "    \"/content/drive/MyDrive/data/images/x_training/1year/1535_1year.tif\",\n",
        "    \"/content/drive/MyDrive/data/images/x_training/1year/1490_1year.tif\",\n",
        "    \"/content/drive/MyDrive/data/images/x_training/1year/204_1year.tif\"\n",
        "]\n",
        "label_path = [\n",
        "    \"/content/drive/MyDrive/data/labels/y_training/1535_multi_wl.tif\",\n",
        "    \"/content/drive/MyDrive/data/labels/y_training/1490_multi_wl.tif\",\n",
        "    \"/content/drive/MyDrive/data/labels/y_training/204_multi_wl.tif\"\n",
        "]"
      ],
      "metadata": {
        "id": "gv2Winhqr7sH"
      },
      "execution_count": 122,
      "outputs": []
    },
    {
      "cell_type": "code",
      "source": [
        "prepared_images = [read_multi_image(path) for path in image_path]\n",
        "prepared_labels = [read_image_labels(path) for path in label_path]"
      ],
      "metadata": {
        "id": "AWsyuSyWs44I"
      },
      "execution_count": 123,
      "outputs": []
    },
    {
      "cell_type": "code",
      "source": [
        "prepared_images_flat = np.array([img.flatten() for img in prepared_images])\n",
        "prepared_labels_flat = np.array([img.flatten() for img in prepared_labels])"
      ],
      "metadata": {
        "id": "g49xuVC2wgpv"
      },
      "execution_count": 124,
      "outputs": []
    },
    {
      "cell_type": "code",
      "source": [
        "prepared_images_flat_pred = pipeline.predict(prepared_images_flat)"
      ],
      "metadata": {
        "colab": {
          "base_uri": "https://localhost:8080/"
        },
        "id": "-JgWeAyVzvgN",
        "outputId": "8a92b2d5-20ba-4773-9e5c-e454a5b2ab5e"
      },
      "execution_count": 125,
      "outputs": [
        {
          "output_type": "stream",
          "name": "stderr",
          "text": [
            "[Parallel(n_jobs=1)]: Done  40 tasks      | elapsed:   44.6s\n"
          ]
        }
      ]
    },
    {
      "cell_type": "code",
      "source": [
        "prepared_images_flat_pred = pipeline.predict(np.array(prepared_images_flat))"
      ],
      "metadata": {
        "colab": {
          "base_uri": "https://localhost:8080/"
        },
        "id": "iFDTsQgr1hEz",
        "outputId": "38776982-b141-4e98-cd85-7f45dc875f19"
      },
      "execution_count": 132,
      "outputs": [
        {
          "output_type": "stream",
          "name": "stderr",
          "text": [
            "[Parallel(n_jobs=1)]: Done  40 tasks      | elapsed:   44.7s\n"
          ]
        }
      ]
    },
    {
      "cell_type": "code",
      "source": [
        "# Example of processing predictions\n",
        "for i, pred in enumerate(prepared_images_flat_pred):\n",
        "    print(f\"Prediction for image {image_path[i]}: {pred}\")\n",
        "    # If needed, reshape prediction back to image shape if it's pixel-wise classification\n",
        "    # pred_image = pred.reshape((height, width))  # Adjust height and width accordingly\n"
      ],
      "metadata": {
        "colab": {
          "base_uri": "https://localhost:8080/"
        },
        "id": "GjcRC14c1EVT",
        "outputId": "feb6c9e5-c623-42a2-84d9-7749d418ff6b"
      },
      "execution_count": 133,
      "outputs": [
        {
          "output_type": "stream",
          "name": "stdout",
          "text": [
            "Prediction for image /content/drive/MyDrive/data/images/x_training/1year/1535_1year.tif: [7 7 7 ... 7 7 7]\n",
            "Prediction for image /content/drive/MyDrive/data/images/x_training/1year/1490_1year.tif: [7 7 7 ... 7 7 7]\n",
            "Prediction for image /content/drive/MyDrive/data/images/x_training/1year/204_1year.tif: [7 7 7 ... 7 7 7]\n"
          ]
        }
      ]
    },
    {
      "cell_type": "code",
      "source": [
        "prepared_images_flat_pred_flat = prepared_images_flat_pred.flatten() if prepared_images_flat_pred.ndim > 1 else prepared_images_flat_pred\n"
      ],
      "metadata": {
        "id": "ZvN4iRsZ1ESh"
      },
      "execution_count": 141,
      "outputs": []
    },
    {
      "cell_type": "code",
      "source": [
        "prepared_images_flat_pred_flat.shape"
      ],
      "metadata": {
        "colab": {
          "base_uri": "https://localhost:8080/"
        },
        "id": "UZ9zf6wQ2P2I",
        "outputId": "cd3c7046-18f8-4484-e79b-9809ba4b0742"
      },
      "execution_count": 139,
      "outputs": [
        {
          "output_type": "execute_result",
          "data": {
            "text/plain": [
              "(442368,)"
            ]
          },
          "metadata": {},
          "execution_count": 139
        }
      ]
    },
    {
      "cell_type": "code",
      "source": [
        "prepared_labels_flat = np.concatenate([label.flatten() for label in prepared_labels])"
      ],
      "metadata": {
        "id": "Es1Jktgm270g"
      },
      "execution_count": 142,
      "outputs": []
    },
    {
      "cell_type": "code",
      "source": [
        "prepared_labels_flat.shape"
      ],
      "metadata": {
        "colab": {
          "base_uri": "https://localhost:8080/"
        },
        "id": "lQx7Rqf229vZ",
        "outputId": "85c24c08-9c0f-4c51-e42f-a0aef8d24eec"
      },
      "execution_count": 143,
      "outputs": [
        {
          "output_type": "execute_result",
          "data": {
            "text/plain": [
              "(442368,)"
            ]
          },
          "metadata": {},
          "execution_count": 143
        }
      ]
    },
    {
      "cell_type": "code",
      "source": [
        "print(classification_report(prepared_labels_flat, prepared_images_flat_pred_flat))\n",
        "print(\"Accuracy:\", accuracy_score(prepared_labels_flat, prepared_images_flat_pred_flat))"
      ],
      "metadata": {
        "colab": {
          "base_uri": "https://localhost:8080/"
        },
        "id": "si_RHzHy1EP8",
        "outputId": "59ce2389-29a9-4b5b-b952-06c1d6780bed"
      },
      "execution_count": 144,
      "outputs": [
        {
          "output_type": "stream",
          "name": "stderr",
          "text": [
            "/usr/local/lib/python3.10/dist-packages/sklearn/metrics/_classification.py:1344: UndefinedMetricWarning: Precision and F-score are ill-defined and being set to 0.0 in labels with no predicted samples. Use `zero_division` parameter to control this behavior.\n",
            "  _warn_prf(average, modifier, msg_start, len(result))\n",
            "/usr/local/lib/python3.10/dist-packages/sklearn/metrics/_classification.py:1344: UndefinedMetricWarning: Precision and F-score are ill-defined and being set to 0.0 in labels with no predicted samples. Use `zero_division` parameter to control this behavior.\n",
            "  _warn_prf(average, modifier, msg_start, len(result))\n",
            "/usr/local/lib/python3.10/dist-packages/sklearn/metrics/_classification.py:1344: UndefinedMetricWarning: Precision and F-score are ill-defined and being set to 0.0 in labels with no predicted samples. Use `zero_division` parameter to control this behavior.\n",
            "  _warn_prf(average, modifier, msg_start, len(result))\n"
          ]
        },
        {
          "output_type": "stream",
          "name": "stdout",
          "text": [
            "              precision    recall  f1-score   support\n",
            "\n",
            "           1       0.00      0.00      0.00      8389\n",
            "           2       0.00      0.00      0.00    119294\n",
            "           5       0.00      0.00      0.00       869\n",
            "           6       0.00      0.00      0.00     51257\n",
            "           7       0.59      1.00      0.74    262559\n",
            "\n",
            "    accuracy                           0.59    442368\n",
            "   macro avg       0.12      0.20      0.15    442368\n",
            "weighted avg       0.35      0.59      0.44    442368\n",
            "\n",
            "Accuracy: 0.5935307255497685\n"
          ]
        }
      ]
    },
    {
      "cell_type": "code",
      "source": [
        "prepared_labels_flat_image = prepared_labels_flat.reshape(-1, 384, 384)\n",
        "prepared_images_flat_pred_flat_image = prepared_images_flat_pred_flat.reshape(-1, 384, 384)"
      ],
      "metadata": {
        "id": "8q1xxWgJ0P-_"
      },
      "execution_count": 145,
      "outputs": []
    },
    {
      "cell_type": "code",
      "source": [
        "prepared_labels_flat_image = prepared_labels_flat_image[0]\n",
        "prepared_images_flat_pred_flat_image = prepared_images_flat_pred_flat_image[0]\n",
        "plot_comparison(prepared_labels_flat_image, prepared_images_flat_pred_flat_image)"
      ],
      "metadata": {
        "colab": {
          "base_uri": "https://localhost:8080/",
          "height": 792
        },
        "id": "GRX-HSJt0ZBJ",
        "outputId": "10373b47-8bb2-4e12-d700-5acfc084c04e"
      },
      "execution_count": 148,
      "outputs": [
        {
          "output_type": "error",
          "ename": "TypeError",
          "evalue": "Invalid shape () for image data",
          "traceback": [
            "\u001b[0;31m---------------------------------------------------------------------------\u001b[0m",
            "\u001b[0;31mTypeError\u001b[0m                                 Traceback (most recent call last)",
            "\u001b[0;32m<ipython-input-148-61680727abac>\u001b[0m in \u001b[0;36m<cell line: 3>\u001b[0;34m()\u001b[0m\n\u001b[1;32m      1\u001b[0m \u001b[0mprepared_labels_flat_image\u001b[0m \u001b[0;34m=\u001b[0m \u001b[0mprepared_labels_flat_image\u001b[0m\u001b[0;34m[\u001b[0m\u001b[0;36m0\u001b[0m\u001b[0;34m]\u001b[0m\u001b[0;34m\u001b[0m\u001b[0;34m\u001b[0m\u001b[0m\n\u001b[1;32m      2\u001b[0m \u001b[0mprepared_images_flat_pred_flat_image\u001b[0m \u001b[0;34m=\u001b[0m \u001b[0mprepared_images_flat_pred_flat_image\u001b[0m\u001b[0;34m[\u001b[0m\u001b[0;36m0\u001b[0m\u001b[0;34m]\u001b[0m\u001b[0;34m\u001b[0m\u001b[0;34m\u001b[0m\u001b[0m\n\u001b[0;32m----> 3\u001b[0;31m \u001b[0mplot_comparison\u001b[0m\u001b[0;34m(\u001b[0m\u001b[0mprepared_labels_flat_image\u001b[0m\u001b[0;34m,\u001b[0m \u001b[0mprepared_images_flat_pred_flat_image\u001b[0m\u001b[0;34m)\u001b[0m\u001b[0;34m\u001b[0m\u001b[0;34m\u001b[0m\u001b[0m\n\u001b[0m",
            "\u001b[0;32m<ipython-input-66-c089c2f75302>\u001b[0m in \u001b[0;36mplot_comparison\u001b[0;34m(true_img, pred_img, title_true, title_pred)\u001b[0m\n\u001b[1;32m      5\u001b[0m \u001b[0;34m\u001b[0m\u001b[0m\n\u001b[1;32m      6\u001b[0m     \u001b[0mplt\u001b[0m\u001b[0;34m.\u001b[0m\u001b[0msubplot\u001b[0m\u001b[0;34m(\u001b[0m\u001b[0;36m1\u001b[0m\u001b[0;34m,\u001b[0m \u001b[0;36m2\u001b[0m\u001b[0;34m,\u001b[0m \u001b[0;36m1\u001b[0m\u001b[0;34m)\u001b[0m\u001b[0;34m\u001b[0m\u001b[0;34m\u001b[0m\u001b[0m\n\u001b[0;32m----> 7\u001b[0;31m     \u001b[0mplt\u001b[0m\u001b[0;34m.\u001b[0m\u001b[0mimshow\u001b[0m\u001b[0;34m(\u001b[0m\u001b[0mtrue_img\u001b[0m\u001b[0;34m,\u001b[0m \u001b[0mcmap\u001b[0m\u001b[0;34m=\u001b[0m\u001b[0;34m'viridis'\u001b[0m\u001b[0;34m)\u001b[0m  \u001b[0;31m# Change colormap as needed\u001b[0m\u001b[0;34m\u001b[0m\u001b[0;34m\u001b[0m\u001b[0m\n\u001b[0m\u001b[1;32m      8\u001b[0m     \u001b[0mplt\u001b[0m\u001b[0;34m.\u001b[0m\u001b[0mcolorbar\u001b[0m\u001b[0;34m(\u001b[0m\u001b[0;34m)\u001b[0m\u001b[0;34m\u001b[0m\u001b[0;34m\u001b[0m\u001b[0m\n\u001b[1;32m      9\u001b[0m     \u001b[0mplt\u001b[0m\u001b[0;34m.\u001b[0m\u001b[0mtitle\u001b[0m\u001b[0;34m(\u001b[0m\u001b[0mtitle_true\u001b[0m\u001b[0;34m)\u001b[0m\u001b[0;34m\u001b[0m\u001b[0;34m\u001b[0m\u001b[0m\n",
            "\u001b[0;32m/usr/local/lib/python3.10/dist-packages/matplotlib/pyplot.py\u001b[0m in \u001b[0;36mimshow\u001b[0;34m(X, cmap, norm, aspect, interpolation, alpha, vmin, vmax, origin, extent, interpolation_stage, filternorm, filterrad, resample, url, data, **kwargs)\u001b[0m\n\u001b[1;32m   2693\u001b[0m         \u001b[0minterpolation_stage\u001b[0m\u001b[0;34m=\u001b[0m\u001b[0;32mNone\u001b[0m\u001b[0;34m,\u001b[0m \u001b[0mfilternorm\u001b[0m\u001b[0;34m=\u001b[0m\u001b[0;32mTrue\u001b[0m\u001b[0;34m,\u001b[0m \u001b[0mfilterrad\u001b[0m\u001b[0;34m=\u001b[0m\u001b[0;36m4.0\u001b[0m\u001b[0;34m,\u001b[0m\u001b[0;34m\u001b[0m\u001b[0;34m\u001b[0m\u001b[0m\n\u001b[1;32m   2694\u001b[0m         resample=None, url=None, data=None, **kwargs):\n\u001b[0;32m-> 2695\u001b[0;31m     __ret = gca().imshow(\n\u001b[0m\u001b[1;32m   2696\u001b[0m         \u001b[0mX\u001b[0m\u001b[0;34m,\u001b[0m \u001b[0mcmap\u001b[0m\u001b[0;34m=\u001b[0m\u001b[0mcmap\u001b[0m\u001b[0;34m,\u001b[0m \u001b[0mnorm\u001b[0m\u001b[0;34m=\u001b[0m\u001b[0mnorm\u001b[0m\u001b[0;34m,\u001b[0m \u001b[0maspect\u001b[0m\u001b[0;34m=\u001b[0m\u001b[0maspect\u001b[0m\u001b[0;34m,\u001b[0m\u001b[0;34m\u001b[0m\u001b[0;34m\u001b[0m\u001b[0m\n\u001b[1;32m   2697\u001b[0m         \u001b[0minterpolation\u001b[0m\u001b[0;34m=\u001b[0m\u001b[0minterpolation\u001b[0m\u001b[0;34m,\u001b[0m \u001b[0malpha\u001b[0m\u001b[0;34m=\u001b[0m\u001b[0malpha\u001b[0m\u001b[0;34m,\u001b[0m \u001b[0mvmin\u001b[0m\u001b[0;34m=\u001b[0m\u001b[0mvmin\u001b[0m\u001b[0;34m,\u001b[0m\u001b[0;34m\u001b[0m\u001b[0;34m\u001b[0m\u001b[0m\n",
            "\u001b[0;32m/usr/local/lib/python3.10/dist-packages/matplotlib/__init__.py\u001b[0m in \u001b[0;36minner\u001b[0;34m(ax, data, *args, **kwargs)\u001b[0m\n\u001b[1;32m   1440\u001b[0m     \u001b[0;32mdef\u001b[0m \u001b[0minner\u001b[0m\u001b[0;34m(\u001b[0m\u001b[0max\u001b[0m\u001b[0;34m,\u001b[0m \u001b[0;34m*\u001b[0m\u001b[0margs\u001b[0m\u001b[0;34m,\u001b[0m \u001b[0mdata\u001b[0m\u001b[0;34m=\u001b[0m\u001b[0;32mNone\u001b[0m\u001b[0;34m,\u001b[0m \u001b[0;34m**\u001b[0m\u001b[0mkwargs\u001b[0m\u001b[0;34m)\u001b[0m\u001b[0;34m:\u001b[0m\u001b[0;34m\u001b[0m\u001b[0;34m\u001b[0m\u001b[0m\n\u001b[1;32m   1441\u001b[0m         \u001b[0;32mif\u001b[0m \u001b[0mdata\u001b[0m \u001b[0;32mis\u001b[0m \u001b[0;32mNone\u001b[0m\u001b[0;34m:\u001b[0m\u001b[0;34m\u001b[0m\u001b[0;34m\u001b[0m\u001b[0m\n\u001b[0;32m-> 1442\u001b[0;31m             \u001b[0;32mreturn\u001b[0m \u001b[0mfunc\u001b[0m\u001b[0;34m(\u001b[0m\u001b[0max\u001b[0m\u001b[0;34m,\u001b[0m \u001b[0;34m*\u001b[0m\u001b[0mmap\u001b[0m\u001b[0;34m(\u001b[0m\u001b[0msanitize_sequence\u001b[0m\u001b[0;34m,\u001b[0m \u001b[0margs\u001b[0m\u001b[0;34m)\u001b[0m\u001b[0;34m,\u001b[0m \u001b[0;34m**\u001b[0m\u001b[0mkwargs\u001b[0m\u001b[0;34m)\u001b[0m\u001b[0;34m\u001b[0m\u001b[0;34m\u001b[0m\u001b[0m\n\u001b[0m\u001b[1;32m   1443\u001b[0m \u001b[0;34m\u001b[0m\u001b[0m\n\u001b[1;32m   1444\u001b[0m         \u001b[0mbound\u001b[0m \u001b[0;34m=\u001b[0m \u001b[0mnew_sig\u001b[0m\u001b[0;34m.\u001b[0m\u001b[0mbind\u001b[0m\u001b[0;34m(\u001b[0m\u001b[0max\u001b[0m\u001b[0;34m,\u001b[0m \u001b[0;34m*\u001b[0m\u001b[0margs\u001b[0m\u001b[0;34m,\u001b[0m \u001b[0;34m**\u001b[0m\u001b[0mkwargs\u001b[0m\u001b[0;34m)\u001b[0m\u001b[0;34m\u001b[0m\u001b[0;34m\u001b[0m\u001b[0m\n",
            "\u001b[0;32m/usr/local/lib/python3.10/dist-packages/matplotlib/axes/_axes.py\u001b[0m in \u001b[0;36mimshow\u001b[0;34m(self, X, cmap, norm, aspect, interpolation, alpha, vmin, vmax, origin, extent, interpolation_stage, filternorm, filterrad, resample, url, **kwargs)\u001b[0m\n\u001b[1;32m   5663\u001b[0m                               **kwargs)\n\u001b[1;32m   5664\u001b[0m \u001b[0;34m\u001b[0m\u001b[0m\n\u001b[0;32m-> 5665\u001b[0;31m         \u001b[0mim\u001b[0m\u001b[0;34m.\u001b[0m\u001b[0mset_data\u001b[0m\u001b[0;34m(\u001b[0m\u001b[0mX\u001b[0m\u001b[0;34m)\u001b[0m\u001b[0;34m\u001b[0m\u001b[0;34m\u001b[0m\u001b[0m\n\u001b[0m\u001b[1;32m   5666\u001b[0m         \u001b[0mim\u001b[0m\u001b[0;34m.\u001b[0m\u001b[0mset_alpha\u001b[0m\u001b[0;34m(\u001b[0m\u001b[0malpha\u001b[0m\u001b[0;34m)\u001b[0m\u001b[0;34m\u001b[0m\u001b[0;34m\u001b[0m\u001b[0m\n\u001b[1;32m   5667\u001b[0m         \u001b[0;32mif\u001b[0m \u001b[0mim\u001b[0m\u001b[0;34m.\u001b[0m\u001b[0mget_clip_path\u001b[0m\u001b[0;34m(\u001b[0m\u001b[0;34m)\u001b[0m \u001b[0;32mis\u001b[0m \u001b[0;32mNone\u001b[0m\u001b[0;34m:\u001b[0m\u001b[0;34m\u001b[0m\u001b[0;34m\u001b[0m\u001b[0m\n",
            "\u001b[0;32m/usr/local/lib/python3.10/dist-packages/matplotlib/image.py\u001b[0m in \u001b[0;36mset_data\u001b[0;34m(self, A)\u001b[0m\n\u001b[1;32m    708\u001b[0m         if not (self._A.ndim == 2\n\u001b[1;32m    709\u001b[0m                 or self._A.ndim == 3 and self._A.shape[-1] in [3, 4]):\n\u001b[0;32m--> 710\u001b[0;31m             raise TypeError(\"Invalid shape {} for image data\"\n\u001b[0m\u001b[1;32m    711\u001b[0m                             .format(self._A.shape))\n\u001b[1;32m    712\u001b[0m \u001b[0;34m\u001b[0m\u001b[0m\n",
            "\u001b[0;31mTypeError\u001b[0m: Invalid shape () for image data"
          ]
        },
        {
          "output_type": "display_data",
          "data": {
            "text/plain": [
              "<Figure size 1200x600 with 1 Axes>"
            ],
            "image/png": "[encoded data removed]"
          },
          "metadata": {}
        }
      ]
    },
    {
      "cell_type": "markdown",
      "source": [],
      "metadata": {
        "id": "zacZHtnF0inL"
      }
    },
    {
      "cell_type": "code",
      "source": [
        "# /content/drive/MyDrive/data/images/x_training/1year/1498_1year.tif\n",
        "new_pred = [read_multi_image(\"/content/drive/MyDrive/data/images/x_training/1year/1498_1year.tif\")]\n",
        "new_pred_flat = np.array([img.flatten() for img in new_pred])\n",
        "new_pred_pred = pipeline.predict(new_pred_flat)\n",
        "new_pred_pred_flat = new_pred_pred.flatten() if new_pred_pred.ndim > 1 else new_pred_pred"
      ],
      "metadata": {
        "id": "j5FldBZ4bRcA",
        "colab": {
          "base_uri": "https://localhost:8080/"
        },
        "outputId": "cfb43750-8dc8-40c1-d8b6-9ac70ed392ac"
      },
      "execution_count": 117,
      "outputs": [
        {
          "output_type": "stream",
          "name": "stderr",
          "text": [
            "[Parallel(n_jobs=1)]: Done  40 tasks      | elapsed:   34.8s\n"
          ]
        }
      ]
    },
    {
      "cell_type": "code",
      "source": [
        "new_y_test = read_image_labels(\"/content/drive/MyDrive/data/labels/y_training/1498_multi_wl.tif\")\n",
        "new_y_test_flat = new_y_test.flatten() if new_y_test.ndim > 1 else new_y_test"
      ],
      "metadata": {
        "id": "2qpGSNGLuewh"
      },
      "execution_count": 118,
      "outputs": []
    },
    {
      "cell_type": "code",
      "source": [
        "print(classification_report(new_y_test_flat, new_pred_pred_flat))\n",
        "print(\"Accuracy:\", accuracy_score(new_y_test_flat, new_pred_pred_flat))"
      ],
      "metadata": {
        "colab": {
          "base_uri": "https://localhost:8080/"
        },
        "id": "ArDmjbEgcqHc",
        "outputId": "01bd2213-e4a8-458b-f37a-13589abdbc9c"
      },
      "execution_count": 119,
      "outputs": [
        {
          "output_type": "stream",
          "name": "stdout",
          "text": [
            "              precision    recall  f1-score   support\n",
            "\n",
            "           1       0.00      0.00      0.00     77876\n",
            "           2       0.00      0.00      0.00     55625\n",
            "           4       0.00      0.00      0.00      1706\n",
            "           5       0.00      0.00      0.00      6854\n",
            "           6       0.00      0.00      0.00      3076\n",
            "           7       0.02      1.00      0.03      2319\n",
            "\n",
            "    accuracy                           0.02    147456\n",
            "   macro avg       0.00      0.17      0.01    147456\n",
            "weighted avg       0.00      0.02      0.00    147456\n",
            "\n",
            "Accuracy: 0.015726725260416668\n"
          ]
        },
        {
          "output_type": "stream",
          "name": "stderr",
          "text": [
            "/usr/local/lib/python3.10/dist-packages/sklearn/metrics/_classification.py:1344: UndefinedMetricWarning: Precision and F-score are ill-defined and being set to 0.0 in labels with no predicted samples. Use `zero_division` parameter to control this behavior.\n",
            "  _warn_prf(average, modifier, msg_start, len(result))\n",
            "/usr/local/lib/python3.10/dist-packages/sklearn/metrics/_classification.py:1344: UndefinedMetricWarning: Precision and F-score are ill-defined and being set to 0.0 in labels with no predicted samples. Use `zero_division` parameter to control this behavior.\n",
            "  _warn_prf(average, modifier, msg_start, len(result))\n",
            "/usr/local/lib/python3.10/dist-packages/sklearn/metrics/_classification.py:1344: UndefinedMetricWarning: Precision and F-score are ill-defined and being set to 0.0 in labels with no predicted samples. Use `zero_division` parameter to control this behavior.\n",
            "  _warn_prf(average, modifier, msg_start, len(result))\n"
          ]
        }
      ]
    },
    {
      "cell_type": "code",
      "source": [
        "new_test_image = new_y_test_flat.reshape(-1, 384, 384)\n",
        "new_pred_image = new_pred_pred_flat.reshape(-1, 384, 384)"
      ],
      "metadata": {
        "id": "FGh1J7IcezVY"
      },
      "execution_count": 120,
      "outputs": []
    },
    {
      "cell_type": "code",
      "source": [
        "new_test_image = new_test_image[0]\n",
        "new_pred_image = new_pred_image[0]\n",
        "plot_comparison(new_test_image, new_pred_image)"
      ],
      "metadata": {
        "colab": {
          "base_uri": "https://localhost:8080/",
          "height": 513
        },
        "id": "6e5Sx2zYeT2p",
        "outputId": "ba78ea5e-7553-4903-90be-dece806c8ef7"
      },
      "execution_count": 121,
      "outputs": [
        {
          "output_type": "display_data",
          "data": {
            "text/plain": [
              "<Figure size 1200x600 with 4 Axes>"
            ],
            "image/png": "[encoded data removed]"
          },
          "metadata": {}
        }
      ]
    },
    {
      "cell_type": "markdown",
      "source": [
        "### testing\n"
      ],
      "metadata": {
        "id": "r6bl9SmmvLXI"
      }
    },
    {
      "cell_type": "code",
      "source": [
        "from rasterio.plot import reshape_as_raster, reshape_as_image"
      ],
      "metadata": {
        "id": "ASo5Kps6zKU2"
      },
      "execution_count": null,
      "outputs": []
    },
    {
      "cell_type": "code",
      "source": [
        "img = rasterio.open(\"/content/drive/MyDrive/data/images/x_training/1year/235_1year.tif\")\n",
        "print(img.shape)\n",
        "show(img)"
      ],
      "metadata": {
        "id": "8fr_4ButvKoT"
      },
      "execution_count": null,
      "outputs": []
    },
    {
      "cell_type": "code",
      "source": [
        "full_img = img.read()\n",
        "print(full_img.shape)"
      ],
      "metadata": {
        "id": "HHJITsU31EBg"
      },
      "execution_count": null,
      "outputs": []
    },
    {
      "cell_type": "code",
      "source": [
        "num_bands = img.count\n",
        "print(\"Number of bands in the image = \", num_bands)"
      ],
      "metadata": {
        "id": "yYEKqE-G1SSf"
      },
      "execution_count": null,
      "outputs": []
    },
    {
      "cell_type": "code",
      "source": [
        "img_band1 = img.read(1)\n",
        "img_band2 = img.read(2)\n",
        "img_band3 = img.read(3)\n",
        "img_band4 = img.read(4)\n",
        "img_band5 = img.read(5)\n",
        "print(img_band1.shape)\n",
        "print(img_band2.shape)\n",
        "print(img_band3.shape)\n",
        "print(img_band4.shape)\n",
        "print(img_band5.shape)"
      ],
      "metadata": {
        "id": "fgJMTKEF1WDO"
      },
      "execution_count": null,
      "outputs": []
    },
    {
      "cell_type": "code",
      "source": [
        "fig = plt.figure(figsize=(10, 10))\n",
        "ax1 = fig.add_subplot(2, 3, 1)\n",
        "ax1.imshow(img_band1, cmap = 'gray')\n",
        "ax2 = fig.add_subplot(2, 3, 2)\n",
        "ax2.imshow(img_band2, cmap = 'gray')\n",
        "ax3 = fig.add_subplot(2, 3, 3)\n",
        "ax3.imshow(img_band3, cmap = 'gray')\n",
        "ax4 = fig.add_subplot(2, 3, 4)\n",
        "ax4.imshow(img_band4, cmap = 'gray')\n",
        "ax5 = fig.add_subplot(2, 3, 5)\n",
        "ax5.imshow(img_band5, cmap = 'gray')\n",
        "plt.show()"
      ],
      "metadata": {
        "id": "Lme9oBUr16NC"
      },
      "execution_count": null,
      "outputs": []
    },
    {
      "cell_type": "code",
      "source": [
        "rgb_img = img.read([1,2,3])\n",
        "print(rgb_img.shape)"
      ],
      "metadata": {
        "id": "mbuAWsda3qxk"
      },
      "execution_count": null,
      "outputs": []
    },
    {
      "cell_type": "code",
      "source": [
        "rgbn_img = img.read([1,2,3,4])\n",
        "print(rgbn_img.shape)"
      ],
      "metadata": {
        "id": "GNGJ4rSJ4kgS"
      },
      "execution_count": null,
      "outputs": []
    },
    {
      "cell_type": "code",
      "source": [
        "print(\"Coordinate reference system: \", img.crs)"
      ],
      "metadata": {
        "id": "08lh0kHg2tH4"
      },
      "execution_count": null,
      "outputs": []
    },
    {
      "cell_type": "code",
      "source": [
        "metadata = img.meta\n",
        "print(\"Metadata: {metadata}\\n\".format(metadata=metadata))"
      ],
      "metadata": {
        "id": "DftDQcwd20iJ"
      },
      "execution_count": null,
      "outputs": []
    },
    {
      "cell_type": "code",
      "source": [
        "desc = img.descriptions\n",
        "print(\"Description: {desc}\\n\".format(desc=desc))"
      ],
      "metadata": {
        "id": "V1Brrp0m29kn"
      },
      "execution_count": null,
      "outputs": []
    },
    {
      "cell_type": "code",
      "source": [
        "print(\"Geotransform : \", img.transform)"
      ],
      "metadata": {
        "id": "98I2XWxZ3A0I"
      },
      "execution_count": null,
      "outputs": []
    },
    {
      "cell_type": "code",
      "source": [
        "rasterio.plot.show_hist(rgbn_img, bins=50, histtype='stepfilled', lw=0.0, stacked=False, alpha=0.3)"
      ],
      "metadata": {
        "id": "JnT0UHqG3GFw"
      },
      "execution_count": null,
      "outputs": []
    },
    {
      "cell_type": "code",
      "source": [
        "clipped_img = rgbn_img[:, 300:900, 300:900]\n",
        "print(clipped_img.shape)"
      ],
      "metadata": {
        "id": "Ky0dGup33fCB"
      },
      "execution_count": null,
      "outputs": []
    },
    {
      "cell_type": "code",
      "source": [
        "plt.imshow(clipped_img[0,:,:])"
      ],
      "metadata": {
        "id": "gNmhoqen6UZQ"
      },
      "execution_count": null,
      "outputs": []
    },
    {
      "cell_type": "code",
      "source": [
        "rasterio.plot.show_hist(clipped_img, bins=50, histtype='stepfilled', lw=0.3, stacked=False, alpha=0.3)"
      ],
      "metadata": {
        "id": "tBV0HtaI5riH"
      },
      "execution_count": null,
      "outputs": []
    },
    {
      "cell_type": "code",
      "source": [
        "red_clipped = clipped_img[0].astype('float32')\n",
        "green_clipped = clipped_img[1].astype('float32')\n",
        "blue_clipped = clipped_img[2].astype('float32')\n",
        "nir_clipped = clipped_img[3].astype('float32')\n",
        "\n",
        "ndvi_clipped = (nir_clipped - red_clipped) / (nir_clipped + red_clipped)\n"
      ],
      "metadata": {
        "id": "U--Kq27x5VEF"
      },
      "execution_count": null,
      "outputs": []
    },
    {
      "cell_type": "code",
      "source": [
        "plt.imshow(ndvi_clipped)"
      ],
      "metadata": {
        "id": "EAzpEvdF7c-8"
      },
      "execution_count": null,
      "outputs": []
    }
  ]
}