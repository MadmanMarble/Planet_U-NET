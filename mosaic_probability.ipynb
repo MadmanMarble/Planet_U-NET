{
  "nbformat": 4,
  "nbformat_minor": 0,
  "metadata": {
    "colab": {
      "provenance": [],
      "authorship_tag": "ABX9TyNzEsw2iitXauAKKVVHfpdV",
      "include_colab_link": true
    },
    "kernelspec": {
      "name": "python3",
      "display_name": "Python 3"
    },
    "language_info": {
      "name": "python"
    }
  },
  "cells": [
    {
      "cell_type": "markdown",
      "metadata": {
        "id": "view-in-github",
        "colab_type": "text"
      },
      "source": [
        "<a href=\"https://colab.research.google.com/github/MadmanMarble/Planet_U-NET/blob/main/mosaic_probability.ipynb\" target=\"_parent\"><img src=\"https://colab.research.google.com/assets/colab-badge.svg\" alt=\"Open In Colab\"/></a>"
      ]
    },
    {
      "cell_type": "code",
      "execution_count": 1,
      "metadata": {
        "colab": {
          "base_uri": "https://localhost:8080/"
        },
        "id": "qYNLSPp8THvw",
        "outputId": "d7ad51fa-dcc6-4c24-b71d-40bec0b511d7"
      },
      "outputs": [
        {
          "output_type": "stream",
          "name": "stdout",
          "text": [
            "Mounted at /content/drive\n"
          ]
        }
      ],
      "source": [
        "from google.colab import drive\n",
        "drive.mount('/content/drive')"
      ]
    },
    {
      "cell_type": "code",
      "source": [
        "pip install rasterio"
      ],
      "metadata": {
        "colab": {
          "base_uri": "https://localhost:8080/"
        },
        "id": "o-Fk9Uo3TXet",
        "outputId": "be4f479c-fa9f-4fcb-d25f-75fc89ab1e3d"
      },
      "execution_count": 3,
      "outputs": [
        {
          "output_type": "stream",
          "name": "stdout",
          "text": [
            "Collecting rasterio\n",
            "  Downloading rasterio-1.3.10-cp310-cp310-manylinux2014_x86_64.whl (21.5 MB)\n",
            "\u001b[?25l     \u001b[90m━━━━━━━━━━━━━━━━━━━━━━━━━━━━━━━━━━━━━━━━\u001b[0m \u001b[32m0.0/21.5 MB\u001b[0m \u001b[31m?\u001b[0m eta \u001b[36m-:--:--\u001b[0m\r\u001b[2K     \u001b[90m━━━━━━━━━━━━━━━━━━━━━━━━━━━━━━━━━━━━━━━━\u001b[0m \u001b[32m0.1/21.5 MB\u001b[0m \u001b[31m1.3 MB/s\u001b[0m eta \u001b[36m0:00:18\u001b[0m\r\u001b[2K     \u001b[90m━━━━━━━━━━━━━━━━━━━━━━━━━━━━━━━━━━━━━━━━\u001b[0m \u001b[32m0.1/21.5 MB\u001b[0m \u001b[31m1.9 MB/s\u001b[0m eta \u001b[36m0:00:12\u001b[0m\r\u001b[2K     \u001b[91m╸\u001b[0m\u001b[90m━━━━━━━━━━━━━━━━━━━━━━━━━━━━━━━━━━━━━━━\u001b[0m \u001b[32m0.4/21.5 MB\u001b[0m \u001b[31m3.4 MB/s\u001b[0m eta \u001b[36m0:00:07\u001b[0m\r\u001b[2K     \u001b[91m━\u001b[0m\u001b[91m╸\u001b[0m\u001b[90m━━━━━━━━━━━━━━━━━━━━━━━━━━━━━━━━━━━━━━\u001b[0m \u001b[32m0.9/21.5 MB\u001b[0m \u001b[31m6.1 MB/s\u001b[0m eta \u001b[36m0:00:04\u001b[0m\r\u001b[2K     \u001b[91m━━━\u001b[0m\u001b[90m╺\u001b[0m\u001b[90m━━━━━━━━━━━━━━━━━━━━━━━━━━━━━━━━━━━━\u001b[0m \u001b[32m1.9/21.5 MB\u001b[0m \u001b[31m10.6 MB/s\u001b[0m eta \u001b[36m0:00:02\u001b[0m\r\u001b[2K     \u001b[91m━━━━━━━\u001b[0m\u001b[90m╺\u001b[0m\u001b[90m━━━━━━━━━━━━━━━━━━━━━━━━━━━━━━━━\u001b[0m \u001b[32m4.0/21.5 MB\u001b[0m \u001b[31m18.7 MB/s\u001b[0m eta \u001b[36m0:00:01\u001b[0m\r\u001b[2K     \u001b[91m━━━━━━━━━━━━━\u001b[0m\u001b[90m╺\u001b[0m\u001b[90m━━━━━━━━━━━━━━━━━━━━━━━━━━\u001b[0m \u001b[32m7.1/21.5 MB\u001b[0m \u001b[31m28.6 MB/s\u001b[0m eta \u001b[36m0:00:01\u001b[0m\r\u001b[2K     \u001b[91m━━━━━━━━━━━━━━━━━━━\u001b[0m\u001b[90m╺\u001b[0m\u001b[90m━━━━━━━━━━━━━━━━━━━━\u001b[0m \u001b[32m10.4/21.5 MB\u001b[0m \u001b[31m47.6 MB/s\u001b[0m eta \u001b[36m0:00:01\u001b[0m\r\u001b[2K     \u001b[91m━━━━━━━━━━━━━━━━━━━━━━━━━\u001b[0m\u001b[90m╺\u001b[0m\u001b[90m━━━━━━━━━━━━━━\u001b[0m \u001b[32m13.7/21.5 MB\u001b[0m \u001b[31m89.2 MB/s\u001b[0m eta \u001b[36m0:00:01\u001b[0m\r\u001b[2K     \u001b[91m━━━━━━━━━━━━━━━━━━━━━━━━━━━━━━━\u001b[0m\u001b[91m╸\u001b[0m\u001b[90m━━━━━━━━\u001b[0m \u001b[32m17.0/21.5 MB\u001b[0m \u001b[31m88.5 MB/s\u001b[0m eta \u001b[36m0:00:01\u001b[0m\r\u001b[2K     \u001b[91m━━━━━━━━━━━━━━━━━━━━━━━━━━━━━━━━━━━━━\u001b[0m\u001b[91m╸\u001b[0m\u001b[90m━━\u001b[0m \u001b[32m20.2/21.5 MB\u001b[0m \u001b[31m87.9 MB/s\u001b[0m eta \u001b[36m0:00:01\u001b[0m\r\u001b[2K     \u001b[91m━━━━━━━━━━━━━━━━━━━━━━━━━━━━━━━━━━━━━━━\u001b[0m\u001b[91m╸\u001b[0m \u001b[32m21.5/21.5 MB\u001b[0m \u001b[31m92.3 MB/s\u001b[0m eta \u001b[36m0:00:01\u001b[0m\r\u001b[2K     \u001b[91m━━━━━━━━━━━━━━━━━━━━━━━━━━━━━━━━━━━━━━━\u001b[0m\u001b[91m╸\u001b[0m \u001b[32m21.5/21.5 MB\u001b[0m \u001b[31m92.3 MB/s\u001b[0m eta \u001b[36m0:00:01\u001b[0m\r\u001b[2K     \u001b[91m━━━━━━━━━━━━━━━━━━━━━━━━━━━━━━━━━━━━━━━\u001b[0m\u001b[91m╸\u001b[0m \u001b[32m21.5/21.5 MB\u001b[0m \u001b[31m92.3 MB/s\u001b[0m eta \u001b[36m0:00:01\u001b[0m\r\u001b[2K     \u001b[90m━━━━━━━━━━━━━━━━━━━━━━━━━━━━━━━━━━━━━━━━\u001b[0m \u001b[32m21.5/21.5 MB\u001b[0m \u001b[31m44.1 MB/s\u001b[0m eta \u001b[36m0:00:00\u001b[0m\n",
            "\u001b[?25hCollecting affine (from rasterio)\n",
            "  Downloading affine-2.4.0-py3-none-any.whl (15 kB)\n",
            "Requirement already satisfied: attrs in /usr/local/lib/python3.10/dist-packages (from rasterio) (23.2.0)\n",
            "Requirement already satisfied: certifi in /usr/local/lib/python3.10/dist-packages (from rasterio) (2024.2.2)\n",
            "Requirement already satisfied: click>=4.0 in /usr/local/lib/python3.10/dist-packages (from rasterio) (8.1.7)\n",
            "Requirement already satisfied: cligj>=0.5 in /usr/local/lib/python3.10/dist-packages (from rasterio) (0.7.2)\n",
            "Requirement already satisfied: numpy in /usr/local/lib/python3.10/dist-packages (from rasterio) (1.25.2)\n",
            "Collecting snuggs>=1.4.1 (from rasterio)\n",
            "  Downloading snuggs-1.4.7-py3-none-any.whl (5.4 kB)\n",
            "Requirement already satisfied: click-plugins in /usr/local/lib/python3.10/dist-packages (from rasterio) (1.1.1)\n",
            "Requirement already satisfied: setuptools in /usr/local/lib/python3.10/dist-packages (from rasterio) (67.7.2)\n",
            "Requirement already satisfied: pyparsing>=2.1.6 in /usr/local/lib/python3.10/dist-packages (from snuggs>=1.4.1->rasterio) (3.1.2)\n",
            "Installing collected packages: snuggs, affine, rasterio\n",
            "Successfully installed affine-2.4.0 rasterio-1.3.10 snuggs-1.4.7\n"
          ]
        }
      ]
    },
    {
      "cell_type": "code",
      "source": [
        "import os\n",
        "import glob\n",
        "import cv2\n",
        "import numpy as np\n",
        "from matplotlib import pyplot as plt\n",
        "from keras.models import Model\n",
        "from keras.layers import Input, Conv2D, MaxPooling2D, UpSampling2D, concatenate, Conv2DTranspose, BatchNormalization, Dropout, Lambda\n",
        "from keras.utils import normalize\n",
        "from tensorflow.keras.optimizers import Adam\n",
        "import numpy as np\n",
        "import cv2\n",
        "import os\n",
        "from tensorflow.keras.utils import Sequence\n",
        "from tensorflow.keras.callbacks import Callback\n",
        "import rasterio\n",
        "import tensorflow as tf\n",
        "from tensorflow.keras.models import load_model\n",
        "from sklearn.model_selection import train_test_split\n",
        "import shutil\n",
        "from tensorflow.keras.models import load_model\n",
        "import pickle\n",
        "import numpy as np\n",
        "from tensorflow import keras\n",
        "from PIL import Image\n"
      ],
      "metadata": {
        "id": "Xmp58hMfTYCx"
      },
      "execution_count": 4,
      "outputs": []
    },
    {
      "cell_type": "code",
      "source": [
        "# for 1 year images - this with handling of band 5\n",
        "def read_multi_image_withfive(file_path):\n",
        "    with rasterio.open(file_path) as src:\n",
        "      bands = [src.read(i) for i in range(1,5)]\n",
        "\n",
        "      image = np.stack(bands, axis=-1)\n",
        "\n",
        "      image = image.astype(float)\n",
        "      max_value = image.max(axis=(0,1), keepdims=True)\n",
        "      min_value = image.min(axis=(0,1), keepdims=True)\n",
        "      image = (image - min_value) / (max_value - min_value)\n",
        "\n",
        "      band_five = src.read(5)\n",
        "\n",
        "      band_five = band_five.astype(float) /band_five.max()\n",
        "      band_five = np.expand_dims(band_five, axis=-1)\n",
        "      combined_image = np.concatenate([image, band_five], axis=-1)\n",
        "\n",
        "\n",
        "      return combined_image"
      ],
      "metadata": {
        "id": "10RJYEdnTuPq"
      },
      "execution_count": 243,
      "outputs": []
    },
    {
      "cell_type": "code",
      "source": [
        "directory_path = \"/content/drive/MyDrive/data/images/kahuku/kahuku_3year\"\n",
        "entries = os.listdir(directory_path)\n",
        "num_files = len(entries)\n",
        "print(f\"There are {num_files} files in {directory_path}.\")"
      ],
      "metadata": {
        "colab": {
          "base_uri": "https://localhost:8080/"
        },
        "id": "o8iaYCrLG80n",
        "outputId": "8f5ed1ab-2cde-4e4b-ee05-a047ee28658e"
      },
      "execution_count": 222,
      "outputs": [
        {
          "output_type": "stream",
          "name": "stdout",
          "text": [
            "There are 48 files in /content/drive/MyDrive/data/images/kahuku/kahuku_3year.\n"
          ]
        }
      ]
    },
    {
      "cell_type": "code",
      "source": [
        "model_01 = keras.models.load_model('/content/drive/MyDrive/data/model_prediction/oneyear_data/20240418_1448/20240418_1448.h5')\n",
        "model_02 = keras.models.load_model('/content/drive/MyDrive/data/model_prediction/twoyear_data/20240418_1448/20240418_1448_2.h5')\n",
        "model_03 = keras.models.load_model(\"/content/drive/MyDrive/data/model_prediction/threeyear_data/20240418_1448/20240418_1448_3.h5\")"
      ],
      "metadata": {
        "id": "QxBRyvjaTgaX"
      },
      "execution_count": 244,
      "outputs": []
    },
    {
      "cell_type": "code",
      "source": [
        "kawainui_3year = sorted(glob.glob(f\"/content/drive/MyDrive/data/images/kawainui/kawainui_3year/*.tif\"))\n",
        "destination = '/content/kawainui_3year'\n",
        "os.makedirs(destination, exist_ok=True)\n",
        "for file in kawainui_3year:\n",
        "    dest_file = os.path.join(destination, os.path.basename(file))\n",
        "    shutil.copy(file, dest_file)\n",
        "    print(f'Copied {file} to {dest_file}')\n",
        "directory_path = \"/content/kawainui_3year\"\n",
        "entries = os.listdir(directory_path)\n",
        "num_files = len(entries)\n",
        "print(f\"There are {num_files} files in {directory_path}.\")"
      ],
      "metadata": {
        "colab": {
          "base_uri": "https://localhost:8080/"
        },
        "id": "Dy5QhfWidBKl",
        "outputId": "789cce71-6304-40a7-d5c6-7b5083d8abe3"
      },
      "execution_count": 266,
      "outputs": [
        {
          "output_type": "stream",
          "name": "stdout",
          "text": [
            "Copied /content/drive/MyDrive/data/images/kawainui/kawainui_3year/1465_3year.tif to /content/kawainui_3year/1465_3year.tif\n",
            "Copied /content/drive/MyDrive/data/images/kawainui/kawainui_3year/1466_3year.tif to /content/kawainui_3year/1466_3year.tif\n",
            "Copied /content/drive/MyDrive/data/images/kawainui/kawainui_3year/1472_3year.tif to /content/kawainui_3year/1472_3year.tif\n",
            "Copied /content/drive/MyDrive/data/images/kawainui/kawainui_3year/1481_3year.tif to /content/kawainui_3year/1481_3year.tif\n",
            "Copied /content/drive/MyDrive/data/images/kawainui/kawainui_3year/1482_3year.tif to /content/kawainui_3year/1482_3year.tif\n",
            "Copied /content/drive/MyDrive/data/images/kawainui/kawainui_3year/1483_3year.tif to /content/kawainui_3year/1483_3year.tif\n",
            "Copied /content/drive/MyDrive/data/images/kawainui/kawainui_3year/1488_3year.tif to /content/kawainui_3year/1488_3year.tif\n",
            "Copied /content/drive/MyDrive/data/images/kawainui/kawainui_3year/1489_3year.tif to /content/kawainui_3year/1489_3year.tif\n",
            "Copied /content/drive/MyDrive/data/images/kawainui/kawainui_3year/1490_3year.tif to /content/kawainui_3year/1490_3year.tif\n",
            "Copied /content/drive/MyDrive/data/images/kawainui/kawainui_3year/1497_3year.tif to /content/kawainui_3year/1497_3year.tif\n",
            "Copied /content/drive/MyDrive/data/images/kawainui/kawainui_3year/1498_3year.tif to /content/kawainui_3year/1498_3year.tif\n",
            "Copied /content/drive/MyDrive/data/images/kawainui/kawainui_3year/1499_3year.tif to /content/kawainui_3year/1499_3year.tif\n",
            "Copied /content/drive/MyDrive/data/images/kawainui/kawainui_3year/1504_3year.tif to /content/kawainui_3year/1504_3year.tif\n",
            "Copied /content/drive/MyDrive/data/images/kawainui/kawainui_3year/1505_3year.tif to /content/kawainui_3year/1505_3year.tif\n",
            "Copied /content/drive/MyDrive/data/images/kawainui/kawainui_3year/1507_3year.tif to /content/kawainui_3year/1507_3year.tif\n",
            "Copied /content/drive/MyDrive/data/images/kawainui/kawainui_3year/1513_3year.tif to /content/kawainui_3year/1513_3year.tif\n",
            "Copied /content/drive/MyDrive/data/images/kawainui/kawainui_3year/1514_3year.tif to /content/kawainui_3year/1514_3year.tif\n",
            "Copied /content/drive/MyDrive/data/images/kawainui/kawainui_3year/1515_3year.tif to /content/kawainui_3year/1515_3year.tif\n",
            "Copied /content/drive/MyDrive/data/images/kawainui/kawainui_3year/1516_3year.tif to /content/kawainui_3year/1516_3year.tif\n",
            "Copied /content/drive/MyDrive/data/images/kawainui/kawainui_3year/1517_3year.tif to /content/kawainui_3year/1517_3year.tif\n",
            "Copied /content/drive/MyDrive/data/images/kawainui/kawainui_3year/1520_3year.tif to /content/kawainui_3year/1520_3year.tif\n",
            "Copied /content/drive/MyDrive/data/images/kawainui/kawainui_3year/1521_3year.tif to /content/kawainui_3year/1521_3year.tif\n",
            "Copied /content/drive/MyDrive/data/images/kawainui/kawainui_3year/1529_3year.tif to /content/kawainui_3year/1529_3year.tif\n",
            "Copied /content/drive/MyDrive/data/images/kawainui/kawainui_3year/1530_3year.tif to /content/kawainui_3year/1530_3year.tif\n",
            "Copied /content/drive/MyDrive/data/images/kawainui/kawainui_3year/1531_3year.tif to /content/kawainui_3year/1531_3year.tif\n",
            "Copied /content/drive/MyDrive/data/images/kawainui/kawainui_3year/1532_3year.tif to /content/kawainui_3year/1532_3year.tif\n",
            "Copied /content/drive/MyDrive/data/images/kawainui/kawainui_3year/1533_3year.tif to /content/kawainui_3year/1533_3year.tif\n",
            "Copied /content/drive/MyDrive/data/images/kawainui/kawainui_3year/1534_3year.tif to /content/kawainui_3year/1534_3year.tif\n",
            "Copied /content/drive/MyDrive/data/images/kawainui/kawainui_3year/1535_3year.tif to /content/kawainui_3year/1535_3year.tif\n",
            "Copied /content/drive/MyDrive/data/images/kawainui/kawainui_3year/1536_3year.tif to /content/kawainui_3year/1536_3year.tif\n",
            "Copied /content/drive/MyDrive/data/images/kawainui/kawainui_3year/1537_3year.tif to /content/kawainui_3year/1537_3year.tif\n",
            "Copied /content/drive/MyDrive/data/images/kawainui/kawainui_3year/1538_3year.tif to /content/kawainui_3year/1538_3year.tif\n",
            "Copied /content/drive/MyDrive/data/images/kawainui/kawainui_3year/1539_3year.tif to /content/kawainui_3year/1539_3year.tif\n",
            "Copied /content/drive/MyDrive/data/images/kawainui/kawainui_3year/1545_3year.tif to /content/kawainui_3year/1545_3year.tif\n",
            "Copied /content/drive/MyDrive/data/images/kawainui/kawainui_3year/1546_3year.tif to /content/kawainui_3year/1546_3year.tif\n",
            "Copied /content/drive/MyDrive/data/images/kawainui/kawainui_3year/1547_3year.tif to /content/kawainui_3year/1547_3year.tif\n",
            "Copied /content/drive/MyDrive/data/images/kawainui/kawainui_3year/1548_3year.tif to /content/kawainui_3year/1548_3year.tif\n",
            "Copied /content/drive/MyDrive/data/images/kawainui/kawainui_3year/1549_3year.tif to /content/kawainui_3year/1549_3year.tif\n",
            "Copied /content/drive/MyDrive/data/images/kawainui/kawainui_3year/1550_3year.tif to /content/kawainui_3year/1550_3year.tif\n",
            "Copied /content/drive/MyDrive/data/images/kawainui/kawainui_3year/1551_3year.tif to /content/kawainui_3year/1551_3year.tif\n",
            "Copied /content/drive/MyDrive/data/images/kawainui/kawainui_3year/1555_3year.tif to /content/kawainui_3year/1555_3year.tif\n",
            "Copied /content/drive/MyDrive/data/images/kawainui/kawainui_3year/1561_3year.tif to /content/kawainui_3year/1561_3year.tif\n",
            "Copied /content/drive/MyDrive/data/images/kawainui/kawainui_3year/1562_3year.tif to /content/kawainui_3year/1562_3year.tif\n",
            "Copied /content/drive/MyDrive/data/images/kawainui/kawainui_3year/1563_3year.tif to /content/kawainui_3year/1563_3year.tif\n",
            "Copied /content/drive/MyDrive/data/images/kawainui/kawainui_3year/1564_3year.tif to /content/kawainui_3year/1564_3year.tif\n",
            "Copied /content/drive/MyDrive/data/images/kawainui/kawainui_3year/1565_3year.tif to /content/kawainui_3year/1565_3year.tif\n",
            "Copied /content/drive/MyDrive/data/images/kawainui/kawainui_3year/1571_3year.tif to /content/kawainui_3year/1571_3year.tif\n",
            "Copied /content/drive/MyDrive/data/images/kawainui/kawainui_3year/1577_3year.tif to /content/kawainui_3year/1577_3year.tif\n",
            "Copied /content/drive/MyDrive/data/images/kawainui/kawainui_3year/1578_3year.tif to /content/kawainui_3year/1578_3year.tif\n",
            "Copied /content/drive/MyDrive/data/images/kawainui/kawainui_3year/1579_3year.tif to /content/kawainui_3year/1579_3year.tif\n",
            "Copied /content/drive/MyDrive/data/images/kawainui/kawainui_3year/1580_3year.tif to /content/kawainui_3year/1580_3year.tif\n",
            "Copied /content/drive/MyDrive/data/images/kawainui/kawainui_3year/1593_3year.tif to /content/kawainui_3year/1593_3year.tif\n",
            "Copied /content/drive/MyDrive/data/images/kawainui/kawainui_3year/1594_3year.tif to /content/kawainui_3year/1594_3year.tif\n",
            "Copied /content/drive/MyDrive/data/images/kawainui/kawainui_3year/1595_3year.tif to /content/kawainui_3year/1595_3year.tif\n",
            "Copied /content/drive/MyDrive/data/images/kawainui/kawainui_3year/1596_3year.tif to /content/kawainui_3year/1596_3year.tif\n",
            "Copied /content/drive/MyDrive/data/images/kawainui/kawainui_3year/1610_3year.tif to /content/kawainui_3year/1610_3year.tif\n",
            "Copied /content/drive/MyDrive/data/images/kawainui/kawainui_3year/1611_3year.tif to /content/kawainui_3year/1611_3year.tif\n",
            "Copied /content/drive/MyDrive/data/images/kawainui/kawainui_3year/1612_3year.tif to /content/kawainui_3year/1612_3year.tif\n",
            "Copied /content/drive/MyDrive/data/images/kawainui/kawainui_3year/1628_3year.tif to /content/kawainui_3year/1628_3year.tif\n",
            "Copied /content/drive/MyDrive/data/images/kawainui/kawainui_3year/1645_3year.tif to /content/kawainui_3year/1645_3year.tif\n",
            "There are 60 files in /content/kawainui_3year.\n"
          ]
        }
      ]
    },
    {
      "cell_type": "code",
      "source": [
        "kawainui_2year = sorted(glob.glob(f\"/content/drive/MyDrive/data/images/kawainui/kawainui_2year/*.tif\"))\n",
        "destination = '/content/kawainui_2year'\n",
        "os.makedirs(destination, exist_ok=True)\n",
        "for file in kawainui_2year:\n",
        "    dest_file = os.path.join(destination, os.path.basename(file))\n",
        "    shutil.copy(file, dest_file)\n",
        "    print(f'Copied {file} to {dest_file}')\n",
        "directory_path = \"/content/kawainui_2year\"\n",
        "entries = os.listdir(directory_path)\n",
        "num_files = len(entries)\n",
        "print(f\"There are {num_files} files in {directory_path}.\")"
      ],
      "metadata": {
        "colab": {
          "base_uri": "https://localhost:8080/"
        },
        "id": "hpmlklLUauZ8",
        "outputId": "4b3a3d96-02ed-4178-eba2-9c631c64252a"
      },
      "execution_count": 256,
      "outputs": [
        {
          "output_type": "stream",
          "name": "stdout",
          "text": [
            "Copied /content/drive/MyDrive/data/images/kawainui/kawainui_2year/1465_2year.tif to /content/kawainui_2year/1465_2year.tif\n",
            "Copied /content/drive/MyDrive/data/images/kawainui/kawainui_2year/1466_2year.tif to /content/kawainui_2year/1466_2year.tif\n",
            "Copied /content/drive/MyDrive/data/images/kawainui/kawainui_2year/1472_2year.tif to /content/kawainui_2year/1472_2year.tif\n",
            "Copied /content/drive/MyDrive/data/images/kawainui/kawainui_2year/1481_2year.tif to /content/kawainui_2year/1481_2year.tif\n",
            "Copied /content/drive/MyDrive/data/images/kawainui/kawainui_2year/1482_2year.tif to /content/kawainui_2year/1482_2year.tif\n",
            "Copied /content/drive/MyDrive/data/images/kawainui/kawainui_2year/1483_2year.tif to /content/kawainui_2year/1483_2year.tif\n",
            "Copied /content/drive/MyDrive/data/images/kawainui/kawainui_2year/1488_2year.tif to /content/kawainui_2year/1488_2year.tif\n",
            "Copied /content/drive/MyDrive/data/images/kawainui/kawainui_2year/1489_2year.tif to /content/kawainui_2year/1489_2year.tif\n",
            "Copied /content/drive/MyDrive/data/images/kawainui/kawainui_2year/1490_2year.tif to /content/kawainui_2year/1490_2year.tif\n",
            "Copied /content/drive/MyDrive/data/images/kawainui/kawainui_2year/1497_2year.tif to /content/kawainui_2year/1497_2year.tif\n",
            "Copied /content/drive/MyDrive/data/images/kawainui/kawainui_2year/1498_2year.tif to /content/kawainui_2year/1498_2year.tif\n",
            "Copied /content/drive/MyDrive/data/images/kawainui/kawainui_2year/1499_2year.tif to /content/kawainui_2year/1499_2year.tif\n",
            "Copied /content/drive/MyDrive/data/images/kawainui/kawainui_2year/1504_2year.tif to /content/kawainui_2year/1504_2year.tif\n",
            "Copied /content/drive/MyDrive/data/images/kawainui/kawainui_2year/1505_2year.tif to /content/kawainui_2year/1505_2year.tif\n",
            "Copied /content/drive/MyDrive/data/images/kawainui/kawainui_2year/1507_2year.tif to /content/kawainui_2year/1507_2year.tif\n",
            "Copied /content/drive/MyDrive/data/images/kawainui/kawainui_2year/1513_2year.tif to /content/kawainui_2year/1513_2year.tif\n",
            "Copied /content/drive/MyDrive/data/images/kawainui/kawainui_2year/1514_2year.tif to /content/kawainui_2year/1514_2year.tif\n",
            "Copied /content/drive/MyDrive/data/images/kawainui/kawainui_2year/1515_2year.tif to /content/kawainui_2year/1515_2year.tif\n",
            "Copied /content/drive/MyDrive/data/images/kawainui/kawainui_2year/1516_2year.tif to /content/kawainui_2year/1516_2year.tif\n",
            "Copied /content/drive/MyDrive/data/images/kawainui/kawainui_2year/1517_2year.tif to /content/kawainui_2year/1517_2year.tif\n",
            "Copied /content/drive/MyDrive/data/images/kawainui/kawainui_2year/1520_2year.tif to /content/kawainui_2year/1520_2year.tif\n",
            "Copied /content/drive/MyDrive/data/images/kawainui/kawainui_2year/1521_2year.tif to /content/kawainui_2year/1521_2year.tif\n",
            "Copied /content/drive/MyDrive/data/images/kawainui/kawainui_2year/1529_2year.tif to /content/kawainui_2year/1529_2year.tif\n",
            "Copied /content/drive/MyDrive/data/images/kawainui/kawainui_2year/1530_2year.tif to /content/kawainui_2year/1530_2year.tif\n",
            "Copied /content/drive/MyDrive/data/images/kawainui/kawainui_2year/1531_2year.tif to /content/kawainui_2year/1531_2year.tif\n",
            "Copied /content/drive/MyDrive/data/images/kawainui/kawainui_2year/1532_2year.tif to /content/kawainui_2year/1532_2year.tif\n",
            "Copied /content/drive/MyDrive/data/images/kawainui/kawainui_2year/1533_2year.tif to /content/kawainui_2year/1533_2year.tif\n",
            "Copied /content/drive/MyDrive/data/images/kawainui/kawainui_2year/1534_2year.tif to /content/kawainui_2year/1534_2year.tif\n",
            "Copied /content/drive/MyDrive/data/images/kawainui/kawainui_2year/1535_2year.tif to /content/kawainui_2year/1535_2year.tif\n",
            "Copied /content/drive/MyDrive/data/images/kawainui/kawainui_2year/1536_2year.tif to /content/kawainui_2year/1536_2year.tif\n",
            "Copied /content/drive/MyDrive/data/images/kawainui/kawainui_2year/1537_2year.tif to /content/kawainui_2year/1537_2year.tif\n",
            "Copied /content/drive/MyDrive/data/images/kawainui/kawainui_2year/1538_2year.tif to /content/kawainui_2year/1538_2year.tif\n",
            "Copied /content/drive/MyDrive/data/images/kawainui/kawainui_2year/1539_2year.tif to /content/kawainui_2year/1539_2year.tif\n",
            "Copied /content/drive/MyDrive/data/images/kawainui/kawainui_2year/1545_2year.tif to /content/kawainui_2year/1545_2year.tif\n",
            "Copied /content/drive/MyDrive/data/images/kawainui/kawainui_2year/1546_2year.tif to /content/kawainui_2year/1546_2year.tif\n",
            "Copied /content/drive/MyDrive/data/images/kawainui/kawainui_2year/1547_2year.tif to /content/kawainui_2year/1547_2year.tif\n",
            "Copied /content/drive/MyDrive/data/images/kawainui/kawainui_2year/1548_2year.tif to /content/kawainui_2year/1548_2year.tif\n",
            "Copied /content/drive/MyDrive/data/images/kawainui/kawainui_2year/1549_2year.tif to /content/kawainui_2year/1549_2year.tif\n",
            "Copied /content/drive/MyDrive/data/images/kawainui/kawainui_2year/1550_2year.tif to /content/kawainui_2year/1550_2year.tif\n",
            "Copied /content/drive/MyDrive/data/images/kawainui/kawainui_2year/1551_2year.tif to /content/kawainui_2year/1551_2year.tif\n",
            "Copied /content/drive/MyDrive/data/images/kawainui/kawainui_2year/1555_2year.tif to /content/kawainui_2year/1555_2year.tif\n",
            "Copied /content/drive/MyDrive/data/images/kawainui/kawainui_2year/1561_2year.tif to /content/kawainui_2year/1561_2year.tif\n",
            "Copied /content/drive/MyDrive/data/images/kawainui/kawainui_2year/1562_2year.tif to /content/kawainui_2year/1562_2year.tif\n",
            "Copied /content/drive/MyDrive/data/images/kawainui/kawainui_2year/1563_2year.tif to /content/kawainui_2year/1563_2year.tif\n",
            "Copied /content/drive/MyDrive/data/images/kawainui/kawainui_2year/1564_2year.tif to /content/kawainui_2year/1564_2year.tif\n",
            "Copied /content/drive/MyDrive/data/images/kawainui/kawainui_2year/1565_2year.tif to /content/kawainui_2year/1565_2year.tif\n",
            "Copied /content/drive/MyDrive/data/images/kawainui/kawainui_2year/1571_2year.tif to /content/kawainui_2year/1571_2year.tif\n",
            "Copied /content/drive/MyDrive/data/images/kawainui/kawainui_2year/1577_2year.tif to /content/kawainui_2year/1577_2year.tif\n",
            "Copied /content/drive/MyDrive/data/images/kawainui/kawainui_2year/1578_2year.tif to /content/kawainui_2year/1578_2year.tif\n",
            "Copied /content/drive/MyDrive/data/images/kawainui/kawainui_2year/1579_2year.tif to /content/kawainui_2year/1579_2year.tif\n",
            "Copied /content/drive/MyDrive/data/images/kawainui/kawainui_2year/1580_2year.tif to /content/kawainui_2year/1580_2year.tif\n",
            "Copied /content/drive/MyDrive/data/images/kawainui/kawainui_2year/1593_2year.tif to /content/kawainui_2year/1593_2year.tif\n",
            "Copied /content/drive/MyDrive/data/images/kawainui/kawainui_2year/1594_2year.tif to /content/kawainui_2year/1594_2year.tif\n",
            "Copied /content/drive/MyDrive/data/images/kawainui/kawainui_2year/1595_2year.tif to /content/kawainui_2year/1595_2year.tif\n",
            "Copied /content/drive/MyDrive/data/images/kawainui/kawainui_2year/1596_2year.tif to /content/kawainui_2year/1596_2year.tif\n",
            "Copied /content/drive/MyDrive/data/images/kawainui/kawainui_2year/1610_2year.tif to /content/kawainui_2year/1610_2year.tif\n",
            "Copied /content/drive/MyDrive/data/images/kawainui/kawainui_2year/1611_2year.tif to /content/kawainui_2year/1611_2year.tif\n",
            "Copied /content/drive/MyDrive/data/images/kawainui/kawainui_2year/1612_2year.tif to /content/kawainui_2year/1612_2year.tif\n",
            "Copied /content/drive/MyDrive/data/images/kawainui/kawainui_2year/1628_2year.tif to /content/kawainui_2year/1628_2year.tif\n",
            "Copied /content/drive/MyDrive/data/images/kawainui/kawainui_2year/1645_2year.tif to /content/kawainui_2year/1645_2year.tif\n",
            "There are 60 files in /content/kawainui_2year.\n"
          ]
        }
      ]
    },
    {
      "cell_type": "code",
      "source": [
        "kawainui_1year = sorted(glob.glob(f\"/content/drive/MyDrive/data/images/kawainui/kawainui_1year/*.tif\"))\n",
        "destination = '/content/kawainui_1year'\n",
        "os.makedirs(destination, exist_ok=True)\n",
        "for file in kawainui_1year:\n",
        "    dest_file = os.path.join(destination, os.path.basename(file))\n",
        "    shutil.copy(file, dest_file)\n",
        "    print(f'Copied {file} to {dest_file}')\n",
        "directory_path = \"/content/kawainui_1year\"\n",
        "entries = os.listdir(directory_path)\n",
        "num_files = len(entries)\n",
        "print(f\"There are {num_files} files in {directory_path}.\")"
      ],
      "metadata": {
        "colab": {
          "base_uri": "https://localhost:8080/"
        },
        "id": "NWIKBX0jWPiQ",
        "outputId": "519f11a1-3066-4786-d543-66a764b9bf68"
      },
      "execution_count": 250,
      "outputs": [
        {
          "output_type": "stream",
          "name": "stdout",
          "text": [
            "Copied /content/drive/MyDrive/data/images/kawainui/kawainui_1year/1465_1year.tif to /content/kawainui_1year/1465_1year.tif\n",
            "Copied /content/drive/MyDrive/data/images/kawainui/kawainui_1year/1466_1year.tif to /content/kawainui_1year/1466_1year.tif\n",
            "Copied /content/drive/MyDrive/data/images/kawainui/kawainui_1year/1472_1year.tif to /content/kawainui_1year/1472_1year.tif\n",
            "Copied /content/drive/MyDrive/data/images/kawainui/kawainui_1year/1481_1year.tif to /content/kawainui_1year/1481_1year.tif\n",
            "Copied /content/drive/MyDrive/data/images/kawainui/kawainui_1year/1482_1year.tif to /content/kawainui_1year/1482_1year.tif\n",
            "Copied /content/drive/MyDrive/data/images/kawainui/kawainui_1year/1483_1year.tif to /content/kawainui_1year/1483_1year.tif\n",
            "Copied /content/drive/MyDrive/data/images/kawainui/kawainui_1year/1488_1year.tif to /content/kawainui_1year/1488_1year.tif\n",
            "Copied /content/drive/MyDrive/data/images/kawainui/kawainui_1year/1489_1year.tif to /content/kawainui_1year/1489_1year.tif\n",
            "Copied /content/drive/MyDrive/data/images/kawainui/kawainui_1year/1490_1year.tif to /content/kawainui_1year/1490_1year.tif\n",
            "Copied /content/drive/MyDrive/data/images/kawainui/kawainui_1year/1497_1year.tif to /content/kawainui_1year/1497_1year.tif\n",
            "Copied /content/drive/MyDrive/data/images/kawainui/kawainui_1year/1498_1year.tif to /content/kawainui_1year/1498_1year.tif\n",
            "Copied /content/drive/MyDrive/data/images/kawainui/kawainui_1year/1499_1year.tif to /content/kawainui_1year/1499_1year.tif\n",
            "Copied /content/drive/MyDrive/data/images/kawainui/kawainui_1year/1504_1year.tif to /content/kawainui_1year/1504_1year.tif\n",
            "Copied /content/drive/MyDrive/data/images/kawainui/kawainui_1year/1505_1year.tif to /content/kawainui_1year/1505_1year.tif\n",
            "Copied /content/drive/MyDrive/data/images/kawainui/kawainui_1year/1507_1year.tif to /content/kawainui_1year/1507_1year.tif\n",
            "Copied /content/drive/MyDrive/data/images/kawainui/kawainui_1year/1513_1year.tif to /content/kawainui_1year/1513_1year.tif\n",
            "Copied /content/drive/MyDrive/data/images/kawainui/kawainui_1year/1514_1year.tif to /content/kawainui_1year/1514_1year.tif\n",
            "Copied /content/drive/MyDrive/data/images/kawainui/kawainui_1year/1515_1year.tif to /content/kawainui_1year/1515_1year.tif\n",
            "Copied /content/drive/MyDrive/data/images/kawainui/kawainui_1year/1516_1year.tif to /content/kawainui_1year/1516_1year.tif\n",
            "Copied /content/drive/MyDrive/data/images/kawainui/kawainui_1year/1517_1year.tif to /content/kawainui_1year/1517_1year.tif\n",
            "Copied /content/drive/MyDrive/data/images/kawainui/kawainui_1year/1520_1year.tif to /content/kawainui_1year/1520_1year.tif\n",
            "Copied /content/drive/MyDrive/data/images/kawainui/kawainui_1year/1521_1year.tif to /content/kawainui_1year/1521_1year.tif\n",
            "Copied /content/drive/MyDrive/data/images/kawainui/kawainui_1year/1529_1year.tif to /content/kawainui_1year/1529_1year.tif\n",
            "Copied /content/drive/MyDrive/data/images/kawainui/kawainui_1year/1530_1year.tif to /content/kawainui_1year/1530_1year.tif\n",
            "Copied /content/drive/MyDrive/data/images/kawainui/kawainui_1year/1531_1year.tif to /content/kawainui_1year/1531_1year.tif\n",
            "Copied /content/drive/MyDrive/data/images/kawainui/kawainui_1year/1532_1year.tif to /content/kawainui_1year/1532_1year.tif\n",
            "Copied /content/drive/MyDrive/data/images/kawainui/kawainui_1year/1533_1year.tif to /content/kawainui_1year/1533_1year.tif\n",
            "Copied /content/drive/MyDrive/data/images/kawainui/kawainui_1year/1534_1year.tif to /content/kawainui_1year/1534_1year.tif\n",
            "Copied /content/drive/MyDrive/data/images/kawainui/kawainui_1year/1535_1year.tif to /content/kawainui_1year/1535_1year.tif\n",
            "Copied /content/drive/MyDrive/data/images/kawainui/kawainui_1year/1536_1year.tif to /content/kawainui_1year/1536_1year.tif\n",
            "Copied /content/drive/MyDrive/data/images/kawainui/kawainui_1year/1537_1year.tif to /content/kawainui_1year/1537_1year.tif\n",
            "Copied /content/drive/MyDrive/data/images/kawainui/kawainui_1year/1538_1year.tif to /content/kawainui_1year/1538_1year.tif\n",
            "Copied /content/drive/MyDrive/data/images/kawainui/kawainui_1year/1539_1year.tif to /content/kawainui_1year/1539_1year.tif\n",
            "Copied /content/drive/MyDrive/data/images/kawainui/kawainui_1year/1545_1year.tif to /content/kawainui_1year/1545_1year.tif\n",
            "Copied /content/drive/MyDrive/data/images/kawainui/kawainui_1year/1546_1year.tif to /content/kawainui_1year/1546_1year.tif\n",
            "Copied /content/drive/MyDrive/data/images/kawainui/kawainui_1year/1547_1year.tif to /content/kawainui_1year/1547_1year.tif\n",
            "Copied /content/drive/MyDrive/data/images/kawainui/kawainui_1year/1548_1year.tif to /content/kawainui_1year/1548_1year.tif\n",
            "Copied /content/drive/MyDrive/data/images/kawainui/kawainui_1year/1549_1year.tif to /content/kawainui_1year/1549_1year.tif\n",
            "Copied /content/drive/MyDrive/data/images/kawainui/kawainui_1year/1550_1year.tif to /content/kawainui_1year/1550_1year.tif\n",
            "Copied /content/drive/MyDrive/data/images/kawainui/kawainui_1year/1551_1year.tif to /content/kawainui_1year/1551_1year.tif\n",
            "Copied /content/drive/MyDrive/data/images/kawainui/kawainui_1year/1555_1year.tif to /content/kawainui_1year/1555_1year.tif\n",
            "Copied /content/drive/MyDrive/data/images/kawainui/kawainui_1year/1561_1year.tif to /content/kawainui_1year/1561_1year.tif\n",
            "Copied /content/drive/MyDrive/data/images/kawainui/kawainui_1year/1562_1year.tif to /content/kawainui_1year/1562_1year.tif\n",
            "Copied /content/drive/MyDrive/data/images/kawainui/kawainui_1year/1563_1year.tif to /content/kawainui_1year/1563_1year.tif\n",
            "Copied /content/drive/MyDrive/data/images/kawainui/kawainui_1year/1564_1year.tif to /content/kawainui_1year/1564_1year.tif\n",
            "Copied /content/drive/MyDrive/data/images/kawainui/kawainui_1year/1565_1year.tif to /content/kawainui_1year/1565_1year.tif\n",
            "Copied /content/drive/MyDrive/data/images/kawainui/kawainui_1year/1571_1year.tif to /content/kawainui_1year/1571_1year.tif\n",
            "Copied /content/drive/MyDrive/data/images/kawainui/kawainui_1year/1577_1year.tif to /content/kawainui_1year/1577_1year.tif\n",
            "Copied /content/drive/MyDrive/data/images/kawainui/kawainui_1year/1578_1year.tif to /content/kawainui_1year/1578_1year.tif\n",
            "Copied /content/drive/MyDrive/data/images/kawainui/kawainui_1year/1579_1year.tif to /content/kawainui_1year/1579_1year.tif\n",
            "Copied /content/drive/MyDrive/data/images/kawainui/kawainui_1year/1580_1year.tif to /content/kawainui_1year/1580_1year.tif\n",
            "Copied /content/drive/MyDrive/data/images/kawainui/kawainui_1year/1593_1year.tif to /content/kawainui_1year/1593_1year.tif\n",
            "Copied /content/drive/MyDrive/data/images/kawainui/kawainui_1year/1594_1year.tif to /content/kawainui_1year/1594_1year.tif\n",
            "Copied /content/drive/MyDrive/data/images/kawainui/kawainui_1year/1595_1year.tif to /content/kawainui_1year/1595_1year.tif\n",
            "Copied /content/drive/MyDrive/data/images/kawainui/kawainui_1year/1596_1year.tif to /content/kawainui_1year/1596_1year.tif\n",
            "Copied /content/drive/MyDrive/data/images/kawainui/kawainui_1year/1610_1year.tif to /content/kawainui_1year/1610_1year.tif\n",
            "Copied /content/drive/MyDrive/data/images/kawainui/kawainui_1year/1611_1year.tif to /content/kawainui_1year/1611_1year.tif\n",
            "Copied /content/drive/MyDrive/data/images/kawainui/kawainui_1year/1612_1year.tif to /content/kawainui_1year/1612_1year.tif\n",
            "Copied /content/drive/MyDrive/data/images/kawainui/kawainui_1year/1628_1year.tif to /content/kawainui_1year/1628_1year.tif\n",
            "Copied /content/drive/MyDrive/data/images/kawainui/kawainui_1year/1645_1year.tif to /content/kawainui_1year/1645_1year.tif\n",
            "There are 60 files in /content/kawainui_1year.\n"
          ]
        }
      ]
    },
    {
      "cell_type": "code",
      "source": [
        "kahuku_1year = sorted(glob.glob(f\"/content/drive/MyDrive/data/images/kahuku/kahuku_1year/*.tif\"))\n",
        "destination = '/content/kahuku_1year'\n",
        "os.makedirs(destination, exist_ok=True)\n",
        "for file in kahuku_1year:\n",
        "    dest_file = os.path.join(destination, os.path.basename(file))\n",
        "    shutil.copy(file, dest_file)\n",
        "    print(f'Copied {file} to {dest_file}')\n",
        "directory_path = \"/content/kahuku_1year\"\n",
        "entries = os.listdir(directory_path)\n",
        "num_files = len(entries)\n",
        "print(f\"There are {num_files} files in {directory_path}.\")"
      ],
      "metadata": {
        "colab": {
          "base_uri": "https://localhost:8080/"
        },
        "id": "cDtWWUJdT6e8",
        "outputId": "65b4eeef-4ed1-4797-b0cf-68204205d53c"
      },
      "execution_count": 242,
      "outputs": [
        {
          "output_type": "stream",
          "name": "stdout",
          "text": [
            "Copied /content/drive/MyDrive/data/images/kahuku/kahuku_1year/742_1year.tif to /content/kahuku_1year/742_1year.tif\n",
            "Copied /content/drive/MyDrive/data/images/kahuku/kahuku_1year/743_1year.tif to /content/kahuku_1year/743_1year.tif\n",
            "Copied /content/drive/MyDrive/data/images/kahuku/kahuku_1year/759_1year.tif to /content/kahuku_1year/759_1year.tif\n",
            "Copied /content/drive/MyDrive/data/images/kahuku/kahuku_1year/760_1year.tif to /content/kahuku_1year/760_1year.tif\n",
            "Copied /content/drive/MyDrive/data/images/kahuku/kahuku_1year/761_1year.tif to /content/kahuku_1year/761_1year.tif\n",
            "Copied /content/drive/MyDrive/data/images/kahuku/kahuku_1year/762_1year.tif to /content/kahuku_1year/762_1year.tif\n",
            "Copied /content/drive/MyDrive/data/images/kahuku/kahuku_1year/776_1year.tif to /content/kahuku_1year/776_1year.tif\n",
            "Copied /content/drive/MyDrive/data/images/kahuku/kahuku_1year/777_1year.tif to /content/kahuku_1year/777_1year.tif\n",
            "Copied /content/drive/MyDrive/data/images/kahuku/kahuku_1year/778_1year.tif to /content/kahuku_1year/778_1year.tif\n",
            "Copied /content/drive/MyDrive/data/images/kahuku/kahuku_1year/779_1year.tif to /content/kahuku_1year/779_1year.tif\n",
            "Copied /content/drive/MyDrive/data/images/kahuku/kahuku_1year/780_1year.tif to /content/kahuku_1year/780_1year.tif\n",
            "Copied /content/drive/MyDrive/data/images/kahuku/kahuku_1year/781_1year.tif to /content/kahuku_1year/781_1year.tif\n",
            "Copied /content/drive/MyDrive/data/images/kahuku/kahuku_1year/792_1year.tif to /content/kahuku_1year/792_1year.tif\n",
            "Copied /content/drive/MyDrive/data/images/kahuku/kahuku_1year/793_1year.tif to /content/kahuku_1year/793_1year.tif\n",
            "Copied /content/drive/MyDrive/data/images/kahuku/kahuku_1year/794_1year.tif to /content/kahuku_1year/794_1year.tif\n",
            "Copied /content/drive/MyDrive/data/images/kahuku/kahuku_1year/795_1year.tif to /content/kahuku_1year/795_1year.tif\n",
            "Copied /content/drive/MyDrive/data/images/kahuku/kahuku_1year/796_1year.tif to /content/kahuku_1year/796_1year.tif\n",
            "Copied /content/drive/MyDrive/data/images/kahuku/kahuku_1year/797_1year.tif to /content/kahuku_1year/797_1year.tif\n",
            "Copied /content/drive/MyDrive/data/images/kahuku/kahuku_1year/798_1year.tif to /content/kahuku_1year/798_1year.tif\n",
            "Copied /content/drive/MyDrive/data/images/kahuku/kahuku_1year/805_1year.tif to /content/kahuku_1year/805_1year.tif\n",
            "Copied /content/drive/MyDrive/data/images/kahuku/kahuku_1year/808_1year.tif to /content/kahuku_1year/808_1year.tif\n",
            "Copied /content/drive/MyDrive/data/images/kahuku/kahuku_1year/809_1year.tif to /content/kahuku_1year/809_1year.tif\n",
            "Copied /content/drive/MyDrive/data/images/kahuku/kahuku_1year/810_1year.tif to /content/kahuku_1year/810_1year.tif\n",
            "Copied /content/drive/MyDrive/data/images/kahuku/kahuku_1year/811_1year.tif to /content/kahuku_1year/811_1year.tif\n",
            "Copied /content/drive/MyDrive/data/images/kahuku/kahuku_1year/812_1year.tif to /content/kahuku_1year/812_1year.tif\n",
            "Copied /content/drive/MyDrive/data/images/kahuku/kahuku_1year/813_1year.tif to /content/kahuku_1year/813_1year.tif\n",
            "Copied /content/drive/MyDrive/data/images/kahuku/kahuku_1year/815_1year.tif to /content/kahuku_1year/815_1year.tif\n",
            "Copied /content/drive/MyDrive/data/images/kahuku/kahuku_1year/821_1year.tif to /content/kahuku_1year/821_1year.tif\n",
            "Copied /content/drive/MyDrive/data/images/kahuku/kahuku_1year/823_1year.tif to /content/kahuku_1year/823_1year.tif\n",
            "Copied /content/drive/MyDrive/data/images/kahuku/kahuku_1year/825_1year.tif to /content/kahuku_1year/825_1year.tif\n",
            "Copied /content/drive/MyDrive/data/images/kahuku/kahuku_1year/826_1year.tif to /content/kahuku_1year/826_1year.tif\n",
            "Copied /content/drive/MyDrive/data/images/kahuku/kahuku_1year/827_1year.tif to /content/kahuku_1year/827_1year.tif\n",
            "Copied /content/drive/MyDrive/data/images/kahuku/kahuku_1year/828_1year.tif to /content/kahuku_1year/828_1year.tif\n",
            "Copied /content/drive/MyDrive/data/images/kahuku/kahuku_1year/829_1year.tif to /content/kahuku_1year/829_1year.tif\n",
            "Copied /content/drive/MyDrive/data/images/kahuku/kahuku_1year/830_1year.tif to /content/kahuku_1year/830_1year.tif\n",
            "Copied /content/drive/MyDrive/data/images/kahuku/kahuku_1year/831_1year.tif to /content/kahuku_1year/831_1year.tif\n",
            "Copied /content/drive/MyDrive/data/images/kahuku/kahuku_1year/841_1year.tif to /content/kahuku_1year/841_1year.tif\n",
            "Copied /content/drive/MyDrive/data/images/kahuku/kahuku_1year/842_1year.tif to /content/kahuku_1year/842_1year.tif\n",
            "Copied /content/drive/MyDrive/data/images/kahuku/kahuku_1year/843_1year.tif to /content/kahuku_1year/843_1year.tif\n",
            "Copied /content/drive/MyDrive/data/images/kahuku/kahuku_1year/845_1year.tif to /content/kahuku_1year/845_1year.tif\n",
            "Copied /content/drive/MyDrive/data/images/kahuku/kahuku_1year/847_1year.tif to /content/kahuku_1year/847_1year.tif\n",
            "Copied /content/drive/MyDrive/data/images/kahuku/kahuku_1year/848_1year.tif to /content/kahuku_1year/848_1year.tif\n",
            "Copied /content/drive/MyDrive/data/images/kahuku/kahuku_1year/849_1year.tif to /content/kahuku_1year/849_1year.tif\n",
            "Copied /content/drive/MyDrive/data/images/kahuku/kahuku_1year/860_1year.tif to /content/kahuku_1year/860_1year.tif\n",
            "Copied /content/drive/MyDrive/data/images/kahuku/kahuku_1year/861_1year.tif to /content/kahuku_1year/861_1year.tif\n",
            "Copied /content/drive/MyDrive/data/images/kahuku/kahuku_1year/862_1year.tif to /content/kahuku_1year/862_1year.tif\n",
            "Copied /content/drive/MyDrive/data/images/kahuku/kahuku_1year/865_1year.tif to /content/kahuku_1year/865_1year.tif\n",
            "Copied /content/drive/MyDrive/data/images/kahuku/kahuku_1year/866_1year.tif to /content/kahuku_1year/866_1year.tif\n",
            "There are 48 files in /content/kahuku_1year.\n"
          ]
        }
      ]
    },
    {
      "cell_type": "code",
      "source": [
        "kahuku_2year = sorted(glob.glob(f\"/content/drive/MyDrive/data/images/kahuku/kahuku_2year/*.tif\"))\n",
        "destination = '/content/kahuku_2year'\n",
        "os.makedirs(destination, exist_ok=True)\n",
        "for file in kahuku_2year:\n",
        "    dest_file = os.path.join(destination, os.path.basename(file))\n",
        "    shutil.copy(file, dest_file)\n",
        "    print(f'Copied {file} to {dest_file}')\n",
        "directory_path = \"/content/kahuku_2year\"\n",
        "entries = os.listdir(directory_path)\n",
        "num_files = len(entries)\n",
        "print(f\"There are {num_files} files in {directory_path}.\")"
      ],
      "metadata": {
        "colab": {
          "base_uri": "https://localhost:8080/"
        },
        "id": "g7cIFwaMRCcY",
        "outputId": "2798e957-81a4-4c30-8844-db8bf69feba4"
      },
      "execution_count": 235,
      "outputs": [
        {
          "output_type": "stream",
          "name": "stdout",
          "text": [
            "Copied /content/drive/MyDrive/data/images/kahuku/kahuku_2year/742_2year.tif to /content/kahuku_2year/742_2year.tif\n",
            "Copied /content/drive/MyDrive/data/images/kahuku/kahuku_2year/743_2year.tif to /content/kahuku_2year/743_2year.tif\n",
            "Copied /content/drive/MyDrive/data/images/kahuku/kahuku_2year/759_2year.tif to /content/kahuku_2year/759_2year.tif\n",
            "Copied /content/drive/MyDrive/data/images/kahuku/kahuku_2year/760_2year.tif to /content/kahuku_2year/760_2year.tif\n",
            "Copied /content/drive/MyDrive/data/images/kahuku/kahuku_2year/761_2year.tif to /content/kahuku_2year/761_2year.tif\n",
            "Copied /content/drive/MyDrive/data/images/kahuku/kahuku_2year/762_2year.tif to /content/kahuku_2year/762_2year.tif\n",
            "Copied /content/drive/MyDrive/data/images/kahuku/kahuku_2year/776_2year.tif to /content/kahuku_2year/776_2year.tif\n",
            "Copied /content/drive/MyDrive/data/images/kahuku/kahuku_2year/777_2year.tif to /content/kahuku_2year/777_2year.tif\n",
            "Copied /content/drive/MyDrive/data/images/kahuku/kahuku_2year/778_2year.tif to /content/kahuku_2year/778_2year.tif\n",
            "Copied /content/drive/MyDrive/data/images/kahuku/kahuku_2year/779_2year.tif to /content/kahuku_2year/779_2year.tif\n",
            "Copied /content/drive/MyDrive/data/images/kahuku/kahuku_2year/780_2year.tif to /content/kahuku_2year/780_2year.tif\n",
            "Copied /content/drive/MyDrive/data/images/kahuku/kahuku_2year/781_2year.tif to /content/kahuku_2year/781_2year.tif\n",
            "Copied /content/drive/MyDrive/data/images/kahuku/kahuku_2year/792_2year.tif to /content/kahuku_2year/792_2year.tif\n",
            "Copied /content/drive/MyDrive/data/images/kahuku/kahuku_2year/793_2year.tif to /content/kahuku_2year/793_2year.tif\n",
            "Copied /content/drive/MyDrive/data/images/kahuku/kahuku_2year/794_2year.tif to /content/kahuku_2year/794_2year.tif\n",
            "Copied /content/drive/MyDrive/data/images/kahuku/kahuku_2year/795_2year.tif to /content/kahuku_2year/795_2year.tif\n",
            "Copied /content/drive/MyDrive/data/images/kahuku/kahuku_2year/796_2year.tif to /content/kahuku_2year/796_2year.tif\n",
            "Copied /content/drive/MyDrive/data/images/kahuku/kahuku_2year/797_2year.tif to /content/kahuku_2year/797_2year.tif\n",
            "Copied /content/drive/MyDrive/data/images/kahuku/kahuku_2year/798_2year.tif to /content/kahuku_2year/798_2year.tif\n",
            "Copied /content/drive/MyDrive/data/images/kahuku/kahuku_2year/805_2year.tif to /content/kahuku_2year/805_2year.tif\n",
            "Copied /content/drive/MyDrive/data/images/kahuku/kahuku_2year/808_2year.tif to /content/kahuku_2year/808_2year.tif\n",
            "Copied /content/drive/MyDrive/data/images/kahuku/kahuku_2year/809_2year.tif to /content/kahuku_2year/809_2year.tif\n",
            "Copied /content/drive/MyDrive/data/images/kahuku/kahuku_2year/810_2year.tif to /content/kahuku_2year/810_2year.tif\n",
            "Copied /content/drive/MyDrive/data/images/kahuku/kahuku_2year/811_2year.tif to /content/kahuku_2year/811_2year.tif\n",
            "Copied /content/drive/MyDrive/data/images/kahuku/kahuku_2year/812_2year.tif to /content/kahuku_2year/812_2year.tif\n",
            "Copied /content/drive/MyDrive/data/images/kahuku/kahuku_2year/813_2year.tif to /content/kahuku_2year/813_2year.tif\n",
            "Copied /content/drive/MyDrive/data/images/kahuku/kahuku_2year/815_2year.tif to /content/kahuku_2year/815_2year.tif\n",
            "Copied /content/drive/MyDrive/data/images/kahuku/kahuku_2year/821_2year.tif to /content/kahuku_2year/821_2year.tif\n",
            "Copied /content/drive/MyDrive/data/images/kahuku/kahuku_2year/823_2year.tif to /content/kahuku_2year/823_2year.tif\n",
            "Copied /content/drive/MyDrive/data/images/kahuku/kahuku_2year/825_2year.tif to /content/kahuku_2year/825_2year.tif\n",
            "Copied /content/drive/MyDrive/data/images/kahuku/kahuku_2year/826_2year.tif to /content/kahuku_2year/826_2year.tif\n",
            "Copied /content/drive/MyDrive/data/images/kahuku/kahuku_2year/827_2year.tif to /content/kahuku_2year/827_2year.tif\n",
            "Copied /content/drive/MyDrive/data/images/kahuku/kahuku_2year/828_2year.tif to /content/kahuku_2year/828_2year.tif\n",
            "Copied /content/drive/MyDrive/data/images/kahuku/kahuku_2year/829_2year.tif to /content/kahuku_2year/829_2year.tif\n",
            "Copied /content/drive/MyDrive/data/images/kahuku/kahuku_2year/830_2year.tif to /content/kahuku_2year/830_2year.tif\n",
            "Copied /content/drive/MyDrive/data/images/kahuku/kahuku_2year/831_2year.tif to /content/kahuku_2year/831_2year.tif\n",
            "Copied /content/drive/MyDrive/data/images/kahuku/kahuku_2year/841_2year.tif to /content/kahuku_2year/841_2year.tif\n",
            "Copied /content/drive/MyDrive/data/images/kahuku/kahuku_2year/842_2year.tif to /content/kahuku_2year/842_2year.tif\n",
            "Copied /content/drive/MyDrive/data/images/kahuku/kahuku_2year/843_2year.tif to /content/kahuku_2year/843_2year.tif\n",
            "Copied /content/drive/MyDrive/data/images/kahuku/kahuku_2year/845_2year.tif to /content/kahuku_2year/845_2year.tif\n",
            "Copied /content/drive/MyDrive/data/images/kahuku/kahuku_2year/847_2year.tif to /content/kahuku_2year/847_2year.tif\n",
            "Copied /content/drive/MyDrive/data/images/kahuku/kahuku_2year/848_2year.tif to /content/kahuku_2year/848_2year.tif\n",
            "Copied /content/drive/MyDrive/data/images/kahuku/kahuku_2year/849_2year.tif to /content/kahuku_2year/849_2year.tif\n",
            "Copied /content/drive/MyDrive/data/images/kahuku/kahuku_2year/860_2year.tif to /content/kahuku_2year/860_2year.tif\n",
            "Copied /content/drive/MyDrive/data/images/kahuku/kahuku_2year/861_2year.tif to /content/kahuku_2year/861_2year.tif\n",
            "Copied /content/drive/MyDrive/data/images/kahuku/kahuku_2year/862_2year.tif to /content/kahuku_2year/862_2year.tif\n",
            "Copied /content/drive/MyDrive/data/images/kahuku/kahuku_2year/865_2year.tif to /content/kahuku_2year/865_2year.tif\n",
            "Copied /content/drive/MyDrive/data/images/kahuku/kahuku_2year/866_2year.tif to /content/kahuku_2year/866_2year.tif\n",
            "There are 48 files in /content/kahuku_2year.\n"
          ]
        }
      ]
    },
    {
      "cell_type": "code",
      "source": [
        "kahuku_3year = sorted(glob.glob(f\"/content/drive/MyDrive/data/images/kahuku/kahuku_3year/*.tif\"))\n",
        "destination = '/content/kahuku_3year'\n",
        "os.makedirs(destination, exist_ok=True)\n",
        "for file in kahuku_3year:\n",
        "    dest_file = os.path.join(destination, os.path.basename(file))\n",
        "    shutil.copy(file, dest_file)\n",
        "    print(f'Copied {file} to {dest_file}')\n",
        "directory_path = \"/content/kahuku_3year\"\n",
        "entries = os.listdir(directory_path)\n",
        "num_files = len(entries)\n",
        "print(f\"There are {num_files} files in {directory_path}.\")"
      ],
      "metadata": {
        "colab": {
          "base_uri": "https://localhost:8080/"
        },
        "id": "qt6KrmZRHMp7",
        "outputId": "db3850b3-16dc-4b2c-cb23-fde9db6c77ba"
      },
      "execution_count": 223,
      "outputs": [
        {
          "output_type": "stream",
          "name": "stdout",
          "text": [
            "Copied /content/drive/MyDrive/data/images/kahuku/kahuku_3year/742_3year.tif to /content/kahuku_3year/742_3year.tif\n",
            "Copied /content/drive/MyDrive/data/images/kahuku/kahuku_3year/743_3year.tif to /content/kahuku_3year/743_3year.tif\n",
            "Copied /content/drive/MyDrive/data/images/kahuku/kahuku_3year/759_3year.tif to /content/kahuku_3year/759_3year.tif\n",
            "Copied /content/drive/MyDrive/data/images/kahuku/kahuku_3year/760_3year.tif to /content/kahuku_3year/760_3year.tif\n",
            "Copied /content/drive/MyDrive/data/images/kahuku/kahuku_3year/761_3year.tif to /content/kahuku_3year/761_3year.tif\n",
            "Copied /content/drive/MyDrive/data/images/kahuku/kahuku_3year/762_3year.tif to /content/kahuku_3year/762_3year.tif\n",
            "Copied /content/drive/MyDrive/data/images/kahuku/kahuku_3year/776_3year.tif to /content/kahuku_3year/776_3year.tif\n",
            "Copied /content/drive/MyDrive/data/images/kahuku/kahuku_3year/777_3year.tif to /content/kahuku_3year/777_3year.tif\n",
            "Copied /content/drive/MyDrive/data/images/kahuku/kahuku_3year/778_3year.tif to /content/kahuku_3year/778_3year.tif\n",
            "Copied /content/drive/MyDrive/data/images/kahuku/kahuku_3year/779_3year.tif to /content/kahuku_3year/779_3year.tif\n",
            "Copied /content/drive/MyDrive/data/images/kahuku/kahuku_3year/780_3year.tif to /content/kahuku_3year/780_3year.tif\n",
            "Copied /content/drive/MyDrive/data/images/kahuku/kahuku_3year/781_3year.tif to /content/kahuku_3year/781_3year.tif\n",
            "Copied /content/drive/MyDrive/data/images/kahuku/kahuku_3year/792_3year.tif to /content/kahuku_3year/792_3year.tif\n",
            "Copied /content/drive/MyDrive/data/images/kahuku/kahuku_3year/793_3year.tif to /content/kahuku_3year/793_3year.tif\n",
            "Copied /content/drive/MyDrive/data/images/kahuku/kahuku_3year/794_3year.tif to /content/kahuku_3year/794_3year.tif\n",
            "Copied /content/drive/MyDrive/data/images/kahuku/kahuku_3year/795_3year.tif to /content/kahuku_3year/795_3year.tif\n",
            "Copied /content/drive/MyDrive/data/images/kahuku/kahuku_3year/796_3year.tif to /content/kahuku_3year/796_3year.tif\n",
            "Copied /content/drive/MyDrive/data/images/kahuku/kahuku_3year/797_3year.tif to /content/kahuku_3year/797_3year.tif\n",
            "Copied /content/drive/MyDrive/data/images/kahuku/kahuku_3year/798_3year.tif to /content/kahuku_3year/798_3year.tif\n",
            "Copied /content/drive/MyDrive/data/images/kahuku/kahuku_3year/805_3year.tif to /content/kahuku_3year/805_3year.tif\n",
            "Copied /content/drive/MyDrive/data/images/kahuku/kahuku_3year/808_3year.tif to /content/kahuku_3year/808_3year.tif\n",
            "Copied /content/drive/MyDrive/data/images/kahuku/kahuku_3year/809_3year.tif to /content/kahuku_3year/809_3year.tif\n",
            "Copied /content/drive/MyDrive/data/images/kahuku/kahuku_3year/810_3year.tif to /content/kahuku_3year/810_3year.tif\n",
            "Copied /content/drive/MyDrive/data/images/kahuku/kahuku_3year/811_3year.tif to /content/kahuku_3year/811_3year.tif\n",
            "Copied /content/drive/MyDrive/data/images/kahuku/kahuku_3year/812_3year.tif to /content/kahuku_3year/812_3year.tif\n",
            "Copied /content/drive/MyDrive/data/images/kahuku/kahuku_3year/813_3year.tif to /content/kahuku_3year/813_3year.tif\n",
            "Copied /content/drive/MyDrive/data/images/kahuku/kahuku_3year/815_3year.tif to /content/kahuku_3year/815_3year.tif\n",
            "Copied /content/drive/MyDrive/data/images/kahuku/kahuku_3year/821_3year.tif to /content/kahuku_3year/821_3year.tif\n",
            "Copied /content/drive/MyDrive/data/images/kahuku/kahuku_3year/823_3year.tif to /content/kahuku_3year/823_3year.tif\n",
            "Copied /content/drive/MyDrive/data/images/kahuku/kahuku_3year/825_3year.tif to /content/kahuku_3year/825_3year.tif\n",
            "Copied /content/drive/MyDrive/data/images/kahuku/kahuku_3year/826_3year.tif to /content/kahuku_3year/826_3year.tif\n",
            "Copied /content/drive/MyDrive/data/images/kahuku/kahuku_3year/827_3year.tif to /content/kahuku_3year/827_3year.tif\n",
            "Copied /content/drive/MyDrive/data/images/kahuku/kahuku_3year/828_3year.tif to /content/kahuku_3year/828_3year.tif\n",
            "Copied /content/drive/MyDrive/data/images/kahuku/kahuku_3year/829_3year.tif to /content/kahuku_3year/829_3year.tif\n",
            "Copied /content/drive/MyDrive/data/images/kahuku/kahuku_3year/830_3year.tif to /content/kahuku_3year/830_3year.tif\n",
            "Copied /content/drive/MyDrive/data/images/kahuku/kahuku_3year/831_3year.tif to /content/kahuku_3year/831_3year.tif\n",
            "Copied /content/drive/MyDrive/data/images/kahuku/kahuku_3year/841_3year.tif to /content/kahuku_3year/841_3year.tif\n",
            "Copied /content/drive/MyDrive/data/images/kahuku/kahuku_3year/842_3year.tif to /content/kahuku_3year/842_3year.tif\n",
            "Copied /content/drive/MyDrive/data/images/kahuku/kahuku_3year/843_3year.tif to /content/kahuku_3year/843_3year.tif\n",
            "Copied /content/drive/MyDrive/data/images/kahuku/kahuku_3year/845_3year.tif to /content/kahuku_3year/845_3year.tif\n",
            "Copied /content/drive/MyDrive/data/images/kahuku/kahuku_3year/847_3year.tif to /content/kahuku_3year/847_3year.tif\n",
            "Copied /content/drive/MyDrive/data/images/kahuku/kahuku_3year/848_3year.tif to /content/kahuku_3year/848_3year.tif\n",
            "Copied /content/drive/MyDrive/data/images/kahuku/kahuku_3year/849_3year.tif to /content/kahuku_3year/849_3year.tif\n",
            "Copied /content/drive/MyDrive/data/images/kahuku/kahuku_3year/860_3year.tif to /content/kahuku_3year/860_3year.tif\n",
            "Copied /content/drive/MyDrive/data/images/kahuku/kahuku_3year/861_3year.tif to /content/kahuku_3year/861_3year.tif\n",
            "Copied /content/drive/MyDrive/data/images/kahuku/kahuku_3year/862_3year.tif to /content/kahuku_3year/862_3year.tif\n",
            "Copied /content/drive/MyDrive/data/images/kahuku/kahuku_3year/865_3year.tif to /content/kahuku_3year/865_3year.tif\n",
            "Copied /content/drive/MyDrive/data/images/kahuku/kahuku_3year/866_3year.tif to /content/kahuku_3year/866_3year.tif\n",
            "There are 48 files in /content/kahuku_3year.\n"
          ]
        }
      ]
    },
    {
      "cell_type": "code",
      "source": [
        "haleiwa_03 = sorted(glob.glob(f\"/content/drive/MyDrive/data/images/haleiwa/haleiwa_3year/*.tif\"))\n",
        "destination = '/content/haleiwa_03'\n",
        "os.makedirs(destination, exist_ok=True)\n",
        "for file in haleiwa_03:\n",
        "    dest_file = os.path.join(destination, os.path.basename(file))\n",
        "    shutil.copy(file, dest_file)\n",
        "    print(f'Copied {file} to {dest_file}')\n",
        "directory_path = \"/content/haleiwa_03\"\n",
        "entries = os.listdir(directory_path)\n",
        "num_files = len(entries)\n",
        "print(f\"There are {num_files} files in {directory_path}.\")"
      ],
      "metadata": {
        "colab": {
          "base_uri": "https://localhost:8080/"
        },
        "id": "0kgBiUBK9Ilk",
        "outputId": "8c882638-5291-42a5-9750-aefb00d9b8d4"
      },
      "execution_count": 166,
      "outputs": [
        {
          "output_type": "stream",
          "name": "stdout",
          "text": [
            "Copied /content/drive/MyDrive/data/images/haleiwa/haleiwa_3year/111_3year.tif to /content/haleiwa_03/111_3year.tif\n",
            "Copied /content/drive/MyDrive/data/images/haleiwa/haleiwa_3year/112_3year.tif to /content/haleiwa_03/112_3year.tif\n",
            "Copied /content/drive/MyDrive/data/images/haleiwa/haleiwa_3year/126_3year.tif to /content/haleiwa_03/126_3year.tif\n",
            "Copied /content/drive/MyDrive/data/images/haleiwa/haleiwa_3year/127_3year.tif to /content/haleiwa_03/127_3year.tif\n",
            "Copied /content/drive/MyDrive/data/images/haleiwa/haleiwa_3year/140_3year.tif to /content/haleiwa_03/140_3year.tif\n",
            "Copied /content/drive/MyDrive/data/images/haleiwa/haleiwa_3year/141_3year.tif to /content/haleiwa_03/141_3year.tif\n",
            "Copied /content/drive/MyDrive/data/images/haleiwa/haleiwa_3year/142_3year.tif to /content/haleiwa_03/142_3year.tif\n",
            "Copied /content/drive/MyDrive/data/images/haleiwa/haleiwa_3year/143_3year.tif to /content/haleiwa_03/143_3year.tif\n",
            "Copied /content/drive/MyDrive/data/images/haleiwa/haleiwa_3year/154_3year.tif to /content/haleiwa_03/154_3year.tif\n",
            "Copied /content/drive/MyDrive/data/images/haleiwa/haleiwa_3year/155_3year.tif to /content/haleiwa_03/155_3year.tif\n",
            "Copied /content/drive/MyDrive/data/images/haleiwa/haleiwa_3year/156_3year.tif to /content/haleiwa_03/156_3year.tif\n",
            "Copied /content/drive/MyDrive/data/images/haleiwa/haleiwa_3year/157_3year.tif to /content/haleiwa_03/157_3year.tif\n",
            "Copied /content/drive/MyDrive/data/images/haleiwa/haleiwa_3year/158_3year.tif to /content/haleiwa_03/158_3year.tif\n",
            "Copied /content/drive/MyDrive/data/images/haleiwa/haleiwa_3year/159_3year.tif to /content/haleiwa_03/159_3year.tif\n",
            "Copied /content/drive/MyDrive/data/images/haleiwa/haleiwa_3year/170_3year.tif to /content/haleiwa_03/170_3year.tif\n",
            "Copied /content/drive/MyDrive/data/images/haleiwa/haleiwa_3year/171_3year.tif to /content/haleiwa_03/171_3year.tif\n",
            "Copied /content/drive/MyDrive/data/images/haleiwa/haleiwa_3year/172_3year.tif to /content/haleiwa_03/172_3year.tif\n",
            "Copied /content/drive/MyDrive/data/images/haleiwa/haleiwa_3year/173_3year.tif to /content/haleiwa_03/173_3year.tif\n",
            "Copied /content/drive/MyDrive/data/images/haleiwa/haleiwa_3year/185_3year.tif to /content/haleiwa_03/185_3year.tif\n",
            "Copied /content/drive/MyDrive/data/images/haleiwa/haleiwa_3year/186_3year.tif to /content/haleiwa_03/186_3year.tif\n",
            "Copied /content/drive/MyDrive/data/images/haleiwa/haleiwa_3year/188_3year.tif to /content/haleiwa_03/188_3year.tif\n",
            "Copied /content/drive/MyDrive/data/images/haleiwa/haleiwa_3year/189_3year.tif to /content/haleiwa_03/189_3year.tif\n",
            "Copied /content/drive/MyDrive/data/images/haleiwa/haleiwa_3year/203_3year.tif to /content/haleiwa_03/203_3year.tif\n",
            "Copied /content/drive/MyDrive/data/images/haleiwa/haleiwa_3year/204_3year.tif to /content/haleiwa_03/204_3year.tif\n",
            "Copied /content/drive/MyDrive/data/images/haleiwa/haleiwa_3year/219_3year.tif to /content/haleiwa_03/219_3year.tif\n",
            "Copied /content/drive/MyDrive/data/images/haleiwa/haleiwa_3year/220_3year.tif to /content/haleiwa_03/220_3year.tif\n",
            "Copied /content/drive/MyDrive/data/images/haleiwa/haleiwa_3year/221_3year.tif to /content/haleiwa_03/221_3year.tif\n",
            "Copied /content/drive/MyDrive/data/images/haleiwa/haleiwa_3year/222_3year.tif to /content/haleiwa_03/222_3year.tif\n",
            "Copied /content/drive/MyDrive/data/images/haleiwa/haleiwa_3year/234_3year.tif to /content/haleiwa_03/234_3year.tif\n",
            "Copied /content/drive/MyDrive/data/images/haleiwa/haleiwa_3year/235_3year.tif to /content/haleiwa_03/235_3year.tif\n",
            "Copied /content/drive/MyDrive/data/images/haleiwa/haleiwa_3year/250_3year.tif to /content/haleiwa_03/250_3year.tif\n",
            "Copied /content/drive/MyDrive/data/images/haleiwa/haleiwa_3year/251_3year.tif to /content/haleiwa_03/251_3year.tif\n",
            "Copied /content/drive/MyDrive/data/images/haleiwa/haleiwa_3year/252_3year.tif to /content/haleiwa_03/252_3year.tif\n",
            "Copied /content/drive/MyDrive/data/images/haleiwa/haleiwa_3year/265_3year.tif to /content/haleiwa_03/265_3year.tif\n",
            "Copied /content/drive/MyDrive/data/images/haleiwa/haleiwa_3year/266_3year.tif to /content/haleiwa_03/266_3year.tif\n",
            "Copied /content/drive/MyDrive/data/images/haleiwa/haleiwa_3year/267_3year.tif to /content/haleiwa_03/267_3year.tif\n",
            "Copied /content/drive/MyDrive/data/images/haleiwa/haleiwa_3year/280_3year.tif to /content/haleiwa_03/280_3year.tif\n",
            "Copied /content/drive/MyDrive/data/images/haleiwa/haleiwa_3year/281_3year.tif to /content/haleiwa_03/281_3year.tif\n",
            "Copied /content/drive/MyDrive/data/images/haleiwa/haleiwa_3year/282_3year.tif to /content/haleiwa_03/282_3year.tif\n",
            "Copied /content/drive/MyDrive/data/images/haleiwa/haleiwa_3year/283_3year.tif to /content/haleiwa_03/283_3year.tif\n",
            "Copied /content/drive/MyDrive/data/images/haleiwa/haleiwa_3year/298_3year.tif to /content/haleiwa_03/298_3year.tif\n",
            "Copied /content/drive/MyDrive/data/images/haleiwa/haleiwa_3year/330_3year.tif to /content/haleiwa_03/330_3year.tif\n",
            "There are 42 files in /content/haleiwa_03.\n"
          ]
        }
      ]
    },
    {
      "cell_type": "code",
      "source": [
        "haleiwa_02 = sorted(glob.glob(f\"/content/drive/MyDrive/data/images/haleiwa/haleiwa_2year/*.tif\"))\n",
        "destination = '/content/haleiwa_02'\n",
        "os.makedirs(destination, exist_ok=True)\n",
        "for file in haleiwa_02:\n",
        "    dest_file = os.path.join(destination, os.path.basename(file))\n",
        "    shutil.copy(file, dest_file)\n",
        "    print(f'Copied {file} to {dest_file}')\n",
        "directory_path = \"/content/haleiwa_02\"\n",
        "entries = os.listdir(directory_path)\n",
        "num_files = len(entries)\n",
        "print(f\"There are {num_files} files in {directory_path}.\")\n"
      ],
      "metadata": {
        "colab": {
          "base_uri": "https://localhost:8080/"
        },
        "id": "WnQPuThxxyzv",
        "outputId": "cd13f664-e864-4b65-dcf5-649c51dfec7f"
      },
      "execution_count": 108,
      "outputs": [
        {
          "output_type": "stream",
          "name": "stdout",
          "text": [
            "Copied /content/drive/MyDrive/data/images/haleiwa/haleiwa_2year/111_2year.tif to /content/haleiwa_02/111_2year.tif\n",
            "Copied /content/drive/MyDrive/data/images/haleiwa/haleiwa_2year/112_2year.tif to /content/haleiwa_02/112_2year.tif\n",
            "Copied /content/drive/MyDrive/data/images/haleiwa/haleiwa_2year/126_2year.tif to /content/haleiwa_02/126_2year.tif\n",
            "Copied /content/drive/MyDrive/data/images/haleiwa/haleiwa_2year/127_2year.tif to /content/haleiwa_02/127_2year.tif\n",
            "Copied /content/drive/MyDrive/data/images/haleiwa/haleiwa_2year/140_2year.tif to /content/haleiwa_02/140_2year.tif\n",
            "Copied /content/drive/MyDrive/data/images/haleiwa/haleiwa_2year/141_2year.tif to /content/haleiwa_02/141_2year.tif\n",
            "Copied /content/drive/MyDrive/data/images/haleiwa/haleiwa_2year/142_2year.tif to /content/haleiwa_02/142_2year.tif\n",
            "Copied /content/drive/MyDrive/data/images/haleiwa/haleiwa_2year/143_2year.tif to /content/haleiwa_02/143_2year.tif\n",
            "Copied /content/drive/MyDrive/data/images/haleiwa/haleiwa_2year/154_2year.tif to /content/haleiwa_02/154_2year.tif\n",
            "Copied /content/drive/MyDrive/data/images/haleiwa/haleiwa_2year/155_2year.tif to /content/haleiwa_02/155_2year.tif\n",
            "Copied /content/drive/MyDrive/data/images/haleiwa/haleiwa_2year/156_2year.tif to /content/haleiwa_02/156_2year.tif\n",
            "Copied /content/drive/MyDrive/data/images/haleiwa/haleiwa_2year/157_2year.tif to /content/haleiwa_02/157_2year.tif\n",
            "Copied /content/drive/MyDrive/data/images/haleiwa/haleiwa_2year/158_2year.tif to /content/haleiwa_02/158_2year.tif\n",
            "Copied /content/drive/MyDrive/data/images/haleiwa/haleiwa_2year/159_2year.tif to /content/haleiwa_02/159_2year.tif\n",
            "Copied /content/drive/MyDrive/data/images/haleiwa/haleiwa_2year/170_2year.tif to /content/haleiwa_02/170_2year.tif\n",
            "Copied /content/drive/MyDrive/data/images/haleiwa/haleiwa_2year/171_2year.tif to /content/haleiwa_02/171_2year.tif\n",
            "Copied /content/drive/MyDrive/data/images/haleiwa/haleiwa_2year/172_2year.tif to /content/haleiwa_02/172_2year.tif\n",
            "Copied /content/drive/MyDrive/data/images/haleiwa/haleiwa_2year/173_2year.tif to /content/haleiwa_02/173_2year.tif\n",
            "Copied /content/drive/MyDrive/data/images/haleiwa/haleiwa_2year/185_2year.tif to /content/haleiwa_02/185_2year.tif\n",
            "Copied /content/drive/MyDrive/data/images/haleiwa/haleiwa_2year/186_2year.tif to /content/haleiwa_02/186_2year.tif\n",
            "Copied /content/drive/MyDrive/data/images/haleiwa/haleiwa_2year/188_2year.tif to /content/haleiwa_02/188_2year.tif\n",
            "Copied /content/drive/MyDrive/data/images/haleiwa/haleiwa_2year/189_2year.tif to /content/haleiwa_02/189_2year.tif\n",
            "Copied /content/drive/MyDrive/data/images/haleiwa/haleiwa_2year/203_2year.tif to /content/haleiwa_02/203_2year.tif\n",
            "Copied /content/drive/MyDrive/data/images/haleiwa/haleiwa_2year/204_2year.tif to /content/haleiwa_02/204_2year.tif\n",
            "Copied /content/drive/MyDrive/data/images/haleiwa/haleiwa_2year/219_2year.tif to /content/haleiwa_02/219_2year.tif\n",
            "Copied /content/drive/MyDrive/data/images/haleiwa/haleiwa_2year/220_2year.tif to /content/haleiwa_02/220_2year.tif\n",
            "Copied /content/drive/MyDrive/data/images/haleiwa/haleiwa_2year/221_2year.tif to /content/haleiwa_02/221_2year.tif\n",
            "Copied /content/drive/MyDrive/data/images/haleiwa/haleiwa_2year/222_2year.tif to /content/haleiwa_02/222_2year.tif\n",
            "Copied /content/drive/MyDrive/data/images/haleiwa/haleiwa_2year/234_2year.tif to /content/haleiwa_02/234_2year.tif\n",
            "Copied /content/drive/MyDrive/data/images/haleiwa/haleiwa_2year/235_2year.tif to /content/haleiwa_02/235_2year.tif\n",
            "Copied /content/drive/MyDrive/data/images/haleiwa/haleiwa_2year/250_2year.tif to /content/haleiwa_02/250_2year.tif\n",
            "Copied /content/drive/MyDrive/data/images/haleiwa/haleiwa_2year/251_2year.tif to /content/haleiwa_02/251_2year.tif\n",
            "Copied /content/drive/MyDrive/data/images/haleiwa/haleiwa_2year/252_2year.tif to /content/haleiwa_02/252_2year.tif\n",
            "Copied /content/drive/MyDrive/data/images/haleiwa/haleiwa_2year/265_2year.tif to /content/haleiwa_02/265_2year.tif\n",
            "Copied /content/drive/MyDrive/data/images/haleiwa/haleiwa_2year/266_2year.tif to /content/haleiwa_02/266_2year.tif\n",
            "Copied /content/drive/MyDrive/data/images/haleiwa/haleiwa_2year/267_2year.tif to /content/haleiwa_02/267_2year.tif\n",
            "Copied /content/drive/MyDrive/data/images/haleiwa/haleiwa_2year/280_2year.tif to /content/haleiwa_02/280_2year.tif\n",
            "Copied /content/drive/MyDrive/data/images/haleiwa/haleiwa_2year/281_2year.tif to /content/haleiwa_02/281_2year.tif\n",
            "Copied /content/drive/MyDrive/data/images/haleiwa/haleiwa_2year/282_2year.tif to /content/haleiwa_02/282_2year.tif\n",
            "Copied /content/drive/MyDrive/data/images/haleiwa/haleiwa_2year/283_2year.tif to /content/haleiwa_02/283_2year.tif\n",
            "Copied /content/drive/MyDrive/data/images/haleiwa/haleiwa_2year/298_2year.tif to /content/haleiwa_02/298_2year.tif\n",
            "Copied /content/drive/MyDrive/data/images/haleiwa/haleiwa_2year/330_2year.tif to /content/haleiwa_02/330_2year.tif\n",
            "There are 42 files in /content/haleiwa_02.\n"
          ]
        }
      ]
    },
    {
      "cell_type": "code",
      "source": [
        "haleiwa_01 = sorted(glob.glob(f\"/content/drive/MyDrive/data/images/haleiwa/haleiwa_1year/*.tif\"))\n",
        "\n",
        "destination = '/content/haleiwa_01'\n",
        "os.makedirs(destination, exist_ok=True)\n",
        "for file in haleiwa_01:\n",
        "    dest_file = os.path.join(destination, os.path.basename(file))\n",
        "    shutil.copy(file, dest_file)\n",
        "    print(f'Copied {file} to {dest_file}')\n",
        "directory_path = \"/content/haleiwa_01\"\n",
        "entries = os.listdir(directory_path)\n",
        "num_files = len(entries)\n",
        "print(f\"There are {num_files} files in {directory_path}.\")"
      ],
      "metadata": {
        "colab": {
          "base_uri": "https://localhost:8080/"
        },
        "id": "oxokIVPsTx45",
        "outputId": "1b1ffa2d-a223-4b28-eeda-8592f0923ee7"
      },
      "execution_count": 7,
      "outputs": [
        {
          "output_type": "stream",
          "name": "stdout",
          "text": [
            "Copied /content/drive/MyDrive/data/images/haleiwa/haleiwa_1year/111_1year.tif to /content/haleiwa_01/111_1year.tif\n",
            "Copied /content/drive/MyDrive/data/images/haleiwa/haleiwa_1year/112_1year.tif to /content/haleiwa_01/112_1year.tif\n",
            "Copied /content/drive/MyDrive/data/images/haleiwa/haleiwa_1year/126_1year.tif to /content/haleiwa_01/126_1year.tif\n",
            "Copied /content/drive/MyDrive/data/images/haleiwa/haleiwa_1year/127_1year.tif to /content/haleiwa_01/127_1year.tif\n",
            "Copied /content/drive/MyDrive/data/images/haleiwa/haleiwa_1year/140_1year.tif to /content/haleiwa_01/140_1year.tif\n",
            "Copied /content/drive/MyDrive/data/images/haleiwa/haleiwa_1year/141_1year.tif to /content/haleiwa_01/141_1year.tif\n",
            "Copied /content/drive/MyDrive/data/images/haleiwa/haleiwa_1year/142_1year.tif to /content/haleiwa_01/142_1year.tif\n",
            "Copied /content/drive/MyDrive/data/images/haleiwa/haleiwa_1year/143_1year.tif to /content/haleiwa_01/143_1year.tif\n",
            "Copied /content/drive/MyDrive/data/images/haleiwa/haleiwa_1year/154_1year.tif to /content/haleiwa_01/154_1year.tif\n",
            "Copied /content/drive/MyDrive/data/images/haleiwa/haleiwa_1year/155_1year.tif to /content/haleiwa_01/155_1year.tif\n",
            "Copied /content/drive/MyDrive/data/images/haleiwa/haleiwa_1year/156_1year.tif to /content/haleiwa_01/156_1year.tif\n",
            "Copied /content/drive/MyDrive/data/images/haleiwa/haleiwa_1year/157_1year.tif to /content/haleiwa_01/157_1year.tif\n",
            "Copied /content/drive/MyDrive/data/images/haleiwa/haleiwa_1year/158_1year.tif to /content/haleiwa_01/158_1year.tif\n",
            "Copied /content/drive/MyDrive/data/images/haleiwa/haleiwa_1year/159_1year.tif to /content/haleiwa_01/159_1year.tif\n",
            "Copied /content/drive/MyDrive/data/images/haleiwa/haleiwa_1year/170_1year.tif to /content/haleiwa_01/170_1year.tif\n",
            "Copied /content/drive/MyDrive/data/images/haleiwa/haleiwa_1year/171_1year.tif to /content/haleiwa_01/171_1year.tif\n",
            "Copied /content/drive/MyDrive/data/images/haleiwa/haleiwa_1year/172_1year.tif to /content/haleiwa_01/172_1year.tif\n",
            "Copied /content/drive/MyDrive/data/images/haleiwa/haleiwa_1year/173_1year.tif to /content/haleiwa_01/173_1year.tif\n",
            "Copied /content/drive/MyDrive/data/images/haleiwa/haleiwa_1year/185_1year.tif to /content/haleiwa_01/185_1year.tif\n",
            "Copied /content/drive/MyDrive/data/images/haleiwa/haleiwa_1year/186_1year.tif to /content/haleiwa_01/186_1year.tif\n",
            "Copied /content/drive/MyDrive/data/images/haleiwa/haleiwa_1year/188_1year.tif to /content/haleiwa_01/188_1year.tif\n",
            "Copied /content/drive/MyDrive/data/images/haleiwa/haleiwa_1year/189_1year.tif to /content/haleiwa_01/189_1year.tif\n",
            "Copied /content/drive/MyDrive/data/images/haleiwa/haleiwa_1year/203_1year.tif to /content/haleiwa_01/203_1year.tif\n",
            "Copied /content/drive/MyDrive/data/images/haleiwa/haleiwa_1year/204_1year.tif to /content/haleiwa_01/204_1year.tif\n",
            "Copied /content/drive/MyDrive/data/images/haleiwa/haleiwa_1year/219_1year.tif to /content/haleiwa_01/219_1year.tif\n",
            "Copied /content/drive/MyDrive/data/images/haleiwa/haleiwa_1year/220_1year.tif to /content/haleiwa_01/220_1year.tif\n",
            "Copied /content/drive/MyDrive/data/images/haleiwa/haleiwa_1year/221_1year.tif to /content/haleiwa_01/221_1year.tif\n",
            "Copied /content/drive/MyDrive/data/images/haleiwa/haleiwa_1year/222_1year.tif to /content/haleiwa_01/222_1year.tif\n",
            "Copied /content/drive/MyDrive/data/images/haleiwa/haleiwa_1year/234_1year.tif to /content/haleiwa_01/234_1year.tif\n",
            "Copied /content/drive/MyDrive/data/images/haleiwa/haleiwa_1year/235_1year.tif to /content/haleiwa_01/235_1year.tif\n",
            "Copied /content/drive/MyDrive/data/images/haleiwa/haleiwa_1year/250_1year.tif to /content/haleiwa_01/250_1year.tif\n",
            "Copied /content/drive/MyDrive/data/images/haleiwa/haleiwa_1year/251_1year.tif to /content/haleiwa_01/251_1year.tif\n",
            "Copied /content/drive/MyDrive/data/images/haleiwa/haleiwa_1year/252_1year.tif to /content/haleiwa_01/252_1year.tif\n",
            "Copied /content/drive/MyDrive/data/images/haleiwa/haleiwa_1year/265_1year.tif to /content/haleiwa_01/265_1year.tif\n",
            "Copied /content/drive/MyDrive/data/images/haleiwa/haleiwa_1year/266_1year.tif to /content/haleiwa_01/266_1year.tif\n",
            "Copied /content/drive/MyDrive/data/images/haleiwa/haleiwa_1year/267_1year.tif to /content/haleiwa_01/267_1year.tif\n",
            "Copied /content/drive/MyDrive/data/images/haleiwa/haleiwa_1year/280_1year.tif to /content/haleiwa_01/280_1year.tif\n",
            "Copied /content/drive/MyDrive/data/images/haleiwa/haleiwa_1year/281_1year.tif to /content/haleiwa_01/281_1year.tif\n",
            "Copied /content/drive/MyDrive/data/images/haleiwa/haleiwa_1year/282_1year.tif to /content/haleiwa_01/282_1year.tif\n",
            "Copied /content/drive/MyDrive/data/images/haleiwa/haleiwa_1year/283_1year.tif to /content/haleiwa_01/283_1year.tif\n",
            "Copied /content/drive/MyDrive/data/images/haleiwa/haleiwa_1year/298_1year.tif to /content/haleiwa_01/298_1year.tif\n",
            "Copied /content/drive/MyDrive/data/images/haleiwa/haleiwa_1year/330_1year.tif to /content/haleiwa_01/330_1year.tif\n",
            "There are 42 files in /content/haleiwa_01.\n"
          ]
        }
      ]
    },
    {
      "cell_type": "code",
      "source": [
        "hale_01 = [read_multi_image_withfive(file) for file in haleiwa_01]"
      ],
      "metadata": {
        "id": "BqwiTXzmUA__"
      },
      "execution_count": 8,
      "outputs": []
    },
    {
      "cell_type": "code",
      "source": [
        "hale_01"
      ],
      "metadata": {
        "id": "9m5619XCZvrp"
      },
      "execution_count": null,
      "outputs": []
    },
    {
      "cell_type": "code",
      "source": [
        "haleiwa_01 = np.array(hale_01)"
      ],
      "metadata": {
        "id": "mS8eUVEVUQBt"
      },
      "execution_count": 9,
      "outputs": []
    },
    {
      "cell_type": "code",
      "source": [
        "haleiwa_01"
      ],
      "metadata": {
        "id": "IhPkrmPkZxd4"
      },
      "execution_count": null,
      "outputs": []
    },
    {
      "cell_type": "code",
      "source": [
        "haleiwa_01.shape"
      ],
      "metadata": {
        "colab": {
          "base_uri": "https://localhost:8080/"
        },
        "id": "4WRRRAd0UR2b",
        "outputId": "9f24426a-5a14-4602-eba9-986cadd147fc"
      },
      "execution_count": 10,
      "outputs": [
        {
          "output_type": "execute_result",
          "data": {
            "text/plain": [
              "(42, 384, 384, 5)"
            ]
          },
          "metadata": {},
          "execution_count": 10
        }
      ]
    },
    {
      "cell_type": "code",
      "source": [
        "haleiwa_01_prediction = model_01.predict(haleiwa_01)"
      ],
      "metadata": {
        "colab": {
          "base_uri": "https://localhost:8080/"
        },
        "id": "Rhnxs83fUStM",
        "outputId": "c15ab5cf-e88f-401f-e2d5-1ac1d49d39dd"
      },
      "execution_count": 11,
      "outputs": [
        {
          "output_type": "stream",
          "name": "stdout",
          "text": [
            "2/2 [==============================] - 145s 31s/step\n"
          ]
        }
      ]
    },
    {
      "cell_type": "code",
      "source": [
        "input_01_path = \"/content/haleiwa_01/\"\n",
        "output_01_path = \"/content/haleiwa_01_output/\"\n",
        "output_weight_01_path = \"/content/haleiwa_01_output_weight/\"\n",
        "os.makedirs(input_01_path, exist_ok=True)\n",
        "os.makedirs(output_01_path, exist_ok=True)\n",
        "os.makedirs(output_weight_01_path, exist_ok=True)"
      ],
      "metadata": {
        "id": "HMo0LCusUZ1x"
      },
      "execution_count": 12,
      "outputs": []
    },
    {
      "cell_type": "code",
      "source": [
        "def create_weight_matrix(height, width):\n",
        "    center_x, center_y = width // 2, height // 2\n",
        "    Y, X = np.ogrid[:height, :width]\n",
        "    distance_from_center = np.sqrt((X - center_x)**2 + (Y - center_y)**2)\n",
        "\n",
        "    # Normalize the distance matrix so that the maximum distance is 1\n",
        "    max_distance = np.sqrt(center_x**2 + center_y**2)\n",
        "    normalized_distance = distance_from_center / max_distance\n",
        "\n",
        "    # Create a weight matrix where weights linearly decrease from 1 at the center to 0 at the edges\n",
        "    weight_matrix = 1 - normalized_distance\n",
        "\n",
        "    # Normalization for overlaps was incorrect in the initial approach, let's correct it:\n",
        "    # The matrix already ensures the center has weight 1.\n",
        "    # To accommodate overlapping sum to 1, no further division is required assuming\n",
        "    # that the sum of any two overlapping areas naturally scales with this setup.\n",
        "\n",
        "    return weight_matrix\n",
        "\n",
        "# Example usage:\n",
        "height, width = 256, 256  # Adjust as needed\n",
        "weight_matrix = create_weight_matrix(height, width)"
      ],
      "metadata": {
        "id": "AwnSfnPjVobZ"
      },
      "execution_count": 13,
      "outputs": []
    },
    {
      "cell_type": "code",
      "source": [
        "# this will loop through all files from the input path and make tif files for output path and wheighted path.\n",
        "# List all files in the directory\n",
        "for filename in os.listdir(input_01_path):\n",
        "    # Check for raster files, assuming they are TIFFs\n",
        "    if filename.endswith('.tif'):\n",
        "        file_path = os.path.join(input_01_path, filename)\n",
        "        output_path_file = os.path.join(output_01_path, f\"output_{filename}\")  # Name output files uniquely\n",
        "        weighted_path_file = os.path.join(output_weight_01_path, f\"weighted_{filename}\")  # Name weighted files uniquely\n",
        "\n",
        "        # Open the file using the correct path\n",
        "        with rasterio.open(file_path) as src:\n",
        "            out_meta = src.meta.copy()\n",
        "            out_meta.update({\n",
        "                'dtype': 'float32',  # Corrected the typo 'dytpe' to 'dtype'\n",
        "                'count': 7  # Assuming you want to output 7 bands\n",
        "            })\n",
        "\n",
        "            # Assuming haleiwa_01_results is previously defined and holds your model outputs\n",
        "            # data_out should be shaped (bands, height, width), thus transposing might be needed\n",
        "            data_out = haleiwa_01_prediction[0]  # Example placeholder, adjust as necessary\n",
        "            data_out = np.moveaxis(data_out, -1, 0)  # Rearrange dimensions if necessary\n",
        "            weight_matrix = create_weight_matrix(384,384)\n",
        "            weighted_data_out = weight_matrix*data_out\n",
        "            with rasterio.open(output_path_file, 'w', **out_meta) as dst:\n",
        "              dst.write(data_out)\n",
        "              with rasterio.open(weighted_path_file, 'w', **out_meta) as dst:\n",
        "                dst.write(weighted_data_out)"
      ],
      "metadata": {
        "id": "8FKBJPBbVr23"
      },
      "execution_count": 14,
      "outputs": []
    },
    {
      "cell_type": "code",
      "source": [
        "import rasterio\n",
        "from rasterio.merge import merge\n",
        "from rasterio.plot import show\n",
        "import glob\n",
        "import matplotlib.pyplot as plt\n",
        "\n",
        "def create_mosaic_sum(input_rasters):\n",
        "    # Open all rasters\n",
        "    src_files = [rasterio.open(path) for path in input_rasters]\n",
        "\n",
        "    # Use rasterio's merge function with method='sum' to sum overlapping pixels\n",
        "    mosaic, out_trans = merge(src_files, method='sum')\n",
        "\n",
        "    # Define the metadata for the output GeoTIFF\n",
        "    out_meta = src_files[0].meta.copy()\n",
        "    out_meta.update({\n",
        "        \"driver\": \"GTiff\",\n",
        "        \"height\": mosaic.shape[1],\n",
        "        \"width\": mosaic.shape[2],\n",
        "        \"transform\": out_trans,\n",
        "        \"count\": src_files[0].count\n",
        "    })\n",
        "       # Write the mosaic raster to disk\n",
        "    with rasterio.open('haleiwa_01_mosaic_sum.tif', 'w', **out_meta) as dest:\n",
        "        dest.write(mosaic)\n",
        "\n",
        "    # Close all raster files\n",
        "    for src in src_files:\n",
        "        src.close()\n",
        "\n",
        "    return mosaic, out_trans\n"
      ],
      "metadata": {
        "id": "gc5EKOC_VxYL"
      },
      "execution_count": 15,
      "outputs": []
    },
    {
      "cell_type": "code",
      "source": [
        "input_rasters = glob.glob(\"/content/haleiwa_01_output_weight/*.tif\")"
      ],
      "metadata": {
        "id": "yMFqsi3HWYNN"
      },
      "execution_count": 16,
      "outputs": []
    },
    {
      "cell_type": "code",
      "source": [
        "input_rasters"
      ],
      "metadata": {
        "id": "nH7mP4b6XHO1"
      },
      "execution_count": null,
      "outputs": []
    },
    {
      "cell_type": "code",
      "source": [
        "mosaic, out_trans = create_mosaic_sum(input_rasters)"
      ],
      "metadata": {
        "id": "sgN_hCMyXH_x"
      },
      "execution_count": 18,
      "outputs": []
    },
    {
      "cell_type": "code",
      "source": [
        "mosaic.shape"
      ],
      "metadata": {
        "colab": {
          "base_uri": "https://localhost:8080/"
        },
        "id": "D-UONuOXXOhk",
        "outputId": "41c3af4e-c244-4a9c-80ff-64aa58c05141"
      },
      "execution_count": 19,
      "outputs": [
        {
          "output_type": "execute_result",
          "data": {
            "text/plain": [
              "(7, 5760, 4608)"
            ]
          },
          "metadata": {},
          "execution_count": 19
        }
      ]
    },
    {
      "cell_type": "code",
      "source": [
        "import rasterio\n",
        "import matplotlib.pyplot as plt\n",
        "\n",
        "def view_mosaic(file_path, band=1):\n",
        "    \"\"\"View a specified band of a mosaic using matplotlib.\"\"\"\n",
        "    with rasterio.open(file_path) as src:\n",
        "        # Read a specific band (default to the first band)\n",
        "        data = src.read(band)\n",
        "\n",
        "        # Plot the data\n",
        "        plt.figure(figsize=(10, 10))  # Adjust the figure size as needed\n",
        "        plt.imshow(data, cmap='viridis')  # Choose a colormap that fits your data\n",
        "        plt.colorbar(label='Digital number values')\n",
        "        plt.title('Mosaic Visualization')\n",
        "        plt.xlabel('Column #')\n",
        "        plt.ylabel('Row #')\n",
        "        plt.show()\n",
        "\n",
        "# Path to the mosaic TIFF file\n",
        "mosaic_file_path = '/content/haleiwa_01_mosaic_sum.tif'\n",
        "\n",
        "# Call the function to view the mosaic\n",
        "view_mosaic(mosaic_file_path)\n"
      ],
      "metadata": {
        "id": "0d4BdtjUXWyy"
      },
      "execution_count": null,
      "outputs": []
    },
    {
      "cell_type": "code",
      "source": [
        "\n",
        "import zipfile\n",
        "import os\n",
        "\n",
        "# Path to the file you want to zip\n",
        "file_to_zip = '/content/haleiwa_03_mosaic.tif'\n",
        "# Path to the folder where you want to save the zip file\n",
        "output_folder = '/content/drive/MyDrive/data/model_prediction/probability_data'\n",
        "# Ensure the output folder exists\n",
        "os.makedirs(output_folder, exist_ok=True)\n",
        "# The name of the resulting zip file, including the path to the output folder\n",
        "zip_file_name = os.path.join(output_folder, 'haleiwa_03_mosaic.zip')\n",
        "\n",
        "# Creating a zip file in write mode\n",
        "with zipfile.ZipFile(zip_file_name, 'w', zipfile.ZIP_DEFLATED) as zipf:\n",
        "    # Adding the file to the zip file\n",
        "    zipf.write(file_to_zip, arcname=os.path.basename(file_to_zip))\n",
        "\n",
        "print(f'File {file_to_zip} has been zipped as {zip_file_name}')\n",
        "\n",
        "# Path to the file you want to zip\n",
        "file_to_zip = '/content/kahuku_01_mosaic.tif'\n",
        "# Path to the folder where you want to save the zip file\n",
        "output_folder = '/content/drive/MyDrive/data/model_prediction/probability_data'\n",
        "# Ensure the output folder exists\n",
        "os.makedirs(output_folder, exist_ok=True)\n",
        "# The name of the resulting zip file, including the path to the output folder\n",
        "zip_file_name = os.path.join(output_folder, 'kahuku_01_mosaic.zip')\n",
        "\n",
        "# Creating a zip file in write mode\n",
        "with zipfile.ZipFile(zip_file_name, 'w', zipfile.ZIP_DEFLATED) as zipf:\n",
        "    # Adding the file to the zip file\n",
        "    zipf.write(file_to_zip, arcname=os.path.basename(file_to_zip))\n",
        "\n",
        "print(f'File {file_to_zip} has been zipped as {zip_file_name}')\n",
        "\n",
        "\n",
        "# Path to the file you want to zip\n",
        "file_to_zip = '/content/kahuku_02_mosaic.tif'\n",
        "# Path to the folder where you want to save the zip file\n",
        "output_folder = '/content/drive/MyDrive/data/model_prediction/probability_data'\n",
        "# Ensure the output folder exists\n",
        "os.makedirs(output_folder, exist_ok=True)\n",
        "# The name of the resulting zip file, including the path to the output folder\n",
        "zip_file_name = os.path.join(output_folder, 'kahuku_02_mosaic.zip')\n",
        "\n",
        "# Creating a zip file in write mode\n",
        "with zipfile.ZipFile(zip_file_name, 'w', zipfile.ZIP_DEFLATED) as zipf:\n",
        "    # Adding the file to the zip file\n",
        "    zipf.write(file_to_zip, arcname=os.path.basename(file_to_zip))\n",
        "\n",
        "print(f'File {file_to_zip} has been zipped as {zip_file_name}')\n",
        "\n",
        "\n",
        "# Path to the file you want to zip\n",
        "file_to_zip = '/content/kahuku_03_mosaic.tif'\n",
        "# Path to the folder where you want to save the zip file\n",
        "output_folder = '/content/drive/MyDrive/data/model_prediction/probability_data'\n",
        "# Ensure the output folder exists\n",
        "os.makedirs(output_folder, exist_ok=True)\n",
        "# The name of the resulting zip file, including the path to the output folder\n",
        "zip_file_name = os.path.join(output_folder, 'kahuku_03_mosaic.zip')\n",
        "\n",
        "# Creating a zip file in write mode\n",
        "with zipfile.ZipFile(zip_file_name, 'w', zipfile.ZIP_DEFLATED) as zipf:\n",
        "    # Adding the file to the zip file\n",
        "    zipf.write(file_to_zip, arcname=os.path.basename(file_to_zip))\n",
        "\n",
        "print(f'File {file_to_zip} has been zipped as {zip_file_name}')\n",
        "\n",
        "\n",
        "# Path to the file you want to zip\n",
        "file_to_zip = '/content/kawainui_01_mosaic.tif'\n",
        "# Path to the folder where you want to save the zip file\n",
        "output_folder = '/content/drive/MyDrive/data/model_prediction/probability_data'\n",
        "# Ensure the output folder exists\n",
        "os.makedirs(output_folder, exist_ok=True)\n",
        "# The name of the resulting zip file, including the path to the output folder\n",
        "zip_file_name = os.path.join(output_folder, 'kawainui_01_mosaic.zip')\n",
        "\n",
        "# Creating a zip file in write mode\n",
        "with zipfile.ZipFile(zip_file_name, 'w', zipfile.ZIP_DEFLATED) as zipf:\n",
        "    # Adding the file to the zip file\n",
        "    zipf.write(file_to_zip, arcname=os.path.basename(file_to_zip))\n",
        "\n",
        "print(f'File {file_to_zip} has been zipped as {zip_file_name}')\n",
        "\n",
        "# Path to the file you want to zip\n",
        "file_to_zip = '/content/kawainui_02_mosaic.tif'\n",
        "# Path to the folder where you want to save the zip file\n",
        "output_folder = '/content/drive/MyDrive/data/model_prediction/probability_data'\n",
        "# Ensure the output folder exists\n",
        "os.makedirs(output_folder, exist_ok=True)\n",
        "# The name of the resulting zip file, including the path to the output folder\n",
        "zip_file_name = os.path.join(output_folder, 'kawainui_02_mosaic.zip')\n",
        "\n",
        "# Creating a zip file in write mode\n",
        "with zipfile.ZipFile(zip_file_name, 'w', zipfile.ZIP_DEFLATED) as zipf:\n",
        "    # Adding the file to the zip file\n",
        "    zipf.write(file_to_zip, arcname=os.path.basename(file_to_zip))\n",
        "\n",
        "print(f'File {file_to_zip} has been zipped as {zip_file_name}')\n",
        "\n",
        "# Path to the file you want to zip\n",
        "file_to_zip = '/content/kawainui_03_mosaic.tif'\n",
        "# Path to the folder where you want to save the zip file\n",
        "output_folder = '/content/drive/MyDrive/data/model_prediction/probability_data'\n",
        "# Ensure the output folder exists\n",
        "os.makedirs(output_folder, exist_ok=True)\n",
        "# The name of the resulting zip file, including the path to the output folder\n",
        "zip_file_name = os.path.join(output_folder, 'kawainui_03_mosaic.zip')\n",
        "\n",
        "# Creating a zip file in write mode\n",
        "with zipfile.ZipFile(zip_file_name, 'w', zipfile.ZIP_DEFLATED) as zipf:\n",
        "    # Adding the file to the zip file\n",
        "    zipf.write(file_to_zip, arcname=os.path.basename(file_to_zip))\n",
        "\n",
        "print(f'File {file_to_zip} has been zipped as {zip_file_name}')\n",
        "\n"
      ],
      "metadata": {
        "colab": {
          "base_uri": "https://localhost:8080/"
        },
        "id": "8m3c_B1hiTkn",
        "outputId": "7db7c9ca-5909-493e-a874-31ef5f661956"
      },
      "execution_count": 295,
      "outputs": [
        {
          "output_type": "stream",
          "name": "stdout",
          "text": [
            "File /content/haleiwa_03_mosaic.tif has been zipped as /content/drive/MyDrive/data/model_prediction/probability_data/haleiwa_03_mosaic.zip\n",
            "File /content/kahuku_01_mosaic.tif has been zipped as /content/drive/MyDrive/data/model_prediction/probability_data/kahuku_01_mosaic.zip\n",
            "File /content/kahuku_02_mosaic.tif has been zipped as /content/drive/MyDrive/data/model_prediction/probability_data/kahuku_02_mosaic.zip\n",
            "File /content/kahuku_03_mosaic.tif has been zipped as /content/drive/MyDrive/data/model_prediction/probability_data/kahuku_03_mosaic.zip\n",
            "File /content/kawainui_01_mosaic.tif has been zipped as /content/drive/MyDrive/data/model_prediction/probability_data/kawainui_01_mosaic.zip\n",
            "File /content/kawainui_02_mosaic.tif has been zipped as /content/drive/MyDrive/data/model_prediction/probability_data/kawainui_02_mosaic.zip\n",
            "File /content/kawainui_03_mosaic.tif has been zipped as /content/drive/MyDrive/data/model_prediction/probability_data/kawainui_03_mosaic.zip\n"
          ]
        }
      ]
    },
    {
      "cell_type": "code",
      "source": [
        "zip_name = 'haleiwa_01_output'\n",
        "directory_name = '/content/haleiwa_01_output'\n",
        "\n",
        "# Create 'path\\to\\zip_file.zip'\n",
        "shutil.make_archive(zip_name, 'zip', directory_name)"
      ],
      "metadata": {
        "colab": {
          "base_uri": "https://localhost:8080/",
          "height": 35
        },
        "id": "YNdTGQsjZCch",
        "outputId": "45176f57-579a-4515-f653-c71447bb5932"
      },
      "execution_count": 21,
      "outputs": [
        {
          "output_type": "execute_result",
          "data": {
            "text/plain": [
              "'/content/haleiwa_01_output.zip'"
            ],
            "application/vnd.google.colaboratory.intrinsic+json": {
              "type": "string"
            }
          },
          "metadata": {},
          "execution_count": 21
        }
      ]
    },
    {
      "cell_type": "code",
      "source": [
        "zip_name = 'haleiwa_01'\n",
        "directory_name = '/content/output_weight_01'\n",
        "\n",
        "# Create 'path\\to\\zip_file.zip'\n",
        "shutil.make_archive(zip_name, 'zip', directory_name)"
      ],
      "metadata": {
        "colab": {
          "base_uri": "https://localhost:8080/",
          "height": 35
        },
        "id": "w5rFygXrZPh1",
        "outputId": "e687143a-3dc4-40e8-d393-bbfaf242e5dc"
      },
      "execution_count": 22,
      "outputs": [
        {
          "output_type": "execute_result",
          "data": {
            "text/plain": [
              "'/content/haleiwa_01_output_weight.zip'"
            ],
            "application/vnd.google.colaboratory.intrinsic+json": {
              "type": "string"
            }
          },
          "metadata": {},
          "execution_count": 22
        }
      ]
    },
    {
      "cell_type": "markdown",
      "source": [
        "time to do it one at a time"
      ],
      "metadata": {
        "id": "vvxDGqWsZ_dm"
      }
    },
    {
      "cell_type": "code",
      "source": [
        "# for 1 year images - this with handling of band 5\n",
        "def read_thirteen_band_image(file_path):\n",
        "    with rasterio.open(file_path) as src:\n",
        "      bands = [src.read(i) for i in range(1,13)]\n",
        "\n",
        "      image = np.stack(bands, axis=-1)\n",
        "\n",
        "      image = image.astype(float)\n",
        "      max_value = image.max(axis=(0,1), keepdims=True)\n",
        "      min_value = image.min(axis=(0,1), keepdims=True)\n",
        "      image = (image - min_value) / (max_value - min_value)\n",
        "\n",
        "      band_five = src.read(13)\n",
        "\n",
        "      band_five = band_five.astype(float) /band_five.max()\n",
        "      band_five = np.expand_dims(band_five, axis=-1)\n",
        "      combined_image = np.concatenate([image, band_five], axis=-1)\n",
        "\n",
        "\n",
        "      return combined_image"
      ],
      "metadata": {
        "id": "JS_DNrbT9dsm"
      },
      "execution_count": 167,
      "outputs": []
    },
    {
      "cell_type": "code",
      "source": [
        "# for 1 year images - this with handling of band 9\n",
        "def read_nine_band_image(file_path):\n",
        "    with rasterio.open(file_path) as src:\n",
        "      bands = [src.read(i) for i in range(1,9)]\n",
        "\n",
        "      image = np.stack(bands, axis=-1)\n",
        "\n",
        "      image = image.astype(float)\n",
        "      max_value = image.max(axis=(0,1), keepdims=True)\n",
        "      min_value = image.min(axis=(0,1), keepdims=True)\n",
        "      image = (image - min_value) / (max_value - min_value)\n",
        "\n",
        "      band_five = src.read(9)\n",
        "\n",
        "      band_five = band_five.astype(float) /band_five.max()\n",
        "      band_five = np.expand_dims(band_five, axis=-1)\n",
        "      combined_image = np.concatenate([image, band_five], axis=-1)\n",
        "\n",
        "\n",
        "      return combined_image"
      ],
      "metadata": {
        "id": "wt8BfWslyfEy"
      },
      "execution_count": 107,
      "outputs": []
    },
    {
      "cell_type": "code",
      "source": [
        "tile_1465 = read_thirteen_band_image(\"/content/kawainui_3year/1465_3year.tif\")\n",
        "tile_1466 = read_thirteen_band_image(\"/content/kawainui_3year/1466_3year.tif\")\n",
        "tile_1472 = read_thirteen_band_image(\"/content/kawainui_3year/1472_3year.tif\")\n",
        "tile_1481 = read_thirteen_band_image(\"/content/kawainui_3year/1481_3year.tif\")\n",
        "tile_1482 = read_thirteen_band_image(\"/content/kawainui_3year/1482_3year.tif\")\n",
        "tile_1483 = read_thirteen_band_image(\"/content/kawainui_3year/1483_3year.tif\")\n",
        "tile_1488 = read_thirteen_band_image(\"/content/kawainui_3year/1488_3year.tif\")\n",
        "tile_1489 = read_thirteen_band_image(\"/content/kawainui_3year/1489_3year.tif\")\n",
        "tile_1490 = read_thirteen_band_image(\"/content/kawainui_3year/1490_3year.tif\")\n",
        "tile_1497 = read_thirteen_band_image(\"/content/kawainui_3year/1497_3year.tif\")\n",
        "tile_1498 = read_thirteen_band_image(\"/content/kawainui_3year/1498_3year.tif\")\n",
        "tile_1499 = read_thirteen_band_image(\"/content/kawainui_3year/1499_3year.tif\")\n",
        "tile_1504 = read_thirteen_band_image(\"/content/kawainui_3year/1504_3year.tif\")\n",
        "tile_1505 = read_thirteen_band_image(\"/content/kawainui_3year/1505_3year.tif\")\n",
        "tile_1507 = read_thirteen_band_image(\"/content/kawainui_3year/1507_3year.tif\")\n",
        "tile_1513 = read_thirteen_band_image(\"/content/kawainui_3year/1513_3year.tif\")\n",
        "tile_1514 = read_thirteen_band_image(\"/content/kawainui_3year/1514_3year.tif\")\n",
        "tile_1515 = read_thirteen_band_image(\"/content/kawainui_3year/1515_3year.tif\")\n",
        "tile_1516 = read_thirteen_band_image(\"/content/kawainui_3year/1516_3year.tif\")\n",
        "tile_1517 = read_thirteen_band_image(\"/content/kawainui_3year/1517_3year.tif\")\n",
        "tile_1520 = read_thirteen_band_image(\"/content/kawainui_3year/1520_3year.tif\")\n",
        "tile_1521 = read_thirteen_band_image(\"/content/kawainui_3year/1521_3year.tif\")\n",
        "tile_1529 = read_thirteen_band_image(\"/content/kawainui_3year/1529_3year.tif\")\n",
        "tile_1530 = read_thirteen_band_image(\"/content/kawainui_3year/1530_3year.tif\")\n",
        "tile_1531 = read_thirteen_band_image(\"/content/kawainui_3year/1531_3year.tif\")\n",
        "tile_1532 = read_thirteen_band_image(\"/content/kawainui_3year/1532_3year.tif\")\n",
        "tile_1533 = read_thirteen_band_image(\"/content/kawainui_3year/1533_3year.tif\")\n",
        "tile_1534 = read_thirteen_band_image(\"/content/kawainui_3year/1534_3year.tif\")\n",
        "tile_1535 = read_thirteen_band_image(\"/content/kawainui_3year/1535_3year.tif\")\n",
        "tile_1536 = read_thirteen_band_image(\"/content/kawainui_3year/1536_3year.tif\")\n",
        "tile_1537 = read_thirteen_band_image(\"/content/kawainui_3year/1537_3year.tif\")\n",
        "tile_1538 = read_thirteen_band_image(\"/content/kawainui_3year/1538_3year.tif\")\n",
        "tile_1539 = read_thirteen_band_image(\"/content/kawainui_3year/1539_3year.tif\")\n",
        "tile_1545 = read_thirteen_band_image(\"/content/kawainui_3year/1545_3year.tif\")\n",
        "tile_1546 = read_thirteen_band_image(\"/content/kawainui_3year/1546_3year.tif\")\n",
        "tile_1547 = read_thirteen_band_image(\"/content/kawainui_3year/1547_3year.tif\")\n",
        "tile_1548 = read_thirteen_band_image(\"/content/kawainui_3year/1548_3year.tif\")\n",
        "tile_1549 = read_thirteen_band_image(\"/content/kawainui_3year/1549_3year.tif\")\n",
        "tile_1550 = read_thirteen_band_image(\"/content/kawainui_3year/1550_3year.tif\")\n",
        "tile_1551 = read_thirteen_band_image(\"/content/kawainui_3year/1551_3year.tif\")\n",
        "tile_1555 = read_thirteen_band_image(\"/content/kawainui_3year/1555_3year.tif\")\n",
        "tile_1561 = read_thirteen_band_image(\"/content/kawainui_3year/1561_3year.tif\")\n",
        "tile_1562 = read_thirteen_band_image(\"/content/kawainui_3year/1562_3year.tif\")\n",
        "tile_1563 = read_thirteen_band_image(\"/content/kawainui_3year/1563_3year.tif\")\n",
        "tile_1564 = read_thirteen_band_image(\"/content/kawainui_3year/1564_3year.tif\")\n",
        "tile_1565 = read_thirteen_band_image(\"/content/kawainui_3year/1565_3year.tif\")\n",
        "tile_1571 = read_thirteen_band_image(\"/content/kawainui_3year/1571_3year.tif\")\n",
        "tile_1577 = read_thirteen_band_image(\"/content/kawainui_3year/1577_3year.tif\")\n",
        "tile_1578 = read_thirteen_band_image(\"/content/kawainui_3year/1578_3year.tif\")\n",
        "tile_1579 = read_thirteen_band_image(\"/content/kawainui_3year/1579_3year.tif\")\n",
        "tile_1580 = read_thirteen_band_image(\"/content/kawainui_3year/1580_3year.tif\")\n",
        "tile_1593 = read_thirteen_band_image(\"/content/kawainui_3year/1593_3year.tif\")\n",
        "tile_1594 = read_thirteen_band_image(\"/content/kawainui_3year/1594_3year.tif\")\n",
        "tile_1595 = read_thirteen_band_image(\"/content/kawainui_3year/1595_3year.tif\")\n",
        "tile_1596 = read_thirteen_band_image(\"/content/kawainui_3year/1596_3year.tif\")\n",
        "tile_1610 = read_thirteen_band_image(\"/content/kawainui_3year/1610_3year.tif\")\n",
        "tile_1611 = read_thirteen_band_image(\"/content/kawainui_3year/1611_3year.tif\")\n",
        "tile_1612 = read_thirteen_band_image(\"/content/kawainui_3year/1612_3year.tif\")\n",
        "tile_1628 = read_thirteen_band_image(\"/content/kawainui_3year/1628_3year.tif\")\n",
        "tile_1645 = read_thirteen_band_image(\"/content/kawainui_3year/1645_3year.tif\")"
      ],
      "metadata": {
        "id": "CvdgDeuFemMj"
      },
      "execution_count": 267,
      "outputs": []
    },
    {
      "cell_type": "code",
      "source": [
        "# tile_1465 = read_nine_band_image(\"/content/kawainui_2year/1465_2year.tif\")\n",
        "\n",
        "# tile_1466 = read_nine_band_image(\"/content/kawainui_2year/1466_2year.tif\")\n",
        "# tile_1472 = read_nine_band_image(\"/content/kawainui_2year/1472_2year.tif\")\n",
        "# tile_1481 = read_nine_band_image(\"/content/kawainui_2year/1481_2year.tif\")\n",
        "# tile_1482 = read_nine_band_image(\"/content/kawainui_2year/1482_2year.tif\")\n",
        "# tile_1483 = read_nine_band_image(\"/content/kawainui_2year/1483_2year.tif\")\n",
        "# tile_1488 = read_nine_band_image(\"/content/kawainui_2year/1488_2year.tif\")\n",
        "# tile_1489 = read_nine_band_image(\"/content/kawainui_2year/1489_2year.tif\")\n",
        "# tile_1490 = read_nine_band_image(\"/content/kawainui_2year/1490_2year.tif\")\n",
        "# tile_1497 = read_nine_band_image(\"/content/kawainui_2year/1497_2year.tif\")\n",
        "# tile_1498 = read_nine_band_image(\"/content/kawainui_2year/1498_2year.tif\")\n",
        "# tile_1499 = read_nine_band_image(\"/content/kawainui_2year/1499_2year.tif\")\n",
        "# tile_1504 = read_nine_band_image(\"/content/kawainui_2year/1504_2year.tif\")\n",
        "# tile_1505 = read_nine_band_image(\"/content/kawainui_2year/1505_2year.tif\")\n",
        "# tile_1507 = read_nine_band_image(\"/content/kawainui_2year/1507_2year.tif\")\n",
        "# tile_1513 = read_nine_band_image(\"/content/kawainui_2year/1513_2year.tif\")\n",
        "# tile_1514 = read_nine_band_image(\"/content/kawainui_2year/1514_2year.tif\")\n",
        "# tile_1515 = read_nine_band_image(\"/content/kawainui_2year/1515_2year.tif\")\n",
        "# tile_1516 = read_nine_band_image(\"/content/kawainui_2year/1516_2year.tif\")\n",
        "# tile_1517 = read_nine_band_image(\"/content/kawainui_2year/1517_2year.tif\")\n",
        "# tile_1520 = read_nine_band_image(\"/content/kawainui_2year/1520_2year.tif\")\n",
        "# tile_1521 = read_nine_band_image(\"/content/kawainui_2year/1521_2year.tif\")\n",
        "# tile_1529 = read_nine_band_image(\"/content/kawainui_2year/1529_2year.tif\")\n",
        "# tile_1530 = read_nine_band_image(\"/content/kawainui_2year/1530_2year.tif\")\n",
        "# tile_1531 = read_nine_band_image(\"/content/kawainui_2year/1531_2year.tif\")\n",
        "# tile_1532 = read_nine_band_image(\"/content/kawainui_2year/1532_2year.tif\")\n",
        "# tile_1533 = read_nine_band_image(\"/content/kawainui_2year/1533_2year.tif\")\n",
        "# tile_1534 = read_nine_band_image(\"/content/kawainui_2year/1534_2year.tif\")\n",
        "# tile_1535 = read_nine_band_image(\"/content/kawainui_2year/1535_2year.tif\")\n",
        "# tile_1536 = read_nine_band_image(\"/content/kawainui_2year/1536_2year.tif\")\n",
        "# tile_1537 = read_nine_band_image(\"/content/kawainui_2year/1537_2year.tif\")\n",
        "# tile_1538 = read_nine_band_image(\"/content/kawainui_2year/1538_2year.tif\")\n",
        "# tile_1539 = read_nine_band_image(\"/content/kawainui_2year/1539_2year.tif\")\n",
        "# tile_1545 = read_nine_band_image(\"/content/kawainui_2year/1545_2year.tif\")\n",
        "# tile_1546 = read_nine_band_image(\"/content/kawainui_2year/1546_2year.tif\")\n",
        "# tile_1547 = read_nine_band_image(\"/content/kawainui_2year/1547_2year.tif\")\n",
        "# tile_1548 = read_nine_band_image(\"/content/kawainui_2year/1548_2year.tif\")\n",
        "# tile_1549 = read_nine_band_image(\"/content/kawainui_2year/1549_2year.tif\")\n",
        "# tile_1550 = read_nine_band_image(\"/content/kawainui_2year/1550_2year.tif\")\n",
        "# tile_1551 = read_nine_band_image(\"/content/kawainui_2year/1551_2year.tif\")\n",
        "# tile_1555 = read_nine_band_image(\"/content/kawainui_2year/1555_2year.tif\")\n",
        "# tile_1561 = read_nine_band_image(\"/content/kawainui_2year/1561_2year.tif\")\n",
        "# tile_1562 = read_nine_band_image(\"/content/kawainui_2year/1562_2year.tif\")\n",
        "# tile_1563 = read_nine_band_image(\"/content/kawainui_2year/1563_2year.tif\")\n",
        "# tile_1564 = read_nine_band_image(\"/content/kawainui_2year/1564_2year.tif\")\n",
        "# tile_1565 = read_nine_band_image(\"/content/kawainui_2year/1565_2year.tif\")\n",
        "# tile_1571 = read_nine_band_image(\"/content/kawainui_2year/1571_2year.tif\")\n",
        "# tile_1577 = read_nine_band_image(\"/content/kawainui_2year/1577_2year.tif\")\n",
        "# tile_1578 = read_nine_band_image(\"/content/kawainui_2year/1578_2year.tif\")\n",
        "# tile_1579 = read_nine_band_image(\"/content/kawainui_2year/1579_2year.tif\")\n",
        "# tile_1580 = read_nine_band_image(\"/content/kawainui_2year/1580_2year.tif\")\n",
        "# tile_1593 = read_nine_band_image(\"/content/kawainui_2year/1593_2year.tif\")\n",
        "# tile_1594 = read_nine_band_image(\"/content/kawainui_2year/1594_2year.tif\")\n",
        "# tile_1595 = read_nine_band_image(\"/content/kawainui_2year/1595_2year.tif\")\n",
        "# tile_1596 = read_nine_band_image(\"/content/kawainui_2year/1596_2year.tif\")\n",
        "# tile_1610 = read_nine_band_image(\"/content/kawainui_2year/1610_2year.tif\")\n",
        "# tile_1611 = read_nine_band_image(\"/content/kawainui_2year/1611_2year.tif\")\n",
        "# tile_1612 = read_nine_band_image(\"/content/kawainui_2year/1612_2year.tif\")\n",
        "# tile_1628 = read_nine_band_image(\"/content/kawainui_2year/1628_2year.tif\")\n",
        "# tile_1645 = read_nine_band_image(\"/content/kawainui_2year/1645_2year.tif\")\n",
        "\n"
      ],
      "metadata": {
        "id": "cCxLCeSRbPS7"
      },
      "execution_count": 258,
      "outputs": []
    },
    {
      "cell_type": "code",
      "source": [
        "# tile_1465 = read_multi_image_withfive(\"/content/kawainui_1year/1465_1year.tif\")\n",
        "# tile_1466 = read_multi_image_withfive(\"/content/kawainui_1year/1466_1year.tif\")\n",
        "# tile_1472 = read_multi_image_withfive(\"/content/kawainui_1year/1472_1year.tif\")\n",
        "# tile_1481 = read_multi_image_withfive(\"/content/kawainui_1year/1481_1year.tif\")\n",
        "# tile_1482 = read_multi_image_withfive(\"/content/kawainui_1year/1482_1year.tif\")\n",
        "# tile_1483 = read_multi_image_withfive(\"/content/kawainui_1year/1483_1year.tif\")\n",
        "# tile_1488 = read_multi_image_withfive(\"/content/kawainui_1year/1488_1year.tif\")\n",
        "# tile_1489 = read_multi_image_withfive(\"/content/kawainui_1year/1489_1year.tif\")\n",
        "# tile_1490 = read_multi_image_withfive(\"/content/kawainui_1year/1490_1year.tif\")\n",
        "# tile_1497 = read_multi_image_withfive(\"/content/kawainui_1year/1497_1year.tif\")\n",
        "# tile_1498 = read_multi_image_withfive(\"/content/kawainui_1year/1498_1year.tif\")\n",
        "# tile_1499 = read_multi_image_withfive(\"/content/kawainui_1year/1499_1year.tif\")\n",
        "# tile_1504 = read_multi_image_withfive(\"/content/kawainui_1year/1504_1year.tif\")\n",
        "# tile_1505 = read_multi_image_withfive(\"/content/kawainui_1year/1505_1year.tif\")\n",
        "# tile_1507 = read_multi_image_withfive(\"/content/kawainui_1year/1507_1year.tif\")\n",
        "# tile_1513 = read_multi_image_withfive(\"/content/kawainui_1year/1513_1year.tif\")\n",
        "# tile_1514 = read_multi_image_withfive(\"/content/kawainui_1year/1514_1year.tif\")\n",
        "# tile_1515 = read_multi_image_withfive(\"/content/kawainui_1year/1515_1year.tif\")\n",
        "# tile_1516 = read_multi_image_withfive(\"/content/kawainui_1year/1516_1year.tif\")\n",
        "# tile_1517 = read_multi_image_withfive(\"/content/kawainui_1year/1517_1year.tif\")\n",
        "# tile_1520 = read_multi_image_withfive(\"/content/kawainui_1year/1520_1year.tif\")\n",
        "# tile_1521 = read_multi_image_withfive(\"/content/kawainui_1year/1521_1year.tif\")\n",
        "# tile_1529 = read_multi_image_withfive(\"/content/kawainui_1year/1529_1year.tif\")\n",
        "# tile_1530 = read_multi_image_withfive(\"/content/kawainui_1year/1530_1year.tif\")\n",
        "# tile_1531 = read_multi_image_withfive(\"/content/kawainui_1year/1531_1year.tif\")\n",
        "# tile_1532 = read_multi_image_withfive(\"/content/kawainui_1year/1532_1year.tif\")\n",
        "# tile_1533 = read_multi_image_withfive(\"/content/kawainui_1year/1533_1year.tif\")\n",
        "# tile_1534 = read_multi_image_withfive(\"/content/kawainui_1year/1534_1year.tif\")\n",
        "# tile_1535 = read_multi_image_withfive(\"/content/kawainui_1year/1535_1year.tif\")\n",
        "# tile_1536 = read_multi_image_withfive(\"/content/kawainui_1year/1536_1year.tif\")\n",
        "# tile_1537 = read_multi_image_withfive(\"/content/kawainui_1year/1537_1year.tif\")\n",
        "# tile_1538 = read_multi_image_withfive(\"/content/kawainui_1year/1538_1year.tif\")\n",
        "# tile_1539 = read_multi_image_withfive(\"/content/kawainui_1year/1539_1year.tif\")\n",
        "# tile_1545 = read_multi_image_withfive(\"/content/kawainui_1year/1545_1year.tif\")\n",
        "# tile_1546 = read_multi_image_withfive(\"/content/kawainui_1year/1546_1year.tif\")\n",
        "# tile_1547 = read_multi_image_withfive(\"/content/kawainui_1year/1547_1year.tif\")\n",
        "# tile_1548 = read_multi_image_withfive(\"/content/kawainui_1year/1548_1year.tif\")\n",
        "# tile_1549 = read_multi_image_withfive(\"/content/kawainui_1year/1549_1year.tif\")\n",
        "# tile_1550 = read_multi_image_withfive(\"/content/kawainui_1year/1550_1year.tif\")\n",
        "# tile_1551 = read_multi_image_withfive(\"/content/kawainui_1year/1551_1year.tif\")\n",
        "# tile_1555 = read_multi_image_withfive(\"/content/kawainui_1year/1555_1year.tif\")\n",
        "# tile_1561 = read_multi_image_withfive(\"/content/kawainui_1year/1561_1year.tif\")\n",
        "# tile_1562 = read_multi_image_withfive(\"/content/kawainui_1year/1562_1year.tif\")\n",
        "# tile_1563 = read_multi_image_withfive(\"/content/kawainui_1year/1563_1year.tif\")\n",
        "# tile_1564 = read_multi_image_withfive(\"/content/kawainui_1year/1564_1year.tif\")\n",
        "# tile_1565 = read_multi_image_withfive(\"/content/kawainui_1year/1565_1year.tif\")\n",
        "# tile_1571 = read_multi_image_withfive(\"/content/kawainui_1year/1571_1year.tif\")\n",
        "# tile_1577 = read_multi_image_withfive(\"/content/kawainui_1year/1577_1year.tif\")\n",
        "# tile_1578 = read_multi_image_withfive(\"/content/kawainui_1year/1578_1year.tif\")\n",
        "# tile_1579 = read_multi_image_withfive(\"/content/kawainui_1year/1579_1year.tif\")\n",
        "# tile_1580 = read_multi_image_withfive(\"/content/kawainui_1year/1580_1year.tif\")\n",
        "# tile_1593 = read_multi_image_withfive(\"/content/kawainui_1year/1593_1year.tif\")\n",
        "# tile_1594 = read_multi_image_withfive(\"/content/kawainui_1year/1594_1year.tif\")\n",
        "# tile_1595 = read_multi_image_withfive(\"/content/kawainui_1year/1595_1year.tif\")\n",
        "# tile_1596 = read_multi_image_withfive(\"/content/kawainui_1year/1596_1year.tif\")\n",
        "# tile_1610 = read_multi_image_withfive(\"/content/kawainui_1year/1610_1year.tif\")\n",
        "# tile_1611 = read_multi_image_withfive(\"/content/kawainui_1year/1611_1year.tif\")\n",
        "# tile_1612 = read_multi_image_withfive(\"/content/kawainui_1year/1612_1year.tif\")\n",
        "# tile_1628 = read_multi_image_withfive(\"/content/kawainui_1year/1628_1year.tif\")\n",
        "# tile_1645 = read_multi_image_withfive(\"/content/kawainui_1year/1645_1year.tif\")"
      ],
      "metadata": {
        "id": "eQ5G0uv_YNmf"
      },
      "execution_count": 251,
      "outputs": []
    },
    {
      "cell_type": "code",
      "source": [
        "tile_1465 = np.expand_dims(tile_1465, axis=0)\n",
        "tile_1466 = np.expand_dims(tile_1466, axis=0)\n",
        "tile_1472 = np.expand_dims(tile_1472, axis=0)\n",
        "tile_1481 = np.expand_dims(tile_1481, axis=0)\n",
        "tile_1482 = np.expand_dims(tile_1482, axis=0)\n",
        "tile_1483 = np.expand_dims(tile_1483, axis=0)\n",
        "tile_1488 = np.expand_dims(tile_1488, axis=0)\n",
        "tile_1489 = np.expand_dims(tile_1489, axis=0)\n",
        "tile_1490 = np.expand_dims(tile_1490, axis=0)\n",
        "tile_1497 = np.expand_dims(tile_1497, axis=0)\n",
        "tile_1498 = np.expand_dims(tile_1498, axis=0)\n",
        "tile_1499 = np.expand_dims(tile_1499, axis=0)\n",
        "tile_1504 = np.expand_dims(tile_1504, axis=0)\n",
        "tile_1505 = np.expand_dims(tile_1505, axis=0)\n",
        "tile_1507 = np.expand_dims(tile_1507, axis=0)\n",
        "tile_1513 = np.expand_dims(tile_1513, axis=0)\n",
        "tile_1514 = np.expand_dims(tile_1514, axis=0)\n",
        "tile_1515 = np.expand_dims(tile_1515, axis=0)\n",
        "tile_1516 = np.expand_dims(tile_1516, axis=0)\n",
        "tile_1517 = np.expand_dims(tile_1517, axis=0)\n",
        "tile_1520 = np.expand_dims(tile_1520, axis=0)\n",
        "tile_1521 = np.expand_dims(tile_1521, axis=0)\n",
        "tile_1529 = np.expand_dims(tile_1529, axis=0)\n",
        "tile_1530 = np.expand_dims(tile_1530, axis=0)\n",
        "tile_1531 = np.expand_dims(tile_1531, axis=0)\n",
        "tile_1532 = np.expand_dims(tile_1532, axis=0)\n",
        "tile_1533 = np.expand_dims(tile_1533, axis=0)\n",
        "tile_1534 = np.expand_dims(tile_1534, axis=0)\n",
        "tile_1535 = np.expand_dims(tile_1535, axis=0)\n",
        "tile_1536 = np.expand_dims(tile_1536, axis=0)\n",
        "tile_1537 = np.expand_dims(tile_1537, axis=0)\n",
        "tile_1538 = np.expand_dims(tile_1538, axis=0)\n",
        "tile_1539 = np.expand_dims(tile_1539, axis=0)\n",
        "tile_1545 = np.expand_dims(tile_1545, axis=0)\n",
        "tile_1546 = np.expand_dims(tile_1546, axis=0)\n",
        "tile_1547 = np.expand_dims(tile_1547, axis=0)\n",
        "tile_1548 = np.expand_dims(tile_1548, axis=0)\n",
        "tile_1549 = np.expand_dims(tile_1549, axis=0)\n",
        "tile_1550 = np.expand_dims(tile_1550, axis=0)\n",
        "tile_1551 = np.expand_dims(tile_1551, axis=0)\n",
        "tile_1555 = np.expand_dims(tile_1555, axis=0)\n",
        "tile_1561 = np.expand_dims(tile_1561, axis=0)\n",
        "tile_1562 = np.expand_dims(tile_1562, axis=0)\n",
        "tile_1563 = np.expand_dims(tile_1563, axis=0)\n",
        "tile_1564 = np.expand_dims(tile_1564, axis=0)\n",
        "tile_1565 = np.expand_dims(tile_1565, axis=0)\n",
        "tile_1571 = np.expand_dims(tile_1571, axis=0)\n",
        "tile_1577 = np.expand_dims(tile_1577, axis=0)\n",
        "tile_1578 = np.expand_dims(tile_1578, axis=0)\n",
        "tile_1579 = np.expand_dims(tile_1579, axis=0)\n",
        "tile_1580 = np.expand_dims(tile_1580, axis=0)\n",
        "tile_1593 = np.expand_dims(tile_1593, axis=0)\n",
        "tile_1594 = np.expand_dims(tile_1594, axis=0)\n",
        "tile_1595 = np.expand_dims(tile_1595, axis=0)\n",
        "tile_1596 = np.expand_dims(tile_1596, axis=0)\n",
        "tile_1610 = np.expand_dims(tile_1610, axis=0)\n",
        "tile_1611 = np.expand_dims(tile_1611, axis=0)\n",
        "tile_1612 = np.expand_dims(tile_1612, axis=0)\n",
        "tile_1628 = np.expand_dims(tile_1628, axis=0)\n",
        "tile_1645 = np.expand_dims(tile_1645, axis=0)"
      ],
      "metadata": {
        "id": "JL5yWA52ZAkc"
      },
      "execution_count": 268,
      "outputs": []
    },
    {
      "cell_type": "code",
      "source": [
        "# # 5band kahuku\n",
        "# tile_742 = read_multi_image_withfive(\"/content/kahuku_1year/742_1year.tif\")\n",
        "# tile_743 = read_multi_image_withfive(\"/content/kahuku_1year/743_1year.tif\")\n",
        "# tile_759 = read_multi_image_withfive(\"/content/kahuku_1year/759_1year.tif\")\n",
        "# tile_760 = read_multi_image_withfive(\"/content/kahuku_1year/760_1year.tif\")\n",
        "# tile_761 = read_multi_image_withfive(\"/content/kahuku_1year/761_1year.tif\")\n",
        "# tile_762 = read_multi_image_withfive(\"/content/kahuku_1year/762_1year.tif\")\n",
        "# tile_776 = read_multi_image_withfive(\"/content/kahuku_1year/776_1year.tif\")\n",
        "# tile_777 = read_multi_image_withfive(\"/content/kahuku_1year/777_1year.tif\")\n",
        "# tile_778 = read_multi_image_withfive(\"/content/kahuku_1year/778_1year.tif\")\n",
        "# tile_779 = read_multi_image_withfive(\"/content/kahuku_1year/779_1year.tif\")\n",
        "# tile_780 = read_multi_image_withfive(\"/content/kahuku_1year/780_1year.tif\")\n",
        "# tile_781 = read_multi_image_withfive(\"/content/kahuku_1year/781_1year.tif\")\n",
        "# tile_792 = read_multi_image_withfive(\"/content/kahuku_1year/792_1year.tif\")\n",
        "# tile_793 = read_multi_image_withfive(\"/content/kahuku_1year/793_1year.tif\")\n",
        "# tile_794 = read_multi_image_withfive(\"/content/kahuku_1year/794_1year.tif\")\n",
        "# tile_795 = read_multi_image_withfive(\"/content/kahuku_1year/795_1year.tif\")\n",
        "# tile_796 = read_multi_image_withfive(\"/content/kahuku_1year/796_1year.tif\")\n",
        "# tile_797 = read_multi_image_withfive(\"/content/kahuku_1year/797_1year.tif\")\n",
        "# tile_798 = read_multi_image_withfive(\"/content/kahuku_1year/798_1year.tif\")\n",
        "# tile_805 = read_multi_image_withfive(\"/content/kahuku_1year/805_1year.tif\")\n",
        "# tile_808 = read_multi_image_withfive(\"/content/kahuku_1year/808_1year.tif\")\n",
        "# tile_809 = read_multi_image_withfive(\"/content/kahuku_1year/809_1year.tif\")\n",
        "# tile_810 = read_multi_image_withfive(\"/content/kahuku_1year/810_1year.tif\")\n",
        "# tile_811 = read_multi_image_withfive(\"/content/kahuku_1year/811_1year.tif\")\n",
        "# tile_812 = read_multi_image_withfive(\"/content/kahuku_1year/812_1year.tif\")\n",
        "# tile_813 = read_multi_image_withfive(\"/content/kahuku_1year/813_1year.tif\")\n",
        "# tile_815 = read_multi_image_withfive(\"/content/kahuku_1year/815_1year.tif\")\n",
        "# tile_821 = read_multi_image_withfive(\"/content/kahuku_1year/821_1year.tif\")\n",
        "# tile_823 = read_multi_image_withfive(\"/content/kahuku_1year/823_1year.tif\")\n",
        "# tile_825 = read_multi_image_withfive(\"/content/kahuku_1year/825_1year.tif\")\n",
        "# tile_826 = read_multi_image_withfive(\"/content/kahuku_1year/826_1year.tif\")\n",
        "# tile_827 = read_multi_image_withfive(\"/content/kahuku_1year/827_1year.tif\")\n",
        "# tile_828 = read_multi_image_withfive(\"/content/kahuku_1year/828_1year.tif\")\n",
        "# tile_829 = read_multi_image_withfive(\"/content/kahuku_1year/829_1year.tif\")\n",
        "# tile_830 = read_multi_image_withfive(\"/content/kahuku_1year/830_1year.tif\")\n",
        "# tile_831 = read_multi_image_withfive(\"/content/kahuku_1year/831_1year.tif\")\n",
        "# tile_841 = read_multi_image_withfive(\"/content/kahuku_1year/841_1year.tif\")\n",
        "# tile_842 = read_multi_image_withfive(\"/content/kahuku_1year/842_1year.tif\")\n",
        "# tile_843 = read_multi_image_withfive(\"/content/kahuku_1year/843_1year.tif\")\n",
        "# tile_845 = read_multi_image_withfive(\"/content/kahuku_1year/845_1year.tif\")\n",
        "# tile_847 = read_multi_image_withfive(\"/content/kahuku_1year/847_1year.tif\")\n",
        "# tile_848 = read_multi_image_withfive(\"/content/kahuku_1year/848_1year.tif\")\n",
        "# tile_849 = read_multi_image_withfive(\"/content/kahuku_1year/849_1year.tif\")\n",
        "# tile_860 = read_multi_image_withfive(\"/content/kahuku_1year/860_1year.tif\")\n",
        "# tile_861 = read_multi_image_withfive(\"/content/kahuku_1year/861_1year.tif\")\n",
        "# tile_862 = read_multi_image_withfive(\"/content/kahuku_1year/862_1year.tif\")\n",
        "# tile_865 = read_multi_image_withfive(\"/content/kahuku_1year/865_1year.tif\")\n",
        "# tile_866 = read_multi_image_withfive(\"/content/kahuku_1year/866_1year.tif\")"
      ],
      "metadata": {
        "id": "dnFox48FUaJJ"
      },
      "execution_count": 245,
      "outputs": []
    },
    {
      "cell_type": "code",
      "source": [
        "# tile_742 = read_nine_band_image(\"/content/kahuku_2year/742_2year.tif\")\n",
        "# tile_743 = read_nine_band_image(\"/content/kahuku_2year/743_2year.tif\")\n",
        "# tile_759 = read_nine_band_image(\"/content/kahuku_2year/759_2year.tif\")\n",
        "# tile_760 = read_nine_band_image(\"/content/kahuku_2year/760_2year.tif\")\n",
        "# tile_761 = read_nine_band_image(\"/content/kahuku_2year/761_2year.tif\")\n",
        "# tile_762 = read_nine_band_image(\"/content/kahuku_2year/762_2year.tif\")\n",
        "# tile_776 = read_nine_band_image(\"/content/kahuku_2year/776_2year.tif\")\n",
        "# tile_777 = read_nine_band_image(\"/content/kahuku_2year/777_2year.tif\")\n",
        "# tile_778 = read_nine_band_image(\"/content/kahuku_2year/778_2year.tif\")\n",
        "# tile_779 = read_nine_band_image(\"/content/kahuku_2year/779_2year.tif\")\n",
        "# tile_780 = read_nine_band_image(\"/content/kahuku_2year/780_2year.tif\")\n",
        "# tile_781 = read_nine_band_image(\"/content/kahuku_2year/781_2year.tif\")\n",
        "# tile_792 = read_nine_band_image(\"/content/kahuku_2year/792_2year.tif\")\n",
        "# tile_793 = read_nine_band_image(\"/content/kahuku_2year/793_2year.tif\")\n",
        "# tile_794 = read_nine_band_image(\"/content/kahuku_2year/794_2year.tif\")\n",
        "# tile_795 = read_nine_band_image(\"/content/kahuku_2year/795_2year.tif\")\n",
        "# tile_796 = read_nine_band_image(\"/content/kahuku_2year/796_2year.tif\")\n",
        "# tile_797 = read_nine_band_image(\"/content/kahuku_2year/797_2year.tif\")\n",
        "# tile_798 = read_nine_band_image(\"/content/kahuku_2year/798_2year.tif\")\n",
        "# tile_805 = read_nine_band_image(\"/content/kahuku_2year/805_2year.tif\")\n",
        "# tile_808 = read_nine_band_image(\"/content/kahuku_2year/808_2year.tif\")\n",
        "# tile_809 = read_nine_band_image(\"/content/kahuku_2year/809_2year.tif\")\n",
        "# tile_810 = read_nine_band_image(\"/content/kahuku_2year/810_2year.tif\")\n",
        "# tile_811 = read_nine_band_image(\"/content/kahuku_2year/811_2year.tif\")\n",
        "# tile_812 = read_nine_band_image(\"/content/kahuku_2year/812_2year.tif\")\n",
        "# tile_813 = read_nine_band_image(\"/content/kahuku_2year/813_2year.tif\")\n",
        "# tile_815 = read_nine_band_image(\"/content/kahuku_2year/815_2year.tif\")\n",
        "# tile_821 = read_nine_band_image(\"/content/kahuku_2year/821_2year.tif\")\n",
        "# tile_823 = read_nine_band_image(\"/content/kahuku_2year/823_2year.tif\")\n",
        "# tile_825 = read_nine_band_image(\"/content/kahuku_2year/825_2year.tif\")\n",
        "# tile_826 = read_nine_band_image(\"/content/kahuku_2year/826_2year.tif\")\n",
        "# tile_827 = read_nine_band_image(\"/content/kahuku_2year/827_2year.tif\")\n",
        "# tile_828 = read_nine_band_image(\"/content/kahuku_2year/828_2year.tif\")\n",
        "# tile_829 = read_nine_band_image(\"/content/kahuku_2year/829_2year.tif\")\n",
        "# tile_830 = read_nine_band_image(\"/content/kahuku_2year/830_2year.tif\")\n",
        "# tile_831 = read_nine_band_image(\"/content/kahuku_2year/831_2year.tif\")\n",
        "# tile_841 = read_nine_band_image(\"/content/kahuku_2year/841_2year.tif\")\n",
        "# tile_842 = read_nine_band_image(\"/content/kahuku_2year/842_2year.tif\")\n",
        "# tile_843 = read_nine_band_image(\"/content/kahuku_2year/843_2year.tif\")\n",
        "# tile_845 = read_nine_band_image(\"/content/kahuku_2year/845_2year.tif\")\n",
        "# tile_847 = read_nine_band_image(\"/content/kahuku_2year/847_2year.tif\")\n",
        "# tile_848 = read_nine_band_image(\"/content/kahuku_2year/848_2year.tif\")\n",
        "# tile_849 = read_nine_band_image(\"/content/kahuku_2year/849_2year.tif\")\n",
        "# tile_860 = read_nine_band_image(\"/content/kahuku_2year/860_2year.tif\")\n",
        "# tile_861 = read_nine_band_image(\"/content/kahuku_2year/861_2year.tif\")\n",
        "# tile_862 = read_nine_band_image(\"/content/kahuku_2year/862_2year.tif\")\n",
        "# tile_865 = read_nine_band_image(\"/content/kahuku_2year/865_2year.tif\")\n",
        "# tile_866 = read_nine_band_image(\"/content/kahuku_2year/866_2year.tif\")\n",
        "\n"
      ],
      "metadata": {
        "id": "Y0123Q-g9fQ_"
      },
      "execution_count": 236,
      "outputs": []
    },
    {
      "cell_type": "code",
      "source": [
        "# tile_742 = np.expand_dims(tile_742, axis=0)\n",
        "# tile_743 = np.expand_dims(tile_743, axis=0)\n",
        "# tile_759 = np.expand_dims(tile_759, axis=0)\n",
        "# tile_760 = np.expand_dims(tile_760, axis=0)\n",
        "# tile_761 = np.expand_dims(tile_761, axis=0)\n",
        "# tile_762 = np.expand_dims(tile_762, axis=0)\n",
        "# tile_776 =  np.expand_dims(tile_776, axis=0)\n",
        "# tile_777 = np.expand_dims(tile_777, axis=0)\n",
        "# tile_778 =  np.expand_dims(tile_778, axis=0)\n",
        "# tile_779 = np.expand_dims(tile_779, axis=0)\n",
        "# tile_780 = np.expand_dims(tile_780, axis=0)\n",
        "# tile_781 = np.expand_dims(tile_781, axis=0)\n",
        "# tile_792 = np.expand_dims(tile_792, axis=0)\n",
        "# tile_793 = np.expand_dims(tile_793, axis=0)\n",
        "# tile_794 = np.expand_dims(tile_794, axis=0)\n",
        "# tile_795 = np.expand_dims(tile_795, axis=0)\n",
        "# tile_796 = np.expand_dims(tile_796, axis=0)\n",
        "# tile_797 =  np.expand_dims(tile_797, axis=0)\n",
        "# tile_798 = np.expand_dims(tile_798, axis=0)\n",
        "# tile_805 =  np.expand_dims(tile_805, axis=0)\n",
        "# tile_808 = np.expand_dims(tile_808, axis=0)\n",
        "# tile_809 = np.expand_dims(tile_809, axis=0)\n",
        "# tile_810 = np.expand_dims(tile_810, axis=0)\n",
        "# tile_811 = np.expand_dims(tile_811, axis=0)\n",
        "# tile_812 = np.expand_dims(tile_812, axis=0)\n",
        "# tile_813 = np.expand_dims(tile_813, axis=0)\n",
        "# tile_815 = np.expand_dims(tile_815, axis=0)\n",
        "# tile_821 = np.expand_dims(tile_821, axis=0)\n",
        "# tile_823 = np.expand_dims(tile_823, axis=0)\n",
        "# tile_825 = np.expand_dims(tile_825, axis=0)\n",
        "# tile_826 = np.expand_dims(tile_826, axis=0)\n",
        "# tile_827 = np.expand_dims(tile_827, axis=0)\n",
        "# tile_828 = np.expand_dims(tile_828, axis=0)\n",
        "# tile_829 = np.expand_dims(tile_829, axis=0)\n",
        "# tile_830 = np.expand_dims(tile_830, axis=0)\n",
        "# tile_831 = np.expand_dims(tile_831, axis=0)\n",
        "# tile_841 = np.expand_dims(tile_841, axis=0)\n",
        "# tile_842 = np.expand_dims(tile_842, axis=0)\n",
        "# tile_843 = np.expand_dims(tile_843, axis=0)\n",
        "# tile_845 = np.expand_dims(tile_845, axis=0)\n",
        "# tile_847 = np.expand_dims(tile_847, axis=0)\n",
        "# tile_848 = np.expand_dims(tile_848, axis=0)\n",
        "# tile_849 = np.expand_dims(tile_849, axis=0)\n",
        "# tile_860 = np.expand_dims(tile_860, axis=0)\n",
        "# tile_861 = np.expand_dims(tile_861, axis=0)\n",
        "# tile_862 = np.expand_dims(tile_862, axis=0)\n",
        "# tile_865 = np.expand_dims(tile_865, axis=0)\n",
        "# tile_866 = np.expand_dims(tile_866, axis=0)"
      ],
      "metadata": {
        "id": "hKmzoIRrHd45"
      },
      "execution_count": 246,
      "outputs": []
    },
    {
      "cell_type": "code",
      "source": [
        "# tile_1465_result = model_01.predict(tile_1465)\n",
        "# tile_1466_result = model_01.predict(tile_1466)\n",
        "# tile_1472_result = model_01.predict(tile_1472)\n",
        "# tile_1481_result = model_01.predict(tile_1481)\n",
        "# tile_1482_result = model_01.predict(tile_1482)\n",
        "# tile_1483_result = model_01.predict(tile_1483)\n",
        "# tile_1488_result = model_01.predict(tile_1488)\n",
        "# tile_1489_result = model_01.predict(tile_1489)\n",
        "# tile_1490_result = model_01.predict(tile_1490)\n",
        "# tile_1497_result = model_01.predict(tile_1497)\n",
        "# tile_1498_result = model_01.predict(tile_1498)\n",
        "# tile_1499_result = model_01.predict(tile_1499)\n",
        "# tile_1504_result = model_01.predict(tile_1504)\n",
        "# tile_1505_result = model_01.predict(tile_1505)\n",
        "# tile_1507_result = model_01.predict(tile_1507)\n",
        "# tile_1513_result = model_01.predict(tile_1513)\n",
        "# tile_1514_result = model_01.predict(tile_1514)\n",
        "# tile_1515_result = model_01.predict(tile_1515)\n",
        "# tile_1516_result = model_01.predict(tile_1516)\n",
        "# tile_1517_result = model_01.predict(tile_1517)\n",
        "# tile_1520_result = model_01.predict(tile_1520)\n",
        "# tile_1521_result = model_01.predict(tile_1521)\n",
        "# tile_1529_result = model_01.predict(tile_1529)\n",
        "# tile_1530_result = model_01.predict(tile_1530)\n",
        "# tile_1531_result = model_01.predict(tile_1531)\n",
        "# tile_1532_result = model_01.predict(tile_1532)\n",
        "# tile_1533_result = model_01.predict(tile_1533)\n",
        "# tile_1534_result = model_01.predict(tile_1534)\n",
        "# tile_1535_result = model_01.predict(tile_1535)\n",
        "# tile_1536_result = model_01.predict(tile_1536)\n",
        "# tile_1537_result = model_01.predict(tile_1537)\n",
        "# tile_1538_result = model_01.predict(tile_1538)\n",
        "# tile_1539_result = model_01.predict(tile_1539)\n",
        "# tile_1545_result = model_01.predict(tile_1545)\n",
        "# tile_1546_result = model_01.predict(tile_1546)\n",
        "# tile_1547_result = model_01.predict(tile_1547)\n",
        "# tile_1548_result = model_01.predict(tile_1548)\n",
        "# tile_1549_result = model_01.predict(tile_1549)\n",
        "# tile_1550_result = model_01.predict(tile_1550)\n",
        "# tile_1551_result = model_01.predict(tile_1551)\n",
        "# tile_1555_result = model_01.predict(tile_1555)\n",
        "# tile_1561_result = model_01.predict(tile_1561)\n",
        "# tile_1562_result = model_01.predict(tile_1562)\n",
        "# tile_1563_result = model_01.predict(tile_1563)\n",
        "# tile_1564_result = model_01.predict(tile_1564)\n",
        "# tile_1565_result = model_01.predict(tile_1565)\n",
        "# tile_1571_result = model_01.predict(tile_1571)\n",
        "# tile_1577_result = model_01.predict(tile_1577)\n",
        "# tile_1578_result = model_01.predict(tile_1578)\n",
        "# tile_1579_result = model_01.predict(tile_1579)\n",
        "# tile_1580_result = model_01.predict(tile_1580)\n",
        "# tile_1593_result = model_01.predict(tile_1593)\n",
        "# tile_1594_result = model_01.predict(tile_1594)\n",
        "# tile_1595_result = model_01.predict(tile_1595)\n",
        "# tile_1596_result = model_01.predict(tile_1596)\n",
        "# tile_1610_result = model_01.predict(tile_1610)\n",
        "# tile_1611_result = model_01.predict(tile_1611)\n",
        "# tile_1612_result = model_01.predict(tile_1612)\n",
        "# tile_1628_result = model_01.predict(tile_1628)\n",
        "# tile_1645_result = model_01.predict(tile_1645)"
      ],
      "metadata": {
        "colab": {
          "base_uri": "https://localhost:8080/"
        },
        "id": "aWn0vnxfZV3S",
        "outputId": "76da52b4-e34d-4ca7-d50b-b597ce5a4d63"
      },
      "execution_count": 253,
      "outputs": [
        {
          "output_type": "stream",
          "name": "stdout",
          "text": [
            "1/1 [==============================] - 4s 4s/step\n",
            "1/1 [==============================] - 7s 7s/step\n",
            "1/1 [==============================] - 4s 4s/step\n",
            "1/1 [==============================] - 4s 4s/step\n",
            "1/1 [==============================] - 10s 10s/step\n",
            "1/1 [==============================] - 4s 4s/step\n",
            "1/1 [==============================] - 4s 4s/step\n",
            "1/1 [==============================] - 4s 4s/step\n",
            "1/1 [==============================] - 3s 3s/step\n",
            "1/1 [==============================] - 3s 3s/step\n",
            "1/1 [==============================] - 4s 4s/step\n",
            "1/1 [==============================] - 5s 5s/step\n",
            "1/1 [==============================] - 3s 3s/step\n",
            "1/1 [==============================] - 4s 4s/step\n",
            "1/1 [==============================] - 4s 4s/step\n",
            "1/1 [==============================] - 3s 3s/step\n",
            "1/1 [==============================] - 5s 5s/step\n",
            "1/1 [==============================] - 4s 4s/step\n",
            "1/1 [==============================] - 3s 3s/step\n",
            "1/1 [==============================] - 3s 3s/step\n",
            "1/1 [==============================] - 4s 4s/step\n",
            "1/1 [==============================] - 4s 4s/step\n",
            "1/1 [==============================] - 3s 3s/step\n",
            "1/1 [==============================] - 3s 3s/step\n",
            "1/1 [==============================] - 5s 5s/step\n",
            "1/1 [==============================] - 4s 4s/step\n",
            "1/1 [==============================] - 3s 3s/step\n",
            "1/1 [==============================] - 3s 3s/step\n",
            "1/1 [==============================] - 5s 5s/step\n",
            "1/1 [==============================] - 4s 4s/step\n",
            "1/1 [==============================] - 3s 3s/step\n",
            "1/1 [==============================] - 3s 3s/step\n",
            "1/1 [==============================] - 5s 5s/step\n",
            "1/1 [==============================] - 3s 3s/step\n",
            "1/1 [==============================] - 4s 4s/step\n",
            "1/1 [==============================] - 3s 3s/step\n",
            "1/1 [==============================] - 6s 6s/step\n",
            "1/1 [==============================] - 5s 5s/step\n",
            "1/1 [==============================] - 3s 3s/step\n",
            "1/1 [==============================] - 5s 5s/step\n",
            "1/1 [==============================] - 4s 4s/step\n",
            "1/1 [==============================] - 8s 8s/step\n",
            "1/1 [==============================] - 5s 5s/step\n",
            "1/1 [==============================] - 6s 6s/step\n",
            "1/1 [==============================] - 6s 6s/step\n",
            "1/1 [==============================] - 4s 4s/step\n",
            "1/1 [==============================] - 6s 6s/step\n",
            "1/1 [==============================] - 5s 5s/step\n",
            "1/1 [==============================] - 5s 5s/step\n",
            "1/1 [==============================] - 8s 8s/step\n",
            "1/1 [==============================] - 6s 6s/step\n",
            "1/1 [==============================] - 6s 6s/step\n",
            "1/1 [==============================] - 6s 6s/step\n",
            "1/1 [==============================] - 5s 5s/step\n",
            "1/1 [==============================] - 7s 7s/step\n",
            "1/1 [==============================] - 5s 5s/step\n",
            "1/1 [==============================] - 5s 5s/step\n",
            "1/1 [==============================] - 7s 7s/step\n",
            "1/1 [==============================] - 5s 5s/step\n",
            "1/1 [==============================] - 4s 4s/step\n"
          ]
        }
      ]
    },
    {
      "cell_type": "code",
      "source": [
        "# tile_1465_result = model_02.predict(tile_1465)\n",
        "# tile_1466_result = model_02.predict(tile_1466)\n",
        "# tile_1472_result = model_02.predict(tile_1472)\n",
        "# tile_1481_result = model_02.predict(tile_1481)\n",
        "# tile_1482_result = model_02.predict(tile_1482)\n",
        "# tile_1483_result = model_02.predict(tile_1483)\n",
        "# tile_1488_result = model_02.predict(tile_1488)\n",
        "# tile_1489_result = model_02.predict(tile_1489)\n",
        "# tile_1490_result = model_02.predict(tile_1490)\n",
        "# tile_1497_result = model_02.predict(tile_1497)\n",
        "# tile_1498_result = model_02.predict(tile_1498)\n",
        "# tile_1499_result = model_02.predict(tile_1499)\n",
        "# tile_1504_result = model_02.predict(tile_1504)\n",
        "# tile_1505_result = model_02.predict(tile_1505)\n",
        "# tile_1507_result = model_02.predict(tile_1507)\n",
        "# tile_1513_result = model_02.predict(tile_1513)\n",
        "# tile_1514_result = model_02.predict(tile_1514)\n",
        "# tile_1515_result = model_02.predict(tile_1515)\n",
        "# tile_1516_result = model_02.predict(tile_1516)\n",
        "# tile_1517_result = model_02.predict(tile_1517)\n",
        "# tile_1520_result = model_02.predict(tile_1520)\n",
        "# tile_1521_result = model_02.predict(tile_1521)\n",
        "# tile_1529_result = model_02.predict(tile_1529)\n",
        "# tile_1530_result = model_02.predict(tile_1530)\n",
        "# tile_1531_result = model_02.predict(tile_1531)\n",
        "# tile_1532_result = model_02.predict(tile_1532)\n",
        "# tile_1533_result = model_02.predict(tile_1533)\n",
        "# tile_1534_result = model_02.predict(tile_1534)\n",
        "# tile_1535_result = model_02.predict(tile_1535)\n",
        "# tile_1536_result = model_02.predict(tile_1536)\n",
        "# tile_1537_result = model_02.predict(tile_1537)\n",
        "# tile_1538_result = model_02.predict(tile_1538)\n",
        "# tile_1539_result = model_02.predict(tile_1539)\n",
        "# tile_1545_result = model_02.predict(tile_1545)\n",
        "# tile_1546_result = model_02.predict(tile_1546)\n",
        "# tile_1547_result = model_02.predict(tile_1547)\n",
        "# tile_1548_result = model_02.predict(tile_1548)\n",
        "# tile_1549_result = model_02.predict(tile_1549)\n",
        "# tile_1550_result = model_02.predict(tile_1550)\n",
        "# tile_1551_result = model_02.predict(tile_1551)\n",
        "# tile_1555_result = model_02.predict(tile_1555)\n",
        "# tile_1561_result = model_02.predict(tile_1561)\n",
        "# tile_1562_result = model_02.predict(tile_1562)\n",
        "# tile_1563_result = model_02.predict(tile_1563)\n",
        "# tile_1564_result = model_02.predict(tile_1564)\n",
        "# tile_1565_result = model_02.predict(tile_1565)\n",
        "# tile_1571_result = model_02.predict(tile_1571)\n",
        "# tile_1577_result = model_02.predict(tile_1577)\n",
        "# tile_1578_result = model_02.predict(tile_1578)\n",
        "# tile_1579_result = model_02.predict(tile_1579)\n",
        "# tile_1580_result = model_02.predict(tile_1580)\n",
        "# tile_1593_result = model_02.predict(tile_1593)\n",
        "# tile_1594_result = model_02.predict(tile_1594)\n",
        "# tile_1595_result = model_02.predict(tile_1595)\n",
        "# tile_1596_result = model_02.predict(tile_1596)\n",
        "# tile_1610_result = model_02.predict(tile_1610)\n",
        "# tile_1611_result = model_02.predict(tile_1611)\n",
        "# tile_1612_result = model_02.predict(tile_1612)\n",
        "# tile_1628_result = model_02.predict(tile_1628)\n",
        "# tile_1645_result = model_02.predict(tile_1645)"
      ],
      "metadata": {
        "colab": {
          "base_uri": "https://localhost:8080/"
        },
        "id": "p2A9_C7Uclyw",
        "outputId": "8fd5531a-42e0-42af-df3e-e1a1f3029f5f"
      },
      "execution_count": 260,
      "outputs": [
        {
          "output_type": "stream",
          "name": "stdout",
          "text": [
            "1/1 [==============================] - 6s 6s/step\n",
            "1/1 [==============================] - 5s 5s/step\n",
            "1/1 [==============================] - 7s 7s/step\n",
            "1/1 [==============================] - 5s 5s/step\n",
            "1/1 [==============================] - 11s 11s/step\n",
            "1/1 [==============================] - 5s 5s/step\n",
            "1/1 [==============================] - 4s 4s/step\n",
            "1/1 [==============================] - 4s 4s/step\n",
            "1/1 [==============================] - 5s 5s/step\n",
            "1/1 [==============================] - 4s 4s/step\n",
            "1/1 [==============================] - 4s 4s/step\n",
            "1/1 [==============================] - 7s 7s/step\n",
            "1/1 [==============================] - 5s 5s/step\n",
            "1/1 [==============================] - 5s 5s/step\n",
            "1/1 [==============================] - 7s 7s/step\n",
            "1/1 [==============================] - 5s 5s/step\n",
            "1/1 [==============================] - 6s 6s/step\n",
            "1/1 [==============================] - 6s 6s/step\n",
            "1/1 [==============================] - 5s 5s/step\n",
            "1/1 [==============================] - 5s 5s/step\n",
            "1/1 [==============================] - 4s 4s/step\n",
            "1/1 [==============================] - 3s 3s/step\n",
            "1/1 [==============================] - 5s 5s/step\n",
            "1/1 [==============================] - 5s 5s/step\n",
            "1/1 [==============================] - 6s 6s/step\n",
            "1/1 [==============================] - 3s 3s/step\n",
            "1/1 [==============================] - 5s 5s/step\n",
            "1/1 [==============================] - 4s 4s/step\n",
            "1/1 [==============================] - 3s 3s/step\n",
            "1/1 [==============================] - 4s 4s/step\n",
            "1/1 [==============================] - 5s 5s/step\n",
            "1/1 [==============================] - 4s 4s/step\n",
            "1/1 [==============================] - 3s 3s/step\n",
            "1/1 [==============================] - 5s 5s/step\n",
            "1/1 [==============================] - 5s 5s/step\n",
            "1/1 [==============================] - 5s 5s/step\n",
            "1/1 [==============================] - 4s 4s/step\n",
            "1/1 [==============================] - 4s 4s/step\n",
            "1/1 [==============================] - 4s 4s/step\n",
            "1/1 [==============================] - 4s 4s/step\n",
            "1/1 [==============================] - 4s 4s/step\n",
            "1/1 [==============================] - 6s 6s/step\n",
            "1/1 [==============================] - 5s 5s/step\n",
            "1/1 [==============================] - 4s 4s/step\n",
            "1/1 [==============================] - 3s 3s/step\n",
            "1/1 [==============================] - 5s 5s/step\n",
            "1/1 [==============================] - 5s 5s/step\n",
            "1/1 [==============================] - 4s 4s/step\n",
            "1/1 [==============================] - 6s 6s/step\n",
            "1/1 [==============================] - 4s 4s/step\n",
            "1/1 [==============================] - 4s 4s/step\n",
            "1/1 [==============================] - 5s 5s/step\n",
            "1/1 [==============================] - 4s 4s/step\n",
            "1/1 [==============================] - 4s 4s/step\n",
            "1/1 [==============================] - 6s 6s/step\n",
            "1/1 [==============================] - 4s 4s/step\n",
            "1/1 [==============================] - 5s 5s/step\n",
            "1/1 [==============================] - 4s 4s/step\n",
            "1/1 [==============================] - 3s 3s/step\n",
            "1/1 [==============================] - 5s 5s/step\n"
          ]
        }
      ]
    },
    {
      "cell_type": "code",
      "source": [
        "tile_1465_result = model_03.predict(tile_1465)\n",
        "tile_1466_result = model_03.predict(tile_1466)\n",
        "tile_1472_result = model_03.predict(tile_1472)\n",
        "tile_1481_result = model_03.predict(tile_1481)\n",
        "tile_1482_result = model_03.predict(tile_1482)\n",
        "tile_1483_result = model_03.predict(tile_1483)\n",
        "tile_1488_result = model_03.predict(tile_1488)\n",
        "tile_1489_result = model_03.predict(tile_1489)\n",
        "tile_1490_result = model_03.predict(tile_1490)\n",
        "tile_1497_result = model_03.predict(tile_1497)\n",
        "tile_1498_result = model_03.predict(tile_1498)\n",
        "tile_1499_result = model_03.predict(tile_1499)\n",
        "tile_1504_result = model_03.predict(tile_1504)\n",
        "tile_1505_result = model_03.predict(tile_1505)\n",
        "tile_1507_result = model_03.predict(tile_1507)\n",
        "tile_1513_result = model_03.predict(tile_1513)\n",
        "tile_1514_result = model_03.predict(tile_1514)\n",
        "tile_1515_result = model_03.predict(tile_1515)\n",
        "tile_1516_result = model_03.predict(tile_1516)\n",
        "tile_1517_result = model_03.predict(tile_1517)\n",
        "tile_1520_result = model_03.predict(tile_1520)\n",
        "tile_1521_result = model_03.predict(tile_1521)\n",
        "tile_1529_result = model_03.predict(tile_1529)\n",
        "tile_1530_result = model_03.predict(tile_1530)\n",
        "tile_1531_result = model_03.predict(tile_1531)\n",
        "tile_1532_result = model_03.predict(tile_1532)\n",
        "tile_1533_result = model_03.predict(tile_1533)\n",
        "tile_1534_result = model_03.predict(tile_1534)\n",
        "tile_1535_result = model_03.predict(tile_1535)\n",
        "tile_1536_result = model_03.predict(tile_1536)\n",
        "tile_1537_result = model_03.predict(tile_1537)\n",
        "tile_1538_result = model_03.predict(tile_1538)\n",
        "tile_1539_result = model_03.predict(tile_1539)\n",
        "tile_1545_result = model_03.predict(tile_1545)\n",
        "tile_1546_result = model_03.predict(tile_1546)\n",
        "tile_1547_result = model_03.predict(tile_1547)\n",
        "tile_1548_result = model_03.predict(tile_1548)\n",
        "tile_1549_result = model_03.predict(tile_1549)\n",
        "tile_1550_result = model_03.predict(tile_1550)\n",
        "tile_1551_result = model_03.predict(tile_1551)\n",
        "tile_1555_result = model_03.predict(tile_1555)\n",
        "tile_1561_result = model_03.predict(tile_1561)\n",
        "tile_1562_result = model_03.predict(tile_1562)\n",
        "tile_1563_result = model_03.predict(tile_1563)\n",
        "tile_1564_result = model_03.predict(tile_1564)\n",
        "tile_1565_result = model_03.predict(tile_1565)\n",
        "tile_1571_result = model_03.predict(tile_1571)\n",
        "tile_1577_result = model_03.predict(tile_1577)\n",
        "tile_1578_result = model_03.predict(tile_1578)\n",
        "tile_1579_result = model_03.predict(tile_1579)\n",
        "tile_1580_result = model_03.predict(tile_1580)\n",
        "tile_1593_result = model_03.predict(tile_1593)\n",
        "tile_1594_result = model_03.predict(tile_1594)\n",
        "tile_1595_result = model_03.predict(tile_1595)\n",
        "tile_1596_result = model_03.predict(tile_1596)\n",
        "tile_1610_result = model_03.predict(tile_1610)\n",
        "tile_1611_result = model_03.predict(tile_1611)\n",
        "tile_1612_result = model_03.predict(tile_1612)\n",
        "tile_1628_result = model_03.predict(tile_1628)\n",
        "tile_1645_result = model_03.predict(tile_1645)"
      ],
      "metadata": {
        "colab": {
          "base_uri": "https://localhost:8080/"
        },
        "id": "6jARWKgngUVr",
        "outputId": "0a3f1989-5132-426e-de0a-fef5aad5c957"
      },
      "execution_count": 269,
      "outputs": [
        {
          "output_type": "stream",
          "name": "stdout",
          "text": [
            "1/1 [==============================] - 6s 6s/step\n",
            "1/1 [==============================] - 5s 5s/step\n",
            "1/1 [==============================] - 7s 7s/step\n",
            "1/1 [==============================] - 5s 5s/step\n",
            "1/1 [==============================] - 7s 7s/step\n",
            "1/1 [==============================] - 7s 7s/step\n",
            "1/1 [==============================] - 7s 7s/step\n",
            "1/1 [==============================] - 5s 5s/step\n",
            "1/1 [==============================] - 4s 4s/step\n",
            "1/1 [==============================] - 6s 6s/step\n",
            "1/1 [==============================] - 4s 4s/step\n",
            "1/1 [==============================] - 4s 4s/step\n",
            "1/1 [==============================] - 4s 4s/step\n",
            "1/1 [==============================] - 5s 5s/step\n",
            "1/1 [==============================] - 3s 3s/step\n",
            "1/1 [==============================] - 5s 5s/step\n",
            "1/1 [==============================] - 4s 4s/step\n",
            "1/1 [==============================] - 4s 4s/step\n",
            "1/1 [==============================] - 5s 5s/step\n",
            "1/1 [==============================] - 4s 4s/step\n",
            "1/1 [==============================] - 4s 4s/step\n",
            "1/1 [==============================] - 5s 5s/step\n",
            "1/1 [==============================] - 5s 5s/step\n",
            "1/1 [==============================] - 3s 3s/step\n",
            "1/1 [==============================] - 4s 4s/step\n",
            "1/1 [==============================] - 5s 5s/step\n",
            "1/1 [==============================] - 4s 4s/step\n",
            "1/1 [==============================] - 4s 4s/step\n",
            "1/1 [==============================] - 4s 4s/step\n",
            "1/1 [==============================] - 4s 4s/step\n",
            "1/1 [==============================] - 5s 5s/step\n",
            "1/1 [==============================] - 4s 4s/step\n",
            "1/1 [==============================] - 4s 4s/step\n",
            "1/1 [==============================] - 4s 4s/step\n",
            "1/1 [==============================] - 4s 4s/step\n",
            "1/1 [==============================] - 5s 5s/step\n",
            "1/1 [==============================] - 5s 5s/step\n",
            "1/1 [==============================] - 4s 4s/step\n",
            "1/1 [==============================] - 3s 3s/step\n",
            "1/1 [==============================] - 5s 5s/step\n",
            "1/1 [==============================] - 4s 4s/step\n",
            "1/1 [==============================] - 8s 8s/step\n",
            "1/1 [==============================] - 3s 3s/step\n",
            "1/1 [==============================] - 4s 4s/step\n",
            "1/1 [==============================] - 5s 5s/step\n",
            "1/1 [==============================] - 3s 3s/step\n",
            "1/1 [==============================] - 4s 4s/step\n",
            "1/1 [==============================] - 6s 6s/step\n",
            "1/1 [==============================] - 3s 3s/step\n",
            "1/1 [==============================] - 4s 4s/step\n",
            "1/1 [==============================] - 4s 4s/step\n",
            "1/1 [==============================] - 9s 9s/step\n",
            "1/1 [==============================] - 3s 3s/step\n",
            "1/1 [==============================] - 4s 4s/step\n",
            "1/1 [==============================] - 5s 5s/step\n",
            "1/1 [==============================] - 4s 4s/step\n",
            "1/1 [==============================] - 5s 5s/step\n",
            "1/1 [==============================] - 4s 4s/step\n",
            "1/1 [==============================] - 3s 3s/step\n",
            "1/1 [==============================] - 4s 4s/step\n"
          ]
        }
      ]
    },
    {
      "cell_type": "code",
      "source": [
        "# tile_742_result = model_01.predict(tile_742)\n",
        "# tile_743_result = model_01.predict(tile_743)\n",
        "# tile_759_result = model_01.predict(tile_759)\n",
        "# tile_760_result = model_01.predict(tile_760)\n",
        "# tile_761_result = model_01.predict(tile_761)\n",
        "# tile_762_result = model_01.predict(tile_762)\n",
        "# tile_776_result = model_01.predict(tile_776)\n",
        "# tile_777_result = model_01.predict(tile_777)\n",
        "# tile_778_result = model_01.predict(tile_778)\n",
        "# tile_779_result = model_01.predict(tile_779)\n",
        "# tile_780_result = model_01.predict(tile_780)\n",
        "# tile_781_result = model_01.predict(tile_781)\n",
        "# tile_792_result = model_01.predict(tile_792)\n",
        "# tile_793_result = model_01.predict(tile_793)\n",
        "# tile_794_result = model_01.predict(tile_794)\n",
        "# tile_795_result = model_01.predict(tile_795)\n",
        "# tile_796_result = model_01.predict(tile_796)\n",
        "# tile_797_result = model_01.predict(tile_797)\n",
        "# tile_798_result = model_01.predict(tile_798)\n",
        "# tile_805_result = model_01.predict(tile_805)\n",
        "# tile_808_result = model_01.predict(tile_808)\n",
        "# tile_809_result = model_01.predict(tile_809)\n",
        "# tile_810_result = model_01.predict(tile_810)\n",
        "# tile_811_result = model_01.predict(tile_811)\n",
        "# tile_812_result = model_01.predict(tile_812)\n",
        "# tile_813_result = model_01.predict(tile_813)\n",
        "# tile_815_result = model_01.predict(tile_815)\n",
        "# tile_821_result = model_01.predict(tile_821)\n",
        "# tile_823_result = model_01.predict(tile_823)\n",
        "# tile_825_result = model_01.predict(tile_825)\n",
        "# tile_826_result = model_01.predict(tile_826)\n",
        "# tile_827_result = model_01.predict(tile_827)\n",
        "# tile_828_result = model_01.predict(tile_828)\n",
        "# tile_829_result = model_01.predict(tile_829)\n",
        "# tile_830_result = model_01.predict(tile_830)\n",
        "# tile_831_result = model_01.predict(tile_831)\n",
        "# tile_841_result = model_01.predict(tile_841)\n",
        "# tile_842_result = model_01.predict(tile_842)\n",
        "# tile_843_result = model_01.predict(tile_843)\n",
        "# tile_845_result = model_01.predict(tile_845)\n",
        "# tile_847_result = model_01.predict(tile_847)\n",
        "# tile_848_result = model_01.predict(tile_848)\n",
        "# tile_849_result = model_01.predict(tile_849)\n",
        "# tile_860_result = model_01.predict(tile_860)\n",
        "# tile_861_result = model_01.predict(tile_861)\n",
        "# tile_862_result = model_01.predict(tile_862)\n",
        "# tile_865_result = model_01.predict(tile_865)\n",
        "# tile_866_result = model_01.predict(tile_866)"
      ],
      "metadata": {
        "colab": {
          "base_uri": "https://localhost:8080/"
        },
        "id": "408Q5vq1UpIO",
        "outputId": "7d873282-1e2b-478e-8993-d0e079d1f3de"
      },
      "execution_count": 247,
      "outputs": [
        {
          "output_type": "stream",
          "name": "stdout",
          "text": [
            "1/1 [==============================] - 7s 7s/step\n",
            "1/1 [==============================] - 7s 7s/step\n",
            "1/1 [==============================] - 5s 5s/step\n",
            "1/1 [==============================] - 9s 9s/step\n",
            "1/1 [==============================] - 4s 4s/step\n",
            "1/1 [==============================] - 4s 4s/step\n",
            "1/1 [==============================] - 9s 9s/step\n",
            "1/1 [==============================] - 4s 4s/step\n",
            "1/1 [==============================] - 8s 8s/step\n",
            "1/1 [==============================] - 3s 3s/step\n",
            "1/1 [==============================] - 3s 3s/step\n",
            "1/1 [==============================] - 4s 4s/step\n",
            "1/1 [==============================] - 3s 3s/step\n",
            "1/1 [==============================] - 3s 3s/step\n",
            "1/1 [==============================] - 5s 5s/step\n",
            "1/1 [==============================] - 3s 3s/step\n",
            "1/1 [==============================] - 5s 5s/step\n",
            "1/1 [==============================] - 3s 3s/step\n",
            "1/1 [==============================] - 3s 3s/step\n",
            "1/1 [==============================] - 3s 3s/step\n",
            "1/1 [==============================] - 4s 4s/step\n",
            "1/1 [==============================] - 4s 4s/step\n",
            "1/1 [==============================] - 3s 3s/step\n",
            "1/1 [==============================] - 4s 4s/step\n",
            "1/1 [==============================] - 4s 4s/step\n",
            "1/1 [==============================] - 3s 3s/step\n",
            "1/1 [==============================] - 3s 3s/step\n",
            "1/1 [==============================] - 5s 5s/step\n",
            "1/1 [==============================] - 3s 3s/step\n",
            "1/1 [==============================] - 4s 4s/step\n",
            "1/1 [==============================] - 5s 5s/step\n",
            "1/1 [==============================] - 3s 3s/step\n",
            "1/1 [==============================] - 3s 3s/step\n",
            "1/1 [==============================] - 3s 3s/step\n",
            "1/1 [==============================] - 5s 5s/step\n",
            "1/1 [==============================] - 3s 3s/step\n",
            "1/1 [==============================] - 3s 3s/step\n",
            "1/1 [==============================] - 4s 4s/step\n",
            "1/1 [==============================] - 3s 3s/step\n",
            "1/1 [==============================] - 3s 3s/step\n",
            "1/1 [==============================] - 3s 3s/step\n",
            "1/1 [==============================] - 5s 5s/step\n",
            "1/1 [==============================] - 3s 3s/step\n",
            "1/1 [==============================] - 5s 5s/step\n",
            "1/1 [==============================] - 4s 4s/step\n",
            "1/1 [==============================] - 4s 4s/step\n",
            "1/1 [==============================] - 3s 3s/step\n",
            "1/1 [==============================] - 3s 3s/step\n"
          ]
        }
      ]
    },
    {
      "cell_type": "code",
      "source": [
        "# tile_742_result = model_02.predict(tile_742)\n",
        "# tile_743_result = model_02.predict(tile_743)\n",
        "# tile_759_result = model_02.predict(tile_759)\n",
        "# tile_760_result = model_02.predict(tile_760)\n",
        "# tile_761_result = model_02.predict(tile_761)\n",
        "# tile_762_result = model_02.predict(tile_762)\n",
        "# tile_776_result = model_02.predict(tile_776)\n",
        "# tile_777_result = model_02.predict(tile_777)\n",
        "# tile_778_result = model_02.predict(tile_778)\n",
        "# tile_779_result = model_02.predict(tile_779)\n",
        "# tile_780_result = model_02.predict(tile_780)\n",
        "# tile_781_result = model_02.predict(tile_781)\n",
        "# tile_792_result = model_02.predict(tile_792)\n",
        "# tile_793_result = model_02.predict(tile_793)\n",
        "# tile_794_result = model_02.predict(tile_794)\n",
        "# tile_795_result = model_02.predict(tile_795)\n",
        "# tile_796_result = model_02.predict(tile_796)\n",
        "# tile_797_result = model_02.predict(tile_797)\n",
        "# tile_798_result = model_02.predict(tile_798)\n",
        "# tile_805_result = model_02.predict(tile_805)\n",
        "# tile_808_result = model_02.predict(tile_808)\n",
        "# tile_809_result = model_02.predict(tile_809)\n",
        "# tile_810_result = model_02.predict(tile_810)\n",
        "# tile_811_result = model_02.predict(tile_811)\n",
        "# tile_812_result = model_02.predict(tile_812)\n",
        "# tile_813_result = model_02.predict(tile_813)\n",
        "# tile_815_result = model_02.predict(tile_815)\n",
        "# tile_821_result = model_02.predict(tile_821)\n",
        "# tile_823_result = model_02.predict(tile_823)\n",
        "# tile_825_result = model_02.predict(tile_825)\n",
        "# tile_826_result = model_02.predict(tile_826)\n",
        "# tile_827_result = model_02.predict(tile_827)\n",
        "# tile_828_result = model_02.predict(tile_828)\n",
        "# tile_829_result = model_02.predict(tile_829)\n",
        "# tile_830_result = model_02.predict(tile_830)\n",
        "# tile_831_result = model_02.predict(tile_831)\n",
        "# tile_841_result = model_02.predict(tile_841)\n",
        "# tile_842_result = model_02.predict(tile_842)\n",
        "# tile_843_result = model_02.predict(tile_843)\n",
        "# tile_845_result = model_02.predict(tile_845)\n",
        "# tile_847_result = model_02.predict(tile_847)\n",
        "# tile_848_result = model_02.predict(tile_848)\n",
        "# tile_849_result = model_02.predict(tile_849)\n",
        "# tile_860_result = model_02.predict(tile_860)\n",
        "# tile_861_result = model_02.predict(tile_861)\n",
        "# tile_862_result = model_02.predict(tile_862)\n",
        "# tile_865_result = model_02.predict(tile_865)\n",
        "# tile_866_result = model_02.predict(tile_866)"
      ],
      "metadata": {
        "colab": {
          "base_uri": "https://localhost:8080/"
        },
        "id": "DxVZLux7SYtl",
        "outputId": "320ecaab-92f2-4167-908a-cdf6e657a870"
      },
      "execution_count": 239,
      "outputs": [
        {
          "output_type": "stream",
          "name": "stdout",
          "text": [
            "1/1 [==============================] - 7s 7s/step\n",
            "1/1 [==============================] - 4s 4s/step\n",
            "1/1 [==============================] - 3s 3s/step\n",
            "1/1 [==============================] - 4s 4s/step\n",
            "1/1 [==============================] - 5s 5s/step\n",
            "1/1 [==============================] - 3s 3s/step\n",
            "1/1 [==============================] - 4s 4s/step\n",
            "1/1 [==============================] - 6s 6s/step\n",
            "1/1 [==============================] - 5s 5s/step\n",
            "1/1 [==============================] - 5s 5s/step\n",
            "1/1 [==============================] - 5s 5s/step\n",
            "1/1 [==============================] - 9s 9s/step\n",
            "1/1 [==============================] - 9s 9s/step\n",
            "1/1 [==============================] - 4s 4s/step\n",
            "1/1 [==============================] - 5s 5s/step\n",
            "1/1 [==============================] - 8s 8s/step\n",
            "1/1 [==============================] - 4s 4s/step\n",
            "1/1 [==============================] - 4s 4s/step\n",
            "1/1 [==============================] - 9s 9s/step\n",
            "1/1 [==============================] - 4s 4s/step\n",
            "1/1 [==============================] - 8s 8s/step\n",
            "1/1 [==============================] - 3s 3s/step\n",
            "1/1 [==============================] - 4s 4s/step\n",
            "1/1 [==============================] - 4s 4s/step\n",
            "1/1 [==============================] - 3s 3s/step\n",
            "1/1 [==============================] - 5s 5s/step\n",
            "1/1 [==============================] - 4s 4s/step\n",
            "1/1 [==============================] - 3s 3s/step\n",
            "1/1 [==============================] - 3s 3s/step\n",
            "1/1 [==============================] - 5s 5s/step\n",
            "1/1 [==============================] - 3s 3s/step\n",
            "1/1 [==============================] - 3s 3s/step\n",
            "1/1 [==============================] - 4s 4s/step\n",
            "1/1 [==============================] - 4s 4s/step\n",
            "1/1 [==============================] - 3s 3s/step\n",
            "1/1 [==============================] - 3s 3s/step\n",
            "1/1 [==============================] - 5s 5s/step\n",
            "1/1 [==============================] - 3s 3s/step\n",
            "1/1 [==============================] - 3s 3s/step\n",
            "1/1 [==============================] - 4s 4s/step\n",
            "1/1 [==============================] - 4s 4s/step\n",
            "1/1 [==============================] - 3s 3s/step\n",
            "1/1 [==============================] - 3s 3s/step\n",
            "1/1 [==============================] - 5s 5s/step\n",
            "1/1 [==============================] - 3s 3s/step\n",
            "1/1 [==============================] - 3s 3s/step\n",
            "1/1 [==============================] - 3s 3s/step\n",
            "1/1 [==============================] - 5s 5s/step\n"
          ]
        }
      ]
    },
    {
      "cell_type": "code",
      "source": [
        "\n",
        "!mkdir kawainui_output_03\n",
        "!mkdir kawainui_weight_03\n",
        "\n",
        "# tiles = [742, 743, 759, 760, 761, 762, 776, 777, 778, 779, 780, 781, 792, 793, 794, 795, 796, 797, 798, 805, 808, 809, 810, 811, 812, 813, 815, 821, 823, 825, 826, 827, 828, 829, 830, 831, 841, 842, 843, 845, 847, 848, 849, 860, 861, 862, 865, 866]\n",
        "tiles = [1465, 1466, 1472, 1481, 1482, 1483, 1488, 1489, 1490, 1497, 1498, 1499, 1504, 1505, 1507, 1513, 1514, 1515, 1516, 1517, 1520, 1521, 1529, 1530, 1531, 1532, 1533, 1534, 1535, 1536, 1537, 1538, 1539, 1545, 1546, 1547, 1548, 1549, 1550, 1551, 1555, 1561, 1562, 1563, 1564, 1565, 1571, 1577, 1578, 1579, 1580, 1593, 1594, 1595, 1596, 1610, 1611, 1612, 1628, 1645]\n",
        "\n",
        "for tile in tiles:\n",
        "    input_tile = f\"/content/kawainui_3year/{tile}_3year.tif\"\n",
        "    output_tile = f\"/content/kawainui_output_03/{tile}_3year_out.tif\"\n",
        "    weight_tile = f\"/content/kawainui_weight_03/{tile}_3year_weight.tif\"\n",
        "\n",
        "    tile_result = eval(f'tile_{tile}_result')\n",
        "\n",
        "    with rasterio.open(input_tile) as src:\n",
        "        out_meta = src.meta.copy()\n",
        "        out_meta.update({\n",
        "            'dtype': 'float32',\n",
        "            'count' : 7\n",
        "        })\n",
        "        data_out = tile_result[0]\n",
        "        data_out = np.moveaxis(data_out, -1, 0)\n",
        "        weight_matrix = create_weight_matrix(384, 384)\n",
        "        weighted_data_out = weight_matrix * data_out\n",
        "\n",
        "    with rasterio.open(output_tile, 'w', **out_meta) as dst:\n",
        "        dst.write(data_out)\n",
        "    with rasterio.open(weight_tile, 'w', **out_meta) as dst:\n",
        "        dst.write(weighted_data_out)"
      ],
      "metadata": {
        "id": "MfQRnWRKSx6F"
      },
      "execution_count": 270,
      "outputs": []
    },
    {
      "cell_type": "code",
      "source": [
        "import os\n",
        "import rasterio\n",
        "from rasterio.merge import merge\n",
        "\n",
        "def gather_raster_files(*directories):\n",
        "    \"\"\"Gather raster files from provided directories.\"\"\"\n",
        "    raster_paths = []\n",
        "    for directory in directories:\n",
        "        # List all TIFF files in each directory\n",
        "        for filename in os.listdir(directory):\n",
        "            if filename.endswith('.tif'):\n",
        "                raster_paths.append(os.path.join(directory, filename))\n",
        "    return raster_paths\n",
        "\n",
        "def create_mosaic_sum(input_rasters, output_filename='mosaic_sum.tif'):\n",
        "    \"\"\"Create a mosaic from the sum of overlapping bands using rasterio.\"\"\"\n",
        "    src_files = [rasterio.open(path) for path in input_rasters]\n",
        "\n",
        "    # Use rasterio's merge function with method='sum' to sum overlapping pixels\n",
        "    mosaic, out_trans = merge(src_files, method='sum')\n",
        "\n",
        "    # Define the metadata for the output GeoTIFF\n",
        "    out_meta = src_files[0].meta.copy()\n",
        "    out_meta.update({\n",
        "        \"driver\": \"GTiff\",\n",
        "        \"height\": mosaic.shape[1],\n",
        "        \"width\": mosaic.shape[2],\n",
        "        \"transform\": out_trans,\n",
        "        \"count\": src_files[0].count\n",
        "    })\n",
        "\n",
        "    # Write the mosaic raster to disk\n",
        "    with rasterio.open(output_filename, 'w', **out_meta) as dest:\n",
        "        dest.write(mosaic)\n",
        "\n",
        "    # Close all raster files\n",
        "    for src in src_files:\n",
        "        src.close()\n",
        "\n",
        "    print(f\"Mosaic created successfully: {output_filename}\")\n",
        "    return mosaic, out_trans\n",
        "\n",
        "# Directories containing the raster files\n",
        "output_dir = \"/content/kawainui_output_03\"\n",
        "weighted_dir = \"/content/kawainui_weight_03\"\n",
        "\n",
        "# Gather all raster files from the directories\n",
        "raster_files = gather_raster_files(output_dir, weighted_dir)\n",
        "\n",
        "# Create a mosaic with the sum of overlapping bands\n",
        "mosaic, out_transform = create_mosaic_sum(raster_files, 'kawainui_03_mosaic.tif')"
      ],
      "metadata": {
        "colab": {
          "base_uri": "https://localhost:8080/"
        },
        "id": "wDeperQvTvcs",
        "outputId": "4fcdbfbc-6e93-40ec-ec7b-13e08e34a174"
      },
      "execution_count": 271,
      "outputs": [
        {
          "output_type": "stream",
          "name": "stdout",
          "text": [
            "Mosaic created successfully: kawainui_03_mosaic.tif\n"
          ]
        }
      ]
    },
    {
      "cell_type": "code",
      "source": [
        "# tile_742 = read_thirteen_band_image(\"/content/kahuku_3year/742_3year.tif\")\n",
        "# tile_743 = read_thirteen_band_image(\"/content/kahuku_3year/743_3year.tif\")\n",
        "# tile_759 = read_thirteen_band_image(\"/content/kahuku_3year/759_3year.tif\")\n",
        "# tile_760 = read_thirteen_band_image(\"/content/kahuku_3year/760_3year.tif\")\n",
        "# tile_761 = read_thirteen_band_image(\"/content/kahuku_3year/761_3year.tif\")\n",
        "# tile_762 = read_thirteen_band_image(\"/content/kahuku_3year/762_3year.tif\")\n",
        "# tile_776 = read_thirteen_band_image(\"/content/kahuku_3year/776_3year.tif\")\n",
        "# tile_777 = read_thirteen_band_image(\"/content/kahuku_3year/777_3year.tif\")\n",
        "# tile_778 = read_thirteen_band_image(\"/content/kahuku_3year/778_3year.tif\")\n",
        "# tile_779 = read_thirteen_band_image(\"/content/kahuku_3year/779_3year.tif\")\n",
        "# tile_780 = read_thirteen_band_image(\"/content/kahuku_3year/780_3year.tif\")\n",
        "# tile_781 = read_thirteen_band_image(\"/content/kahuku_3year/781_3year.tif\")\n",
        "# tile_792 = read_thirteen_band_image(\"/content/kahuku_3year/792_3year.tif\")\n",
        "# tile_793 = read_thirteen_band_image(\"/content/kahuku_3year/793_3year.tif\")\n",
        "# tile_794 = read_thirteen_band_image(\"/content/kahuku_3year/794_3year.tif\")\n",
        "# tile_795 = read_thirteen_band_image(\"/content/kahuku_3year/795_3year.tif\")\n",
        "# tile_796 = read_thirteen_band_image(\"/content/kahuku_3year/796_3year.tif\")\n",
        "# tile_797 = read_thirteen_band_image(\"/content/kahuku_3year/797_3year.tif\")\n",
        "# tile_798 = read_thirteen_band_image(\"/content/kahuku_3year/798_3year.tif\")\n",
        "# tile_805 = read_thirteen_band_image(\"/content/kahuku_3year/805_3year.tif\")\n",
        "# tile_808 = read_thirteen_band_image(\"/content/kahuku_3year/808_3year.tif\")\n",
        "# tile_809 = read_thirteen_band_image(\"/content/kahuku_3year/809_3year.tif\")\n",
        "# tile_810 = read_thirteen_band_image(\"/content/kahuku_3year/810_3year.tif\")\n",
        "# tile_811 = read_thirteen_band_image(\"/content/kahuku_3year/811_3year.tif\")\n",
        "# tile_812 = read_thirteen_band_image(\"/content/kahuku_3year/812_3year.tif\")\n",
        "# tile_813 = read_thirteen_band_image(\"/content/kahuku_3year/813_3year.tif\")\n",
        "# tile_815 = read_thirteen_band_image(\"/content/kahuku_3year/815_3year.tif\")\n",
        "# tile_821 = read_thirteen_band_image(\"/content/kahuku_3year/821_3year.tif\")\n",
        "# tile_823 = read_thirteen_band_image(\"/content/kahuku_3year/823_3year.tif\")\n",
        "# tile_825 = read_thirteen_band_image(\"/content/kahuku_3year/825_3year.tif\")\n",
        "# tile_826 = read_thirteen_band_image(\"/content/kahuku_3year/826_3year.tif\")\n",
        "# tile_827 = read_thirteen_band_image(\"/content/kahuku_3year/827_3year.tif\")\n",
        "# tile_828 = read_thirteen_band_image(\"/content/kahuku_3year/828_3year.tif\")\n",
        "# tile_829 = read_thirteen_band_image(\"/content/kahuku_3year/829_3year.tif\")\n",
        "# tile_830 = read_thirteen_band_image(\"/content/kahuku_3year/830_3year.tif\")\n",
        "# tile_831 = read_thirteen_band_image(\"/content/kahuku_3year/831_3year.tif\")\n",
        "# tile_841 = read_thirteen_band_image(\"/content/kahuku_3year/841_3year.tif\")\n",
        "# tile_842 = read_thirteen_band_image(\"/content/kahuku_3year/842_3year.tif\")\n",
        "# tile_843 = read_thirteen_band_image(\"/content/kahuku_3year/843_3year.tif\")\n",
        "# tile_845 = read_thirteen_band_image(\"/content/kahuku_3year/845_3year.tif\")\n",
        "# tile_847 = read_thirteen_band_image(\"/content/kahuku_3year/847_3year.tif\")\n",
        "# tile_848 = read_thirteen_band_image(\"/content/kahuku_3year/848_3year.tif\")\n",
        "# tile_849 = read_thirteen_band_image(\"/content/kahuku_3year/849_3year.tif\")\n",
        "# tile_860 = read_thirteen_band_image(\"/content/kahuku_3year/860_3year.tif\")\n",
        "# tile_861 = read_thirteen_band_image(\"/content/kahuku_3year/861_3year.tif\")\n",
        "# tile_862 = read_thirteen_band_image(\"/content/kahuku_3year/862_3year.tif\")\n",
        "# tile_865 = read_thirteen_band_image(\"/content/kahuku_3year/865_3year.tif\")\n",
        "# tile_866 = read_thirteen_band_image(\"/content/kahuku_3year/866_3year.tif\")\n",
        "\n",
        "\n"
      ],
      "metadata": {
        "id": "U8JGcNvDHd7C"
      },
      "execution_count": 225,
      "outputs": []
    },
    {
      "cell_type": "code",
      "source": [
        "tile_742 tile_743 tile_759 tile_760 tile_761 tile_762 tile_776 tile_777 tile_778 tile_779 tile_780 tile_781\n",
        "tile_792 tile_793 tile_794 tile_795 tile_796 tile_797 tile_798 tile_805 tile_808 tile_809 tile_810 tile_811\n",
        "tile_812 tile_813 tile_815 tile_821 tile_823 tile_825 tile_826 tile_827 tile_828 tile_829 tile_830 tile_831\n",
        "tile_841 tile_842 tile_843 tile_845 tile_847 tile_848 tile_849 tile_860 tile_861 tile_862 tile_865 tile_866"
      ],
      "metadata": {
        "id": "5cTdYsXWJvcB"
      },
      "execution_count": null,
      "outputs": []
    },
    {
      "cell_type": "code",
      "source": [
        "# tile_742_result = model_03.predict(tile_742)\n",
        "# tile_743_result = model_03.predict(tile_743)\n",
        "# tile_759_result = model_03.predict(tile_759)\n",
        "# tile_760_result = model_03.predict(tile_760)\n",
        "# tile_761_result = model_03.predict(tile_761)\n",
        "# tile_762_result = model_03.predict(tile_762)\n",
        "# tile_776_result = model_03.predict(tile_776)\n",
        "# tile_777_result = model_03.predict(tile_777)\n",
        "# tile_778_result = model_03.predict(tile_778)\n",
        "# tile_779_result = model_03.predict(tile_779)\n",
        "# tile_780_result = model_03.predict(tile_780)\n",
        "# tile_781_result = model_03.predict(tile_781)\n",
        "# tile_792_result = model_03.predict(tile_792)\n",
        "# tile_793_result = model_03.predict(tile_793)\n",
        "# tile_794_result = model_03.predict(tile_794)\n",
        "# tile_795_result = model_03.predict(tile_795)\n",
        "# tile_796_result = model_03.predict(tile_796)\n",
        "# tile_797_result = model_03.predict(tile_797)\n",
        "# tile_798_result = model_03.predict(tile_798)\n",
        "# tile_805_result = model_03.predict(tile_805)\n",
        "# tile_808_result = model_03.predict(tile_808)\n",
        "# tile_809_result = model_03.predict(tile_809)\n",
        "# tile_810_result = model_03.predict(tile_810)\n",
        "# tile_811_result = model_03.predict(tile_811)\n",
        "# tile_812_result = model_03.predict(tile_812)\n",
        "# tile_813_result = model_03.predict(tile_813)\n",
        "# tile_815_result = model_03.predict(tile_815)\n",
        "# tile_821_result = model_03.predict(tile_821)\n",
        "# tile_823_result = model_03.predict(tile_823)\n",
        "# tile_825_result = model_03.predict(tile_825)\n",
        "# tile_826_result = model_03.predict(tile_826)\n",
        "# tile_827_result = model_03.predict(tile_827)\n",
        "# tile_828_result = model_03.predict(tile_828)\n",
        "# tile_829_result = model_03.predict(tile_829)\n",
        "# tile_830_result = model_03.predict(tile_830)\n",
        "# tile_831_result = model_03.predict(tile_831)\n",
        "# tile_841_result = model_03.predict(tile_841)\n",
        "# tile_842_result = model_03.predict(tile_842)\n",
        "# tile_843_result = model_03.predict(tile_843)\n",
        "# tile_845_result = model_03.predict(tile_845)\n",
        "# tile_847_result = model_03.predict(tile_847)\n",
        "# tile_848_result = model_03.predict(tile_848)\n",
        "# tile_849_result = model_03.predict(tile_849)\n",
        "# tile_860_result = model_03.predict(tile_860)\n",
        "# tile_861_result = model_03.predict(tile_861)\n",
        "# tile_862_result = model_03.predict(tile_862)\n",
        "# tile_865_result = model_03.predict(tile_865)\n",
        "# tile_866_result = model_03.predict(tile_866)\n"
      ],
      "metadata": {
        "colab": {
          "base_uri": "https://localhost:8080/"
        },
        "id": "9bif6q3qHd2X",
        "outputId": "f22d7ee9-b765-481d-8590-ba6840c72da9"
      },
      "execution_count": 231,
      "outputs": [
        {
          "output_type": "stream",
          "name": "stdout",
          "text": [
            "1/1 [==============================] - 6s 6s/step\n",
            "1/1 [==============================] - 5s 5s/step\n",
            "1/1 [==============================] - 4s 4s/step\n",
            "1/1 [==============================] - 4s 4s/step\n",
            "1/1 [==============================] - 4s 4s/step\n",
            "1/1 [==============================] - 3s 3s/step\n",
            "1/1 [==============================] - 3s 3s/step\n",
            "1/1 [==============================] - 4s 4s/step\n",
            "1/1 [==============================] - 3s 3s/step\n",
            "1/1 [==============================] - 3s 3s/step\n",
            "1/1 [==============================] - 3s 3s/step\n",
            "1/1 [==============================] - 5s 5s/step\n",
            "1/1 [==============================] - 3s 3s/step\n",
            "1/1 [==============================] - 3s 3s/step\n",
            "1/1 [==============================] - 4s 4s/step\n",
            "1/1 [==============================] - 3s 3s/step\n",
            "1/1 [==============================] - 3s 3s/step\n",
            "1/1 [==============================] - 4s 4s/step\n",
            "1/1 [==============================] - 3s 3s/step\n",
            "1/1 [==============================] - 3s 3s/step\n",
            "1/1 [==============================] - 3s 3s/step\n",
            "1/1 [==============================] - 4s 4s/step\n",
            "1/1 [==============================] - 3s 3s/step\n",
            "1/1 [==============================] - 3s 3s/step\n",
            "1/1 [==============================] - 5s 5s/step\n",
            "1/1 [==============================] - 3s 3s/step\n",
            "1/1 [==============================] - 3s 3s/step\n",
            "1/1 [==============================] - 4s 4s/step\n",
            "1/1 [==============================] - 3s 3s/step\n",
            "1/1 [==============================] - 3s 3s/step\n",
            "1/1 [==============================] - 5s 5s/step\n",
            "1/1 [==============================] - 3s 3s/step\n",
            "1/1 [==============================] - 5s 5s/step\n",
            "1/1 [==============================] - 3s 3s/step\n",
            "1/1 [==============================] - 4s 4s/step\n",
            "1/1 [==============================] - 3s 3s/step\n",
            "1/1 [==============================] - 3s 3s/step\n",
            "1/1 [==============================] - 6s 6s/step\n",
            "1/1 [==============================] - 4s 4s/step\n",
            "1/1 [==============================] - 5s 5s/step\n",
            "1/1 [==============================] - 3s 3s/step\n",
            "1/1 [==============================] - 3s 3s/step\n",
            "1/1 [==============================] - 3s 3s/step\n",
            "1/1 [==============================] - 5s 5s/step\n",
            "1/1 [==============================] - 3s 3s/step\n",
            "1/1 [==============================] - 3s 3s/step\n",
            "1/1 [==============================] - 3s 3s/step\n",
            "1/1 [==============================] - 4s 4s/step\n"
          ]
        }
      ]
    },
    {
      "cell_type": "code",
      "source": [],
      "metadata": {
        "id": "68nJirpFHdqX"
      },
      "execution_count": null,
      "outputs": []
    },
    {
      "cell_type": "code",
      "source": [
        "# # prompt: using this as an example, tile_111 = read_nine_band_image(\"/content/haleiwa_02/111_2year.tif\")\n",
        "# # change read_nine_band_image to read_thirteen_band_image for all the files. all the files\n",
        "\n",
        "# tile_111 = read_thirteen_band_image(\"/content/haleiwa_03/111_3year.tif\")\n",
        "# tile_112 = read_thirteen_band_image(\"/content/haleiwa_03/112_3year.tif\")\n",
        "# tile_126 = read_thirteen_band_image(\"/content/haleiwa_03/126_3year.tif\")\n",
        "# tile_127 = read_thirteen_band_image(\"/content/haleiwa_03/127_3year.tif\")\n",
        "# tile_140 = read_thirteen_band_image(\"/content/haleiwa_03/140_3year.tif\")\n",
        "# tile_141 = read_thirteen_band_image(\"/content/haleiwa_03/141_3year.tif\")\n",
        "# tile_142 = read_thirteen_band_image(\"/content/haleiwa_03/142_3year.tif\")\n",
        "# tile_143 = read_thirteen_band_image(\"/content/haleiwa_03/143_3year.tif\")\n",
        "# tile_154 = read_thirteen_band_image(\"/content/haleiwa_03/154_3year.tif\")\n",
        "# tile_155 = read_thirteen_band_image(\"/content/haleiwa_03/155_3year.tif\")\n",
        "# tile_156 = read_thirteen_band_image(\"/content/haleiwa_03/156_3year.tif\")\n",
        "# tile_157 = read_thirteen_band_image(\"/content/haleiwa_03/157_3year.tif\")\n",
        "# tile_158 = read_thirteen_band_image(\"/content/haleiwa_03/158_3year.tif\")\n",
        "# tile_159 = read_thirteen_band_image(\"/content/haleiwa_03/159_3year.tif\")\n",
        "# tile_170 = read_thirteen_band_image(\"/content/haleiwa_03/170_3year.tif\")\n",
        "# tile_171 = read_thirteen_band_image(\"/content/haleiwa_03/171_3year.tif\")\n",
        "# tile_172 = read_thirteen_band_image(\"/content/haleiwa_03/172_3year.tif\")\n",
        "# tile_173 = read_thirteen_band_image(\"/content/haleiwa_03/173_3year.tif\")\n",
        "# tile_185 = read_thirteen_band_image(\"/content/haleiwa_03/185_3year.tif\")\n",
        "# tile_186 = read_thirteen_band_image(\"/content/haleiwa_03/186_3year.tif\")\n",
        "# tile_188 = read_thirteen_band_image(\"/content/haleiwa_03/188_3year.tif\")\n",
        "# tile_189 = read_thirteen_band_image(\"/content/haleiwa_03/189_3year.tif\")\n",
        "# tile_203 = read_thirteen_band_image(\"/content/haleiwa_03/203_3year.tif\")\n",
        "# tile_204 = read_thirteen_band_image(\"/content/haleiwa_03/204_3year.tif\")\n",
        "# tile_219 = read_thirteen_band_image(\"/content/haleiwa_03/219_3year.tif\")\n",
        "# tile_220 = read_thirteen_band_image(\"/content/haleiwa_03/220_3year.tif\")\n",
        "# tile_221 = read_thirteen_band_image(\"/content/haleiwa_03/221_3year.tif\")\n",
        "# tile_222 = read_thirteen_band_image(\"/content/haleiwa_03/222_3year.tif\")\n",
        "# tile_234 = read_thirteen_band_image(\"/content/haleiwa_03/234_3year.tif\")\n",
        "# tile_235 = read_thirteen_band_image(\"/content/haleiwa_03/235_3year.tif\")\n",
        "# tile_250 = read_thirteen_band_image(\"/content/haleiwa_03/250_3year.tif\")\n",
        "# tile_251 = read_thirteen_band_image(\"/content/haleiwa_03/251_3year.tif\")\n",
        "# tile_252 = read_thirteen_band_image(\"/content/haleiwa_03/252_3year.tif\")\n",
        "# tile_265 = read_thirteen_band_image(\"/content/haleiwa_03/265_3year.tif\")\n",
        "# tile_266 = read_thirteen_band_image(\"/content/haleiwa_03/266_3year.tif\")\n",
        "# tile_267 = read_thirteen_band_image(\"/content/haleiwa_03/267_3year.tif\")\n",
        "# tile_280 = read_thirteen_band_image(\"/content/haleiwa_03/280_3year.tif\")\n",
        "# tile_281 = read_thirteen_band_image(\"/content/haleiwa_03/281_3year.tif\")\n",
        "# tile_282 = read_thirteen_band_image(\"/content/haleiwa_03/282_3year.tif\")\n",
        "# tile_283 = read_thirteen_band_image(\"/content/haleiwa_03/283_3year.tif\")\n",
        "# tile_298 = read_thirteen_band_image(\"/content/haleiwa_03/298_3year.tif\")\n",
        "# tile_330 = read_thirteen_band_image(\"/content/haleiwa_03/330_3year.tif\")"
      ],
      "metadata": {
        "id": "bRYV7Q9B9fOl"
      },
      "execution_count": 168,
      "outputs": []
    },
    {
      "cell_type": "code",
      "source": [
        "# tile_111 = read_nine_band_image(\"/content/haleiwa_02/111_2year.tif\")\n",
        "# tile_112 = read_nine_band_image(\"/content/haleiwa_02/112_2year.tif\")\n",
        "# tile_126 = read_nine_band_image(\"/content/haleiwa_02/126_2year.tif\")\n",
        "# tile_127 = read_nine_band_image(\"/content/haleiwa_02/127_2year.tif\")\n",
        "# tile_140 = read_nine_band_image(\"/content/haleiwa_02/140_2year.tif\")\n",
        "# tile_141 = read_nine_band_image(\"/content/haleiwa_02/141_2year.tif\")\n",
        "# tile_142 = read_nine_band_image(\"/content/haleiwa_02/142_2year.tif\")\n",
        "# tile_143 = read_nine_band_image(\"/content/haleiwa_02/143_2year.tif\")\n",
        "# tile_154 = read_nine_band_image(\"/content/haleiwa_02/154_2year.tif\")\n",
        "# tile_155 = read_nine_band_image(\"/content/haleiwa_02/155_2year.tif\")\n",
        "# tile_156 = read_nine_band_image(\"/content/haleiwa_02/156_2year.tif\")\n",
        "# tile_157 = read_nine_band_image(\"/content/haleiwa_02/157_2year.tif\")\n",
        "# tile_158 = read_nine_band_image(\"/content/haleiwa_02/158_2year.tif\")\n",
        "# tile_159 = read_nine_band_image(\"/content/haleiwa_02/159_2year.tif\")\n",
        "# tile_170 = read_nine_band_image(\"/content/haleiwa_02/170_2year.tif\")\n",
        "# tile_171 = read_nine_band_image(\"/content/haleiwa_02/171_2year.tif\")\n",
        "# tile_172 = read_nine_band_image(\"/content/haleiwa_02/172_2year.tif\")\n",
        "# tile_173 = read_nine_band_image(\"/content/haleiwa_02/173_2year.tif\")\n",
        "# tile_185 = read_nine_band_image(\"/content/haleiwa_02/185_2year.tif\")\n",
        "# tile_186 = read_nine_band_image(\"/content/haleiwa_02/186_2year.tif\")\n",
        "# tile_188 = read_nine_band_image(\"/content/haleiwa_02/188_2year.tif\")\n",
        "# tile_189 = read_nine_band_image(\"/content/haleiwa_02/189_2year.tif\")\n",
        "# tile_203 = read_nine_band_image(\"/content/haleiwa_02/203_2year.tif\")\n",
        "# tile_204 = read_nine_band_image(\"/content/haleiwa_02/204_2year.tif\")\n",
        "# tile_219 = read_nine_band_image(\"/content/haleiwa_02/219_2year.tif\")\n",
        "# tile_220 = read_nine_band_image(\"/content/haleiwa_02/220_2year.tif\")\n",
        "# tile_221 = read_nine_band_image(\"/content/haleiwa_02/221_2year.tif\")\n",
        "# tile_222 = read_nine_band_image(\"/content/haleiwa_02/222_2year.tif\")\n",
        "# tile_234 = read_nine_band_image(\"/content/haleiwa_02/234_2year.tif\")\n",
        "# tile_235 = read_nine_band_image(\"/content/haleiwa_02/235_2year.tif\")\n",
        "# tile_250 = read_nine_band_image(\"/content/haleiwa_02/250_2year.tif\")\n",
        "# tile_251 = read_nine_band_image(\"/content/haleiwa_02/251_2year.tif\")\n",
        "# tile_252 = read_nine_band_image(\"/content/haleiwa_02/252_2year.tif\")\n",
        "# tile_265 = read_nine_band_image(\"/content/haleiwa_02/265_2year.tif\")\n",
        "# tile_266 = read_nine_band_image(\"/content/haleiwa_02/266_2year.tif\")\n",
        "# tile_267 = read_nine_band_image(\"/content/haleiwa_02/267_2year.tif\")\n",
        "# tile_280 = read_nine_band_image(\"/content/haleiwa_02/280_2year.tif\")\n",
        "# tile_281 = read_nine_band_image(\"/content/haleiwa_02/281_2year.tif\")\n",
        "# tile_282 = read_nine_band_image(\"/content/haleiwa_02/282_2year.tif\")\n",
        "# tile_283 = read_nine_band_image(\"/content/haleiwa_02/283_2year.tif\")\n",
        "# tile_298 = read_nine_band_image(\"/content/haleiwa_02/298_2year.tif\")\n",
        "# tile_330 = read_nine_band_image(\"/content/haleiwa_02/330_2year.tif\")"
      ],
      "metadata": {
        "id": "64kqSycOx_C6"
      },
      "execution_count": 109,
      "outputs": []
    },
    {
      "cell_type": "code",
      "source": [
        "# tile_111 = read_multi_image_withfive(\"/content/haleiwa_01/111_1year.tif\")\n",
        "# tile_112 = read_multi_image_withfive(\"/content/haleiwa_01/112_1year.tif\")\n",
        "# tile_126 = read_multi_image_withfive(\"/content/haleiwa_01/126_1year.tif\")\n",
        "# tile_127 = read_multi_image_withfive(\"/content/haleiwa_01/127_1year.tif\")\n",
        "# tile_140 = read_multi_image_withfive(\"/content/haleiwa_01/140_1year.tif\")\n",
        "# tile_141 = read_multi_image_withfive(\"/content/haleiwa_01/141_1year.tif\")\n",
        "# tile_142 = read_multi_image_withfive(\"/content/haleiwa_01/142_1year.tif\")\n",
        "# tile_143 = read_multi_image_withfive(\"/content/haleiwa_01/143_1year.tif\")\n",
        "# tile_154 = read_multi_image_withfive(\"/content/haleiwa_01/154_1year.tif\")\n",
        "# tile_155 = read_multi_image_withfive(\"/content/haleiwa_01/155_1year.tif\")\n",
        "# tile_156 = read_multi_image_withfive(\"/content/haleiwa_01/156_1year.tif\")\n",
        "# tile_157 = read_multi_image_withfive(\"/content/haleiwa_01/157_1year.tif\")\n",
        "# tile_158 = read_multi_image_withfive(\"/content/haleiwa_01/158_1year.tif\")\n",
        "# tile_159 = read_multi_image_withfive(\"/content/haleiwa_01/159_1year.tif\")\n",
        "# tile_170 = read_multi_image_withfive(\"/content/haleiwa_01/170_1year.tif\")\n",
        "# tile_171 = read_multi_image_withfive(\"/content/haleiwa_01/171_1year.tif\")\n",
        "# tile_172 = read_multi_image_withfive(\"/content/haleiwa_01/172_1year.tif\")\n",
        "# tile_173 = read_multi_image_withfive(\"/content/haleiwa_01/173_1year.tif\")\n",
        "# tile_185 = read_multi_image_withfive(\"/content/haleiwa_01/185_1year.tif\")\n",
        "# tile_186 = read_multi_image_withfive(\"/content/haleiwa_01/186_1year.tif\")\n",
        "# tile_188 = read_multi_image_withfive(\"/content/haleiwa_01/188_1year.tif\")\n",
        "# tile_189 = read_multi_image_withfive(\"/content/haleiwa_01/189_1year.tif\")\n",
        "# tile_203 = read_multi_image_withfive(\"/content/haleiwa_01/203_1year.tif\")\n",
        "# tile_204 = read_multi_image_withfive(\"/content/haleiwa_01/204_1year.tif\")\n",
        "# tile_219 = read_multi_image_withfive(\"/content/haleiwa_01/219_1year.tif\")\n",
        "# tile_220 = read_multi_image_withfive(\"/content/haleiwa_01/220_1year.tif\")\n",
        "# tile_221 = read_multi_image_withfive(\"/content/haleiwa_01/221_1year.tif\")\n",
        "# tile_222 = read_multi_image_withfive(\"/content/haleiwa_01/222_1year.tif\")\n",
        "# tile_234 = read_multi_image_withfive(\"/content/haleiwa_01/234_1year.tif\")\n",
        "# tile_235 = read_multi_image_withfive(\"/content/haleiwa_01/235_1year.tif\")\n",
        "# tile_250 = read_multi_image_withfive(\"/content/haleiwa_01/250_1year.tif\")\n",
        "# tile_251 = read_multi_image_withfive(\"/content/haleiwa_01/251_1year.tif\")\n",
        "# tile_252 = read_multi_image_withfive(\"/content/haleiwa_01/252_1year.tif\")\n",
        "# tile_265 = read_multi_image_withfive(\"/content/haleiwa_01/265_1year.tif\")\n",
        "# tile_266 = read_multi_image_withfive(\"/content/haleiwa_01/266_1year.tif\")\n",
        "# tile_267 = read_multi_image_withfive(\"/content/haleiwa_01/267_1year.tif\")\n",
        "# tile_280 = read_multi_image_withfive(\"/content/haleiwa_01/280_1year.tif\")\n",
        "# tile_281 = read_multi_image_withfive(\"/content/haleiwa_01/281_1year.tif\")\n",
        "# tile_282 = read_multi_image_withfive(\"/content/haleiwa_01/282_1year.tif\")\n",
        "# tile_283 = read_multi_image_withfive(\"/content/haleiwa_01/283_1year.tif\")\n",
        "# tile_298 = read_multi_image_withfive(\"/content/haleiwa_01/298_1year.tif\")\n",
        "# tile_330 = read_multi_image_withfive(\"/content/haleiwa_01/330_1year.tif\")\n",
        "\n"
      ],
      "metadata": {
        "id": "C5_rX08YaBKu"
      },
      "execution_count": 60,
      "outputs": []
    },
    {
      "cell_type": "code",
      "source": [],
      "metadata": {
        "id": "YybrHKSpaKek"
      },
      "execution_count": 35,
      "outputs": []
    },
    {
      "cell_type": "code",
      "source": [],
      "metadata": {
        "id": "kH73yDbkhFCG"
      },
      "execution_count": 42,
      "outputs": []
    },
    {
      "cell_type": "code",
      "source": [
        "# tile_111 = np.expand_dims(tile_111, axis=0)\n",
        "# tile_112 = np.expand_dims(tile_112, axis=0)\n",
        "# tile_126 = np.expand_dims(tile_126, axis=0)\n",
        "# tile_127 = np.expand_dims(tile_127, axis=0)\n",
        "# tile_140 = np.expand_dims(tile_140, axis=0)\n",
        "# tile_141 = np.expand_dims(tile_141, axis=0)\n",
        "# tile_142 = np.expand_dims(tile_142, axis=0)\n",
        "# tile_143 = np.expand_dims(tile_143, axis=0)\n",
        "# tile_154 = np.expand_dims(tile_154, axis=0)\n",
        "# tile_155 = np.expand_dims(tile_155, axis=0)\n",
        "# tile_156 = np.expand_dims(tile_156, axis=0)\n",
        "# tile_157 = np.expand_dims(tile_157, axis=0)\n",
        "# tile_158 = np.expand_dims(tile_158, axis=0)\n",
        "# tile_159 = np.expand_dims(tile_159, axis=0)\n",
        "# tile_170 = np.expand_dims(tile_170, axis=0)\n",
        "# tile_171 = np.expand_dims(tile_171, axis=0)\n",
        "# tile_172 = np.expand_dims(tile_172, axis=0)\n",
        "# tile_173 = np.expand_dims(tile_173, axis=0)\n",
        "# tile_185 = np.expand_dims(tile_185, axis=0)\n",
        "# tile_186 = np.expand_dims(tile_186, axis=0)\n",
        "# tile_188 = np.expand_dims(tile_188, axis=0)\n",
        "# tile_189 = np.expand_dims(tile_189, axis=0)\n",
        "# tile_203 = np.expand_dims(tile_203, axis=0)\n",
        "# tile_204 = np.expand_dims(tile_204, axis=0)\n",
        "# tile_219 = np.expand_dims(tile_219, axis=0)\n",
        "# tile_220 = np.expand_dims(tile_220, axis=0)\n",
        "# tile_221 = np.expand_dims(tile_221, axis=0)\n",
        "# tile_222 = np.expand_dims(tile_222, axis=0)\n",
        "# tile_234 = np.expand_dims(tile_234, axis=0)\n",
        "# tile_235 = np.expand_dims(tile_235, axis=0)\n",
        "# tile_250 = np.expand_dims(tile_250, axis=0)\n",
        "# tile_251 = np.expand_dims(tile_251, axis=0)\n",
        "# tile_252 = np.expand_dims(tile_252, axis=0)\n",
        "# tile_265 = np.expand_dims(tile_265, axis=0)\n",
        "# tile_266 = np.expand_dims(tile_266, axis=0)\n",
        "# tile_267 = np.expand_dims(tile_267, axis=0)\n",
        "# tile_280 = np.expand_dims(tile_280, axis=0)\n",
        "# tile_281 = np.expand_dims(tile_281, axis=0)\n",
        "# tile_282 = np.expand_dims(tile_282, axis=0)\n",
        "# tile_283 = np.expand_dims(tile_283, axis=0)\n",
        "# tile_298 = np.expand_dims(tile_298, axis=0)\n",
        "# tile_330 = np.expand_dims(tile_330, axis=0)"
      ],
      "metadata": {
        "id": "Qm6mhWRpmkHw"
      },
      "execution_count": 169,
      "outputs": []
    },
    {
      "cell_type": "code",
      "source": [],
      "metadata": {
        "colab": {
          "base_uri": "https://localhost:8080/"
        },
        "id": "wb0LwuaJaPTA",
        "outputId": "6072aba0-214e-4147-a4d9-dae4d0b20edb"
      },
      "execution_count": 36,
      "outputs": [
        {
          "output_type": "stream",
          "name": "stdout",
          "text": [
            "1/1 [==============================] - 8s 8s/step\n",
            "1/1 [==============================] - 5s 5s/step\n",
            "1/1 [==============================] - 4s 4s/step\n",
            "1/1 [==============================] - 5s 5s/step\n"
          ]
        }
      ]
    },
    {
      "cell_type": "code",
      "source": [],
      "metadata": {
        "colab": {
          "base_uri": "https://localhost:8080/"
        },
        "id": "Rz5-NaOuhIIE",
        "outputId": "7ee9f39d-4376-48d6-8449-e440da2029f6"
      },
      "execution_count": 43,
      "outputs": [
        {
          "output_type": "stream",
          "name": "stdout",
          "text": [
            "1/1 [==============================] - 6s 6s/step\n",
            "1/1 [==============================] - 3s 3s/step\n",
            "1/1 [==============================] - 3s 3s/step\n",
            "1/1 [==============================] - 3s 3s/step\n"
          ]
        }
      ]
    },
    {
      "cell_type": "code",
      "source": [
        "# tile_111_result = model_03.predict(tile_111)\n",
        "# tile_112_result = model_03.predict(tile_112)\n",
        "# tile_126_result = model_03.predict(tile_126)\n",
        "# tile_127_result = model_03.predict(tile_127)\n",
        "# tile_140_result = model_03.predict(tile_140)\n",
        "# tile_141_result = model_03.predict(tile_141)\n",
        "# tile_142_result = model_03.predict(tile_142)\n",
        "# tile_143_result = model_03.predict(tile_143)\n",
        "# tile_154_result = model_03.predict(tile_154)\n",
        "# tile_155_result = model_03.predict(tile_155)\n",
        "# tile_156_result = model_03.predict(tile_156)\n",
        "# tile_157_result = model_03.predict(tile_157)\n",
        "# tile_158_result = model_03.predict(tile_158)\n",
        "# tile_159_result = model_03.predict(tile_159)\n",
        "# tile_170_result = model_03.predict(tile_170)\n",
        "# tile_171_result = model_03.predict(tile_171)\n",
        "# tile_172_result = model_03.predict(tile_172)\n",
        "# tile_173_result = model_03.predict(tile_173)\n",
        "# tile_185_result = model_03.predict(tile_185)\n",
        "# tile_186_result = model_03.predict(tile_186)\n",
        "# tile_188_result = model_03.predict(tile_188)\n",
        "# tile_189_result = model_03.predict(tile_189)\n",
        "# tile_203_result = model_03.predict(tile_203)\n",
        "# tile_204_result = model_03.predict(tile_204)\n",
        "# tile_219_result = model_03.predict(tile_219)\n",
        "# tile_220_result = model_03.predict(tile_220)\n",
        "# tile_221_result = model_03.predict(tile_221)\n",
        "# tile_222_result = model_03.predict(tile_222)\n",
        "# tile_234_result = model_03.predict(tile_234)\n",
        "# tile_235_result = model_03.predict(tile_235)\n",
        "# tile_250_result = model_03.predict(tile_250)\n",
        "# tile_251_result = model_03.predict(tile_251)\n",
        "# tile_252_result = model_03.predict(tile_252)\n",
        "# tile_265_result = model_03.predict(tile_265)\n",
        "# tile_266_result = model_03.predict(tile_266)\n",
        "# tile_267_result = model_03.predict(tile_267)\n",
        "# tile_280_result = model_03.predict(tile_280)\n",
        "# tile_281_result = model_03.predict(tile_281)\n",
        "# tile_282_result = model_03.predict(tile_282)\n",
        "# tile_283_result = model_03.predict(tile_283)\n",
        "# tile_298_result = model_03.predict(tile_298)\n",
        "# tile_330_result = model_03.predict(tile_330)\n"
      ],
      "metadata": {
        "colab": {
          "base_uri": "https://localhost:8080/"
        },
        "id": "Jzap9J2knQtO",
        "outputId": "059dc7da-31bf-474e-db05-eba1bb0172ae"
      },
      "execution_count": 171,
      "outputs": [
        {
          "output_type": "stream",
          "name": "stdout",
          "text": [
            "1/1 [==============================] - 6s 6s/step\n",
            "1/1 [==============================] - 7s 7s/step\n",
            "1/1 [==============================] - 9s 9s/step\n",
            "1/1 [==============================] - 7s 7s/step\n",
            "1/1 [==============================] - 6s 6s/step\n",
            "1/1 [==============================] - 5s 5s/step\n",
            "1/1 [==============================] - 6s 6s/step\n",
            "1/1 [==============================] - 4s 4s/step\n",
            "1/1 [==============================] - 3s 3s/step\n",
            "1/1 [==============================] - 4s 4s/step\n",
            "1/1 [==============================] - 4s 4s/step\n",
            "1/1 [==============================] - 3s 3s/step\n",
            "1/1 [==============================] - 3s 3s/step\n",
            "1/1 [==============================] - 6s 6s/step\n",
            "1/1 [==============================] - 8s 8s/step\n",
            "1/1 [==============================] - 4s 4s/step\n",
            "1/1 [==============================] - 4s 4s/step\n",
            "1/1 [==============================] - 6s 6s/step\n",
            "1/1 [==============================] - 6s 6s/step\n",
            "1/1 [==============================] - 7s 7s/step\n",
            "1/1 [==============================] - 3s 3s/step\n",
            "1/1 [==============================] - 6s 6s/step\n",
            "1/1 [==============================] - 6s 6s/step\n",
            "1/1 [==============================] - 4s 4s/step\n",
            "1/1 [==============================] - 7s 7s/step\n",
            "1/1 [==============================] - 3s 3s/step\n",
            "1/1 [==============================] - 5s 5s/step\n",
            "1/1 [==============================] - 7s 7s/step\n",
            "1/1 [==============================] - 4s 4s/step\n",
            "1/1 [==============================] - 4s 4s/step\n",
            "1/1 [==============================] - 6s 6s/step\n",
            "1/1 [==============================] - 4s 4s/step\n",
            "1/1 [==============================] - 5s 5s/step\n",
            "1/1 [==============================] - 8s 8s/step\n",
            "1/1 [==============================] - 5s 5s/step\n",
            "1/1 [==============================] - 5s 5s/step\n",
            "1/1 [==============================] - 4s 4s/step\n",
            "1/1 [==============================] - 4s 4s/step\n",
            "1/1 [==============================] - 6s 6s/step\n",
            "1/1 [==============================] - 3s 3s/step\n",
            "1/1 [==============================] - 4s 4s/step\n",
            "1/1 [==============================] - 4s 4s/step\n"
          ]
        }
      ]
    },
    {
      "cell_type": "code",
      "source": [
        "\n",
        "# weight_tile_111 = \"/content/output_weight_01/111_1year_weight.tif\"\n",
        "# weight_tile_112 = \"/content/output_weight_01/112_1year_weight.tif\"\n",
        "# weight_tile_126 = \"/content/output_weight_01/126_1year_weight.tif\"\n",
        "# weight_tile_127 = \"/content/output_weight_01/127_1year_weight.tif\"\n",
        "# weight_tile_140 = \"/content/output_weight_01/140_1year_weight.tif\"\n",
        "# weight_tile_141 = \"/content/output_weight_01/141_1year_weight.tif\"\n",
        "# weight_tile_142 = \"/content/output_weight_01/142_1year_weight.tif\"\n",
        "# weight_tile_143 = \"/content/output_weight_01/143_1year_weight.tif\"\n",
        "# weight_tile_154 = \"/content/output_weight_01/154_1year_weight.tif\"\n",
        "# weight_tile_155 = \"/content/output_weight_01/155_1year_weight.tif\"\n",
        "# weight_tile_156 = \"/content/output_weight_01/156_1year_weight.tif\"\n",
        "# weight_tile_157 = \"/content/output_weight_01/157_1year_weight.tif\"\n",
        "# weight_tile_158 = \"/content/output_weight_01/158_1year_weight.tif\"\n",
        "# weight_tile_159 = \"/content/output_weight_01/159_1year_weight.tif\"\n",
        "# weight_tile_170 = \"/content/output_weight_01/170_1year_weight.tif\"\n",
        "# weight_tile_171 = \"/content/output_weight_01/171_1year_weight.tif\"\n",
        "# weight_tile_172 = \"/content/output_weight_01/172_1year_weight.tif\"\n",
        "# weight_tile_173 = \"/content/output_weight_01/173_1year_weight.tif\"\n",
        "# weight_tile_185 = \"/content/output_weight_01/185_1year_weight.tif\"\n",
        "# weight_tile_186 = \"/content/output_weight_01/186_1year_weight.tif\"\n",
        "# weight_tile_188 = \"/content/output_weight_01/188_1year_weight.tif\"\n",
        "# weight_tile_189 = \"/content/output_weight_01/189_1year_weight.tif\"\n",
        "# weight_tile_203 = \"/content/output_weight_01/203_1year_weight.tif\"\n",
        "# weight_tile_204 = \"/content/output_weight_01/204_1year_weight.tif\"\n",
        "# weight_tile_219 = \"/content/output_weight_01/219_1year_weight.tif\"\n",
        "# weight_tile_220 = \"/content/output_weight_01/220_1year_weight.tif\"\n",
        "# weight_tile_221 = \"/content/output_weight_01/221_1year_weight.tif\"\n",
        "# weight_tile_222 = \"/content/output_weight_01/222_1year_weight.tif\"\n",
        "# weight_tile_234 = \"/content/output_weight_01/234_1year_weight.tif\"\n",
        "# weight_tile_235 = \"/content/output_weight_01/235_1year_weight.tif\"\n",
        "# weight_tile_250 = \"/content/output_weight_01/250_1year_weight.tif\"\n",
        "# weight_tile_251 = \"/content/output_weight_01/251_1year_weight.tif\"\n",
        "# weight_tile_252 = \"/content/output_weight_01/252_1year_weight.tif\"\n",
        "# weight_tile_265 = \"/content/output_weight_01/265_1year_weight.tif\"\n",
        "# weight_tile_266 = \"/content/output_weight_01/266_1year_weight.tif\"\n",
        "# weight_tile_267 = \"/content/output_weight_01/267_1year_weight.tif\"\n",
        "# weight_tile_280 = \"/content/output_weight_01/280_1year_weight.tif\"\n",
        "# weight_tile_281 = \"/content/output_weight_01/281_1year_weight.tif\"\n",
        "# weight_tile_282 = \"/content/output_weight_01/282_1year_weight.tif\"\n",
        "# weight_tile_283 = \"/content/output_weight_01/283_1year_weight.tif\"\n",
        "# weight_tile_298 = \"/content/output_weight_01/298_1year_weight.tif\"\n",
        "# weight_tile_330 = \"/content/output_weight_01/330_1year_weight.tif\"\n"
      ],
      "metadata": {
        "id": "UwUHPzCl3d-H"
      },
      "execution_count": null,
      "outputs": []
    },
    {
      "cell_type": "code",
      "source": [
        "# weight_tile_111 = \"/content/output_weight_02/111_2year_weight.tif\"\n",
        "# weight_tile_112 = \"/content/output_weight_02/112_2year_weight.tif\"\n",
        "# weight_tile_126 = \"/content/output_weight_02/126_2year_weight.tif\"\n",
        "# weight_tile_127 = \"/content/output_weight_02/127_2year_weight.tif\"\n",
        "# weight_tile_140 = \"/content/output_weight_02/140_2year_weight.tif\"\n",
        "# weight_tile_141 = \"/content/output_weight_02/141_2year_weight.tif\"\n",
        "# weight_tile_142 = \"/content/output_weight_02/142_2year_weight.tif\"\n",
        "# weight_tile_143 = \"/content/output_weight_02/143_2year_weight.tif\"\n",
        "# weight_tile_154 = \"/content/output_weight_02/154_2year_weight.tif\"\n",
        "# weight_tile_155 = \"/content/output_weight_02/155_2year_weight.tif\"\n",
        "# weight_tile_156 = \"/content/output_weight_02/156_2year_weight.tif\"\n",
        "# weight_tile_157 = \"/content/output_weight_02/157_2year_weight.tif\"\n",
        "# weight_tile_158 = \"/content/output_weight_02/158_2year_weight.tif\"\n",
        "# weight_tile_159 = \"/content/output_weight_02/159_2year_weight.tif\"\n",
        "# weight_tile_170 = \"/content/output_weight_02/170_2year_weight.tif\"\n",
        "# weight_tile_171 = \"/content/output_weight_02/171_2year_weight.tif\"\n",
        "# weight_tile_172 = \"/content/output_weight_02/172_2year_weight.tif\"\n",
        "# weight_tile_173 = \"/content/output_weight_02/173_2year_weight.tif\"\n",
        "# weight_tile_185 = \"/content/output_weight_02/185_2year_weight.tif\"\n",
        "# weight_tile_186 = \"/content/output_weight_02/186_2year_weight.tif\"\n",
        "# weight_tile_188 = \"/content/output_weight_02/188_2year_weight.tif\"\n",
        "# weight_tile_189 = \"/content/output_weight_02/189_2year_weight.tif\"\n",
        "# weight_tile_203 = \"/content/output_weight_02/203_2year_weight.tif\"\n",
        "# weight_tile_204 = \"/content/output_weight_02/204_2year_weight.tif\"\n",
        "# weight_tile_219 = \"/content/output_weight_02/219_2year_weight.tif\"\n",
        "# weight_tile_220 = \"/content/output_weight_02/220_2year_weight.tif\"\n",
        "# weight_tile_221 = \"/content/output_weight_02/221_2year_weight.tif\"\n",
        "# weight_tile_222 = \"/content/output_weight_02/222_2year_weight.tif\"\n",
        "# weight_tile_234 = \"/content/output_weight_02/234_2year_weight.tif\"\n",
        "# weight_tile_235 = \"/content/output_weight_02/235_2year_weight.tif\"\n",
        "# weight_tile_250 = \"/content/output_weight_02/250_2year_weight.tif\"\n",
        "# weight_tile_251 = \"/content/output_weight_02/251_2year_weight.tif\"\n",
        "# weight_tile_252 = \"/content/output_weight_02/252_2year_weight.tif\"\n",
        "# weight_tile_265 = \"/content/output_weight_02/265_2year_weight.tif\"\n",
        "# weight_tile_266 = \"/content/output_weight_02/266_2year_weight.tif\"\n",
        "# weight_tile_267 = \"/content/output_weight_02/267_2year_weight.tif\"\n",
        "# weight_tile_280 = \"/content/output_weight_02/280_2year_weight.tif\"\n",
        "# weight_tile_281 = \"/content/output_weight_02/281_2year_weight.tif\"\n",
        "# weight_tile_282 = \"/content/output_weight_02/282_2year_weight.tif\"\n",
        "# weight_tile_283 = \"/content/output_weight_02/283_2year_weight.tif\"\n",
        "# weight_tile_298 = \"/content/output_weight_02/298_2year_weight.tif\"\n",
        "# weight_tile_330 = \"/content/output_weight_02/330_2year_weight.tif\""
      ],
      "metadata": {
        "id": "SDSwiJWf--7G"
      },
      "execution_count": null,
      "outputs": []
    },
    {
      "cell_type": "code",
      "source": [
        "# # prompt: change output_weight_02 to output_weight_03\n",
        "\n",
        "# weight_tile_111 = \"/content/output_weight_03/111_3year_weight.tif\"\n",
        "# weight_tile_112 = \"/content/output_weight_03/112_3year_weight.tif\"\n",
        "# weight_tile_126 = \"/content/output_weight_03/126_3year_weight.tif\"\n",
        "# weight_tile_127 = \"/content/output_weight_03/127_3year_weight.tif\"\n",
        "# weight_tile_140 = \"/content/output_weight_03/140_3year_weight.tif\"\n",
        "# weight_tile_141 = \"/content/output_weight_03/141_3year_weight.tif\"\n",
        "# weight_tile_142 = \"/content/output_weight_03/142_3year_weight.tif\"\n",
        "# weight_tile_143 = \"/content/output_weight_03/143_3year_weight.tif\"\n",
        "# weight_tile_154 = \"/content/output_weight_03/154_3year_weight.tif\"\n",
        "# weight_tile_155 = \"/content/output_weight_03/155_3year_weight.tif\"\n",
        "# weight_tile_156 = \"/content/output_weight_03/156_3year_weight.tif\"\n",
        "# weight_tile_157 = \"/content/output_weight_03/157_3year_weight.tif\"\n",
        "# weight_tile_158 = \"/content/output_weight_03/158_3year_weight.tif\"\n",
        "# weight_tile_159 = \"/content/output_weight_03/159_3year_weight.tif\"\n",
        "# weight_tile_170 = \"/content/output_weight_03/170_3year_weight.tif\"\n",
        "# weight_tile_171 = \"/content/output_weight_03/171_3year_weight.tif\"\n",
        "# weight_tile_172 = \"/content/output_weight_03/172_3year_weight.tif\"\n",
        "# weight_tile_173 = \"/content/output_weight_03/173_3year_weight.tif\"\n",
        "# weight_tile_185 = \"/content/output_weight_03/185_3year_weight.tif\"\n",
        "# weight_tile_186 = \"/content/output_weight_03/186_3year_weight.tif\"\n",
        "# weight_tile_188 = \"/content/output_weight_03/188_3year_weight.tif\"\n",
        "# weight_tile_189 = \"/content/output_weight_03/189_3year_weight.tif\"\n",
        "# weight_tile_203 = \"/content/output_weight_03/203_3year_weight.tif\"\n",
        "# weight_tile_204 = \"/content/output_weight_03/204_3year_weight.tif\"\n",
        "# weight_tile_219 = \"/content/output_weight_03/219_3year_weight.tif\"\n",
        "# weight_tile_220 = \"/content/output_weight_03/220_3year_weight.tif\"\n",
        "# weight_tile_221 = \"/content/output_weight_03/221_3year_weight.tif\"\n",
        "# weight_tile_222 = \"/content/output_weight_03/222_3year_weight.tif\"\n",
        "# weight_tile_234 = \"/content/output_weight_03/234_3year_weight.tif\"\n",
        "# weight_tile_235 = \"/content/output_weight_03/235_3year_weight.tif\"\n",
        "# weight_tile_250 = \"/content/output_weight_03/250_3year_weight.tif\"\n",
        "# weight_tile_251 = \"/content/output_weight_03/251_3year_weight.tif\"\n",
        "# weight_tile_252 = \"/content/output_weight_03/252_3year_weight.tif\"\n",
        "# weight_tile_265 = \"/content/output_weight_03/265_3year_weight.tif\"\n",
        "# weight_tile_266 = \"/content/output_weight_03/266_3year_weight.tif\"\n",
        "# weight_tile_267 = \"/content/output_weight_03/267_3year_weight.tif\"\n",
        "# weight_tile_280 = \"/content/output_weight_03/280_3year_weight.tif\"\n",
        "# weight_tile_281 = \"/content/output_weight_03/281_3year_weight.tif\"\n",
        "# weight_tile_282 = \"/content/output_weight_03/282_3year_weight.tif\"\n",
        "# weight_tile_283 = \"/content/output_weight_03/283_3year_weight.tif\"\n",
        "# weight_tile_298 = \"/content/output_weight_03/298_3year_weight.tif\"\n",
        "# weight_tile_330 = \"/content/output_weight_03/330_3year_weight.tif\"\n"
      ],
      "metadata": {
        "id": "T9w_7DrNopTr"
      },
      "execution_count": 172,
      "outputs": []
    },
    {
      "cell_type": "code",
      "source": [
        "# input_tile_111 = \"/content/haleiwa_03/111_3year.tif\"\n",
        "# input_tile_112 = \"/content/haleiwa_03/112_3year.tif\"\n",
        "# input_tile_126 = \"/content/haleiwa_03/126_3year.tif\"\n",
        "# input_tile_127 = \"/content/haleiwa_03/127_3year.tif\"\n",
        "# input_tile_140 = \"/content/haleiwa_03/140_3year.tif\"\n",
        "# input_tile_141 = \"/content/haleiwa_03/141_3year.tif\"\n",
        "# input_tile_142 = \"/content/haleiwa_03/142_3year.tif\"\n",
        "# input_tile_143 = \"/content/haleiwa_03/143_3year.tif\"\n",
        "# input_tile_154 = \"/content/haleiwa_03/154_3year.tif\"\n",
        "# input_tile_155 = \"/content/haleiwa_03/155_3year.tif\"\n",
        "# input_tile_156 = \"/content/haleiwa_03/156_3year.tif\"\n",
        "# input_tile_157 = \"/content/haleiwa_03/157_3year.tif\"\n",
        "# input_tile_158 = \"/content/haleiwa_03/158_3year.tif\"\n",
        "# input_tile_159 = \"/content/haleiwa_03/159_3year.tif\"\n",
        "# input_tile_170 = \"/content/haleiwa_03/170_3year.tif\"\n",
        "# input_tile_171 = \"/content/haleiwa_03/171_3year.tif\"\n",
        "# input_tile_172 = \"/content/haleiwa_03/172_3year.tif\"\n",
        "# input_tile_173 = \"/content/haleiwa_03/173_3year.tif\"\n",
        "# input_tile_185 = \"/content/haleiwa_03/185_3year.tif\"\n",
        "# input_tile_186 = \"/content/haleiwa_03/186_3year.tif\"\n",
        "# input_tile_188 = \"/content/haleiwa_03/188_3year.tif\"\n",
        "# input_tile_189 = \"/content/haleiwa_03/189_3year.tif\"\n",
        "# input_tile_203 = \"/content/haleiwa_03/203_3year.tif\"\n",
        "# input_tile_204 = \"/content/haleiwa_03/204_3year.tif\"\n",
        "# input_tile_219 = \"/content/haleiwa_03/219_3year.tif\"\n",
        "# input_tile_220 = \"/content/haleiwa_03/220_3year.tif\"\n",
        "# input_tile_221 = \"/content/haleiwa_03/221_3year.tif\"\n",
        "# input_tile_222 = \"/content/haleiwa_03/222_3year.tif\"\n",
        "# input_tile_234 = \"/content/haleiwa_03/234_3year.tif\"\n",
        "# input_tile_235 = \"/content/haleiwa_03/235_3year.tif\"\n",
        "# input_tile_250 = \"/content/haleiwa_03/250_3year.tif\"\n",
        "# input_tile_251 = \"/content/haleiwa_03/251_3year.tif\"\n",
        "# input_tile_252 = \"/content/haleiwa_03/252_3year.tif\"\n",
        "# input_tile_265 = \"/content/haleiwa_03/265_3year.tif\"\n",
        "# input_tile_266 = \"/content/haleiwa_03/266_3year.tif\"\n",
        "# input_tile_267 = \"/content/haleiwa_03/267_3year.tif\"\n",
        "# input_tile_280 = \"/content/haleiwa_03/280_3year.tif\"\n",
        "# input_tile_281 = \"/content/haleiwa_03/281_3year.tif\"\n",
        "# input_tile_282 = \"/content/haleiwa_03/282_3year.tif\"\n",
        "# input_tile_283 = \"/content/haleiwa_03/283_3year.tif\"\n",
        "# input_tile_298 = \"/content/haleiwa_03/298_3year.tif\"\n",
        "# input_tile_330 = \"/content/haleiwa_03/330_3year.tif\"\n"
      ],
      "metadata": {
        "id": "UB09mxrx_bt2"
      },
      "execution_count": 173,
      "outputs": []
    },
    {
      "cell_type": "code",
      "source": [
        "# input_tile_111 = \"/content/haleiwa_02/111_2year.tif\"\n",
        "# input_tile_112 = \"/content/haleiwa_02/112_2year.tif\"\n",
        "# input_tile_126 = \"/content/haleiwa_02/126_2year.tif\"\n",
        "# input_tile_127 = \"/content/haleiwa_02/127_2year.tif\"\n",
        "# input_tile_140 = \"/content/haleiwa_02/140_2year.tif\"\n",
        "# input_tile_141 = \"/content/haleiwa_02/141_2year.tif\"\n",
        "# input_tile_142 = \"/content/haleiwa_02/142_2year.tif\"\n",
        "# input_tile_143 = \"/content/haleiwa_02/143_2year.tif\"\n",
        "# input_tile_154 = \"/content/haleiwa_02/154_2year.tif\"\n",
        "# input_tile_155 = \"/content/haleiwa_02/155_2year.tif\"\n",
        "# input_tile_156 = \"/content/haleiwa_02/156_2year.tif\"\n",
        "# input_tile_157 = \"/content/haleiwa_02/157_2year.tif\"\n",
        "# input_tile_158 = \"/content/haleiwa_02/158_2year.tif\"\n",
        "# input_tile_159 = \"/content/haleiwa_02/159_2year.tif\"\n",
        "# input_tile_170 = \"/content/haleiwa_02/170_2year.tif\"\n",
        "# input_tile_171 = \"/content/haleiwa_02/171_2year.tif\"\n",
        "# input_tile_172 = \"/content/haleiwa_02/172_2year.tif\"\n",
        "# input_tile_173 = \"/content/haleiwa_02/173_2year.tif\"\n",
        "# input_tile_185 = \"/content/haleiwa_02/185_2year.tif\"\n",
        "# input_tile_186 = \"/content/haleiwa_02/186_2year.tif\"\n",
        "# input_tile_188 = \"/content/haleiwa_02/188_2year.tif\"\n",
        "# input_tile_189 = \"/content/haleiwa_02/189_2year.tif\"\n",
        "# input_tile_203 = \"/content/haleiwa_02/203_2year.tif\"\n",
        "# input_tile_204 = \"/content/haleiwa_02/204_2year.tif\"\n",
        "# input_tile_219 = \"/content/haleiwa_02/219_2year.tif\"\n",
        "# input_tile_220 = \"/content/haleiwa_02/220_2year.tif\"\n",
        "# input_tile_221 = \"/content/haleiwa_02/221_2year.tif\"\n",
        "# input_tile_222 = \"/content/haleiwa_02/222_2year.tif\"\n",
        "# input_tile_234 = \"/content/haleiwa_02/234_2year.tif\"\n",
        "# input_tile_235 = \"/content/haleiwa_02/235_2year.tif\"\n",
        "# input_tile_250 = \"/content/haleiwa_02/250_2year.tif\"\n",
        "# input_tile_251 = \"/content/haleiwa_02/251_2year.tif\"\n",
        "# input_tile_252 = \"/content/haleiwa_02/252_2year.tif\"\n",
        "# input_tile_265 = \"/content/haleiwa_02/265_2year.tif\"\n",
        "# input_tile_266 = \"/content/haleiwa_02/266_2year.tif\"\n",
        "# input_tile_267 = \"/content/haleiwa_02/267_2year.tif\"\n",
        "# input_tile_280 = \"/content/haleiwa_02/280_2year.tif\"\n",
        "# input_tile_281 = \"/content/haleiwa_02/281_2year.tif\"\n",
        "# input_tile_282 = \"/content/haleiwa_02/282_2year.tif\"\n",
        "# input_tile_283 = \"/content/haleiwa_02/283_2year.tif\"\n",
        "# input_tile_298 = \"/content/haleiwa_02/298_2year.tif\"\n",
        "# input_tile_330 = \"/content/haleiwa_02/330_2year.tif\"\n"
      ],
      "metadata": {
        "id": "EXZT7Wxj4Kj7"
      },
      "execution_count": 114,
      "outputs": []
    },
    {
      "cell_type": "code",
      "source": [
        "# # prompt: using this as an example, output_tile_111 = \"/content/output_01/111_1year_out.tif\"\n",
        "# # change output_01 to output_02 for all files in this list.\n",
        "\n",
        "# output_tile_111 = \"/content/output_03/111_3year_out.tif\"\n",
        "# output_tile_112 = \"/content/output_03/112_3year_out.tif\"\n",
        "# output_tile_126 = \"/content/output_03/126_3year_out.tif\"\n",
        "# output_tile_127 = \"/content/output_03/127_3year_out.tif\"\n",
        "# output_tile_140 = \"/content/output_03/140_3year_out.tif\"\n",
        "# output_tile_141 = \"/content/output_03/141_3year_out.tif\"\n",
        "# output_tile_142 = \"/content/output_03/142_3year_out.tif\"\n",
        "# output_tile_143 = \"/content/output_03/143_3year_out.tif\"\n",
        "# output_tile_154 = \"/content/output_03/154_3year_out.tif\"\n",
        "# output_tile_155 = \"/content/output_03/155_3year_out.tif\"\n",
        "# output_tile_156 = \"/content/output_03/156_3year_out.tif\"\n",
        "# output_tile_157 = \"/content/output_03/157_3year_out.tif\"\n",
        "# output_tile_158 = \"/content/output_03/158_3year_out.tif\"\n",
        "# output_tile_159 = \"/content/output_03/159_3year_out.tif\"\n",
        "# output_tile_170 = \"/content/output_03/170_3year_out.tif\"\n",
        "# output_tile_171 = \"/content/output_03/171_3year_out.tif\"\n",
        "# output_tile_172 = \"/content/output_03/172_3year_out.tif\"\n",
        "# output_tile_173 = \"/content/output_03/173_3year_out.tif\"\n",
        "# output_tile_185 = \"/content/output_03/185_3year_out.tif\"\n",
        "# output_tile_186 = \"/content/output_03/186_3year_out.tif\"\n",
        "# output_tile_188 = \"/content/output_03/188_3year_out.tif\"\n",
        "# output_tile_189 = \"/content/output_03/189_3year_out.tif\"\n",
        "# output_tile_203 = \"/content/output_03/203_3year_out.tif\"\n",
        "# output_tile_204 = \"/content/output_03/204_3year_out.tif\"\n",
        "# output_tile_219 = \"/content/output_03/219_3year_out.tif\"\n",
        "# output_tile_220 = \"/content/output_03/220_3year_out.tif\"\n",
        "# output_tile_221 = \"/content/output_03/221_3year_out.tif\"\n",
        "# output_tile_222 = \"/content/output_03/222_3year_out.tif\"\n",
        "# output_tile_234 = \"/content/output_03/234_3year_out.tif\"\n",
        "# output_tile_235 = \"/content/output_03/235_3year_out.tif\"\n",
        "# output_tile_250 = \"/content/output_03/250_3year_out.tif\"\n",
        "# output_tile_251 = \"/content/output_03/251_3year_out.tif\"\n",
        "# output_tile_252 = \"/content/output_03/252_3year_out.tif\"\n",
        "# output_tile_265 = \"/content/output_03/265_3year_out.tif\"\n",
        "# output_tile_266 = \"/content/output_03/266_3year_out.tif\"\n",
        "# output_tile_267 = \"/content/output_03/267_3year_out.tif\"\n",
        "# output_tile_280 = \"/content/output_03/280_3year_out.tif\"\n",
        "# output_tile_281 = \"/content/output_03/281_3year_out.tif\"\n",
        "# output_tile_282 = \"/content/output_03/282_3year_out.tif\"\n",
        "# output_tile_283 = \"/content/output_03/283_3year_out.tif\"\n",
        "# output_tile_298 = \"/content/output_03/298_3year_out.tif\"\n",
        "# output_tile_330 = \"/content/output_03/330_3year_out.tif\"\n"
      ],
      "metadata": {
        "id": "wfUYLy1e_rvR"
      },
      "execution_count": 174,
      "outputs": []
    },
    {
      "cell_type": "code",
      "source": [
        "# # prompt: using this as an example, output_tile_111 = \"/content/output_01/111_1year_out.tif\"\n",
        "# # change output_01 to output_02 for all files in this list.\n",
        "\n",
        "# output_tile_111 = \"/content/output_02/111_2year_out.tif\"\n",
        "# output_tile_112 = \"/content/output_02/112_2year_out.tif\"\n",
        "# output_tile_126 = \"/content/output_02/126_2year_out.tif\"\n",
        "# output_tile_127 = \"/content/output_02/127_2year_out.tif\"\n",
        "# output_tile_140 = \"/content/output_02/140_2year_out.tif\"\n",
        "# output_tile_141 = \"/content/output_02/141_2year_out.tif\"\n",
        "# output_tile_142 = \"/content/output_02/142_2year_out.tif\"\n",
        "# output_tile_143 = \"/content/output_02/143_2year_out.tif\"\n",
        "# output_tile_154 = \"/content/output_02/154_2year_out.tif\"\n",
        "# output_tile_155 = \"/content/output_02/155_2year_out.tif\"\n",
        "# output_tile_156 = \"/content/output_02/156_2year_out.tif\"\n",
        "# output_tile_157 = \"/content/output_02/157_2year_out.tif\"\n",
        "# output_tile_158 = \"/content/output_02/158_2year_out.tif\"\n",
        "# output_tile_159 = \"/content/output_02/159_2year_out.tif\"\n",
        "# output_tile_170 = \"/content/output_02/170_2year_out.tif\"\n",
        "# output_tile_171 = \"/content/output_02/171_2year_out.tif\"\n",
        "# output_tile_172 = \"/content/output_02/172_2year_out.tif\"\n",
        "# output_tile_173 = \"/content/output_02/173_2year_out.tif\"\n",
        "# output_tile_185 = \"/content/output_02/185_2year_out.tif\"\n",
        "# output_tile_186 = \"/content/output_02/186_2year_out.tif\"\n",
        "# output_tile_188 = \"/content/output_02/188_2year_out.tif\"\n",
        "# output_tile_189 = \"/content/output_02/189_2year_out.tif\"\n",
        "# output_tile_203 = \"/content/output_02/203_2year_out.tif\"\n",
        "# output_tile_204 = \"/content/output_02/204_2year_out.tif\"\n",
        "# output_tile_219 = \"/content/output_02/219_2year_out.tif\"\n",
        "# output_tile_220 = \"/content/output_02/220_2year_out.tif\"\n",
        "# output_tile_221 = \"/content/output_02/221_2year_out.tif\"\n",
        "# output_tile_222 = \"/content/output_02/222_2year_out.tif\"\n",
        "# output_tile_234 = \"/content/output_02/234_2year_out.tif\"\n",
        "# output_tile_235 = \"/content/output_02/235_2year_out.tif\"\n",
        "# output_tile_250 = \"/content/output_02/250_2year_out.tif\"\n",
        "# output_tile_251 = \"/content/output_02/251_2year_out.tif\"\n",
        "# output_tile_252 = \"/content/output_02/252_2year_out.tif\"\n",
        "# output_tile_265 = \"/content/output_02/265_2year_out.tif\"\n",
        "# output_tile_266 = \"/content/output_02/266_2year_out.tif\"\n",
        "# output_tile_267 = \"/content/output_02/267_2year_out.tif\"\n",
        "# output_tile_280 = \"/content/output_02/280_2year_out.tif\"\n",
        "# output_tile_281 = \"/content/output_02/281_2year_out.tif\"\n",
        "# output_tile_282 = \"/content/output_02/282_2year_out.tif\"\n",
        "# output_tile_283 = \"/content/output_02/283_2year_out.tif\"\n",
        "# output_tile_298 = \"/content/output_02/298_2year_out.tif\"\n",
        "# output_tile_330 = \"/content/output_02/330_2year_out.tif\"\n"
      ],
      "metadata": {
        "id": "TDlxxejz4tll"
      },
      "execution_count": 115,
      "outputs": []
    },
    {
      "cell_type": "code",
      "source": [
        "# # prompt: using this as an example, weight_tile_111 = \"/content/output_weight_01/111_1year_weight.tif\"\n",
        "# # output_weight_01 to output_weight_02 for all files in this list.\n",
        "\n",
        "# weight_tile_111 = \"/content/output_weight_02/111_2year_weight.tif\"\n",
        "# weight_tile_112 = \"/content/output_weight_02/112_2year_weight.tif\"\n",
        "# weight_tile_126 = \"/content/output_weight_02/126_2year_weight.tif\"\n",
        "# weight_tile_127 = \"/content/output_weight_02/127_2year_weight.tif\"\n",
        "# weight_tile_140 = \"/content/output_weight_02/140_2year_weight.tif\"\n",
        "# weight_tile_141 = \"/content/output_weight_02/141_2year_weight.tif\"\n",
        "# weight_tile_142 = \"/content/output_weight_02/142_2year_weight.tif\"\n",
        "# weight_tile_143 = \"/content/output_weight_02/143_2year_weight.tif\"\n",
        "# weight_tile_154 = \"/content/output_weight_02/154_2year_weight.tif\"\n",
        "# weight_tile_155 = \"/content/output_weight_02/155_2year_weight.tif\"\n",
        "# weight_tile_156 = \"/content/output_weight_02/156_2year_weight.tif\"\n",
        "# weight_tile_157 = \"/content/output_weight_02/157_2year_weight.tif\"\n",
        "# weight_tile_158 = \"/content/output_weight_02/158_2year_weight.tif\"\n",
        "# weight_tile_159 = \"/content/output_weight_02/159_2year_weight.tif\"\n",
        "# weight_tile_170 = \"/content/output_weight_02/170_2year_weight.tif\"\n",
        "# weight_tile_171 = \"/content/output_weight_02/171_2year_weight.tif\"\n",
        "# weight_tile_172 = \"/content/output_weight_02/172_2year_weight.tif\"\n",
        "# weight_tile_173 = \"/content/output_weight_02/173_2year_weight.tif\"\n",
        "# weight_tile_185 = \"/content/output_weight_02/185_2year_weight.tif\"\n",
        "# weight_tile_186 = \"/content/output_weight_02/186_2year_weight.tif\"\n",
        "# weight_tile_188 = \"/content/output_weight_02/188_2year_weight.tif\"\n",
        "# weight_tile_189 = \"/content/output_weight_02/189_2year_weight.tif\"\n",
        "# weight_tile_203 = \"/content/output_weight_02/203_2year_weight.tif\"\n",
        "# weight_tile_204 = \"/content/output_weight_02/204_2year_weight.tif\"\n",
        "# weight_tile_219 = \"/content/output_weight_02/219_2year_weight.tif\"\n",
        "# weight_tile_220 = \"/content/output_weight_02/220_2year_weight.tif\"\n",
        "# weight_tile_221 = \"/content/output_weight_02/221_2year_weight.tif\"\n",
        "# weight_tile_222 = \"/content/output_weight_02/222_2year_weight.tif\"\n",
        "# weight_tile_234 = \"/content/output_weight_02/234_2year_weight.tif\"\n",
        "# weight_tile_235 = \"/content/output_weight_02/235_2year_weight.tif\"\n",
        "# weight_tile_250 = \"/content/output_weight_02/250_2year_weight.tif\"\n",
        "# weight_tile_251 = \"/content/output_weight_02/251_2year_weight.tif\"\n",
        "# weight_tile_252 = \"/content/output_weight_02/252_2year_weight.tif\"\n",
        "# weight_tile_265 = \"/content/output_weight_02/265_2year_weight.tif\"\n",
        "# weight_tile_266 = \"/content/output_weight_02/266_2year_weight.tif\"\n",
        "# weight_tile_267 = \"/content/output_weight_02/267_2year_weight.tif\"\n",
        "# weight_tile_280 = \"/content/output_weight_02/280_2year_weight.tif\"\n",
        "# weight_tile_281 = \"/content/output_weight_02/281_2year_weight.tif\"\n",
        "# weight_tile_282 = \"/content/output_weight_02/282_2year_weight.tif\"\n",
        "# weight_tile_283 = \"/content/output_weight_02/283_2year_weight.tif\"\n",
        "# weight_tile_298 = \"/content/output_weight_02/298_2year_weight.tif\"\n",
        "# weight_tile_330 = \"/content/output_weight_02/330_2year_weight.tif\"\n"
      ],
      "metadata": {
        "id": "BdMF66JU5ATx"
      },
      "execution_count": 116,
      "outputs": []
    },
    {
      "cell_type": "code",
      "source": [
        "# input_tile_111 = \"/content/haleiwa_01/111_1year.tif\"\n",
        "# input_tile_112 = \"/content/haleiwa_01/112_1year.tif\"\n",
        "# input_tile_126 = \"/content/haleiwa_01/126_1year.tif\"\n",
        "# input_tile_127 = \"/content/haleiwa_01/127_1year.tif\"\n",
        "# input_tile_140 = \"/content/haleiwa_01/140_1year.tif\"\n",
        "# input_tile_141 = \"/content/haleiwa_01/141_1year.tif\"\n",
        "# input_tile_142 = \"/content/haleiwa_01/142_1year.tif\"\n",
        "# input_tile_143 = \"/content/haleiwa_01/143_1year.tif\"\n",
        "# input_tile_154 = \"/content/haleiwa_01/154_1year.tif\"\n",
        "# input_tile_155 = \"/content/haleiwa_01/155_1year.tif\"\n",
        "# input_tile_156 = \"/content/haleiwa_01/156_1year.tif\"\n",
        "# input_tile_157 = \"/content/haleiwa_01/157_1year.tif\"\n",
        "# input_tile_158 = \"/content/haleiwa_01/158_1year.tif\"\n",
        "# input_tile_159 = \"/content/haleiwa_01/159_1year.tif\"\n",
        "# input_tile_170 = \"/content/haleiwa_01/170_1year.tif\"\n",
        "# input_tile_171 = \"/content/haleiwa_01/171_1year.tif\"\n",
        "# input_tile_172 = \"/content/haleiwa_01/172_1year.tif\"\n",
        "# input_tile_173 = \"/content/haleiwa_01/173_1year.tif\"\n",
        "# input_tile_185 = \"/content/haleiwa_01/185_1year.tif\"\n",
        "# input_tile_186 = \"/content/haleiwa_01/186_1year.tif\"\n",
        "# input_tile_188 = \"/content/haleiwa_01/188_1year.tif\"\n",
        "# input_tile_189 = \"/content/haleiwa_01/189_1year.tif\"\n",
        "# input_tile_203 = \"/content/haleiwa_01/203_1year.tif\"\n",
        "# input_tile_204 = \"/content/haleiwa_01/204_1year.tif\"\n",
        "# input_tile_219 = \"/content/haleiwa_01/219_1year.tif\"\n",
        "# input_tile_220 = \"/content/haleiwa_01/220_1year.tif\"\n",
        "# input_tile_221 = \"/content/haleiwa_01/221_1year.tif\"\n",
        "# input_tile_222 = \"/content/haleiwa_01/222_1year.tif\"\n",
        "# input_tile_234 = \"/content/haleiwa_01/234_1year.tif\"\n",
        "# input_tile_235 = \"/content/haleiwa_01/235_1year.tif\"\n",
        "# input_tile_250 = \"/content/haleiwa_01/250_1year.tif\"\n",
        "# input_tile_251 = \"/content/haleiwa_01/251_1year.tif\"\n",
        "# input_tile_252 = \"/content/haleiwa_01/252_1year.tif\"\n",
        "# input_tile_265 = \"/content/haleiwa_01/265_1year.tif\"\n",
        "# input_tile_266 = \"/content/haleiwa_01/266_1year.tif\"\n",
        "# input_tile_267 = \"/content/haleiwa_01/267_1year.tif\"\n",
        "# input_tile_280 = \"/content/haleiwa_01/280_1year.tif\"\n",
        "# input_tile_281 = \"/content/haleiwa_01/281_1year.tif\"\n",
        "# input_tile_282 = \"/content/haleiwa_01/282_1year.tif\"\n",
        "# input_tile_283 = \"/content/haleiwa_01/283_1year.tif\"\n",
        "# input_tile_298 = \"/content/haleiwa_01/298_1year.tif\"\n",
        "# input_tile_330 = \"/content/haleiwa_01/330_1year.tif\"\n",
        "\n",
        "\n",
        "\n",
        "# output_tile_111 = \"/content/output_01/111_1year_out.tif\"\n",
        "# output_tile_112 = \"/content/output_01/112_1year_out.tif\"\n",
        "# output_tile_126 = \"/content/output_01/126_1year_out.tif\"\n",
        "# output_tile_127 = \"/content/output_01/127_1year_out.tif\"\n",
        "# output_tile_140 = \"/content/output_01/140_1year_out.tif\"\n",
        "# output_tile_141 = \"/content/output_01/141_1year_out.tif\"\n",
        "# output_tile_142 = \"/content/output_01/142_1year_out.tif\"\n",
        "# output_tile_143 = \"/content/output_01/143_1year_out.tif\"\n",
        "# output_tile_154 = \"/content/output_01/154_1year_out.tif\"\n",
        "# output_tile_155 = \"/content/output_01/155_1year_out.tif\"\n",
        "# output_tile_156 = \"/content/output_01/156_1year_out.tif\"\n",
        "# output_tile_157 = \"/content/output_01/157_1year_out.tif\"\n",
        "# output_tile_158 = \"/content/output_01/158_1year_out.tif\"\n",
        "# output_tile_159 = \"/content/output_01/159_1year_out.tif\"\n",
        "# output_tile_170 = \"/content/output_01/170_1year_out.tif\"\n",
        "# output_tile_171 = \"/content/output_01/171_1year_out.tif\"\n",
        "# output_tile_172 = \"/content/output_01/172_1year_out.tif\"\n",
        "# output_tile_173 = \"/content/output_01/173_1year_out.tif\"\n",
        "# output_tile_185 = \"/content/output_01/185_1year_out.tif\"\n",
        "# output_tile_186 = \"/content/output_01/186_1year_out.tif\"\n",
        "# output_tile_188 = \"/content/output_01/188_1year_out.tif\"\n",
        "# output_tile_189 = \"/content/output_01/189_1year_out.tif\"\n",
        "# output_tile_203 = \"/content/output_01/203_1year_out.tif\"\n",
        "# output_tile_204 = \"/content/output_01/204_1year_out.tif\"\n",
        "# output_tile_219 = \"/content/output_01/219_1year_out.tif\"\n",
        "# output_tile_220 = \"/content/output_01/220_1year_out.tif\"\n",
        "# output_tile_221 = \"/content/output_01/221_1year_out.tif\"\n",
        "# output_tile_222 = \"/content/output_01/222_1year_out.tif\"\n",
        "# output_tile_234 = \"/content/output_01/234_1year_out.tif\"\n",
        "# output_tile_235 = \"/content/output_01/235_1year_out.tif\"\n",
        "# output_tile_250 = \"/content/output_01/250_1year_out.tif\"\n",
        "# output_tile_251 = \"/content/output_01/251_1year_out.tif\"\n",
        "# output_tile_252 = \"/content/output_01/252_1year_out.tif\"\n",
        "# output_tile_265 = \"/content/output_01/265_1year_out.tif\"\n",
        "# output_tile_266 = \"/content/output_01/266_1year_out.tif\"\n",
        "# output_tile_267 = \"/content/output_01/267_1year_out.tif\"\n",
        "# output_tile_280 = \"/content/output_01/280_1year_out.tif\"\n",
        "# output_tile_281 = \"/content/output_01/281_1year_out.tif\"\n",
        "# output_tile_282 = \"/content/output_01/282_1year_out.tif\"\n",
        "# output_tile_283 = \"/content/output_01/283_1year_out.tif\"\n",
        "# output_tile_298 = \"/content/output_01/298_1year_out.tif\"\n",
        "# output_tile_330 = \"/content/output_01/330_1year_out.tif\"\n",
        "\n",
        "\n",
        "\n",
        "# weight_tile_111 = \"/content/output_weight_01/111_1year_weight.tif\"\n",
        "# weight_tile_112 = \"/content/output_weight_01/112_1year_weight.tif\"\n",
        "# weight_tile_126 = \"/content/output_weight_01/126_1year_weight.tif\"\n",
        "# weight_tile_127 = \"/content/output_weight_01/127_1year_weight.tif\"\n",
        "# weight_tile_140 = \"/content/output_weight_01/140_1year_weight.tif\"\n",
        "# weight_tile_141 = \"/content/output_weight_01/141_1year_weight.tif\"\n",
        "# weight_tile_142 = \"/content/output_weight_01/142_1year_weight.tif\"\n",
        "# weight_tile_143 = \"/content/output_weight_01/143_1year_weight.tif\"\n",
        "# weight_tile_154 = \"/content/output_weight_01/154_1year_weight.tif\"\n",
        "# weight_tile_155 = \"/content/output_weight_01/155_1year_weight.tif\"\n",
        "# weight_tile_156 = \"/content/output_weight_01/156_1year_weight.tif\"\n",
        "# weight_tile_157 = \"/content/output_weight_01/157_1year_weight.tif\"\n",
        "# weight_tile_158 = \"/content/output_weight_01/158_1year_weight.tif\"\n",
        "# weight_tile_159 = \"/content/output_weight_01/159_1year_weight.tif\"\n",
        "# weight_tile_170 = \"/content/output_weight_01/170_1year_weight.tif\"\n",
        "# weight_tile_171 = \"/content/output_weight_01/171_1year_weight.tif\"\n",
        "# weight_tile_172 = \"/content/output_weight_01/172_1year_weight.tif\"\n",
        "# weight_tile_173 = \"/content/output_weight_01/173_1year_weight.tif\"\n",
        "# weight_tile_185 = \"/content/output_weight_01/185_1year_weight.tif\"\n",
        "# weight_tile_186 = \"/content/output_weight_01/186_1year_weight.tif\"\n",
        "# weight_tile_188 = \"/content/output_weight_01/188_1year_weight.tif\"\n",
        "# weight_tile_189 = \"/content/output_weight_01/189_1year_weight.tif\"\n",
        "# weight_tile_203 = \"/content/output_weight_01/203_1year_weight.tif\"\n",
        "# weight_tile_204 = \"/content/output_weight_01/204_1year_weight.tif\"\n",
        "# weight_tile_219 = \"/content/output_weight_01/219_1year_weight.tif\"\n",
        "# weight_tile_220 = \"/content/output_weight_01/220_1year_weight.tif\"\n",
        "# weight_tile_221 = \"/content/output_weight_01/221_1year_weight.tif\"\n",
        "# weight_tile_222 = \"/content/output_weight_01/222_1year_weight.tif\"\n",
        "# weight_tile_234 = \"/content/output_weight_01/234_1year_weight.tif\"\n",
        "# weight_tile_235 = \"/content/output_weight_01/235_1year_weight.tif\"\n",
        "# weight_tile_250 = \"/content/output_weight_01/250_1year_weight.tif\"\n",
        "# weight_tile_251 = \"/content/output_weight_01/251_1year_weight.tif\"\n",
        "# weight_tile_252 = \"/content/output_weight_01/252_1year_weight.tif\"\n",
        "# weight_tile_265 = \"/content/output_weight_01/265_1year_weight.tif\"\n",
        "# weight_tile_266 = \"/content/output_weight_01/266_1year_weight.tif\"\n",
        "# weight_tile_267 = \"/content/output_weight_01/267_1year_weight.tif\"\n",
        "# weight_tile_280 = \"/content/output_weight_01/280_1year_weight.tif\"\n",
        "# weight_tile_281 = \"/content/output_weight_01/281_1year_weight.tif\"\n",
        "# weight_tile_282 = \"/content/output_weight_01/282_1year_weight.tif\"\n",
        "# weight_tile_283 = \"/content/output_weight_01/283_1year_weight.tif\"\n",
        "# weight_tile_298 = \"/content/output_weight_01/298_1year_weight.tif\"\n",
        "# weight_tile_330 = \"/content/output_weight_01/330_1year_weight.tif\"\n",
        "\n"
      ],
      "metadata": {
        "id": "eAIXDjEEaUmZ"
      },
      "execution_count": 64,
      "outputs": []
    },
    {
      "cell_type": "code",
      "source": [
        "# tile_742 tile_743 tile_759 tile_760 tile_761 tile_762 tile_776 tile_777 tile_778 tile_779 tile_780 tile_781\n",
        "# tile_792 tile_793 tile_794 tile_795 tile_796 tile_797 tile_798 tile_805 tile_808 tile_809 tile_810 tile_811\n",
        "# tile_812 tile_813 tile_815 tile_821 tile_823 tile_825 tile_826 tile_827 tile_828 tile_829 tile_830 tile_831\n",
        "# tile_841 tile_842 tile_843 tile_845 tile_847 tile_848 tile_849 tile_860 tile_861 tile_862 tile_865 tile_866"
      ],
      "metadata": {
        "id": "bbKFp1l3MVpX"
      },
      "execution_count": null,
      "outputs": []
    },
    {
      "cell_type": "code",
      "source": [
        "input_tile_742 = \"/content/kahuku_3year/742_3year.tif\"\n",
        "output_tile_742 = \"/content/kahuku_output_03/742_3year_out.tif\"\n",
        "weight_tile_742 = \"/content/kahuku_weight_03/742_3year_weight.tif\"\n",
        "\n",
        "input_tile_743 = \"/content/kahuku_3year/743_3year.tif\"\n",
        "output_tile_743 = \"/content/kahuku_output_03/743_3year_out.tif\"\n",
        "weight_tile_743 = \"/content/kahuku_weight_03/743_3year_weight.tif\"\n",
        "\n",
        "input_tile_759 = \"/content/kahuku_3year/759_3year.tif\"\n",
        "output_tile_759 = \"/content/kahuku_output_03/759_3year_out.tif\"\n",
        "weight_tile_759 = \"/content/kahuku_weight_03/759_3year_weight.tif\"\n",
        "\n",
        "input_tile_760 = \"/content/kahuku_3year/760_3year.tif\"\n",
        "output_tile_760 = \"/content/kahuku_output_03/760_3year_out.tif\"\n",
        "weight_tile_760 = \"/content/kahuku_weight_03/760_3year_weight.tif\"\n",
        "\n",
        "input_tile_761 = \"/content/kahuku_3year/761_3year.tif\"\n",
        "output_tile_761 = \"/content/kahuku_output_03/761_3year_out.tif\"\n",
        "weight_tile_761 = \"/content/kahuku_weight_03/761_3year_weight.tif\"\n",
        "\n",
        "input_tile_762 = \"/content/kahuku_3year/762_3year.tif\"\n",
        "output_tile_762 = \"/content/kahuku_output_03/762_3year_out.tif\"\n",
        "weight_tile_762 = \"/content/kahuku_weight_03/762_3year_weight.tif\"\n",
        "\n",
        "input_tile_776 = \"/content/kahuku_3year/776_3year.tif\"\n",
        "output_tile_776 = \"/content/kahuku_output_03/776_3year_out.tif\"\n",
        "weight_tile_776 = \"/content/kahuku_weight_03/776_3year_weight.tif\"\n",
        "\n",
        "input_tile_777 = \"/content/kahuku_3year/777_3year.tif\"\n",
        "output_tile_777 = \"/content/kahuku_output_03/777_3year_out.tif\"\n",
        "weight_tile_777 = \"/content/kahuku_weight_03/777_3year_weight.tif\"\n",
        "\n",
        "input_tile_778 = \"/content/kahuku_3year/778_3year.tif\"\n",
        "output_tile_778 = \"/content/kahuku_output_03/778_3year_out.tif\"\n",
        "weight_tile_778 = \"/content/kahuku_weight_03/778_3year_weight.tif\"\n",
        "\n",
        "input_tile_779 = \"/content/kahuku_3year/779_3year.tif\"\n",
        "output_tile_779 = \"/content/kahuku_output_03/779_3year_out.tif\"\n",
        "weight_tile_779 = \"/content/kahuku_weight_03/779_3year_weight.tif\"\n",
        "\n",
        "input_tile_780 = \"/content/kahuku_3year/780_3year.tif\"\n",
        "output_tile_780 = \"/content/kahuku_output_03/780_3year_out.tif\"\n",
        "weight_tile_780 = \"/content/kahuku_weight_03/780_3year_weight.tif\"\n",
        "\n",
        "input_tile_781 = \"/content/kahuku_3year/781_3year.tif\"\n",
        "output_tile_781 = \"/content/kahuku_output_03/781_3year_out.tif\"\n",
        "weight_tile_781 = \"/content/kahuku_weight_03/781_3year_weight.tif\"\n",
        "\n",
        "input_tile_792 = \"/content/kahuku_3year/792_3year.tif\"\n",
        "output_tile_792 = \"/content/kahuku_output_03/792_3year_out.tif\"\n",
        "weight_tile_792 = \"/content/kahuku_weight_03/792_3year_weight.tif\"\n",
        "\n",
        "input_tile_793 = \"/content/kahuku_3year/793_3year.tif\"\n",
        "output_tile_793 = \"/content/kahuku_output_03/793_3year_out.tif\"\n",
        "weight_tile_793 = \"/content/kahuku_weight_03/793_3year_weight.tif\"\n",
        "\n",
        "input_tile_794 = \"/content/kahuku_3year/794_3year.tif\"\n",
        "output_tile_794 = \"/content/kahuku_output_03/794_3year_out.tif\"\n",
        "weight_tile_794 = \"/content/kahuku_weight_03/794_3year_weight.tif\"\n",
        "\n",
        "input_tile_795 = \"/content/kahuku_3year/795_3year.tif\"\n",
        "output_tile_795 = \"/content/kahuku_output_03/795_3year_out.tif\"\n",
        "weight_tile_795 = \"/content/kahuku_weight_03/795_3year_weight.tif\"\n",
        "\n",
        "input_tile_796 = \"/content/kahuku_3year/796_3year.tif\"\n",
        "output_tile_796 = \"/content/kahuku_output_03/796_3year_out.tif\"\n",
        "weight_tile_796 = \"/content/kahuku_weight_03/796_3year_weight.tif\"\n",
        "\n",
        "input_tile_797 = \"/content/kahuku_3year/797_3year.tif\"\n",
        "output_tile_797 = \"/content/kahuku_output_03/797_3year_out.tif\"\n",
        "weight_tile_797 = \"/content/kahuku_weight_03/797_3year_weight.tif\"\n",
        "\n",
        "input_tile_798 = \"/content/kahuku_3year/798_3year.tif\"\n",
        "output_tile_798 = \"/content/kahuku_output_03/798_3year_out.tif\"\n",
        "weight_tile_798 = \"/content/kahuku_weight_03/798_3year_weight.tif\"\n",
        "\n",
        "input_tile_805 = \"/content/kahuku_3year/805_3year.tif\"\n",
        "output_tile_805 = \"/content/kahuku_output_03/805_3year_out.tif\"\n",
        "weight_tile_805 = \"/content/kahuku_weight_03/805_3year_weight.tif\"\n",
        "\n",
        "input_tile_808 = \"/content/kahuku_3year/808_3year.tif\"\n",
        "output_tile_808 = \"/content/kahuku_output_03/808_3year_out.tif\"\n",
        "weight_tile_808 = \"/content/kahuku_weight_03/808_3year_weight.tif\"\n",
        "\n",
        "input_tile_809 = \"/content/kahuku_3year/809_3year.tif\"\n",
        "output_tile_809 = \"/content/kahuku_output_03/809_3year_out.tif\"\n",
        "weight_tile_809 = \"/content/kahuku_weight_03/809_3year_weight.tif\"\n",
        "\n",
        "input_tile_810 = \"/content/kahuku_3year/810_3year.tif\"\n",
        "output_tile_810 = \"/content/kahuku_output_03/810_3year_out.tif\"\n",
        "weight_tile_810 = \"/content/kahuku_weight_03/810_3year_weight.tif\"\n",
        "\n",
        "input_tile_811 = \"/content/kahuku_3year/811_3year.tif\"\n",
        "output_tile_811 = \"/content/kahuku_output_03/811_3year_out.tif\"\n",
        "weight_tile_811 = \"/content/kahuku_weight_03/811_3year_weight.tif\"\n",
        "\n",
        "input_tile_812 = \"/content/kahuku_3year/812_3year.tif\"\n",
        "output_tile_812 = \"/content/kahuku_output_03/812_3year_out.tif\"\n",
        "weight_tile_812 = \"/content/kahuku_weight_03/812_3year_weight.tif\"\n",
        "\n",
        "input_tile_813 = \"/content/kahuku_3year/813_3year.tif\"\n",
        "output_tile_813 = \"/content/kahuku_output_03/813_3year_out.tif\"\n",
        "weight_tile_813 = \"/content/kahuku_weight_03/813_3year_weight.tif\"\n",
        "\n",
        "input_tile_815 = \"/content/kahuku_3year/815_3year.tif\"\n",
        "output_tile_815 = \"/content/kahuku_output_03/815_3year_out.tif\"\n",
        "weight_tile_815 = \"/content/kahuku_weight_03/815_3year_weight.tif\"\n",
        "\n",
        "input_tile_821 = \"/content/kahuku_3year/821_3year.tif\"\n",
        "output_tile_821 = \"/content/kahuku_output_03/821_3year_out.tif\"\n",
        "weight_tile_821 = \"/content/kahuku_weight_03/821_3year_weight.tif\"\n",
        "\n",
        "input_tile_823 = \"/content/kahuku_3year/823_3year.tif\"\n",
        "output_tile_823 = \"/content/kahuku_output_03/823_3year_out.tif\"\n",
        "weight_tile_823 = \"/content/kahuku_weight_03/823_3year_weight.tif\"\n",
        "\n",
        "input_tile_825 = \"/content/kahuku_3year/825_3year.tif\"\n",
        "output_tile_825 = \"/content/kahuku_output_03/825_3year_out.tif\"\n",
        "weight_tile_825 = \"/content/kahuku_weight_03/825_3year_weight.tif\"\n",
        "\n",
        "input_tile_826 = \"/content/kahuku_3year/826_3year.tif\"\n",
        "output_tile_826 = \"/content/kahuku_output_03/826_3year_out.tif\"\n",
        "weight_tile_826 = \"/content/kahuku_weight_03/826_3year_weight.tif\"\n",
        "\n",
        "input_tile_827 = \"/content/kahuku_3year/827_3year.tif\"\n",
        "output_tile_827 = \"/content/kahuku_output_03/827_3year_out.tif\"\n",
        "weight_tile_827 = \"/content/kahuku_weight_03/827_3year_weight.tif\"\n",
        "\n",
        "input_tile_828 = \"/content/kahuku_3year/828_3year.tif\"\n",
        "output_tile_828 = \"/content/kahuku_output_03/828_3year_out.tif\"\n",
        "weight_tile_828 = \"/content/kahuku_weight_03/828_3year_weight.tif\"\n",
        "\n",
        "input_tile_829 = \"/content/kahuku_3year/829_3year.tif\"\n",
        "output_tile_829 = \"/content/kahuku_output_03/829_3year_out.tif\"\n",
        "weight_tile_829 = \"/content/kahuku_weight_03/829_3year_weight.tif\"\n",
        "\n",
        "input_tile_830 = \"/content/kahuku_3year/830_3year.tif\"\n",
        "output_tile_830 = \"/content/kahuku_output_03/830_3year_out.tif\"\n",
        "weight_tile_830 = \"/content/kahuku_weight_03/830_3year_weight.tif\"\n",
        "\n",
        "input_tile_831 = \"/content/kahuku_3year/831_3year.tif\"\n",
        "output_tile_831 = \"/content/kahuku_output_03/831_3year_out.tif\"\n",
        "weight_tile_831 = \"/content/kahuku_weight_03/831_3year_weight.tif\"\n",
        "\n",
        "input_tile_841 = \"/content/kahuku_3year/841_3year.tif\"\n",
        "output_tile_841 = \"/content/kahuku_output_03/841_3year_out.tif\"\n",
        "weight_tile_841 = \"/content/kahuku_weight_03/841_3year_weight.tif\"\n",
        "\n",
        "input_tile_842 = \"/content/kahuku_3year/842_3year.tif\"\n",
        "output_tile_842 = \"/content/kahuku_output_03/842_3year_out.tif\"\n",
        "weight_tile_842 = \"/content/kahuku_weight_03/842_3year_weight.tif\"\n",
        "\n",
        "input_tile_843 = \"/content/kahuku_3year/843_3year.tif\"\n",
        "output_tile_843 = \"/content/kahuku_output_03/843_3year_out.tif\"\n",
        "weight_tile_843 = \"/content/kahuku_weight_03/843_3year_weight.tif\"\n",
        "\n",
        "input_tile_845 = \"/content/kahuku_3year/845_3year.tif\"\n",
        "output_tile_845 = \"/content/kahuku_output_03/845_3year_out.tif\"\n",
        "weight_tile_845 = \"/content/kahuku_weight_03/845_3year_weight.tif\"\n",
        "\n",
        "input_tile_847 = \"/content/kahuku_3year/847_3year.tif\"\n",
        "output_tile_847 = \"/content/kahuku_output_03/847_3year_out.tif\"\n",
        "weight_tile_847 = \"/content/kahuku_weight_03/847_3year_weight.tif\"\n",
        "\n",
        "input_tile_848 = \"/content/kahuku_3year/848_3year.tif\"\n",
        "output_tile_848 = \"/content/kahuku_output_03/848_3year_out.tif\"\n",
        "weight_tile_848 = \"/content/kahuku_weight_03/848_3year_weight.tif\"\n",
        "\n",
        "input_tile_849 = \"/content/kahuku_3year/849_3year.tif\"\n",
        "output_tile_849 = \"/content/kahuku_output_03/849_3year_out.tif\"\n",
        "weight_tile_849 = \"/content/kahuku_weight_03/849_3year_weight.tif\"\n",
        "\n",
        "input_tile_860 = \"/content/kahuku_3year/860_3year.tif\"\n",
        "output_tile_860 = \"/content/kahuku_output_03/860_3year_out.tif\"\n",
        "weight_tile_860 = \"/content/kahuku_weight_03/860_3year_weight.tif\"\n",
        "\n",
        "input_tile_861 = \"/content/kahuku_3year/861_3year.tif\"\n",
        "output_tile_861 = \"/content/kahuku_output_03/861_3year_out.tif\"\n",
        "weight_tile_861 = \"/content/kahuku_weight_03/861_3year_weight.tif\"\n",
        "\n",
        "input_tile_862 = \"/content/kahuku_3year/862_3year.tif\"\n",
        "output_tile_862 = \"/content/kahuku_output_03/862_3year_out.tif\"\n",
        "weight_tile_862 = \"/content/kahuku_weight_03/862_3year_weight.tif\"\n",
        "\n",
        "input_tile_865 = \"/content/kahuku_3year/865_3year.tif\"\n",
        "output_tile_865 = \"/content/kahuku_output_03/865_3year_out.tif\"\n",
        "weight_tile_865 = \"/content/kahuku_weight_03/865_3year_weight.tif\"\n",
        "\n",
        "input_tile_866 = \"/content/kahuku_3year/866_3year.tif\"\n",
        "output_tile_866 = \"/content/kahuku_output_03/866_3year_out.tif\"\n",
        "weight_tile_866 = \"/content/kahuku_weight_03/866_3year_weight.tif\""
      ],
      "metadata": {
        "id": "tro2EBylNBVT"
      },
      "execution_count": 228,
      "outputs": []
    },
    {
      "cell_type": "code",
      "source": [
        "# prompt: make new folder \"kahuku_output_03\"\n",
        "# make new folder \"kahuku_weight_03\"\n",
        "\n",
        "!mkdir kahuku_output_03\n",
        "!mkdir kahuku_weight_03\n"
      ],
      "metadata": {
        "id": "9FD8JmxyNBSC"
      },
      "execution_count": 229,
      "outputs": []
    },
    {
      "cell_type": "code",
      "source": [
        "\n",
        "!mkdir kahuku_output_03\n",
        "!mkdir kahuku_weight_03\n",
        "\n",
        "tiles = [742, 743, 759, 760, 761, 762, 776, 777, 778, 779, 780, 781, 792, 793, 794, 795, 796, 797, 798, 805, 808, 809, 810, 811, 812, 813, 815, 821, 823, 825, 826, 827, 828, 829, 830, 831, 841, 842, 843, 845, 847, 848, 849, 860, 861, 862, 865, 866]\n",
        "\n",
        "for tile in tiles:\n",
        "    input_tile = f\"/content/kahuku_3year/{tile}_3year.tif\"\n",
        "    output_tile = f\"/content/kahuku_output_03/{tile}_3year_out.tif\"\n",
        "    weight_tile = f\"/content/kahuku_weight_03/{tile}_3year_weight.tif\"\n",
        "\n",
        "    tile_result = eval(f'tile_{tile}_result')\n",
        "\n",
        "    with rasterio.open(input_tile) as src:\n",
        "        out_meta = src.meta.copy()\n",
        "        out_meta.update({\n",
        "            'dtype': 'float32',\n",
        "            'count' : 7\n",
        "        })\n",
        "        data_out = tile_result[0]\n",
        "        data_out = np.moveaxis(data_out, -1, 0)\n",
        "        weight_matrix = create_weight_matrix(384, 384)\n",
        "        weighted_data_out = weight_matrix * data_out\n",
        "\n",
        "    with rasterio.open(output_tile, 'w', **out_meta) as dst:\n",
        "        dst.write(data_out)\n",
        "    with rasterio.open(weight_tile, 'w', **out_meta) as dst:\n",
        "        dst.write(weighted_data_out)\n"
      ],
      "metadata": {
        "id": "uglTFblCNBP-"
      },
      "execution_count": 232,
      "outputs": []
    },
    {
      "cell_type": "code",
      "source": [
        "import os\n",
        "import rasterio\n",
        "from rasterio.merge import merge\n",
        "\n",
        "def gather_raster_files(*directories):\n",
        "    \"\"\"Gather raster files from provided directories.\"\"\"\n",
        "    raster_paths = []\n",
        "    for directory in directories:\n",
        "        # List all TIFF files in each directory\n",
        "        for filename in os.listdir(directory):\n",
        "            if filename.endswith('.tif'):\n",
        "                raster_paths.append(os.path.join(directory, filename))\n",
        "    return raster_paths\n",
        "\n",
        "def create_mosaic_sum(input_rasters, output_filename='mosaic_sum.tif'):\n",
        "    \"\"\"Create a mosaic from the sum of overlapping bands using rasterio.\"\"\"\n",
        "    src_files = [rasterio.open(path) for path in input_rasters]\n",
        "\n",
        "    # Use rasterio's merge function with method='sum' to sum overlapping pixels\n",
        "    mosaic, out_trans = merge(src_files, method='sum')\n",
        "\n",
        "    # Define the metadata for the output GeoTIFF\n",
        "    out_meta = src_files[0].meta.copy()\n",
        "    out_meta.update({\n",
        "        \"driver\": \"GTiff\",\n",
        "        \"height\": mosaic.shape[1],\n",
        "        \"width\": mosaic.shape[2],\n",
        "        \"transform\": out_trans,\n",
        "        \"count\": src_files[0].count\n",
        "    })\n",
        "\n",
        "    # Write the mosaic raster to disk\n",
        "    with rasterio.open(output_filename, 'w', **out_meta) as dest:\n",
        "        dest.write(mosaic)\n",
        "\n",
        "    # Close all raster files\n",
        "    for src in src_files:\n",
        "        src.close()\n",
        "\n",
        "    print(f\"Mosaic created successfully: {output_filename}\")\n",
        "    return mosaic, out_trans\n",
        "\n",
        "# Directories containing the raster files\n",
        "output_dir = \"/content/kahuku_output_03\"\n",
        "weighted_dir = \"/content/kahuku_weight_03\"\n",
        "\n",
        "# Gather all raster files from the directories\n",
        "raster_files = gather_raster_files(output_dir, weighted_dir)\n",
        "\n",
        "# Create a mosaic with the sum of overlapping bands\n",
        "mosaic, out_transform = create_mosaic_sum(raster_files, 'kahuku_03_mosaic.tif')"
      ],
      "metadata": {
        "colab": {
          "base_uri": "https://localhost:8080/"
        },
        "id": "z_CZ0IMXQuu6",
        "outputId": "996747a1-af6c-4ea1-9ba6-ff0a2f448582"
      },
      "execution_count": 233,
      "outputs": [
        {
          "output_type": "stream",
          "name": "stdout",
          "text": [
            "Mosaic created successfully: kahuku_03_mosaic.tif\n"
          ]
        }
      ]
    },
    {
      "cell_type": "code",
      "source": [],
      "metadata": {
        "id": "I8yvlvnaQusy"
      },
      "execution_count": null,
      "outputs": []
    },
    {
      "cell_type": "code",
      "source": [],
      "metadata": {
        "id": "l4b0fSHyQuqo"
      },
      "execution_count": null,
      "outputs": []
    },
    {
      "cell_type": "code",
      "source": [],
      "metadata": {
        "id": "anc63FnEQuoU"
      },
      "execution_count": null,
      "outputs": []
    },
    {
      "cell_type": "code",
      "source": [],
      "metadata": {
        "id": "B3LlTViFQulk"
      },
      "execution_count": null,
      "outputs": []
    },
    {
      "cell_type": "code",
      "source": [],
      "metadata": {
        "id": "hPR3dsDoQujK"
      },
      "execution_count": null,
      "outputs": []
    },
    {
      "cell_type": "code",
      "source": [
        "with rasterio.open(input_tile_111) as src:\n",
        "  out_meta = src.meta.copy()\n",
        "  out_meta.update({\n",
        "      'dytpe': 'float32',\n",
        "      'count' : 7\n",
        "  })\n",
        "  data_out = tile_111_result[0]\n",
        "  data_out = np.moveaxis(data_out,-1,0)\n",
        "  weight_matrix = create_weight_matrix(384,384)\n",
        "  weighted_data_out = weight_matrix*data_out\n",
        "\n",
        "with rasterio.open(output_tile_111, 'w', **out_meta) as dst:\n",
        "  dst.write(data_out)\n",
        "with rasterio.open(weight_tile_111, 'w', **out_meta) as dst:\n",
        "  dst.write(weighted_data_out)"
      ],
      "metadata": {
        "colab": {
          "base_uri": "https://localhost:8080/"
        },
        "id": "_uUYX5Nv5h7_",
        "outputId": "64c80326-78f1-489d-b9b0-4d8acce61375"
      },
      "execution_count": 175,
      "outputs": [
        {
          "output_type": "stream",
          "name": "stderr",
          "text": [
            "WARNING:rasterio._env:CPLE_NotSupported in driver GTiff does not support creation option DYTPE\n",
            "WARNING:rasterio._env:CPLE_NotSupported in driver GTiff does not support creation option DYTPE\n"
          ]
        }
      ]
    },
    {
      "cell_type": "code",
      "source": [
        "with rasterio.open(input_tile_112) as src:\n",
        "  out_meta = src.meta.copy()\n",
        "  out_meta.update({\n",
        "      'dytpe': 'float32',\n",
        "      'count' : 7\n",
        "  })\n",
        "  data_out = tile_112_result[0]\n",
        "  data_out = np.moveaxis(data_out,-1,0)\n",
        "  weight_matrix = create_weight_matrix(384,384)\n",
        "  weighted_data_out = weight_matrix*data_out\n",
        "\n",
        "with rasterio.open(output_tile_112, 'w', **out_meta) as dst:\n",
        "  dst.write(data_out)\n",
        "with rasterio.open(weight_tile_112, 'w', **out_meta) as dst:\n",
        "  dst.write(weighted_data_out)"
      ],
      "metadata": {
        "colab": {
          "base_uri": "https://localhost:8080/"
        },
        "id": "Z2Qmlbqg5h4e",
        "outputId": "52577649-b797-40be-b648-41afc02e1e3c"
      },
      "execution_count": 176,
      "outputs": [
        {
          "output_type": "stream",
          "name": "stderr",
          "text": [
            "WARNING:rasterio._env:CPLE_NotSupported in driver GTiff does not support creation option DYTPE\n",
            "WARNING:rasterio._env:CPLE_NotSupported in driver GTiff does not support creation option DYTPE\n"
          ]
        }
      ]
    },
    {
      "cell_type": "code",
      "source": [
        "with rasterio.open(input_tile_126) as src:\n",
        "  out_meta = src.meta.copy()\n",
        "  out_meta.update({\n",
        "      'dytpe': 'float32',\n",
        "      'count' : 7\n",
        "  })\n",
        "  data_out = tile_126_result[0]\n",
        "  data_out = np.moveaxis(data_out,-1,0)\n",
        "  weight_matrix = create_weight_matrix(384,384)\n",
        "  weighted_data_out = weight_matrix*data_out\n",
        "\n",
        "with rasterio.open(output_tile_126, 'w', **out_meta) as dst:\n",
        "  dst.write(data_out)\n",
        "with rasterio.open(weight_tile_126, 'w', **out_meta) as dst:\n",
        "  dst.write(weighted_data_out)"
      ],
      "metadata": {
        "colab": {
          "base_uri": "https://localhost:8080/"
        },
        "id": "VdhD8J_95h1Q",
        "outputId": "255f8d61-989e-47fa-91fe-943f9c1d8d3c"
      },
      "execution_count": 177,
      "outputs": [
        {
          "output_type": "stream",
          "name": "stderr",
          "text": [
            "WARNING:rasterio._env:CPLE_NotSupported in driver GTiff does not support creation option DYTPE\n",
            "WARNING:rasterio._env:CPLE_NotSupported in driver GTiff does not support creation option DYTPE\n"
          ]
        }
      ]
    },
    {
      "cell_type": "code",
      "source": [
        "with rasterio.open(input_tile_127) as src:\n",
        "  out_meta = src.meta.copy()\n",
        "  out_meta.update({\n",
        "      'dytpe': 'float32',\n",
        "      'count' : 7\n",
        "  })\n",
        "  data_out = tile_127_result[0]\n",
        "  data_out = np.moveaxis(data_out,-1,0)\n",
        "  weight_matrix = create_weight_matrix(384,384)\n",
        "  weighted_data_out = weight_matrix*data_out\n",
        "\n",
        "with rasterio.open(output_tile_127, 'w', **out_meta) as dst:\n",
        "  dst.write(data_out)\n",
        "with rasterio.open(weight_tile_127, 'w', **out_meta) as dst:\n",
        "  dst.write(weighted_data_out)"
      ],
      "metadata": {
        "colab": {
          "base_uri": "https://localhost:8080/"
        },
        "id": "Fa-JBZfX5hxs",
        "outputId": "b314b310-282d-43c9-bd0a-4d6a01c99439"
      },
      "execution_count": 178,
      "outputs": [
        {
          "output_type": "stream",
          "name": "stderr",
          "text": [
            "WARNING:rasterio._env:CPLE_NotSupported in driver GTiff does not support creation option DYTPE\n",
            "WARNING:rasterio._env:CPLE_NotSupported in driver GTiff does not support creation option DYTPE\n"
          ]
        }
      ]
    },
    {
      "cell_type": "code",
      "source": [
        "with rasterio.open(input_tile_140) as src:\n",
        "  out_meta = src.meta.copy()\n",
        "  out_meta.update({\n",
        "      'dytpe': 'float32',\n",
        "      'count' : 7\n",
        "  })\n",
        "  data_out = tile_140_result[0]\n",
        "  data_out = np.moveaxis(data_out,-1,0)\n",
        "  weight_matrix = create_weight_matrix(384,384)\n",
        "  weighted_data_out = weight_matrix*data_out\n",
        "\n",
        "with rasterio.open(output_tile_140, 'w', **out_meta) as dst:\n",
        "  dst.write(data_out)\n",
        "with rasterio.open(weight_tile_140, 'w', **out_meta) as dst:\n",
        "  dst.write(weighted_data_out)"
      ],
      "metadata": {
        "colab": {
          "base_uri": "https://localhost:8080/"
        },
        "id": "gozGagoW5hul",
        "outputId": "1dd43ca6-5826-4827-8437-0e8eac981f6a"
      },
      "execution_count": 179,
      "outputs": [
        {
          "output_type": "stream",
          "name": "stderr",
          "text": [
            "WARNING:rasterio._env:CPLE_NotSupported in driver GTiff does not support creation option DYTPE\n",
            "WARNING:rasterio._env:CPLE_NotSupported in driver GTiff does not support creation option DYTPE\n"
          ]
        }
      ]
    },
    {
      "cell_type": "code",
      "source": [
        "with rasterio.open(input_tile_141) as src:\n",
        "  out_meta = src.meta.copy()\n",
        "  out_meta.update({\n",
        "      'dytpe': 'float32',\n",
        "      'count' : 7\n",
        "  })\n",
        "  data_out = tile_141_result[0]\n",
        "  data_out = np.moveaxis(data_out,-1,0)\n",
        "  weight_matrix = create_weight_matrix(384,384)\n",
        "  weighted_data_out = weight_matrix*data_out\n",
        "\n",
        "with rasterio.open(output_tile_141, 'w', **out_meta) as dst:\n",
        "  dst.write(data_out)\n",
        "with rasterio.open(weight_tile_141, 'w', **out_meta) as dst:\n",
        "  dst.write(weighted_data_out)"
      ],
      "metadata": {
        "colab": {
          "base_uri": "https://localhost:8080/"
        },
        "id": "rJt80t0p5hq_",
        "outputId": "e42d3d43-90df-46eb-eaba-1f69e3e79a63"
      },
      "execution_count": 180,
      "outputs": [
        {
          "output_type": "stream",
          "name": "stderr",
          "text": [
            "WARNING:rasterio._env:CPLE_NotSupported in driver GTiff does not support creation option DYTPE\n",
            "WARNING:rasterio._env:CPLE_NotSupported in driver GTiff does not support creation option DYTPE\n"
          ]
        }
      ]
    },
    {
      "cell_type": "code",
      "source": [
        "with rasterio.open(input_tile_142) as src:\n",
        "  out_meta = src.meta.copy()\n",
        "  out_meta.update({\n",
        "      'dytpe': 'float32',\n",
        "      'count' : 7\n",
        "  })\n",
        "  data_out = tile_142_result[0]\n",
        "  data_out = np.moveaxis(data_out,-1,0)\n",
        "  weight_matrix = create_weight_matrix(384,384)\n",
        "  weighted_data_out = weight_matrix*data_out\n",
        "\n",
        "with rasterio.open(output_tile_142, 'w', **out_meta) as dst:\n",
        "  dst.write(data_out)\n",
        "with rasterio.open(weight_tile_142, 'w', **out_meta) as dst:\n",
        "  dst.write(weighted_data_out)"
      ],
      "metadata": {
        "colab": {
          "base_uri": "https://localhost:8080/"
        },
        "id": "Fit0xoca5hnh",
        "outputId": "b6e97384-3722-4922-adbf-291ba4db5fa7"
      },
      "execution_count": 181,
      "outputs": [
        {
          "output_type": "stream",
          "name": "stderr",
          "text": [
            "WARNING:rasterio._env:CPLE_NotSupported in driver GTiff does not support creation option DYTPE\n",
            "WARNING:rasterio._env:CPLE_NotSupported in driver GTiff does not support creation option DYTPE\n"
          ]
        }
      ]
    },
    {
      "cell_type": "code",
      "source": [
        "with rasterio.open(input_tile_143) as src:\n",
        "  out_meta = src.meta.copy()\n",
        "  out_meta.update({\n",
        "      'dytpe': 'float32',\n",
        "      'count' : 7\n",
        "  })\n",
        "  data_out = tile_143_result[0]\n",
        "  data_out = np.moveaxis(data_out,-1,0)\n",
        "  weight_matrix = create_weight_matrix(384,384)\n",
        "  weighted_data_out = weight_matrix*data_out\n",
        "\n",
        "with rasterio.open(output_tile_143, 'w', **out_meta) as dst:\n",
        "  dst.write(data_out)\n",
        "with rasterio.open(weight_tile_143, 'w', **out_meta) as dst:\n",
        "  dst.write(weighted_data_out)"
      ],
      "metadata": {
        "colab": {
          "base_uri": "https://localhost:8080/"
        },
        "id": "rq7ve7WI6NBZ",
        "outputId": "0d9bd5f2-a947-4310-e97f-d6fc75bd741a"
      },
      "execution_count": 182,
      "outputs": [
        {
          "output_type": "stream",
          "name": "stderr",
          "text": [
            "WARNING:rasterio._env:CPLE_NotSupported in driver GTiff does not support creation option DYTPE\n",
            "WARNING:rasterio._env:CPLE_NotSupported in driver GTiff does not support creation option DYTPE\n"
          ]
        }
      ]
    },
    {
      "cell_type": "code",
      "source": [
        "with rasterio.open(input_tile_154) as src:\n",
        "  out_meta = src.meta.copy()\n",
        "  out_meta.update({\n",
        "      'dytpe': 'float32',\n",
        "      'count' : 7\n",
        "  })\n",
        "  data_out = tile_154_result[0]\n",
        "  data_out = np.moveaxis(data_out,-1,0)\n",
        "  weight_matrix = create_weight_matrix(384,384)\n",
        "  weighted_data_out = weight_matrix*data_out\n",
        "\n",
        "with rasterio.open(output_tile_154, 'w', **out_meta) as dst:\n",
        "  dst.write(data_out)\n",
        "with rasterio.open(weight_tile_154, 'w', **out_meta) as dst:\n",
        "  dst.write(weighted_data_out)"
      ],
      "metadata": {
        "colab": {
          "base_uri": "https://localhost:8080/"
        },
        "id": "YqrO3DOQ6M-8",
        "outputId": "d27fa344-5d18-4b84-ae96-232f18707702"
      },
      "execution_count": 183,
      "outputs": [
        {
          "output_type": "stream",
          "name": "stderr",
          "text": [
            "WARNING:rasterio._env:CPLE_NotSupported in driver GTiff does not support creation option DYTPE\n",
            "WARNING:rasterio._env:CPLE_NotSupported in driver GTiff does not support creation option DYTPE\n"
          ]
        }
      ]
    },
    {
      "cell_type": "code",
      "source": [
        "with rasterio.open(input_tile_155) as src:\n",
        "  out_meta = src.meta.copy()\n",
        "  out_meta.update({\n",
        "      'dytpe': 'float32',\n",
        "      'count' : 7\n",
        "  })\n",
        "  data_out = tile_155_result[0]\n",
        "  data_out = np.moveaxis(data_out,-1,0)\n",
        "  weight_matrix = create_weight_matrix(384,384)\n",
        "  weighted_data_out = weight_matrix*data_out\n",
        "\n",
        "with rasterio.open(output_tile_155, 'w', **out_meta) as dst:\n",
        "  dst.write(data_out)\n",
        "with rasterio.open(weight_tile_155, 'w', **out_meta) as dst:\n",
        "  dst.write(weighted_data_out)"
      ],
      "metadata": {
        "colab": {
          "base_uri": "https://localhost:8080/"
        },
        "id": "sLa2BKKZ6M75",
        "outputId": "1918b57a-8890-4426-de72-d167a996db9d"
      },
      "execution_count": 184,
      "outputs": [
        {
          "output_type": "stream",
          "name": "stderr",
          "text": [
            "WARNING:rasterio._env:CPLE_NotSupported in driver GTiff does not support creation option DYTPE\n",
            "WARNING:rasterio._env:CPLE_NotSupported in driver GTiff does not support creation option DYTPE\n"
          ]
        }
      ]
    },
    {
      "cell_type": "code",
      "source": [
        "with rasterio.open(input_tile_156) as src:\n",
        "  out_meta = src.meta.copy()\n",
        "  out_meta.update({\n",
        "      'dytpe': 'float32',\n",
        "      'count' : 7\n",
        "  })\n",
        "  data_out = tile_156_result[0]\n",
        "  data_out = np.moveaxis(data_out,-1,0)\n",
        "  weight_matrix = create_weight_matrix(384,384)\n",
        "  weighted_data_out = weight_matrix*data_out\n",
        "\n",
        "with rasterio.open(output_tile_156, 'w', **out_meta) as dst:\n",
        "  dst.write(data_out)\n",
        "with rasterio.open(weight_tile_156, 'w', **out_meta) as dst:\n",
        "  dst.write(weighted_data_out)"
      ],
      "metadata": {
        "colab": {
          "base_uri": "https://localhost:8080/"
        },
        "id": "USuvnR1x6M51",
        "outputId": "8edff267-1d59-41ca-e480-3d3e0b2c3ff9"
      },
      "execution_count": 185,
      "outputs": [
        {
          "output_type": "stream",
          "name": "stderr",
          "text": [
            "WARNING:rasterio._env:CPLE_NotSupported in driver GTiff does not support creation option DYTPE\n",
            "WARNING:rasterio._env:CPLE_NotSupported in driver GTiff does not support creation option DYTPE\n"
          ]
        }
      ]
    },
    {
      "cell_type": "code",
      "source": [
        "with rasterio.open(input_tile_157) as src:\n",
        "  out_meta = src.meta.copy()\n",
        "  out_meta.update({\n",
        "      'dytpe': 'float32',\n",
        "      'count' : 7\n",
        "  })\n",
        "  data_out = tile_157_result[0]\n",
        "  data_out = np.moveaxis(data_out,-1,0)\n",
        "  weight_matrix = create_weight_matrix(384,384)\n",
        "  weighted_data_out = weight_matrix*data_out\n",
        "\n",
        "with rasterio.open(output_tile_157, 'w', **out_meta) as dst:\n",
        "  dst.write(data_out)\n",
        "with rasterio.open(weight_tile_157, 'w', **out_meta) as dst:\n",
        "  dst.write(weighted_data_out)\n"
      ],
      "metadata": {
        "colab": {
          "base_uri": "https://localhost:8080/"
        },
        "id": "FHJo3llLaoeF",
        "outputId": "6beabd1b-c6f9-4900-c458-74f1843fa74b"
      },
      "execution_count": 186,
      "outputs": [
        {
          "output_type": "stream",
          "name": "stderr",
          "text": [
            "WARNING:rasterio._env:CPLE_NotSupported in driver GTiff does not support creation option DYTPE\n",
            "WARNING:rasterio._env:CPLE_NotSupported in driver GTiff does not support creation option DYTPE\n"
          ]
        }
      ]
    },
    {
      "cell_type": "code",
      "source": [
        "with rasterio.open(input_tile_158) as src:\n",
        "  out_meta = src.meta.copy()\n",
        "  out_meta.update({\n",
        "      'dytpe': 'float32',\n",
        "      'count' : 7\n",
        "  })\n",
        "  data_out = tile_158_result[0]\n",
        "  data_out = np.moveaxis(data_out,-1,0)\n",
        "  weight_matrix = create_weight_matrix(384,384)\n",
        "  weighted_data_out = weight_matrix*data_out\n",
        "\n",
        "with rasterio.open(output_tile_158, 'w', **out_meta) as dst:\n",
        "  dst.write(data_out)\n",
        "with rasterio.open(weight_tile_158, 'w', **out_meta) as dst:\n",
        "  dst.write(weighted_data_out)"
      ],
      "metadata": {
        "colab": {
          "base_uri": "https://localhost:8080/"
        },
        "id": "7NVG1RJZqsue",
        "outputId": "498ad112-c204-4b52-df67-d7ce155b253e"
      },
      "execution_count": 187,
      "outputs": [
        {
          "output_type": "stream",
          "name": "stderr",
          "text": [
            "WARNING:rasterio._env:CPLE_NotSupported in driver GTiff does not support creation option DYTPE\n",
            "WARNING:rasterio._env:CPLE_NotSupported in driver GTiff does not support creation option DYTPE\n"
          ]
        }
      ]
    },
    {
      "cell_type": "code",
      "source": [
        "with rasterio.open(input_tile_159) as src:\n",
        "  out_meta = src.meta.copy()\n",
        "  out_meta.update({\n",
        "      'dytpe': 'float32',\n",
        "      'count' : 7\n",
        "  })\n",
        "  data_out = tile_159_result[0]\n",
        "  data_out = np.moveaxis(data_out,-1,0)\n",
        "  weight_matrix = create_weight_matrix(384,384)\n",
        "  weighted_data_out = weight_matrix*data_out\n",
        "\n",
        "  with rasterio.open(output_tile_159, 'w', **out_meta) as dst:\n",
        "    dst.write(data_out)\n",
        "  with rasterio.open(weight_tile_159, 'w', **out_meta) as dst:\n",
        "    dst.write(weighted_data_out)"
      ],
      "metadata": {
        "colab": {
          "base_uri": "https://localhost:8080/"
        },
        "id": "gBzzKb-8qylj",
        "outputId": "0555910b-a54d-466c-ca51-b9a73299823d"
      },
      "execution_count": 188,
      "outputs": [
        {
          "output_type": "stream",
          "name": "stderr",
          "text": [
            "WARNING:rasterio._env:CPLE_NotSupported in driver GTiff does not support creation option DYTPE\n",
            "WARNING:rasterio._env:CPLE_NotSupported in driver GTiff does not support creation option DYTPE\n"
          ]
        }
      ]
    },
    {
      "cell_type": "code",
      "source": [
        "with rasterio.open(input_tile_170) as src:\n",
        "  out_meta = src.meta.copy()\n",
        "  out_meta.update({\n",
        "      'dytpe': 'float32',\n",
        "      'count' : 7\n",
        "  })\n",
        "  data_out = tile_170_result[0]\n",
        "  data_out = np.moveaxis(data_out,-1,0)\n",
        "  weight_matrix = create_weight_matrix(384,384)\n",
        "  weighted_data_out = weight_matrix*data_out\n",
        "\n",
        "with rasterio.open(output_tile_170, 'w', **out_meta) as dst:\n",
        "  dst.write(data_out)\n",
        "with rasterio.open(weight_tile_170, 'w', **out_meta) as dst:\n",
        "  dst.write(weighted_data_out)"
      ],
      "metadata": {
        "colab": {
          "base_uri": "https://localhost:8080/"
        },
        "id": "b7H8gpw9q8Lt",
        "outputId": "f7d841a9-6413-45f6-88a2-85a2c2e85733"
      },
      "execution_count": 189,
      "outputs": [
        {
          "output_type": "stream",
          "name": "stderr",
          "text": [
            "WARNING:rasterio._env:CPLE_NotSupported in driver GTiff does not support creation option DYTPE\n",
            "WARNING:rasterio._env:CPLE_NotSupported in driver GTiff does not support creation option DYTPE\n"
          ]
        }
      ]
    },
    {
      "cell_type": "code",
      "source": [
        "with rasterio.open(input_tile_171) as src:\n",
        "  out_meta = src.meta.copy()\n",
        "  out_meta.update({\n",
        "      'dytpe': 'float32',\n",
        "      'count' : 7\n",
        "  })\n",
        "  data_out = tile_171_result[0]\n",
        "  data_out = np.moveaxis(data_out,-1,0)\n",
        "  weight_matrix = create_weight_matrix(384,384)\n",
        "  weighted_data_out = weight_matrix*data_out\n",
        "\n",
        "with rasterio.open(output_tile_171, 'w', **out_meta) as dst:\n",
        "  dst.write(data_out)\n",
        "with rasterio.open(weight_tile_171, 'w', **out_meta) as dst:\n",
        "  dst.write(weighted_data_out)"
      ],
      "metadata": {
        "colab": {
          "base_uri": "https://localhost:8080/"
        },
        "id": "HWoBVkl-rA97",
        "outputId": "86598456-962b-4487-c34c-94aabdc3bbf0"
      },
      "execution_count": 190,
      "outputs": [
        {
          "output_type": "stream",
          "name": "stderr",
          "text": [
            "WARNING:rasterio._env:CPLE_NotSupported in driver GTiff does not support creation option DYTPE\n",
            "WARNING:rasterio._env:CPLE_NotSupported in driver GTiff does not support creation option DYTPE\n"
          ]
        }
      ]
    },
    {
      "cell_type": "code",
      "source": [
        "with rasterio.open(input_tile_172) as src:\n",
        "  out_meta = src.meta.copy()\n",
        "  out_meta.update({\n",
        "      'dytpe': 'float32',\n",
        "      'count' : 7\n",
        "  })\n",
        "  data_out = tile_172_result[0]\n",
        "  data_out = np.moveaxis(data_out,-1,0)\n",
        "  weight_matrix = create_weight_matrix(384,384)\n",
        "  weighted_data_out = weight_matrix*data_out\n",
        "\n",
        "\n",
        "with rasterio.open(output_tile_172, 'w', **out_meta) as dst:\n",
        "  dst.write(data_out)\n",
        "with rasterio.open(weight_tile_172, 'w', **out_meta) as dst:\n",
        "  dst.write(weighted_data_out)"
      ],
      "metadata": {
        "colab": {
          "base_uri": "https://localhost:8080/"
        },
        "id": "Dmpl0i52rFga",
        "outputId": "892bd928-5a32-40e6-b756-04a0491683ca"
      },
      "execution_count": 191,
      "outputs": [
        {
          "output_type": "stream",
          "name": "stderr",
          "text": [
            "WARNING:rasterio._env:CPLE_NotSupported in driver GTiff does not support creation option DYTPE\n",
            "WARNING:rasterio._env:CPLE_NotSupported in driver GTiff does not support creation option DYTPE\n"
          ]
        }
      ]
    },
    {
      "cell_type": "code",
      "source": [
        "with rasterio.open(input_tile_173) as src:\n",
        "  out_meta = src.meta.copy()\n",
        "  out_meta.update({\n",
        "      'dytpe': 'float32',\n",
        "      'count' : 7\n",
        "  })\n",
        "  data_out = tile_173_result[0]\n",
        "  data_out = np.moveaxis(data_out,-1,0)\n",
        "  weight_matrix = create_weight_matrix(384,384)\n",
        "  weighted_data_out = weight_matrix*data_out\n",
        "\n",
        "\n",
        "with rasterio.open(output_tile_173, 'w', **out_meta) as dst:\n",
        "  dst.write(data_out)\n",
        "with rasterio.open(weight_tile_173, 'w', **out_meta) as dst:\n",
        "  dst.write(weighted_data_out)"
      ],
      "metadata": {
        "colab": {
          "base_uri": "https://localhost:8080/"
        },
        "id": "ZjweAPxsrJ6Q",
        "outputId": "e0bc4928-b9dd-46a2-d1a1-1138def6d616"
      },
      "execution_count": 192,
      "outputs": [
        {
          "output_type": "stream",
          "name": "stderr",
          "text": [
            "WARNING:rasterio._env:CPLE_NotSupported in driver GTiff does not support creation option DYTPE\n",
            "WARNING:rasterio._env:CPLE_NotSupported in driver GTiff does not support creation option DYTPE\n"
          ]
        }
      ]
    },
    {
      "cell_type": "code",
      "source": [
        "with rasterio.open(input_tile_185) as src:\n",
        "  out_meta = src.meta.copy()\n",
        "  out_meta.update({\n",
        "      'dytpe': 'float32',\n",
        "      'count' : 7\n",
        "  })\n",
        "  data_out = tile_185_result[0]\n",
        "  data_out = np.moveaxis(data_out,-1,0)\n",
        "  weight_matrix = create_weight_matrix(384,384)\n",
        "  weighted_data_out = weight_matrix*data_out\n",
        "\n",
        "\n",
        "with rasterio.open(output_tile_185, 'w', **out_meta) as dst:\n",
        "  dst.write(data_out)\n",
        "with rasterio.open(weight_tile_185, 'w', **out_meta) as dst:\n",
        "  dst.write(weighted_data_out)"
      ],
      "metadata": {
        "colab": {
          "base_uri": "https://localhost:8080/"
        },
        "id": "1oJvdGaGrkaF",
        "outputId": "6c28422c-598f-4e6a-84dd-b46ece65b5b3"
      },
      "execution_count": 193,
      "outputs": [
        {
          "output_type": "stream",
          "name": "stderr",
          "text": [
            "WARNING:rasterio._env:CPLE_NotSupported in driver GTiff does not support creation option DYTPE\n",
            "WARNING:rasterio._env:CPLE_NotSupported in driver GTiff does not support creation option DYTPE\n"
          ]
        }
      ]
    },
    {
      "cell_type": "code",
      "source": [
        "with rasterio.open(input_tile_186) as src:\n",
        "  out_meta = src.meta.copy()\n",
        "  out_meta.update({\n",
        "      'dytpe': 'float32',\n",
        "      'count' : 7\n",
        "  })\n",
        "  data_out = tile_186_result[0]\n",
        "  data_out = np.moveaxis(data_out,-1,0)\n",
        "  weight_matrix = create_weight_matrix(384,384)\n",
        "  weighted_data_out = weight_matrix*data_out\n",
        "\n",
        "with rasterio.open(output_tile_186, 'w', **out_meta) as dst:\n",
        "  dst.write(data_out)\n",
        "with rasterio.open(weight_tile_186, 'w', **out_meta) as dst:\n",
        "  dst.write(weighted_data_out)"
      ],
      "metadata": {
        "colab": {
          "base_uri": "https://localhost:8080/"
        },
        "id": "QWcsQr8vrkXb",
        "outputId": "84d68444-f89b-4701-be23-349b702132e7"
      },
      "execution_count": 194,
      "outputs": [
        {
          "output_type": "stream",
          "name": "stderr",
          "text": [
            "WARNING:rasterio._env:CPLE_NotSupported in driver GTiff does not support creation option DYTPE\n",
            "WARNING:rasterio._env:CPLE_NotSupported in driver GTiff does not support creation option DYTPE\n"
          ]
        }
      ]
    },
    {
      "cell_type": "code",
      "source": [
        "with rasterio.open(input_tile_188) as src:\n",
        "  out_meta = src.meta.copy()\n",
        "  out_meta.update({\n",
        "      'dytpe': 'float32',\n",
        "      'count' : 7\n",
        "  })\n",
        "  data_out = tile_188_result[0]\n",
        "  data_out = np.moveaxis(data_out,-1,0)\n",
        "  weight_matrix = create_weight_matrix(384,384)\n",
        "  weighted_data_out = weight_matrix*data_out\n",
        "\n",
        "with rasterio.open(output_tile_188, 'w', **out_meta) as dst:\n",
        "  dst.write(data_out)\n",
        "with rasterio.open(weight_tile_188, 'w', **out_meta) as dst:\n",
        "  dst.write(weighted_data_out)"
      ],
      "metadata": {
        "colab": {
          "base_uri": "https://localhost:8080/"
        },
        "id": "8vhwIWqvrkUj",
        "outputId": "79c2a575-8926-4ea6-d2cc-6945cc7085b6"
      },
      "execution_count": 195,
      "outputs": [
        {
          "output_type": "stream",
          "name": "stderr",
          "text": [
            "WARNING:rasterio._env:CPLE_NotSupported in driver GTiff does not support creation option DYTPE\n",
            "WARNING:rasterio._env:CPLE_NotSupported in driver GTiff does not support creation option DYTPE\n"
          ]
        }
      ]
    },
    {
      "cell_type": "code",
      "source": [
        "with rasterio.open(input_tile_189) as src:\n",
        "  out_meta = src.meta.copy()\n",
        "  out_meta.update({\n",
        "      'dytpe': 'float32',\n",
        "      'count' : 7\n",
        "  })\n",
        "  data_out = tile_189_result[0]\n",
        "  data_out = np.moveaxis(data_out,-1,0)\n",
        "  weight_matrix = create_weight_matrix(384,384)\n",
        "  weighted_data_out = weight_matrix*data_out\n",
        "\n",
        "with rasterio.open(output_tile_189, 'w', **out_meta) as dst:\n",
        "  dst.write(data_out)\n",
        "with rasterio.open(weight_tile_189, 'w', **out_meta) as dst:\n",
        "  dst.write(weighted_data_out)"
      ],
      "metadata": {
        "colab": {
          "base_uri": "https://localhost:8080/"
        },
        "id": "bpHUAGlWrkSB",
        "outputId": "f696be85-e1e9-4b33-eb36-89d4ca41a388"
      },
      "execution_count": 196,
      "outputs": [
        {
          "output_type": "stream",
          "name": "stderr",
          "text": [
            "WARNING:rasterio._env:CPLE_NotSupported in driver GTiff does not support creation option DYTPE\n",
            "WARNING:rasterio._env:CPLE_NotSupported in driver GTiff does not support creation option DYTPE\n"
          ]
        }
      ]
    },
    {
      "cell_type": "code",
      "source": [
        "with rasterio.open(input_tile_203) as src:\n",
        "  out_meta = src.meta.copy()\n",
        "  out_meta.update({\n",
        "      'dytpe': 'float32',\n",
        "      'count' : 7\n",
        "  })\n",
        "  data_out = tile_203_result[0]\n",
        "  data_out = np.moveaxis(data_out,-1,0)\n",
        "  weight_matrix = create_weight_matrix(384,384)\n",
        "  weighted_data_out = weight_matrix*data_out\n",
        "\n",
        "with rasterio.open(output_tile_203, 'w', **out_meta) as dst:\n",
        "  dst.write(data_out)\n",
        "with rasterio.open(weight_tile_203, 'w', **out_meta) as dst:\n",
        "  dst.write(weighted_data_out)"
      ],
      "metadata": {
        "colab": {
          "base_uri": "https://localhost:8080/"
        },
        "id": "wy5JZsZ3rkO6",
        "outputId": "ba83c94f-2b6f-44ed-905b-38512c6379c7"
      },
      "execution_count": 197,
      "outputs": [
        {
          "output_type": "stream",
          "name": "stderr",
          "text": [
            "WARNING:rasterio._env:CPLE_NotSupported in driver GTiff does not support creation option DYTPE\n",
            "WARNING:rasterio._env:CPLE_NotSupported in driver GTiff does not support creation option DYTPE\n"
          ]
        }
      ]
    },
    {
      "cell_type": "code",
      "source": [
        "with rasterio.open(input_tile_204) as src:\n",
        "  out_meta = src.meta.copy()\n",
        "  out_meta.update({\n",
        "      'dytpe': 'float32',\n",
        "      'count' : 7\n",
        "  })\n",
        "  data_out = tile_204_result[0]\n",
        "  data_out = np.moveaxis(data_out,-1,0)\n",
        "  weight_matrix = create_weight_matrix(384,384)\n",
        "  weighted_data_out = weight_matrix*data_out\n",
        "\n",
        "with rasterio.open(output_tile_204, 'w', **out_meta) as dst:\n",
        "  dst.write(data_out)\n",
        "with rasterio.open(weight_tile_204, 'w', **out_meta) as dst:\n",
        "  dst.write(weighted_data_out)"
      ],
      "metadata": {
        "colab": {
          "base_uri": "https://localhost:8080/"
        },
        "id": "5icemqQTrkCy",
        "outputId": "b5ca03ba-4098-4164-f04c-ac4cb6f71668"
      },
      "execution_count": 198,
      "outputs": [
        {
          "output_type": "stream",
          "name": "stderr",
          "text": [
            "WARNING:rasterio._env:CPLE_NotSupported in driver GTiff does not support creation option DYTPE\n",
            "WARNING:rasterio._env:CPLE_NotSupported in driver GTiff does not support creation option DYTPE\n"
          ]
        }
      ]
    },
    {
      "cell_type": "code",
      "source": [
        "with rasterio.open(input_tile_219) as src:\n",
        "  out_meta = src.meta.copy()\n",
        "  out_meta.update({\n",
        "      'dytpe': 'float32',\n",
        "      'count' : 7\n",
        "  })\n",
        "  data_out = tile_219_result[0]\n",
        "  data_out = np.moveaxis(data_out,-1,0)\n",
        "  weight_matrix = create_weight_matrix(384,384)\n",
        "  weighted_data_out = weight_matrix*data_out\n",
        "\n",
        "with rasterio.open(output_tile_219, 'w', **out_meta) as dst:\n",
        "  dst.write(data_out)\n",
        "with rasterio.open(weight_tile_219, 'w', **out_meta) as dst:\n",
        "  dst.write(weighted_data_out)"
      ],
      "metadata": {
        "colab": {
          "base_uri": "https://localhost:8080/"
        },
        "id": "zUvoJBPQr_15",
        "outputId": "e5c5adb3-7666-4fc6-e57d-70c320204da6"
      },
      "execution_count": 199,
      "outputs": [
        {
          "output_type": "stream",
          "name": "stderr",
          "text": [
            "WARNING:rasterio._env:CPLE_NotSupported in driver GTiff does not support creation option DYTPE\n",
            "WARNING:rasterio._env:CPLE_NotSupported in driver GTiff does not support creation option DYTPE\n"
          ]
        }
      ]
    },
    {
      "cell_type": "code",
      "source": [
        "with rasterio.open(input_tile_220) as src:\n",
        "  out_meta = src.meta.copy()\n",
        "  out_meta.update({\n",
        "      'dytpe': 'float32',\n",
        "      'count' : 7\n",
        "  })\n",
        "  data_out = tile_220_result[0]\n",
        "  data_out = np.moveaxis(data_out,-1,0)\n",
        "  weight_matrix = create_weight_matrix(384,384)\n",
        "  weighted_data_out = weight_matrix*data_out\n",
        "\n",
        "with rasterio.open(output_tile_220, 'w', **out_meta) as dst:\n",
        "  dst.write(data_out)\n",
        "with rasterio.open(weight_tile_220, 'w', **out_meta) as dst:\n",
        "  dst.write(weighted_data_out)"
      ],
      "metadata": {
        "colab": {
          "base_uri": "https://localhost:8080/"
        },
        "id": "aGuky07or_yz",
        "outputId": "d8297f35-816c-476c-ed0a-2a33a5f8624f"
      },
      "execution_count": 200,
      "outputs": [
        {
          "output_type": "stream",
          "name": "stderr",
          "text": [
            "WARNING:rasterio._env:CPLE_NotSupported in driver GTiff does not support creation option DYTPE\n",
            "WARNING:rasterio._env:CPLE_NotSupported in driver GTiff does not support creation option DYTPE\n"
          ]
        }
      ]
    },
    {
      "cell_type": "code",
      "source": [
        "with rasterio.open(input_tile_221) as src:\n",
        "  out_meta = src.meta.copy()\n",
        "  out_meta.update({\n",
        "      'dytpe': 'float32',\n",
        "      'count' : 7\n",
        "  })\n",
        "  data_out = tile_221_result[0]\n",
        "  data_out = np.moveaxis(data_out,-1,0)\n",
        "  weight_matrix = create_weight_matrix(384,384)\n",
        "  weighted_data_out = weight_matrix*data_out\n",
        "\n",
        "with rasterio.open(output_tile_221, 'w', **out_meta) as dst:\n",
        "  dst.write(data_out)\n",
        "with rasterio.open(weight_tile_221, 'w', **out_meta) as dst:\n",
        "  dst.write(weighted_data_out)"
      ],
      "metadata": {
        "colab": {
          "base_uri": "https://localhost:8080/"
        },
        "id": "yGYjE9Wer_w3",
        "outputId": "2053c781-b878-42d6-c2a2-fb87dbf76c4e"
      },
      "execution_count": 201,
      "outputs": [
        {
          "output_type": "stream",
          "name": "stderr",
          "text": [
            "WARNING:rasterio._env:CPLE_NotSupported in driver GTiff does not support creation option DYTPE\n",
            "WARNING:rasterio._env:CPLE_NotSupported in driver GTiff does not support creation option DYTPE\n"
          ]
        }
      ]
    },
    {
      "cell_type": "code",
      "source": [
        "with rasterio.open(input_tile_222) as src:\n",
        "  out_meta = src.meta.copy()\n",
        "  out_meta.update({\n",
        "      'dytpe': 'float32',\n",
        "      'count' : 7\n",
        "  })\n",
        "  data_out = tile_222_result[0]\n",
        "  data_out = np.moveaxis(data_out,-1,0)\n",
        "  weight_matrix = create_weight_matrix(384,384)\n",
        "  weighted_data_out = weight_matrix*data_out\n",
        "\n",
        "with rasterio.open(output_tile_222, 'w', **out_meta) as dst:\n",
        "  dst.write(data_out)\n",
        "with rasterio.open(weight_tile_222, 'w', **out_meta) as dst:\n",
        "  dst.write(weighted_data_out)"
      ],
      "metadata": {
        "colab": {
          "base_uri": "https://localhost:8080/"
        },
        "id": "WCxnWlkhsprv",
        "outputId": "99399d85-d2c1-44ea-f607-01f075c1054e"
      },
      "execution_count": 202,
      "outputs": [
        {
          "output_type": "stream",
          "name": "stderr",
          "text": [
            "WARNING:rasterio._env:CPLE_NotSupported in driver GTiff does not support creation option DYTPE\n",
            "WARNING:rasterio._env:CPLE_NotSupported in driver GTiff does not support creation option DYTPE\n"
          ]
        }
      ]
    },
    {
      "cell_type": "code",
      "source": [
        "\n",
        "with rasterio.open(input_tile_234) as src:\n",
        "  out_meta = src.meta.copy()\n",
        "  out_meta.update({\n",
        "      'dytpe': 'float32',\n",
        "      'count' : 7\n",
        "  })\n",
        "  data_out = tile_234_result[0]\n",
        "  data_out = np.moveaxis(data_out,-1,0)\n",
        "  weight_matrix = create_weight_matrix(384,384)\n",
        "  weighted_data_out = weight_matrix*data_out\n",
        "\n",
        "with rasterio.open(output_tile_234, 'w', **out_meta) as dst:\n",
        "  dst.write(data_out)\n",
        "with rasterio.open(weight_tile_234, 'w', **out_meta) as dst:\n",
        "  dst.write(weighted_data_out)"
      ],
      "metadata": {
        "colab": {
          "base_uri": "https://localhost:8080/"
        },
        "id": "VIp1oPpJp7JJ",
        "outputId": "5ac20416-a647-476c-9632-cd87e53f5091"
      },
      "execution_count": 203,
      "outputs": [
        {
          "output_type": "stream",
          "name": "stderr",
          "text": [
            "WARNING:rasterio._env:CPLE_NotSupported in driver GTiff does not support creation option DYTPE\n",
            "WARNING:rasterio._env:CPLE_NotSupported in driver GTiff does not support creation option DYTPE\n"
          ]
        }
      ]
    },
    {
      "cell_type": "code",
      "source": [
        "with rasterio.open(input_tile_235) as src:\n",
        "  out_meta = src.meta.copy()\n",
        "  out_meta.update({\n",
        "      'dytpe': 'float32',\n",
        "      'count' : 7\n",
        "  })\n",
        "  data_out = tile_235_result[0]\n",
        "  data_out = np.moveaxis(data_out,-1,0)\n",
        "  weight_matrix = create_weight_matrix(384,384)\n",
        "  weighted_data_out = weight_matrix*data_out\n",
        "\n",
        "with rasterio.open(output_tile_235, 'w', **out_meta) as dst:\n",
        "  dst.write(data_out)\n",
        "with rasterio.open(weight_tile_235, 'w', **out_meta) as dst:\n",
        "  dst.write(weighted_data_out)"
      ],
      "metadata": {
        "colab": {
          "base_uri": "https://localhost:8080/"
        },
        "id": "CsItB2-8sppH",
        "outputId": "d9033a17-daa4-439d-a20e-5ed956a54bf6"
      },
      "execution_count": 204,
      "outputs": [
        {
          "output_type": "stream",
          "name": "stderr",
          "text": [
            "WARNING:rasterio._env:CPLE_NotSupported in driver GTiff does not support creation option DYTPE\n",
            "WARNING:rasterio._env:CPLE_NotSupported in driver GTiff does not support creation option DYTPE\n"
          ]
        }
      ]
    },
    {
      "cell_type": "code",
      "source": [
        "with rasterio.open(input_tile_250) as src:\n",
        "  out_meta = src.meta.copy()\n",
        "  out_meta.update({\n",
        "      'dytpe': 'float32',\n",
        "      'count' : 7\n",
        "  })\n",
        "  data_out = tile_250_result[0]\n",
        "  data_out = np.moveaxis(data_out,-1,0)\n",
        "  weight_matrix = create_weight_matrix(384,384)\n",
        "  weighted_data_out = weight_matrix*data_out\n",
        "\n",
        "with rasterio.open(output_tile_250, 'w', **out_meta) as dst:\n",
        "  dst.write(data_out)\n",
        "with rasterio.open(weight_tile_250, 'w', **out_meta) as dst:\n",
        "  dst.write(weighted_data_out)"
      ],
      "metadata": {
        "colab": {
          "base_uri": "https://localhost:8080/"
        },
        "id": "6VL0wTfSspm1",
        "outputId": "0290e55f-6e1e-4acc-9346-64ac2c143e73"
      },
      "execution_count": 205,
      "outputs": [
        {
          "output_type": "stream",
          "name": "stderr",
          "text": [
            "WARNING:rasterio._env:CPLE_NotSupported in driver GTiff does not support creation option DYTPE\n",
            "WARNING:rasterio._env:CPLE_NotSupported in driver GTiff does not support creation option DYTPE\n"
          ]
        }
      ]
    },
    {
      "cell_type": "code",
      "source": [
        "with rasterio.open(input_tile_251) as src:\n",
        "  out_meta = src.meta.copy()\n",
        "  out_meta.update({\n",
        "      'dytpe': 'float32',\n",
        "      'count' : 7\n",
        "  })\n",
        "  data_out = tile_251_result[0]\n",
        "  data_out = np.moveaxis(data_out,-1,0)\n",
        "  weight_matrix = create_weight_matrix(384,384)\n",
        "  weighted_data_out = weight_matrix*data_out\n",
        "\n",
        "with rasterio.open(output_tile_251, 'w', **out_meta) as dst:\n",
        "  dst.write(data_out)\n",
        "with rasterio.open(weight_tile_251, 'w', **out_meta) as dst:\n",
        "  dst.write(weighted_data_out)"
      ],
      "metadata": {
        "colab": {
          "base_uri": "https://localhost:8080/"
        },
        "id": "gtuHhagmspkI",
        "outputId": "048d57ac-3a0a-490d-e4e5-d3b788ed4038"
      },
      "execution_count": 206,
      "outputs": [
        {
          "output_type": "stream",
          "name": "stderr",
          "text": [
            "WARNING:rasterio._env:CPLE_NotSupported in driver GTiff does not support creation option DYTPE\n",
            "WARNING:rasterio._env:CPLE_NotSupported in driver GTiff does not support creation option DYTPE\n"
          ]
        }
      ]
    },
    {
      "cell_type": "code",
      "source": [
        "with rasterio.open(input_tile_252) as src:\n",
        "  out_meta = src.meta.copy()\n",
        "  out_meta.update({\n",
        "      'dytpe': 'float32',\n",
        "      'count' : 7\n",
        "  })\n",
        "  data_out = tile_252_result[0]\n",
        "  data_out = np.moveaxis(data_out,-1,0)\n",
        "  weight_matrix = create_weight_matrix(384,384)\n",
        "  weighted_data_out = weight_matrix*data_out\n",
        "\n",
        "with rasterio.open(output_tile_252, 'w', **out_meta) as dst:\n",
        "  dst.write(data_out)\n",
        "with rasterio.open(weight_tile_252, 'w', **out_meta) as dst:\n",
        "  dst.write(weighted_data_out)"
      ],
      "metadata": {
        "colab": {
          "base_uri": "https://localhost:8080/"
        },
        "id": "1pQlhEGwsphj",
        "outputId": "738afae1-6172-453c-d8fb-858b41aa2181"
      },
      "execution_count": 207,
      "outputs": [
        {
          "output_type": "stream",
          "name": "stderr",
          "text": [
            "WARNING:rasterio._env:CPLE_NotSupported in driver GTiff does not support creation option DYTPE\n",
            "WARNING:rasterio._env:CPLE_NotSupported in driver GTiff does not support creation option DYTPE\n"
          ]
        }
      ]
    },
    {
      "cell_type": "code",
      "source": [
        "with rasterio.open(input_tile_265) as src:\n",
        "  out_meta = src.meta.copy()\n",
        "  out_meta.update({\n",
        "      'dytpe': 'float32',\n",
        "      'count' : 7\n",
        "  })\n",
        "  data_out = tile_265_result[0]\n",
        "  data_out = np.moveaxis(data_out,-1,0)\n",
        "  weight_matrix = create_weight_matrix(384,384)\n",
        "  weighted_data_out = weight_matrix*data_out\n",
        "\n",
        "with rasterio.open(output_tile_265, 'w', **out_meta) as dst:\n",
        "  dst.write(data_out)\n",
        "with rasterio.open(weight_tile_265, 'w', **out_meta) as dst:\n",
        "  dst.write(weighted_data_out)"
      ],
      "metadata": {
        "colab": {
          "base_uri": "https://localhost:8080/"
        },
        "id": "qz5Exoo1spfJ",
        "outputId": "cca7a490-e0f8-45e1-df77-a91bc1c6c756"
      },
      "execution_count": 208,
      "outputs": [
        {
          "output_type": "stream",
          "name": "stderr",
          "text": [
            "WARNING:rasterio._env:CPLE_NotSupported in driver GTiff does not support creation option DYTPE\n",
            "WARNING:rasterio._env:CPLE_NotSupported in driver GTiff does not support creation option DYTPE\n"
          ]
        }
      ]
    },
    {
      "cell_type": "code",
      "source": [
        "with rasterio.open(input_tile_266) as src:\n",
        "  out_meta = src.meta.copy()\n",
        "  out_meta.update({\n",
        "      'dytpe': 'float32',\n",
        "      'count' : 7\n",
        "  })\n",
        "  data_out = tile_266_result[0]\n",
        "  data_out = np.moveaxis(data_out,-1,0)\n",
        "  weight_matrix = create_weight_matrix(384,384)\n",
        "  weighted_data_out = weight_matrix*data_out\n",
        "\n",
        "with rasterio.open(output_tile_266, 'w', **out_meta) as dst:\n",
        "  dst.write(data_out)\n",
        "with rasterio.open(weight_tile_266, 'w', **out_meta) as dst:\n",
        "  dst.write(weighted_data_out)"
      ],
      "metadata": {
        "colab": {
          "base_uri": "https://localhost:8080/"
        },
        "id": "-4QIb9mfspcv",
        "outputId": "85fd4d71-1f25-4fb3-bcf0-b4db4246e439"
      },
      "execution_count": 209,
      "outputs": [
        {
          "output_type": "stream",
          "name": "stderr",
          "text": [
            "WARNING:rasterio._env:CPLE_NotSupported in driver GTiff does not support creation option DYTPE\n",
            "WARNING:rasterio._env:CPLE_NotSupported in driver GTiff does not support creation option DYTPE\n"
          ]
        }
      ]
    },
    {
      "cell_type": "code",
      "source": [
        "with rasterio.open(input_tile_267) as src:\n",
        "  out_meta = src.meta.copy()\n",
        "  out_meta.update({\n",
        "      'dytpe': 'float32',\n",
        "      'count' : 7\n",
        "  })\n",
        "  data_out = tile_267_result[0]\n",
        "  data_out = np.moveaxis(data_out,-1,0)\n",
        "  weight_matrix = create_weight_matrix(384,384)\n",
        "  weighted_data_out = weight_matrix*data_out\n",
        "\n",
        "with rasterio.open(output_tile_267, 'w', **out_meta) as dst:\n",
        "  dst.write(data_out)\n",
        "with rasterio.open(weight_tile_267, 'w', **out_meta) as dst:\n",
        "  dst.write(weighted_data_out)"
      ],
      "metadata": {
        "colab": {
          "base_uri": "https://localhost:8080/"
        },
        "id": "IwczuoY_tnwG",
        "outputId": "9c93082d-06a4-4897-b5d2-ea501a29dc0f"
      },
      "execution_count": 210,
      "outputs": [
        {
          "output_type": "stream",
          "name": "stderr",
          "text": [
            "WARNING:rasterio._env:CPLE_NotSupported in driver GTiff does not support creation option DYTPE\n",
            "WARNING:rasterio._env:CPLE_NotSupported in driver GTiff does not support creation option DYTPE\n"
          ]
        }
      ]
    },
    {
      "cell_type": "code",
      "source": [
        "with rasterio.open(input_tile_280) as src:\n",
        "  out_meta = src.meta.copy()\n",
        "  out_meta.update({\n",
        "      'dytpe': 'float32',\n",
        "      'count' : 7\n",
        "  })\n",
        "  data_out = tile_280_result[0]\n",
        "  data_out = np.moveaxis(data_out,-1,0)\n",
        "  weight_matrix = create_weight_matrix(384,384)\n",
        "  weighted_data_out = weight_matrix*data_out\n",
        "\n",
        "with rasterio.open(output_tile_280, 'w', **out_meta) as dst:\n",
        "  dst.write(data_out)\n",
        "with rasterio.open(weight_tile_280, 'w', **out_meta) as dst:\n",
        "  dst.write(weighted_data_out)"
      ],
      "metadata": {
        "colab": {
          "base_uri": "https://localhost:8080/"
        },
        "id": "HZN0TOi_tntG",
        "outputId": "f70c05b8-a129-410a-ea5d-dd5fcebdf8e4"
      },
      "execution_count": 211,
      "outputs": [
        {
          "output_type": "stream",
          "name": "stderr",
          "text": [
            "WARNING:rasterio._env:CPLE_NotSupported in driver GTiff does not support creation option DYTPE\n",
            "WARNING:rasterio._env:CPLE_NotSupported in driver GTiff does not support creation option DYTPE\n"
          ]
        }
      ]
    },
    {
      "cell_type": "code",
      "source": [
        "with rasterio.open(input_tile_281) as src:\n",
        "  out_meta = src.meta.copy()\n",
        "  out_meta.update({\n",
        "      'dytpe': 'float32',\n",
        "      'count' : 7\n",
        "  })\n",
        "  data_out = tile_281_result[0]\n",
        "  data_out = np.moveaxis(data_out,-1,0)\n",
        "  weight_matrix = create_weight_matrix(384,384)\n",
        "  weighted_data_out = weight_matrix*data_out\n",
        "\n",
        "with rasterio.open(output_tile_281, 'w', **out_meta) as dst:\n",
        "  dst.write(data_out)\n",
        "with rasterio.open(weight_tile_281, 'w', **out_meta) as dst:\n",
        "  dst.write(weighted_data_out)"
      ],
      "metadata": {
        "colab": {
          "base_uri": "https://localhost:8080/"
        },
        "id": "yjZ5qUpytnq8",
        "outputId": "b8b92069-1068-46ff-92e2-2c93adfbc204"
      },
      "execution_count": 212,
      "outputs": [
        {
          "output_type": "stream",
          "name": "stderr",
          "text": [
            "WARNING:rasterio._env:CPLE_NotSupported in driver GTiff does not support creation option DYTPE\n",
            "WARNING:rasterio._env:CPLE_NotSupported in driver GTiff does not support creation option DYTPE\n"
          ]
        }
      ]
    },
    {
      "cell_type": "code",
      "source": [
        "with rasterio.open(input_tile_282) as src:\n",
        "  out_meta = src.meta.copy()\n",
        "  out_meta.update({\n",
        "      'dytpe': 'float32',\n",
        "      'count' : 7\n",
        "  })\n",
        "  data_out = tile_282_result[0]\n",
        "  data_out = np.moveaxis(data_out,-1,0)\n",
        "  weight_matrix = create_weight_matrix(384,384)\n",
        "  weighted_data_out = weight_matrix*data_out\n",
        "\n",
        "with rasterio.open(output_tile_282, 'w', **out_meta) as dst:\n",
        "  dst.write(data_out)\n",
        "with rasterio.open(weight_tile_282, 'w', **out_meta) as dst:\n",
        "  dst.write(weighted_data_out)"
      ],
      "metadata": {
        "colab": {
          "base_uri": "https://localhost:8080/"
        },
        "id": "UaWgVVL7tnoL",
        "outputId": "65c0b832-0f4e-494a-df4d-ec70508e0618"
      },
      "execution_count": 213,
      "outputs": [
        {
          "output_type": "stream",
          "name": "stderr",
          "text": [
            "WARNING:rasterio._env:CPLE_NotSupported in driver GTiff does not support creation option DYTPE\n",
            "WARNING:rasterio._env:CPLE_NotSupported in driver GTiff does not support creation option DYTPE\n"
          ]
        }
      ]
    },
    {
      "cell_type": "code",
      "source": [
        "with rasterio.open(input_tile_283) as src:\n",
        "  out_meta = src.meta.copy()\n",
        "  out_meta.update({\n",
        "      'dytpe': 'float32',\n",
        "      'count' : 7\n",
        "  })\n",
        "  data_out = tile_283_result[0]\n",
        "  data_out = np.moveaxis(data_out,-1,0)\n",
        "  weight_matrix = create_weight_matrix(384,384)\n",
        "  weighted_data_out = weight_matrix*data_out\n",
        "\n",
        "with rasterio.open(output_tile_283, 'w', **out_meta) as dst:\n",
        "  dst.write(data_out)\n",
        "with rasterio.open(weight_tile_283, 'w', **out_meta) as dst:\n",
        "  dst.write(weighted_data_out)"
      ],
      "metadata": {
        "colab": {
          "base_uri": "https://localhost:8080/"
        },
        "id": "WYxk34actnmI",
        "outputId": "8d378419-b304-4469-eb24-06801bc184cf"
      },
      "execution_count": 214,
      "outputs": [
        {
          "output_type": "stream",
          "name": "stderr",
          "text": [
            "WARNING:rasterio._env:CPLE_NotSupported in driver GTiff does not support creation option DYTPE\n",
            "WARNING:rasterio._env:CPLE_NotSupported in driver GTiff does not support creation option DYTPE\n"
          ]
        }
      ]
    },
    {
      "cell_type": "code",
      "source": [
        "with rasterio.open(input_tile_298) as src:\n",
        "  out_meta = src.meta.copy()\n",
        "  out_meta.update({\n",
        "      'dytpe': 'float32',\n",
        "      'count' : 7\n",
        "  })\n",
        "  data_out = tile_298_result[0]\n",
        "  data_out = np.moveaxis(data_out,-1,0)\n",
        "  weight_matrix = create_weight_matrix(384,384)\n",
        "  weighted_data_out = weight_matrix*data_out\n",
        "\n",
        "with rasterio.open(output_tile_298, 'w', **out_meta) as dst:\n",
        "  dst.write(data_out)\n",
        "with rasterio.open(weight_tile_298, 'w', **out_meta) as dst:\n",
        "  dst.write(weighted_data_out)"
      ],
      "metadata": {
        "colab": {
          "base_uri": "https://localhost:8080/"
        },
        "id": "-L5uEbfht4P2",
        "outputId": "d0bcfbce-0eb9-4a85-895c-505a2960acdc"
      },
      "execution_count": 215,
      "outputs": [
        {
          "output_type": "stream",
          "name": "stderr",
          "text": [
            "WARNING:rasterio._env:CPLE_NotSupported in driver GTiff does not support creation option DYTPE\n",
            "WARNING:rasterio._env:CPLE_NotSupported in driver GTiff does not support creation option DYTPE\n"
          ]
        }
      ]
    },
    {
      "cell_type": "code",
      "source": [
        "with rasterio.open(input_tile_330) as src:\n",
        "  out_meta = src.meta.copy()\n",
        "  out_meta.update({\n",
        "      'dytpe': 'float32',\n",
        "      'count' : 7\n",
        "  })\n",
        "  data_out = tile_330_result[0]\n",
        "  data_out = np.moveaxis(data_out,-1,0)\n",
        "  weight_matrix = create_weight_matrix(384,384)\n",
        "  weighted_data_out = weight_matrix*data_out\n",
        "\n",
        "with rasterio.open(output_tile_330, 'w', **out_meta) as dst:\n",
        "  dst.write(data_out)\n",
        "with rasterio.open(weight_tile_330, 'w', **out_meta) as dst:\n",
        "  dst.write(weighted_data_out)"
      ],
      "metadata": {
        "colab": {
          "base_uri": "https://localhost:8080/"
        },
        "id": "x2V7dEG2t7La",
        "outputId": "0190a282-d3d0-4646-a293-65b74147afee"
      },
      "execution_count": 216,
      "outputs": [
        {
          "output_type": "stream",
          "name": "stderr",
          "text": [
            "WARNING:rasterio._env:CPLE_NotSupported in driver GTiff does not support creation option DYTPE\n",
            "WARNING:rasterio._env:CPLE_NotSupported in driver GTiff does not support creation option DYTPE\n"
          ]
        }
      ]
    },
    {
      "cell_type": "code",
      "source": [
        "directory_path = \"/content/output_weight_03\"\n",
        "entries = os.listdir(directory_path)\n",
        "num_files = len(entries)\n",
        "print(f\"There are {num_files} files in {directory_path}.\")"
      ],
      "metadata": {
        "colab": {
          "base_uri": "https://localhost:8080/"
        },
        "id": "4-NQRLOc6kFk",
        "outputId": "e06d5e16-955b-4a59-cf06-1a3c5d315791"
      },
      "execution_count": 217,
      "outputs": [
        {
          "output_type": "stream",
          "name": "stdout",
          "text": [
            "There are 42 files in /content/output_weight_03.\n"
          ]
        }
      ]
    },
    {
      "cell_type": "code",
      "source": [
        "fgdsgr4ew3t4324554543"
      ],
      "metadata": {
        "colab": {
          "base_uri": "https://localhost:8080/",
          "height": 141
        },
        "id": "m-4WchIsDaW1",
        "outputId": "6ec9e249-bd0f-4f90-cb66-5d79f5061098"
      },
      "execution_count": 218,
      "outputs": [
        {
          "output_type": "error",
          "ename": "NameError",
          "evalue": "name 'fgdsgr4ew3t4324554543' is not defined",
          "traceback": [
            "\u001b[0;31m---------------------------------------------------------------------------\u001b[0m",
            "\u001b[0;31mNameError\u001b[0m                                 Traceback (most recent call last)",
            "\u001b[0;32m<ipython-input-218-e43a680a2c35>\u001b[0m in \u001b[0;36m<cell line: 1>\u001b[0;34m()\u001b[0m\n\u001b[0;32m----> 1\u001b[0;31m \u001b[0mfgdsgr4ew3t4324554543\u001b[0m\u001b[0;34m\u001b[0m\u001b[0;34m\u001b[0m\u001b[0m\n\u001b[0m",
            "\u001b[0;31mNameError\u001b[0m: name 'fgdsgr4ew3t4324554543' is not defined"
          ]
        }
      ]
    },
    {
      "cell_type": "code",
      "source": [],
      "metadata": {
        "id": "caSyTYRFDaUN"
      },
      "execution_count": null,
      "outputs": []
    },
    {
      "cell_type": "code",
      "source": [
        "import os\n",
        "import rasterio\n",
        "from rasterio.merge import merge\n",
        "\n",
        "def gather_raster_files(*directories):\n",
        "    \"\"\"Gather raster files from provided directories.\"\"\"\n",
        "    raster_paths = []\n",
        "    for directory in directories:\n",
        "        # List all TIFF files in each directory\n",
        "        for filename in os.listdir(directory):\n",
        "            if filename.endswith('.tif'):\n",
        "                raster_paths.append(os.path.join(directory, filename))\n",
        "    return raster_paths\n",
        "\n",
        "def create_mosaic_sum(input_rasters, output_filename='mosaic_sum.tif'):\n",
        "    \"\"\"Create a mosaic from the sum of overlapping bands using rasterio.\"\"\"\n",
        "    src_files = [rasterio.open(path) for path in input_rasters]\n",
        "\n",
        "    # Use rasterio's merge function with method='sum' to sum overlapping pixels\n",
        "    mosaic, out_trans = merge(src_files, method='sum')\n",
        "\n",
        "    # Define the metadata for the output GeoTIFF\n",
        "    out_meta = src_files[0].meta.copy()\n",
        "    out_meta.update({\n",
        "        \"driver\": \"GTiff\",\n",
        "        \"height\": mosaic.shape[1],\n",
        "        \"width\": mosaic.shape[2],\n",
        "        \"transform\": out_trans,\n",
        "        \"count\": src_files[0].count\n",
        "    })\n",
        "\n",
        "    # Write the mosaic raster to disk\n",
        "    with rasterio.open(output_filename, 'w', **out_meta) as dest:\n",
        "        dest.write(mosaic)\n",
        "\n",
        "    # Close all raster files\n",
        "    for src in src_files:\n",
        "        src.close()\n",
        "\n",
        "    print(f\"Mosaic created successfully: {output_filename}\")\n",
        "    return mosaic, out_trans\n",
        "\n",
        "# Directories containing the raster files\n",
        "output_dir = \"/content/output_03\"\n",
        "weighted_dir = \"/content/output_weight_03\"\n",
        "\n",
        "# Gather all raster files from the directories\n",
        "raster_files = gather_raster_files(output_dir, weighted_dir)\n",
        "\n",
        "# Create a mosaic with the sum of overlapping bands\n",
        "mosaic, out_transform = create_mosaic_sum(raster_files, 'haleiwa_03_mosaic.tif')\n"
      ],
      "metadata": {
        "colab": {
          "base_uri": "https://localhost:8080/"
        },
        "id": "pSSM-9Kre_Yx",
        "outputId": "539be098-02e0-4e27-baf0-83fdaaea972d"
      },
      "execution_count": 219,
      "outputs": [
        {
          "output_type": "stream",
          "name": "stdout",
          "text": [
            "Mosaic created successfully: haleiwa_03_mosaic.tif\n"
          ]
        }
      ]
    },
    {
      "cell_type": "code",
      "source": [
        "def create_weight_matrix(height, width):\n",
        "    center_x, center_y = width // 2, height // 2\n",
        "    Y, X = np.ogrid[:height, :width]\n",
        "    distance_from_center = np.sqrt((X - center_x)**2 + (Y - center_y)**2)\n",
        "\n",
        "    # Normalize the distance matrix so that the maximum distance is 1\n",
        "    max_distance = np.sqrt(center_x**2 + center_y**2)\n",
        "    normalized_distance = distance_from_center / max_distance\n",
        "\n",
        "    # Create a weight matrix where weights linearly decrease from 1 at the center to 0 at the edges\n",
        "    weight_matrix = 1 - normalized_distance\n",
        "\n",
        "    # Normalization for overlaps was incorrect in the initial approach, let's correct it:\n",
        "    # The matrix already ensures the center has weight 1.\n",
        "    # To accommodate overlapping sum to 1, no further division is required assuming\n",
        "    # that the sum of any two overlapping areas naturally scales with this setup.\n",
        "\n",
        "    return weight_matrix\n",
        "\n",
        "# Example usage:\n",
        "height, width = 256, 256  # Adjust as needed\n",
        "weight_matrix = create_weight_matrix(height, width)"
      ],
      "metadata": {
        "id": "5tOt60xThshc"
      },
      "execution_count": null,
      "outputs": []
    }
  ]
}